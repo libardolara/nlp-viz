{
 "cells": [
  {
   "cell_type": "code",
   "execution_count": 1,
   "metadata": {},
   "outputs": [],
   "source": [
    "import pandas as pd\n",
    "import networkx as nx\n",
    "import matplotlib.pyplot as plt\n",
    "\n",
    "import math\n",
    "from bokeh.models import (BoxSelectTool, Circle, HoverTool, MultiLine, WheelZoomTool, PanTool,\n",
    "                          NodesAndLinkedEdges, Plot, Range1d, TapTool, StaticLayoutProvider)\n",
    "from bokeh.palettes import Spectral4, Blues8\n",
    "from bokeh.plotting import from_networkx, show\n",
    "from bokeh.io import output_notebook\n",
    "from bokeh.plotting import figure\n",
    "import numpy as np"
   ]
  },
  {
   "attachments": {},
   "cell_type": "markdown",
   "metadata": {},
   "source": [
    "## 1. Concepts Relations Network"
   ]
  },
  {
   "cell_type": "code",
   "execution_count": 2,
   "metadata": {},
   "outputs": [
    {
     "data": {
      "text/html": [
       "<div>\n",
       "<style scoped>\n",
       "    .dataframe tbody tr th:only-of-type {\n",
       "        vertical-align: middle;\n",
       "    }\n",
       "\n",
       "    .dataframe tbody tr th {\n",
       "        vertical-align: top;\n",
       "    }\n",
       "\n",
       "    .dataframe thead th {\n",
       "        text-align: right;\n",
       "    }\n",
       "</style>\n",
       "<table border=\"1\" class=\"dataframe\">\n",
       "  <thead>\n",
       "    <tr style=\"text-align: right;\">\n",
       "      <th></th>\n",
       "      <th>source</th>\n",
       "      <th>target</th>\n",
       "      <th>weight</th>\n",
       "      <th>source_name</th>\n",
       "      <th>target_name</th>\n",
       "    </tr>\n",
       "  </thead>\n",
       "  <tbody>\n",
       "    <tr>\n",
       "      <th>60</th>\n",
       "      <td>45</td>\n",
       "      <td>46</td>\n",
       "      <td>1</td>\n",
       "      <td>Use case</td>\n",
       "      <td>Economics</td>\n",
       "    </tr>\n",
       "    <tr>\n",
       "      <th>61</th>\n",
       "      <td>45</td>\n",
       "      <td>47</td>\n",
       "      <td>1</td>\n",
       "      <td>Use case</td>\n",
       "      <td>Test case</td>\n",
       "    </tr>\n",
       "    <tr>\n",
       "      <th>62</th>\n",
       "      <td>46</td>\n",
       "      <td>47</td>\n",
       "      <td>1</td>\n",
       "      <td>Economics</td>\n",
       "      <td>Test case</td>\n",
       "    </tr>\n",
       "  </tbody>\n",
       "</table>\n",
       "</div>"
      ],
      "text/plain": [
       "    source  target  weight source_name target_name\n",
       "60      45      46       1    Use case   Economics\n",
       "61      45      47       1    Use case   Test case\n",
       "62      46      47       1   Economics   Test case"
      ]
     },
     "execution_count": 2,
     "metadata": {},
     "output_type": "execute_result"
    }
   ],
   "source": [
    "# Read the procesed concepts-edgeges\n",
    "df_edges = pd.read_csv('concepts_edges.csv')\n",
    "df_edges.tail(3)"
   ]
  },
  {
   "cell_type": "code",
   "execution_count": 3,
   "metadata": {},
   "outputs": [],
   "source": [
    "df = df_edges[['source', 'source_name']].drop_duplicates().rename(columns={\"source\":\"index\", \"source_name\": 'name'})\n",
    "df2 = df_edges[['target', 'target_name']].drop_duplicates().rename(columns={\"target\":\"index\", \"target_name\": 'name'})\n",
    "# Extract all the concepts\n",
    "concepts_df = pd.concat([df, df2], ignore_index=True).drop_duplicates().sort_values(by='index')\n",
    "concept_keys = concepts_df['name'].to_list()\n"
   ]
  },
  {
   "cell_type": "code",
   "execution_count": 4,
   "metadata": {},
   "outputs": [],
   "source": [
    "# Creat the graph and the properties of each edge\n",
    "G=nx.from_pandas_edgelist(df_edges, 'source', 'target', ['weight','source_name','target_name'])\n",
    "nodes_order = list(G.nodes())\n",
    "starts = []\n",
    "ends = []\n",
    "for u, v in G.edges():\n",
    "    if u == v:\n",
    "        G.remove_edge(u,v)\n",
    "    else:\n",
    "        starts.append(nodes_order.index(u))\n",
    "        ends.append(nodes_order.index(v))\n"
   ]
  },
  {
   "cell_type": "code",
   "execution_count": 5,
   "metadata": {},
   "outputs": [
    {
     "data": {
      "text/html": [
       "<style>\n",
       "        .bk-notebook-logo {\n",
       "            display: block;\n",
       "            width: 20px;\n",
       "            height: 20px;\n",
       "            background-image: url(data:image/png;base64,iVBORw0KGgoAAAANSUhEUgAAABQAAAAUCAYAAACNiR0NAAAABHNCSVQICAgIfAhkiAAAAAlwSFlzAAALEgAACxIB0t1+/AAAABx0RVh0U29mdHdhcmUAQWRvYmUgRmlyZXdvcmtzIENTNui8sowAAAOkSURBVDiNjZRtaJVlGMd/1/08zzln5zjP1LWcU9N0NkN8m2CYjpgQYQXqSs0I84OLIC0hkEKoPtiH3gmKoiJDU7QpLgoLjLIQCpEsNJ1vqUOdO7ppbuec5+V+rj4ctwzd8IIbbi6u+8f1539dt3A78eXC7QizUF7gyV1fD1Yqg4JWz84yffhm0qkFqBogB9rM8tZdtwVsPUhWhGcFJngGeWrPzHm5oaMmkfEg1usvLFyc8jLRqDOMru7AyC8saQr7GG7f5fvDeH7Ej8CM66nIF+8yngt6HWaKh7k49Soy9nXurCi1o3qUbS3zWfrYeQDTB/Qj6kX6Ybhw4B+bOYoLKCC9H3Nu/leUTZ1JdRWkkn2ldcCamzrcf47KKXdAJllSlxAOkRgyHsGC/zRday5Qld9DyoM4/q/rUoy/CXh3jzOu3bHUVZeU+DEn8FInkPBFlu3+nW3Nw0mk6vCDiWg8CeJaxEwuHS3+z5RgY+YBR6V1Z1nxSOfoaPa4LASWxxdNp+VWTk7+4vzaou8v8PN+xo+KY2xsw6une2frhw05CTYOmQvsEhjhWjn0bmXPjpE1+kplmmkP3suftwTubK9Vq22qKmrBhpY4jvd5afdRA3wGjFAgcnTK2s4hY0/GPNIb0nErGMCRxWOOX64Z8RAC4oCXdklmEvcL8o0BfkNK4lUg9HTl+oPlQxdNo3Mg4Nv175e/1LDGzZen30MEjRUtmXSfiTVu1kK8W4txyV6BMKlbgk3lMwYCiusNy9fVfvvwMxv8Ynl6vxoByANLTWplvuj/nF9m2+PDtt1eiHPBr1oIfhCChQMBw6Aw0UulqTKZdfVvfG7VcfIqLG9bcldL/+pdWTLxLUy8Qq38heUIjh4XlzZxzQm19lLFlr8vdQ97rjZVOLf8nclzckbcD4wxXMidpX30sFd37Fv/GtwwhzhxGVAprjbg0gCAEeIgwCZyTV2Z1REEW8O4py0wsjeloKoMr6iCY6dP92H6Vw/oTyICIthibxjm/DfN9lVz8IqtqKYLUXfoKVMVQVVJOElGjrnnUt9T9wbgp8AyYKaGlqingHZU/uG2NTZSVqwHQTWkx9hxjkpWDaCg6Ckj5qebgBVbT3V3NNXMSiWSDdGV3hrtzla7J+duwPOToIg42ChPQOQjspnSlp1V+Gjdged7+8UN5CRAV7a5EdFNwCjEaBR27b3W890TE7g24NAP/mMDXRWrGoFPQI9ls/MWO2dWFAar/xcOIImbbpA3zgAAAABJRU5ErkJggg==);\n",
       "        }\n",
       "    </style>\n",
       "    <div>\n",
       "        <a href=\"https://bokeh.org\" target=\"_blank\" class=\"bk-notebook-logo\"></a>\n",
       "        <span id=\"p1001\">Loading BokehJS ...</span>\n",
       "    </div>\n"
      ]
     },
     "metadata": {},
     "output_type": "display_data"
    },
    {
     "data": {
      "application/javascript": "(function(root) {\n  function now() {\n    return new Date();\n  }\n\n  const force = true;\n\n  if (typeof root._bokeh_onload_callbacks === \"undefined\" || force === true) {\n    root._bokeh_onload_callbacks = [];\n    root._bokeh_is_loading = undefined;\n  }\n\nconst JS_MIME_TYPE = 'application/javascript';\n  const HTML_MIME_TYPE = 'text/html';\n  const EXEC_MIME_TYPE = 'application/vnd.bokehjs_exec.v0+json';\n  const CLASS_NAME = 'output_bokeh rendered_html';\n\n  /**\n   * Render data to the DOM node\n   */\n  function render(props, node) {\n    const script = document.createElement(\"script\");\n    node.appendChild(script);\n  }\n\n  /**\n   * Handle when an output is cleared or removed\n   */\n  function handleClearOutput(event, handle) {\n    const cell = handle.cell;\n\n    const id = cell.output_area._bokeh_element_id;\n    const server_id = cell.output_area._bokeh_server_id;\n    // Clean up Bokeh references\n    if (id != null && id in Bokeh.index) {\n      Bokeh.index[id].model.document.clear();\n      delete Bokeh.index[id];\n    }\n\n    if (server_id !== undefined) {\n      // Clean up Bokeh references\n      const cmd_clean = \"from bokeh.io.state import curstate; print(curstate().uuid_to_server['\" + server_id + \"'].get_sessions()[0].document.roots[0]._id)\";\n      cell.notebook.kernel.execute(cmd_clean, {\n        iopub: {\n          output: function(msg) {\n            const id = msg.content.text.trim();\n            if (id in Bokeh.index) {\n              Bokeh.index[id].model.document.clear();\n              delete Bokeh.index[id];\n            }\n          }\n        }\n      });\n      // Destroy server and session\n      const cmd_destroy = \"import bokeh.io.notebook as ion; ion.destroy_server('\" + server_id + \"')\";\n      cell.notebook.kernel.execute(cmd_destroy);\n    }\n  }\n\n  /**\n   * Handle when a new output is added\n   */\n  function handleAddOutput(event, handle) {\n    const output_area = handle.output_area;\n    const output = handle.output;\n\n    // limit handleAddOutput to display_data with EXEC_MIME_TYPE content only\n    if ((output.output_type != \"display_data\") || (!Object.prototype.hasOwnProperty.call(output.data, EXEC_MIME_TYPE))) {\n      return\n    }\n\n    const toinsert = output_area.element.find(\".\" + CLASS_NAME.split(' ')[0]);\n\n    if (output.metadata[EXEC_MIME_TYPE][\"id\"] !== undefined) {\n      toinsert[toinsert.length - 1].firstChild.textContent = output.data[JS_MIME_TYPE];\n      // store reference to embed id on output_area\n      output_area._bokeh_element_id = output.metadata[EXEC_MIME_TYPE][\"id\"];\n    }\n    if (output.metadata[EXEC_MIME_TYPE][\"server_id\"] !== undefined) {\n      const bk_div = document.createElement(\"div\");\n      bk_div.innerHTML = output.data[HTML_MIME_TYPE];\n      const script_attrs = bk_div.children[0].attributes;\n      for (let i = 0; i < script_attrs.length; i++) {\n        toinsert[toinsert.length - 1].firstChild.setAttribute(script_attrs[i].name, script_attrs[i].value);\n        toinsert[toinsert.length - 1].firstChild.textContent = bk_div.children[0].textContent\n      }\n      // store reference to server id on output_area\n      output_area._bokeh_server_id = output.metadata[EXEC_MIME_TYPE][\"server_id\"];\n    }\n  }\n\n  function register_renderer(events, OutputArea) {\n\n    function append_mime(data, metadata, element) {\n      // create a DOM node to render to\n      const toinsert = this.create_output_subarea(\n        metadata,\n        CLASS_NAME,\n        EXEC_MIME_TYPE\n      );\n      this.keyboard_manager.register_events(toinsert);\n      // Render to node\n      const props = {data: data, metadata: metadata[EXEC_MIME_TYPE]};\n      render(props, toinsert[toinsert.length - 1]);\n      element.append(toinsert);\n      return toinsert\n    }\n\n    /* Handle when an output is cleared or removed */\n    events.on('clear_output.CodeCell', handleClearOutput);\n    events.on('delete.Cell', handleClearOutput);\n\n    /* Handle when a new output is added */\n    events.on('output_added.OutputArea', handleAddOutput);\n\n    /**\n     * Register the mime type and append_mime function with output_area\n     */\n    OutputArea.prototype.register_mime_type(EXEC_MIME_TYPE, append_mime, {\n      /* Is output safe? */\n      safe: true,\n      /* Index of renderer in `output_area.display_order` */\n      index: 0\n    });\n  }\n\n  // register the mime type if in Jupyter Notebook environment and previously unregistered\n  if (root.Jupyter !== undefined) {\n    const events = require('base/js/events');\n    const OutputArea = require('notebook/js/outputarea').OutputArea;\n\n    if (OutputArea.prototype.mime_types().indexOf(EXEC_MIME_TYPE) == -1) {\n      register_renderer(events, OutputArea);\n    }\n  }\n  if (typeof (root._bokeh_timeout) === \"undefined\" || force === true) {\n    root._bokeh_timeout = Date.now() + 5000;\n    root._bokeh_failed_load = false;\n  }\n\n  const NB_LOAD_WARNING = {'data': {'text/html':\n     \"<div style='background-color: #fdd'>\\n\"+\n     \"<p>\\n\"+\n     \"BokehJS does not appear to have successfully loaded. If loading BokehJS from CDN, this \\n\"+\n     \"may be due to a slow or bad network connection. Possible fixes:\\n\"+\n     \"</p>\\n\"+\n     \"<ul>\\n\"+\n     \"<li>re-rerun `output_notebook()` to attempt to load from CDN again, or</li>\\n\"+\n     \"<li>use INLINE resources instead, as so:</li>\\n\"+\n     \"</ul>\\n\"+\n     \"<code>\\n\"+\n     \"from bokeh.resources import INLINE\\n\"+\n     \"output_notebook(resources=INLINE)\\n\"+\n     \"</code>\\n\"+\n     \"</div>\"}};\n\n  function display_loaded() {\n    const el = document.getElementById(\"p1001\");\n    if (el != null) {\n      el.textContent = \"BokehJS is loading...\";\n    }\n    if (root.Bokeh !== undefined) {\n      if (el != null) {\n        el.textContent = \"BokehJS \" + root.Bokeh.version + \" successfully loaded.\";\n      }\n    } else if (Date.now() < root._bokeh_timeout) {\n      setTimeout(display_loaded, 100)\n    }\n  }\n\n  function run_callbacks() {\n    try {\n      root._bokeh_onload_callbacks.forEach(function(callback) {\n        if (callback != null)\n          callback();\n      });\n    } finally {\n      delete root._bokeh_onload_callbacks\n    }\n    console.debug(\"Bokeh: all callbacks have finished\");\n  }\n\n  function load_libs(css_urls, js_urls, callback) {\n    if (css_urls == null) css_urls = [];\n    if (js_urls == null) js_urls = [];\n\n    root._bokeh_onload_callbacks.push(callback);\n    if (root._bokeh_is_loading > 0) {\n      console.debug(\"Bokeh: BokehJS is being loaded, scheduling callback at\", now());\n      return null;\n    }\n    if (js_urls == null || js_urls.length === 0) {\n      run_callbacks();\n      return null;\n    }\n    console.debug(\"Bokeh: BokehJS not loaded, scheduling load and callback at\", now());\n    root._bokeh_is_loading = css_urls.length + js_urls.length;\n\n    function on_load() {\n      root._bokeh_is_loading--;\n      if (root._bokeh_is_loading === 0) {\n        console.debug(\"Bokeh: all BokehJS libraries/stylesheets loaded\");\n        run_callbacks()\n      }\n    }\n\n    function on_error(url) {\n      console.error(\"failed to load \" + url);\n    }\n\n    for (let i = 0; i < css_urls.length; i++) {\n      const url = css_urls[i];\n      const element = document.createElement(\"link\");\n      element.onload = on_load;\n      element.onerror = on_error.bind(null, url);\n      element.rel = \"stylesheet\";\n      element.type = \"text/css\";\n      element.href = url;\n      console.debug(\"Bokeh: injecting link tag for BokehJS stylesheet: \", url);\n      document.body.appendChild(element);\n    }\n\n    for (let i = 0; i < js_urls.length; i++) {\n      const url = js_urls[i];\n      const element = document.createElement('script');\n      element.onload = on_load;\n      element.onerror = on_error.bind(null, url);\n      element.async = false;\n      element.src = url;\n      console.debug(\"Bokeh: injecting script tag for BokehJS library: \", url);\n      document.head.appendChild(element);\n    }\n  };\n\n  function inject_raw_css(css) {\n    const element = document.createElement(\"style\");\n    element.appendChild(document.createTextNode(css));\n    document.body.appendChild(element);\n  }\n\n  const js_urls = [\"https://cdn.bokeh.org/bokeh/release/bokeh-3.1.0.min.js\", \"https://cdn.bokeh.org/bokeh/release/bokeh-gl-3.1.0.min.js\", \"https://cdn.bokeh.org/bokeh/release/bokeh-widgets-3.1.0.min.js\", \"https://cdn.bokeh.org/bokeh/release/bokeh-tables-3.1.0.min.js\", \"https://cdn.bokeh.org/bokeh/release/bokeh-mathjax-3.1.0.min.js\"];\n  const css_urls = [];\n\n  const inline_js = [    function(Bokeh) {\n      Bokeh.set_log_level(\"info\");\n    },\nfunction(Bokeh) {\n    }\n  ];\n\n  function run_inline_js() {\n    if (root.Bokeh !== undefined || force === true) {\n          for (let i = 0; i < inline_js.length; i++) {\n      inline_js[i].call(root, root.Bokeh);\n    }\nif (force === true) {\n        display_loaded();\n      }} else if (Date.now() < root._bokeh_timeout) {\n      setTimeout(run_inline_js, 100);\n    } else if (!root._bokeh_failed_load) {\n      console.log(\"Bokeh: BokehJS failed to load within specified timeout.\");\n      root._bokeh_failed_load = true;\n    } else if (force !== true) {\n      const cell = $(document.getElementById(\"p1001\")).parents('.cell').data().cell;\n      cell.output_area.append_execute_result(NB_LOAD_WARNING)\n    }\n  }\n\n  if (root._bokeh_is_loading === 0) {\n    console.debug(\"Bokeh: BokehJS loaded, going straight to plotting\");\n    run_inline_js();\n  } else {\n    load_libs(css_urls, js_urls, function() {\n      console.debug(\"Bokeh: BokehJS plotting callback run at\", now());\n      run_inline_js();\n    });\n  }\n}(window));",
      "application/vnd.bokehjs_load.v0+json": ""
     },
     "metadata": {},
     "output_type": "display_data"
    },
    {
     "data": {
      "text/html": [
       "\n",
       "  <div id=\"9a3f4dbb-8372-4f6f-ab35-f76b78597450\" data-root-id=\"p1004\" style=\"display: contents;\"></div>\n"
      ]
     },
     "metadata": {},
     "output_type": "display_data"
    },
    {
     "data": {
      "application/javascript": "(function(root) {\n  function embed_document(root) {\n  const docs_json = {\"9d2014ae-c8eb-4b11-8b1e-de58366b72ba\":{\"version\":\"3.1.0\",\"title\":\"Bokeh Application\",\"defs\":[],\"roots\":[{\"type\":\"object\",\"name\":\"Plot\",\"id\":\"p1004\",\"attributes\":{\"x_range\":{\"type\":\"object\",\"name\":\"Range1d\",\"id\":\"p1002\",\"attributes\":{\"start\":-1.1,\"end\":1.1}},\"y_range\":{\"type\":\"object\",\"name\":\"Range1d\",\"id\":\"p1003\",\"attributes\":{\"start\":-1.1,\"end\":1.1}},\"x_scale\":{\"type\":\"object\",\"name\":\"LinearScale\",\"id\":\"p1009\"},\"y_scale\":{\"type\":\"object\",\"name\":\"LinearScale\",\"id\":\"p1007\"},\"title\":{\"type\":\"object\",\"name\":\"Title\",\"id\":\"p1008\",\"attributes\":{\"text\":\"Concepts Relations Network\",\"text_font_size\":\"20pt\"}},\"renderers\":[{\"type\":\"object\",\"name\":\"GraphRenderer\",\"id\":\"p1024\",\"attributes\":{\"layout_provider\":{\"type\":\"object\",\"name\":\"StaticLayoutProvider\",\"id\":\"p1101\",\"attributes\":{\"graph_layout\":{\"type\":\"map\",\"entries\":[[0,[1.0,0.0]],[1,[0.9914448613738104,0.13052619222005157]],[2,[0.9659258262890683,0.25881904510252074]],[3,[0.9238795325112867,0.3826834323650898]],[4,[0.8660254037844387,0.49999999999999994]],[5,[0.7933533402912352,0.6087614290087207]],[6,[0.7071067811865476,0.7071067811865475]],[7,[0.6087614290087208,0.793353340291235]],[8,[0.5000000000000001,0.8660254037844386]],[9,[0.38268343236508984,0.9238795325112867]],[10,[0.25881904510252074,0.9659258262890683]],[11,[0.1305261922200517,0.9914448613738104]],[12,[6.123233995736766e-17,1.0]],[13,[-0.1305261922200516,0.9914448613738104]],[14,[-0.25881904510252063,0.9659258262890683]],[15,[-0.3826834323650895,0.9238795325112868]],[16,[-0.4999999999999998,0.8660254037844388]],[17,[-0.6087614290087207,0.7933533402912352]],[18,[-0.7071067811865475,0.7071067811865476]],[19,[-0.7933533402912349,0.6087614290087209]],[20,[-0.8660254037844387,0.49999999999999994]],[21,[-0.9238795325112867,0.38268343236508984]],[22,[-0.9659258262890682,0.258819045102521]],[23,[-0.9914448613738104,0.130526192220052]],[24,[-1.0,1.2246467991473532e-16]],[25,[-0.9914448613738104,-0.13052619222005177]],[26,[-0.9659258262890683,-0.2588190451025208]],[27,[-0.9238795325112867,-0.38268343236508967]],[28,[-0.8660254037844388,-0.4999999999999998]],[29,[-0.7933533402912352,-0.6087614290087207]],[30,[-0.7071067811865479,-0.7071067811865471]],[31,[-0.6087614290087209,-0.7933533402912349]],[32,[-0.5000000000000004,-0.8660254037844384]],[33,[-0.3826834323650895,-0.9238795325112868]],[34,[-0.25881904510252063,-0.9659258262890683]],[35,[-0.13052619222005163,-0.9914448613738104]],[36,[-1.8369701987210297e-16,-1.0]],[37,[0.13052619222005124,-0.9914448613738105]],[38,[0.2588190451025203,-0.9659258262890684]],[39,[0.38268343236508917,-0.923879532511287]],[40,[0.5,-0.8660254037844386]],[41,[0.6087614290087199,-0.7933533402912357]],[42,[0.7071067811865475,-0.7071067811865477]],[43,[0.7933533402912349,-0.6087614290087209]],[44,[0.8660254037844384,-0.5000000000000004]],[45,[0.9238795325112868,-0.38268343236508956]],[46,[0.9659258262890681,-0.2588190451025215]],[47,[0.9914448613738104,-0.13052619222005168]]]}}},\"node_renderer\":{\"type\":\"object\",\"name\":\"GlyphRenderer\",\"id\":\"p1031\",\"attributes\":{\"data_source\":{\"type\":\"object\",\"name\":\"ColumnDataSource\",\"id\":\"p1028\",\"attributes\":{\"selected\":{\"type\":\"object\",\"name\":\"Selection\",\"id\":\"p1029\",\"attributes\":{\"indices\":[],\"line_indices\":[]}},\"selection_policy\":{\"type\":\"object\",\"name\":\"UnionRenderers\",\"id\":\"p1030\"},\"data\":{\"type\":\"map\",\"entries\":[[\"index\",[0,1,2,7,3,33,41,4,5,6,8,9,10,11,12,13,14,21,22,26,27,32,15,16,17,30,31,18,34,19,20,28,29,40,23,24,25,42,43,35,36,37,38,39,44,45,46,47]],[\"name\",[\"Deep learning\",\"Artificial intelligence\",\"Machine learning\",\"Feature learning\",\"Ethics\",\"Inference\",\"Decision tree\",\"Dave Barker\",\"The Uniques (Jamaican group)\",\"Lloyd Parks\",\"Discrimination\",\"Racism\",\"Systemic bias\",\"Das Model\",\"Learning\",\"Movement for Democracy in Liberia\",\"Scientific modelling\",\"Prodrug\",\"Conceptual model\",\"Adversarial system\",\"Weakness\",\"Tool\",\"Thought\",\"Knowledge\",\"Aptitude\",\"Existentialism\",\"Person\",\"Reason\",\"Logic\",\"Model\",\"Design\",\"Ensemble learning\",\"Decision-making\",\"Causality\",\"Page layout\",\"Baseline (typography)\",\"Sentence spacing\",\"Fuzzy logic\",\"Many-valued logic\",\"Expert system\",\"Mycin\",\"Knowledge acquisition\",\"System\",\"Definition\",\"Utility\",\"Use case\",\"Economics\",\"Test case\"]]]}}},\"view\":{\"type\":\"object\",\"name\":\"CDSView\",\"id\":\"p1032\",\"attributes\":{\"filter\":{\"type\":\"object\",\"name\":\"AllIndices\",\"id\":\"p1033\"}}},\"glyph\":{\"type\":\"object\",\"name\":\"Circle\",\"id\":\"p1063\",\"attributes\":{\"size\":{\"type\":\"value\",\"value\":15},\"fill_color\":{\"type\":\"value\",\"value\":\"#2b83ba\"}}},\"selection_glyph\":{\"type\":\"object\",\"name\":\"Circle\",\"id\":\"p1071\",\"attributes\":{\"size\":{\"type\":\"value\",\"value\":15},\"fill_color\":{\"type\":\"value\",\"value\":\"#fdae61\"}}},\"hover_glyph\":{\"type\":\"object\",\"name\":\"Circle\",\"id\":\"p1079\",\"attributes\":{\"size\":{\"type\":\"value\",\"value\":15},\"fill_color\":{\"type\":\"value\",\"value\":\"#abdda4\"}}}}},\"edge_renderer\":{\"type\":\"object\",\"name\":\"GlyphRenderer\",\"id\":\"p1038\",\"attributes\":{\"data_source\":{\"type\":\"object\",\"name\":\"ColumnDataSource\",\"id\":\"p1035\",\"attributes\":{\"selected\":{\"type\":\"object\",\"name\":\"Selection\",\"id\":\"p1036\",\"attributes\":{\"indices\":[],\"line_indices\":[]}},\"selection_policy\":{\"type\":\"object\",\"name\":\"UnionRenderers\",\"id\":\"p1037\"},\"data\":{\"type\":\"map\",\"entries\":[[\"target_name\",[\"Artificial intelligence\",\"Machine learning\",\"Feature learning\",\"Ethics\",\"Inference\",\"Machine learning\",\"Inference\",\"Decision tree\",\"Feature learning\",\"Ethics\",\"Decision tree\",\"The Uniques (Jamaican group)\",\"Lloyd Parks\",\"Lloyd Parks\",\"Racism\",\"Systemic bias\",\"Systemic bias\",\"Learning\",\"Movement for Democracy in Liberia\",\"Scientific modelling\",\"Prodrug\",\"Conceptual model\",\"Adversarial system\",\"Weakness\",\"Tool\",\"Movement for Democracy in Liberia\",\"Scientific modelling\",\"Prodrug\",\"Conceptual model\",\"Adversarial system\",\"Weakness\",\"Tool\",\"Tool\",\"Knowledge\",\"Aptitude\",\"Existentialism\",\"Person\",\"Aptitude\",\"Reason\",\"Logic\",\"Person\",\"Model\",\"Design\",\"Logic\",\"Fuzzy logic\",\"Many-valued logic\",\"Design\",\"Ensemble learning\",\"Decision-making\",\"Causality\",\"Decision-making\",\"Baseline (typography)\",\"Sentence spacing\",\"Sentence spacing\",\"Many-valued logic\",\"Mycin\",\"Knowledge acquisition\",\"Knowledge acquisition\",\"Definition\",\"Economics\",\"Test case\",\"Test case\"]],[\"source_name\",[\"Deep learning\",\"Deep learning\",\"Deep learning\",\"Deep learning\",\"Deep learning\",\"Artificial intelligence\",\"Artificial intelligence\",\"Artificial intelligence\",\"Machine learning\",\"Machine learning\",\"Machine learning\",\"Dave Barker\",\"Dave Barker\",\"The Uniques (Jamaican group)\",\"Discrimination\",\"Discrimination\",\"Racism\",\"Das Model\",\"Das Model\",\"Das Model\",\"Das Model\",\"Das Model\",\"Das Model\",\"Das Model\",\"Das Model\",\"Learning\",\"Movement for Democracy in Liberia\",\"Movement for Democracy in Liberia\",\"Movement for Democracy in Liberia\",\"Movement for Democracy in Liberia\",\"Movement for Democracy in Liberia\",\"Movement for Democracy in Liberia\",\"Conceptual model\",\"Thought\",\"Thought\",\"Thought\",\"Thought\",\"Knowledge\",\"Knowledge\",\"Knowledge\",\"Existentialism\",\"Reason\",\"Reason\",\"Reason\",\"Logic\",\"Logic\",\"Model\",\"Model\",\"Model\",\"Model\",\"Ensemble learning\",\"Page layout\",\"Page layout\",\"Baseline (typography)\",\"Fuzzy logic\",\"Expert system\",\"Expert system\",\"Mycin\",\"System\",\"Use case\",\"Use case\",\"Economics\"]],[\"weight\",[14,15,1,1,1,14,1,1,1,1,1,1,1,1,1,1,1,1,6,1,1,1,1,1,1,1,1,1,2,1,1,1,1,1,1,1,1,1,1,1,1,1,1,1,1,1,1,1,1,1,1,1,1,1,1,1,1,1,1,1,1,1]],[\"start\",[0,0,0,0,0,1,1,1,2,2,2,7,7,8,10,10,11,13,13,13,13,13,13,13,13,14,15,15,15,15,15,15,18,22,22,22,22,23,23,23,25,27,27,27,28,28,29,29,29,29,31,34,34,35,37,39,39,40,42,45,45,46]],[\"end\",[1,2,3,4,5,2,5,6,3,4,6,8,9,9,11,12,12,14,15,16,17,18,19,20,21,15,16,17,18,19,20,21,21,23,24,25,26,24,27,28,26,29,30,28,37,38,30,31,32,33,32,35,36,36,38,40,41,41,43,46,47,47]],[\"line_width\",[14,15,2,2,2,14,2,2,2,2,2,2,2,2,2,2,2,2,6,2,2,2,2,2,2,2,2,2,2,2,2,2,2,2,2,2,2,2,2,2,2,2,2,2,2,2,2,2,2,2,2,2,2,2,2,2,2,2,2,2,2,2]],[\"xs\",[[1.0,0.9959713877882179,0.9920224333708908,0.9881531367480187,0.9843634979196015,0.9806535168856393,0.977023193646132,0.9734725282010797,0.9700015205504824,0.96661017069434,0.9632984786326526,0.96006644436542,0.9569140678926423,0.9538413492143198,0.9508482883304521,0.9479348852410393,0.9451011399460816,0.9423470524455788,0.9396726227395311,0.9370778508279383,0.9345627367108004,0.9321272803881172,0.9297714818598892,0.9274953411261161,0.9252988581867979,0.9231820330419348,0.9211448656915265,0.9191873561355732,0.9173095043740749,0.9155113104070315,0.913792774234443,0.9121538958563096,0.910594675272631,0.9091151124834076,0.9077152074886389,0.9063949602883253,0.9051543708824666,0.9039934392710629,0.902912165454114,0.9019105494316202,0.9009885912035813,0.9001462907699974,0.8993836481308685,0.8987006632861944,0.8980973362359753,0.8975736669802112,0.897129655518902,0.8967653018520476,0.8964806059796484,0.896275567901704,0.8961501876182147,0.8961044651291803,0.8961384004346009,0.8962519935344763,0.8964452444288067,0.8967181531175922,0.8970707196008324,0.8975029438785278,0.898014825950678,0.8986063658172833,0.8992775634783434,0.9000284189338585,0.9008589321838285,0.9017691032282535,0.9027589320671334,0.9038284187004684,0.9049775631282583,0.9062063653505033,0.907514825367203,0.9089029431783575,0.9103707187839672,0.9119181521840319,0.9135452433785515,0.915251992367526,0.9170383991509555,0.9189044637288399,0.9208501861011793,0.9228755662679735,0.924980604229223,0.9271652999849272,0.9294296535350866,0.9317736648797006,0.9341973340187697,0.9367006609522937,0.9392836456802727,0.9419462882027066,0.9446885885195956,0.9475105466309395,0.9504121625367383,0.9533934362369921,0.9564543677317008,0.9595949570208645,0.9628152041044831,0.9661151089825567,0.9694946716550853,0.9729538921220687,0.9764927703835071,0.9801113064394005,0.9838095002897488,0.9875873519345522],[1.0,0.9913181158284928,0.9828047395849531,0.9744598712693812,0.9662835108817769,0.9582756584221402,0.9504363138904712,0.9427654772867696,0.935263148611036,0.9279293278632699,0.9207640150434714,0.9137672101516404,0.9069389131877772,0.9002791241518816,0.8937878430439535,0.8874650698639932,0.8813108046120005,0.8753250472879756,0.8695077978919181,0.8638590564238284,0.8583788228837063,0.8530670972715516,0.8479238795873647,0.8429491698311454,0.8381429680028938,0.8335052741026098,0.8290360881302934,0.8247354100859445,0.8206032399695635,0.81663957778115,0.8128444235207042,0.8092177771882261,0.8057596387837156,0.8024700083071725,0.7993488857585973,0.7963962711379897,0.7936121644453498,0.7909965656806774,0.7885494748439725,0.7862708919352355,0.784160816954466,0.7822192499016642,0.7804461907768301,0.7788416395799633,0.7774055963110644,0.7761380609701332,0.7750390335571695,0.7741085140721734,0.7733465025151449,0.7727529988860842,0.7723280031849911,0.7720715154118656,0.7719835355667077,0.7720640636495175,0.7723130996602949,0.77273064359904,0.7733166954657527,0.774071255260433,0.7749943229830809,0.7760858986336965,0.7773459822122797,0.7787745737188305,0.780371673153349,0.7821372805158351,0.7840713958062888,0.7861740190247102,0.7884451501710992,0.7908847892454559,0.7934929362477803,0.7962695911780721,0.7992147540363316,0.8023284248225588,0.8056106035367536,0.809061290178916,0.8126804847490463,0.816468187247144,0.8204243976732093,0.8245491160272422,0.8288423423092429,0.8333040765192112,0.8379343186571472,0.8427330687230506,0.8477003267169216,0.8528360926387606,0.858140366488567,0.8636131482663411,0.8692544379720828,0.8750642356057922,0.881042541167469,0.8871893546571137,0.8935046760747261,0.899988505420306,0.9066408426938534,0.9134616878953685,0.9204510410248513,0.9276089020823017,0.9349352710677197,0.9424301479811055,0.9500935328224588,0.9579254255917797],[1.0,0.9886574578963008,0.9775286801851027,0.9666136668664062,0.9559124179402106,0.9454249334065165,0.9351512132653235,0.9250912575166318,0.9152450661604414,0.9056126391967524,0.8961939766255643,0.8869890784468777,0.8779979446606923,0.869220575267008,0.8606569702658251,0.8523071296571435,0.8441710534409631,0.836248741617284,0.8285401941861061,0.8210454111474296,0.8137643925012542,0.80669713824758,0.7998436483864071,0.7932039229177354,0.7867779618415651,0.7805657651578959,0.7745673328667282,0.7687826649680615,0.7632117614618962,0.7578546223482321,0.7527112476270692,0.7477816372984075,0.7430657913622472,0.7385637098185881,0.7342753926674302,0.7302008399087738,0.7263400515426185,0.7226930275689645,0.7192597679878117,0.7160402727991602,0.7130345420030099,0.7102425755993609,0.707664373588213,0.7052999359695665,0.7031492627434213,0.7012123539097772,0.6994892094686345,0.6979798294199928,0.6966842137638525,0.6956023625002136,0.6947342756290757,0.6940799531504392,0.693639395064304,0.6934126013706701,0.6933995720695372,0.6936003071609058,0.6940148066447756,0.6946430705211466,0.6954850987900189,0.6965408914513924,0.6978104485052672,0.6992937699516433,0.7009908557905205,0.702901706021899,0.7050263206457787,0.7073646996621599,0.7099168430710422,0.7126827508724258,0.7156624230663106,0.7188558596526966,0.7222630606315839,0.7258840260029725,0.7297187557668623,0.7337672499232534,0.7380295084721458,0.7425055314135394,0.7471953187474343,0.7520988704738303,0.7572161865927277,0.7625472671041263,0.7680921120080263,0.7738507213044272,0.7798230949933296,0.7860092330747332,0.792409135548638,0.7990228024150443,0.8058502336739516,0.8128914293253603,0.8201463893692702,0.8276151138056813,0.8352976026345937,0.8431938558560075,0.8513038734699223,0.8596276554763385,0.8681652018752558,0.8769165126666746,0.8858815878505945,0.8950604274270156,0.904453031395938,0.9140593997573617],[1.0,0.9869042939940024,0.9740460821303046,0.9614253644089068,0.9490421408298086,0.9368964113930105,0.924988176098512,0.9133174349463133,0.9018841879364149,0.890688435068816,0.879730176343517,0.8690094117605177,0.8585261413198183,0.8482803650214189,0.8382720828653192,0.8285012948515192,0.8189680009800191,0.8096722012508191,0.8006138956639188,0.7917930842193184,0.7832097669170178,0.774863943757017,0.7667556147393159,0.7588847798639147,0.7512514391308134,0.7438555925400119,0.7366972400915103,0.7297763817853083,0.7230930176214064,0.7166471475998043,0.7104387717205021,0.7044678899834995,0.698734502388797,0.6932386089363942,0.6879802096262911,0.6829593044584882,0.6781758934329849,0.6736299765497815,0.6693215538088779,0.6652506252102742,0.6614171907539703,0.6578212504399663,0.6544628042682621,0.6513418522388577,0.6484583943517531,0.6458124306069484,0.6434039610044435,0.6412329855442384,0.6392995042263332,0.6376035170507278,0.6361450240174223,0.6349240251264165,0.6339405203777108,0.6331945097713048,0.6326859933071985,0.6324149709853921,0.6323814428058856,0.6325854087686791,0.6330268688737722,0.6337058231211652,0.634622271510858,0.6357762140428507,0.6371676507171433,0.6387965815337356,0.6406630064926278,0.6427669255938198,0.6451083388373118,0.6476872462231034,0.650503647751195,0.6535575434215863,0.6568489332342775,0.6603778171892687,0.6641441952865594,0.6681480675261502,0.6723894339080408,0.6768682944322312,0.6815846490987214,0.6865384979075115,0.6917298408586015,0.6971586779519914,0.7028250091876809,0.7087288345656704,0.7148701540859596,0.7212489677485487,0.7278652755534375,0.7347190775006264,0.7418103735901149,0.7491391638219035,0.7567054481959918,0.7645092267123799,0.7725504993710679,0.7808292661720557,0.7893455271153434,0.7980992822009308,0.8070905314288181,0.8163192747990053,0.8257855123114923,0.8354892439662791,0.8454304697633658,0.8556091897027523],[1.0,0.9856421655090701,0.971532641480642,0.9576714279147159,0.9440585248112916,0.9306939321703692,0.9175776499919486,0.9047096782760299,0.8920900170226131,0.8797186662316983,0.8675956259032851,0.8557208960373739,0.8440944766339644,0.8327163676930569,0.8215865692146511,0.8107050811987474,0.8000719036453454,0.7896870365544453,0.7795504799260473,0.769662233760151,0.7600222980567566,0.7506306728158638,0.741487358037473,0.732592353721584,0.723945659868197,0.7155472764773119,0.7073972035489285,0.6994954410830471,0.6918419890796675,0.6844368475387899,0.677280016460414,0.67037149584454,0.6637112856911679,0.6572993860002977,0.6511357967719292,0.6452205180060627,0.6395535497026982,0.6341348918618352,0.6289645444834744,0.6240425075676153,0.6193687811142581,0.6149433651234028,0.6107662595950493,0.6068374645291977,0.6031569799258479,0.599724805785,0.596540942106654,0.5936053888908097,0.5909181461374675,0.5884792138466269,0.5862885920182884,0.5843462806524516,0.5826522797491169,0.5812065893082838,0.5800092093299527,0.5790601398141235,0.5783593807607961,0.5779069321699706,0.5777027940416468,0.577746966375825,0.5780394491725052,0.578580242431687,0.5793693461533709,0.5804067603375564,0.581692484984244,0.5832265200934333,0.5850088656651246,0.5870395216993177,0.5893184881960126,0.5918457651552094,0.5946213525769081,0.5976452504611087,0.600917458807811,0.6044379776170153,0.6082068068887215,0.6122239466229296,0.6164893968196393,0.621003157478851,0.6257652286005647,0.6307756101847801,0.6360343022314975,0.6415413047407167,0.6472966177124376,0.6533002411466606,0.6595521750433853,0.666052419402612,0.6728009742243405,0.6797978395085709,0.6870430152553031,0.6945365014645372,0.7022782981362732,0.710268405270511,0.7185068228672506,0.7269935509264923,0.7357285894482356,0.744711938432481,0.753943597879228,0.763423567788477,0.7731518481602279,0.7831284389944806],[0.9914448613738104,0.9873140770613905,0.983261587576477,0.9792873929190701,0.9753914930891698,0.9715738880867759,0.9678345779118886,0.9641735625645077,0.9605908420446334,0.9570864163522657,0.9536602854874044,0.9503124494500497,0.9470429082402014,0.9438516618578596,0.9407387103030244,0.9377040535756955,0.9347476916758733,0.9318696246035577,0.9290698523587488,0.9263483749414462,0.92370519235165,0.9211403045893604,0.9186537116545772,0.9162454135473005,0.9139154102675304,0.9116637018152669,0.9094902881905099,0.9073951693932594,0.9053783454235154,0.9034398162812778,0.9015795819665469,0.8997976424793223,0.8980939978196044,0.8964686479873929,0.894921592982688,0.8934528328054896,0.8920623674557978,0.8907501969336125,0.8895163212389336,0.8883607403717613,0.8872834543320954,0.8862844631199362,0.8853637667352834,0.8845213651781371,0.8837572584484973,0.883071446546364,0.8824639294717374,0.881934707224617,0.8814837798050033,0.8811111472128961,0.8808168094482954,0.8806007665112012,0.8804630184016138,0.8804035651195324,0.8804224066649579,0.8805195430378897,0.8806949742383281,0.8809487002662733,0.8812807211217245,0.8816910368046825,0.882179647315147,0.882746552653118,0.8833917528185955,0.8841152478115796,0.8849170376320701,0.885797122280067,0.8867555017555706,0.8877921760585807,0.8889071451890973,0.8901004091471204,0.89137196793265,0.8927218215456862,0.8941499699862288,0.8956564132542779,0.8972411513498337,0.898904184272896,0.9006455120234647,0.9024651346015398,0.9043630520071215,0.9063392642402099,0.9083937713008047,0.910526573188906,0.9127376699045137,0.915027061447628,0.9173947478182489,0.9198407290163761,0.92236500504201,0.9249675758951506,0.9276484415757973,0.9304076020839507,0.9332450574196107,0.9361608075827772,0.9391548525734501,0.9422271923916297,0.9453778270373155,0.9486067565105081,0.951913980811207,0.9552994999394127,0.9587633138951246,0.9623054226783432],[0.9914448613738104,0.9782197174924949,0.9652217297459367,0.9524508981341359,0.9399072226570925,0.9275907033148064,0.9155013401072777,0.9036391330345064,0.8920040820964925,0.880596187293236,0.8694154486247366,0.8584618660909948,0.8477354396920104,0.8372361694277832,0.8269640552983134,0.8169190973036011,0.807101295443646,0.7975106497184483,0.7881471601280083,0.7790108266723254,0.7701016493514,0.7614196281652317,0.752964763113821,0.7447370541971674,0.7367365014152714,0.7289631047681328,0.7214168642557515,0.7140977798781275,0.7070058516352609,0.7001410795271518,0.6935034635537998,0.6870930037152053,0.6809097000113683,0.6749535524422886,0.6692245610079661,0.6637227257084013,0.6584480465435937,0.6534005235135435,0.6485801566182505,0.6439869458577151,0.639620891231937,0.6354819927409163,0.6315702503846529,0.6278856641631468,0.6244282340763982,0.6211979601244069,0.618194842307173,0.6154188806246965,0.6128700750769772,0.6105484256640153,0.6084539323858109,0.6065865952423639,0.6049464142336742,0.6035333893597419,0.6023475206205668,0.6013888080161494,0.6006572515464891,0.6001528512115863,0.5998756070114408,0.5998255189460526,0.600002587015422,0.6004068112195485,0.6010381915584326,0.601896728032074,0.6029824206404726,0.6042952693836288,0.6058352742615423,0.6076024352742131,0.6095967524216412,0.6118182257038268,0.6142668551207697,0.6169426406724702,0.6198455823589278,0.6229756801801428,0.6263329341361153,0.6299173442268451,0.6337289104523323,0.6377676328125768,0.6420335113075788,0.646526545937338,0.6512467367018546,0.6561940836011287,0.66136858663516,0.6667702458039488,0.6723990611074948,0.6782550325457983,0.6843381601188592,0.6906484438266776,0.697185883669253,0.7039504796465861,0.7109422317586764,0.7181611400055242,0.7256072043871292,0.7332804249034918,0.7411808015546115,0.7493083343404887,0.7576630232611233,0.7662448683165152,0.7750538695066644,0.7840900268315711],[0.9914448613738104,0.9769598689294664,0.9627100605587076,0.9486954362615342,0.9349159960379461,0.9213717398879431,0.9080626678115256,0.8949887798086932,0.8821500758794463,0.8695465560237845,0.8571782202417081,0.8450450685332168,0.8331471008983108,0.8214843173369902,0.8100567178492548,0.7988643024351048,0.7879070710945398,0.7771850238275604,0.7666981606341663,0.7564464815143572,0.7464299864681337,0.7366486754954953,0.7271025485964421,0.7177916057709741,0.7087158470190917,0.6998752723407944,0.6912698817360824,0.6828996752049556,0.6747646527474143,0.6668648143634581,0.659200160053087,0.6517706898163015,0.6445764036531012,0.6376173015634862,0.6308933835474564,0.6244046496050121,0.6181510997361528,0.6121327339408789,0.6063495522191903,0.600801554571087,0.5954887409965689,0.5904111114956362,0.5855686660682886,0.5809614047145264,0.5765893274343494,0.5724524342277577,0.5685507250947514,0.5648842000353302,0.5614528590494944,0.5582567021372438,0.5552957292985785,0.5525699405334985,0.5500793358420039,0.5478239152240945,0.5458036786797702,0.5440186262090314,0.5424687578118779,0.5411540734883096,0.5400745732383265,0.5392302570619287,0.5386211249591163,0.5382471769298891,0.5381084129742473,0.5382048330921907,0.5385364372837192,0.5391032255488332,0.5399051978875324,0.5409423542998169,0.5422146947856867,0.5437222193451416,0.545464927978182,0.5474428206848077,0.5496558974650185,0.5521041583188147,0.5547876032461962,0.557706232247163,0.560860045321715,0.5642490424698522,0.5678732236915749,0.5717325889868827,0.5758271383557759,0.5801568717982544,0.584721789314318,0.589521890903967,0.5945571765672012,0.5998276463040206,0.6053333001144255,0.6110741379984157,0.617050159955991,0.6232613659871518,0.6297077560918977,0.6363893302702289,0.6433060885221455,0.6504580308476473,0.6578451572467343,0.6654674677194067,0.6733249622656642,0.6814176408855072,0.6897455035789353,0.6983085503459489],[0.9659258262890683,0.9617635487408658,0.9576768634070152,0.9536657702875169,0.9497302693823703,0.9458703606915758,0.9420860442151333,0.9383773199530429,0.9347441879053046,0.9311866480719183,0.9277047004528839,0.9242983450482014,0.920967581857871,0.9177124108818927,0.9145328321202664,0.911428845572992,0.9084004512400697,0.9054476491214994,0.9025704392172813,0.899768821527415,0.8970427960519008,0.8943923627907386,0.8918175217439281,0.88931827291147,0.8868946162933637,0.8845465518896096,0.8822740797002075,0.8800771997251572,0.8779559119644591,0.875910216418113,0.873940113086119,0.8720456019684768,0.8702266830651866,0.8684833563762486,0.8668156219016626,0.8652234796414285,0.8637069295955466,0.8622659717640166,0.8609006061468387,0.8596108327440127,0.8583966515555387,0.8572580625814168,0.8561950658216468,0.8552076612762289,0.8542958489451631,0.8534596288284492,0.8526990009260873,0.8520139652380773,0.8514045217644195,0.8508706705051137,0.8504124114601599,0.850029744629558,0.8497226700133083,0.8494911876114104,0.8493352974238646,0.849254999450671,0.8492502936918291,0.8493211801473395,0.8494676588172018,0.8496897297014161,0.8499873927999824,0.8503606481129007,0.850809495640171,0.8513339353817935,0.8519339673377677,0.8526095915080941,0.8533608078927726,0.854187616491803,0.8550900173051854,0.8560680103329198,0.8571215955750064,0.8582507730314448,0.8594555427022352,0.8607359045873777,0.8620918586868723,0.8635234050007188,0.8650305435289174,0.8666132742714678,0.8682715972283706,0.8700055123996252,0.8718150197852318,0.8737001193851903,0.875660811199501,0.8776970952281635,0.8798089714711782,0.8819964399285449,0.8842595006002636,0.8865981534863343,0.8890123985867571,0.8915022359015318,0.8940676654306585,0.8967086871741373,0.8994253011319681,0.9022175073041508,0.9050853056906856,0.9080286962915725,0.9110476791068113,0.9141422541364022,0.917312421380345,0.9205581808386398],[0.9659258262890683,0.9571541147021386,0.9485394275063582,0.940081764701727,0.9317811262882447,0.9236375122659118,0.9156509226347279,0.9078213573946933,0.9001488165458079,0.8926333000880716,0.8852748080214845,0.8780733403460463,0.8710288970617575,0.8641414781686177,0.8574110836666272,0.8508377135557857,0.8444213678360935,0.8381620465075504,0.8320597495701566,0.8261144770239119,0.8203262288688165,0.8146950051048699,0.8092208057320724,0.8039036307504244,0.7987434801599254,0.7937403539605755,0.788894252152375,0.7842051747353233,0.779673121709421,0.7752980930746678,0.7710800888310637,0.7670191089786088,0.7631151535173031,0.7593682224471466,0.7557783157681391,0.752345433480281,0.7490695755835719,0.745950742078012,0.7429889329636012,0.7401841482403396,0.7375363879082271,0.735045651967264,0.7327119404174499,0.730535253258785,0.728515590491269,0.7266529521149023,0.7249473381296849,0.7233987485356164,0.7220071833326972,0.7207726425209271,0.7196951261003064,0.7187746340708346,0.7180111664325121,0.7174047231853387,0.7169553043293144,0.7166629098644394,0.7165275397907134,0.7165491941081368,0.716727872816709,0.7170635759164306,0.7175563034073013,0.718206055289321,0.7190128315624902,0.7199766322268083,0.7210974572822757,0.722375306728892,0.7238101805666577,0.7254020787955726,0.7271510014156366,0.7290569484268496,0.731119919829212,0.7333399156227234,0.735716935807384,0.7382509803831937,0.7409420493501526,0.7437901427082607,0.746795260457518,0.7499574025979243,0.7532765691294798,0.7567527600521846,0.7603859753660385,0.7641762150710415,0.7681234791671936,0.772227767654495,0.7764890805329453,0.780907417802545,0.7854827794632938,0.7902151655151919,0.795104575958239,0.8001510107924352,0.8053544700177806,0.8107149536342753,0.8162324616419191,0.821906994040712,0.827738550830654,0.8337271320117452,0.8398727375839856,0.8461753675473751,0.8526350219019138,0.8592517006476017],[0.9659258262890683,0.9527975304109467,0.9398821659555947,0.9271797329230124,0.9146902313131996,0.9024136611261565,0.8903500223618831,0.8784993150203791,0.8668615391016451,0.8554366946056806,0.8442247815324856,0.8332257998820601,0.8224397496544044,0.8118666308495184,0.8015064434674017,0.791359187508055,0.7814248629714777,0.7717034698576701,0.7621950081666323,0.7528994778983639,0.7438168790528653,0.7349472116301362,0.7262904756301765,0.7178466710529865,0.7096157978985664,0.7015978561669158,0.6937928458580348,0.6862007669719233,0.6788216195085817,0.6716554034680096,0.6647021188502069,0.6579617656551741,0.6514343438829108,0.6451198535334173,0.6390182946066931,0.633129667102739,0.6274539710215541,0.621991206363139,0.6167413731274936,0.6117044713146176,0.6068805009245114,0.6022694619571748,0.5978713544126079,0.5936861782908105,0.5897139335917827,0.5859546203155245,0.582408238462036,0.5790747880313171,0.5759542690233679,0.5730466814381882,0.5703520252757781,0.5678703005361377,0.5656015072192669,0.5635456453251658,0.5617027148538343,0.5600727158052724,0.5586556481794801,0.5574515119764576,0.5564603071962044,0.5556820338387211,0.5551166919040073,0.554764281392063,0.5546248023028886,0.5546982546364836,0.5549846383928483,0.5554839535719827,0.5561962001738867,0.5571213781985602,0.5582594876460034,0.5596105285162163,0.5611745008091987,0.5629514045249508,0.5649412396634725,0.5671440062247638,0.5695597042088248,0.5721883336156555,0.5750298944452557,0.5780843866976253,0.5813518103727648,0.584832165470674,0.5885254519913528,0.592431669934801,0.5965508193010188,0.6008829000900064,0.6054279123017636,0.6101858559362904,0.6151567309935868,0.620340537473653,0.6257372753764886,0.631346944702094,0.6371695454504689,0.6432050776216135,0.6494535412155277,0.6559149362322115,0.662589262671665,0.669476520533888,0.6765767098188806,0.683889830526643,0.6914158826571748,0.6991548662104764],[0.6087614290087208,0.6054784670891963,0.6022398556268321,0.5990455946216283,0.595895684073585,0.5927901239827018,0.5897289143489791,0.5867120551724166,0.5837395464530147,0.5808113881907732,0.5779275803856917,0.5750881230377708,0.5722930161470101,0.5695422597134098,0.5668358537369699,0.5641737982176902,0.561556093155571,0.5589827385506121,0.5564537344028138,0.5539690807121754,0.5515287774786977,0.5491328247023801,0.5467812223832229,0.5444739705212261,0.5422110691163897,0.5399925181687135,0.5378183176781979,0.5356884676448423,0.5336029680686474,0.5315618189496126,0.5295650202877382,0.5276125720830243,0.5257044743354705,0.5238407270450772,0.5220213302118443,0.5202462838357718,0.5185155879168595,0.5168292424551075,0.515187247450516,0.5135896029030848,0.5120363088128139,0.5105273651797034,0.5090627720037533,0.5076425292849635,0.506266637023334,0.5049350952188648,0.503647903871556,0.5024050629814076,0.5012065725484195,0.5000524325725917,0.49894264305392433,0.4978772039924173,0.4968561153880707,0.4958793772408844,0.49494698955085836,0.49405895231799274,0.4932152655422874,0.49241592922374244,0.4916609433623579,0.49095030795813366,0.49028402301106977,0.4896620885211662,0.489084504488423,0.4885512709128402,0.4880623877944177,0.4876178551331555,0.4872176729290537,0.4868618411821123,0.4865503598923312,0.48628322905971044,0.48606044868425,0.48588201876595,0.48574793930481025,0.4856582103008309,0.48561283175401193,0.4856118036643532,0.4856551260318549,0.48574279885651694,0.4858748221383393,0.4860511958773221,0.4862719200734652,0.4865369947267686,0.4868464198372323,0.4872001954048565,0.48759832142964094,0.4880407979115858,0.48852762485069096,0.4890588022469566,0.48963433010038243,0.4902542084109687,0.49091843717871525,0.49162701640362216,0.4923799460856894,0.49317722622491705,0.494018856821305,0.49490483787485334,0.495835169385562,0.496809851353431,0.4978288837784603,0.49889226666065006],[0.6087614290087208,0.6022940901304555,0.595911732240308,0.5896143553382784,0.5834019594243666,0.5772745444985723,0.571232110560896,0.5652746576113373,0.5594021856498965,0.5536146946765733,0.5479121846913679,0.5422946556942803,0.5367621076853103,0.5313145406644583,0.5259519546317238,0.5206743495871072,0.5154817255306082,0.5103740824622272,0.505351420381964,0.5004137392898184,0.4955610391857905,0.4907933200698804,0.486110581942088,0.4815128248024134,0.4770000486508566,0.4725722534874175,0.4682294393120962,0.46397160612489263,0.4597987539258068,0.45571088271483884,0.4517079924919885,0.44779008325725594,0.4439571550106412,0.4402092077521441,0.43654624148176485,0.43296825619950347,0.42947525190535973,0.42606722859933366,0.4227441862814254,0.4195061249516349,0.41635304460996214,0.4132849452564073,0.41030182689097,0.4074036895136506,0.4045905331244488,0.40186235772336487,0.39921916331039864,0.3966609498855501,0.3941877174488195,0.39179946600020654,0.3894961955397113,0.38727790606733387,0.3851445975830742,0.38309627008693226,0.38113292357890816,0.37925455805900166,0.37746117352721303,0.3757527699835422,0.37412934742798903,0.37259090586055366,0.37113744528123593,0.3697689656900361,0.36848546708695396,0.3672869494719896,0.36617341284514304,0.3651448572064141,0.36420128255580303,0.3633426888933097,0.3625690762189341,0.3618804445326762,0.36127679383453615,0.3607581241245139,0.3603244354026093,0.35997572766882246,0.35971200092315336,0.3595332551656021,0.3594394903961685,0.35943070661485277,0.3595069038216547,0.3596680820165744,0.3599142411996119,0.3602453813707671,0.3606615025300401,0.36116260467743083,0.36174868781293923,0.36241975193656556,0.36317579704830955,0.3640168231481713,0.3649428302361508,0.3659538183122481,0.3670497873764631,0.36823073742879586,0.36949666846924645,0.3708475804978147,0.37228347351450075,0.3738043475193045,0.3754102025122261,0.3771010384932654,0.37887685546242245,0.38073765341969723],[0.5000000000000001,0.49707912112756814,0.49419354959243067,0.49134328539458794,0.4885283285340398,0.4857486790107863,0.48300433682482724,0.4802953019761629,0.4776215744647932,0.4749831542907181,0.47238004145393747,0.4698122359544516,0.4672797377922602,0.4647825469673635,0.46232066347976125,0.4598940873294537,0.45750281851644076,0.4551468570407225,0.4528262029022988,0.45054085610116973,0.4482908166373352,0.4460760845107953,0.44389665972154996,0.44175254226959926,0.4396437321549432,0.4375702293775816,0.4355320339375148,0.43352914583474245,0.4315615650692648,0.42962929164108166,0.4277323255501932,0.42587066679659935,0.4240443153803,0.4222532713012954,0.42049753455958533,0.41877710515516997,0.41709198308804907,0.41544216835822284,0.4138276609656912,0.41224846091045414,0.41070456819251167,0.4091959828118639,0.40772270476851064,0.406284734062452,0.404882070693688,0.40351471466221855,0.40218266596804375,0.40088592461116346,0.3996244905915779,0.3983983639092869,0.39720754456429047,0.39605203255658866,0.3949318278861815,0.39384693055306885,0.3927973405572509,0.39178305789872747,0.3908040825774987,0.3898604145935645,0.388952053946925,0.38807900063758,0.3872412546655296,0.38643881603077385,0.3856716847333127,0.3849398607731461,0.38424334415027417,0.38358213486469683,0.3829562329164141,0.3823656383054259,0.38181035103173244,0.3812903710953335,0.38080569849622914,0.3803563332344194,0.37994227530990426,0.37956352472268373,0.3792200814727579,0.37891194556012653,0.3786391169847898,0.3784015957467477,0.3781993818460002,0.37803247528254735,0.377900876056389,0.37780458416752527,0.3777435996159562,0.3777179224016817,0.3777275525247018,0.37777248998501656,0.3778527347826259,0.3779682869175298,0.3781191463897283,0.37830531319922156,0.37852678734600925,0.37878356883009157,0.37907565765146856,0.3794030538101401,0.3797657573061063,0.38016376813936703,0.3805970863099224,0.3810657118177723,0.3815696446629169,0.38210888484535604],[0.25881904510252074,0.25676521300379734,0.25472695471456686,0.2527042702348293,0.25069715956458466,0.24870562270383284,0.24672965965257393,0.24476927041080798,0.24282445497853497,0.2408952133557548,0.23898154554246753,0.2370834515386732,0.2352009313443717,0.23333398495956317,0.23148261238424753,0.22964681361842476,0.2278265886620949,0.226021937515258,0.224232860177914,0.22245935665006286,0.22070142693170466,0.2189590710228393,0.21723228892346688,0.21552108063358733,0.2138254461532007,0.212145385482307,0.2104808986209062,0.20883198556899826,0.20719864632658325,0.20558088089366117,0.20397868927023194,0.20239207145629565,0.2008210274518523,0.1992655572569018,0.19772566087144416,0.19620133829547953,0.19469258952900773,0.19319941457202885,0.19172181342454286,0.1902597860865498,0.18881333255804963,0.18738245283904237,0.18596714692952804,0.18456741482950656,0.183183256538978,0.18181467205794236,0.1804616613863996,0.17912422452434973,0.1778023614717928,0.17649607222872876,0.17520535679515759,0.17393021517107937,0.172670647356494,0.17142665335140156,0.17019823315580204,0.16898538676969543,0.1677881141930817,0.16660641542596089,0.16544029046833297,0.16428973932019794,0.16315476198155585,0.16203535845240663,0.16093152873275032,0.15984327282258692,0.1587705907219164,0.15771348243073882,0.15667194794905412,0.15564598727686232,0.15463560041416344,0.15364078736095746,0.15266154811724436,0.1516978826830242,0.15074979105829692,0.14981727324306254,0.14890032923732105,0.1479989590410725,0.14711316265431684,0.14624294007705405,0.1453882913092842,0.14454921635100726,0.1437257152022232,0.14291778786293202,0.1421254343331338,0.14134865461282844,0.140587448702016,0.13984181660069644,0.13911175830886982,0.1383972738265361,0.13769836315369527,0.13701502629034734,0.13634726323649232,0.13569507399213018,0.13505845855726095,0.13443741693188466,0.13383194911600124,0.13324205510961074,0.1326677349127131,0.13210898852530842,0.1315658159473966,0.1310382171789777],[0.25881904510252074,0.25513272241727486,0.2514685842216091,0.24782663051552367,0.24420686129901842,0.24060927657209338,0.23703387633474854,0.23348066058698394,0.2299496293287996,0.22644078256019542,0.22295412028117145,0.2194896424917277,0.21604734919186416,0.21262724038158087,0.20922931606087775,0.20585357622975486,0.2025000208882122,0.19916865003624978,0.19585946367386758,0.19257246180106558,0.18930764441784378,0.18606501152420218,0.1828445631201408,0.17964629920565964,0.17647021978075872,0.17331632484543802,0.1701846143996975,0.16707508844353722,0.16398774697695712,0.1609225899999573,0.15787961751253762,0.1548588295146982,0.151860226006439,0.14888380698776002,0.14592957245866126,0.14299752241914274,0.14008765686920438,0.13719997580884627,0.13433447923806835,0.13149116715687065,0.1286700395652532,0.12587109646321593,0.12309433785075892,0.12033976372788208,0.11760737409458548,0.11489716895086907,0.11220914829673288,0.10954331213217693,0.10689966045720116,0.10427819327180564,0.10167891057599031,0.09910181236975522,0.09654689865310033,0.09401416942602565,0.0915036246885312,0.08901526444061696,0.08654908868228295,0.08410509741352916,0.08168329063435557,0.07928366834476222,0.07690623054474907,0.07455097723431611,0.0722179084134634,0.06990702408219089,0.0676183242404986,0.06535180888838651,0.06310747802585466,0.06088533165290301,0.05868536976953159,0.05650759237574039,0.0543519994715294,0.05221859105689862,0.05010736713184807,0.04801832769637771,0.04595147275048759,0.04390680229417767,0.04188431632744797,0.03988401485029848,0.037905897862729215,0.03594996536474017,0.034016217356331334,0.03210465383750272,0.03021527480825434,0.028348080268586148,0.026503070218498178,0.024680244657990427,0.022879603587062886,0.021101147005715564,0.01934487491394846,0.017610787311761567,0.015898884199154896,0.014209165576128438,0.012541631442682197,0.010896281798816174,0.00927311664453038,0.0076721359798247865,0.006093339804699409,0.004536728119154248,0.003002300923189303,0.0014900582168045741],[0.1305261922200517,0.1289624884372555,0.12740400570214808,0.12585074401472945,0.12430270337499964,0.12275988378295863,0.12122228523860643,0.119689907741943,0.11816275129296842,0.11664081589168263,0.11512410153808562,0.11361260823217742,0.11210633597395803,0.11060528476342743,0.10910945460058563,0.10761884548543263,0.10613345741796844,0.10465329039819306,0.10317834442610649,0.10170861950170872,0.10024411562499974,0.09878483279597955,0.09733077101464818,0.09588193028100558,0.09443831059505182,0.09299991195678686,0.09156673436621068,0.09013877782332332,0.08871604232812474,0.08729852788061498,0.08588623448079402,0.08447916212866187,0.08307731082421851,0.08168068056746396,0.08028927135839821,0.07890308319702129,0.07752211608333313,0.07614637001733379,0.07477584499902325,0.07341054102840151,0.07205045810546856,0.07069559623022445,0.06934595540266911,0.06800153562280258,0.06666233689062484,0.0653283592061359,0.06399960256933579,0.06267606698022446,0.061357752438801934,0.060044658945068205,0.058736786499023294,0.05743413510066718,0.05613670474999986,0.05484449544702135,0.05355750719173164,0.05227573998413074,0.05099919382421863,0.04972786871199534,0.04846176464746083,0.04720088163061514,0.04594521966145824,0.044694778739990136,0.043449558866210845,0.04220956004012036,0.04097478226171867,0.039745225531005776,0.038520889847981694,0.03730177521264641,0.03608788162499993,0.03487920908504226,0.03367575759277339,0.03247752714819331,0.03128451775130204,0.03009672940209956,0.0289141621005859,0.027736815846761027,0.026564690640624965,0.0253977864821777,0.024236103371419244,0.023079641308349587,0.021928400292968726,0.020782380325276673,0.019641581405273435,0.018506003532958983,0.017375646708333334,0.01625051093139649,0.015130596202148445,0.014015902520589206,0.012906429886718765,0.011802178300537126,0.010703147762044292,0.009609338271240256,0.008520749828125028,0.007437382432698597,0.006359236084960981,0.005286310784912157,0.004218606532552133,0.0031561233278809124,0.0020988611708984933,0.001046820061604876],[-0.1305261922200516,-0.1310382171789776,-0.13156581594739647,-0.1321089885253083,-0.132667734912713,-0.13324205510961062,-0.13383194911600113,-0.13443741693188455,-0.13505845855726087,-0.13569507399213007,-0.1363472632364922,-0.13701502629034723,-0.13769836315369513,-0.13839727382653597,-0.13911175830886974,-0.13984181660069636,-0.14058744870201587,-0.14134865461282833,-0.1421254343331337,-0.14291778786293197,-0.14372571520222313,-0.14454921635100715,-0.1453882913092841,-0.14624294007705396,-0.14711316265431673,-0.1479989590410724,-0.14890032923732097,-0.14981727324306243,-0.15074979105829678,-0.15169788268302406,-0.15266154811724425,-0.15364078736095732,-0.15463560041416335,-0.1556459872768622,-0.156671947949054,-0.1577134824307387,-0.15877059072191632,-0.1598432728225868,-0.16093152873275024,-0.16203535845240652,-0.16315476198155573,-0.16428973932019786,-0.16544029046833286,-0.1666064154259608,-0.16778811419308162,-0.16898538676969535,-0.17019823315580196,-0.17142665335140148,-0.17267064735649393,-0.17393021517107926,-0.1752053567951575,-0.17649607222872865,-0.17780236147179268,-0.17912422452434962,-0.18046166138639946,-0.18181467205794222,-0.18318325653897788,-0.18456741482950645,-0.18596714692952793,-0.18738245283904228,-0.18881333255804955,-0.1902597860865497,-0.19172181342454278,-0.19319941457202877,-0.19469258952900764,-0.19620133829547942,-0.1977256608714441,-0.1992655572569017,-0.2008210274518522,-0.20239207145629556,-0.20397868927023188,-0.20558088089366108,-0.20719864632658316,-0.20883198556899818,-0.2104808986209061,-0.2121453854823069,-0.21382544615320062,-0.21552108063358724,-0.21723228892346677,-0.2189590710228392,-0.22070142693170453,-0.22245935665006272,-0.22423286017791383,-0.2260219375152579,-0.22782658866209482,-0.22964681361842465,-0.2314826123842474,-0.2333339849595631,-0.2352009313443716,-0.23708345153867308,-0.23898154554246742,-0.2408952133557547,-0.24282445497853483,-0.24476927041080793,-0.24672965965257387,-0.24870562270383273,-0.2506971595645845,-0.2527042702348292,-0.25472695471456674,-0.25676521300379723],[-0.1305261922200516,-0.13087028950004786,-0.13125837617643718,-0.13169045224921946,-0.1321665177183948,-0.13268657258396313,-0.13325061684592446,-0.1338586505042788,-0.13451067355902618,-0.13520668601016655,-0.13594668785769995,-0.13673067910162637,-0.13755865974194575,-0.1384306297786582,-0.13934658921176363,-0.14030653804126206,-0.1413104762671535,-0.14235840388943802,-0.1434503209081155,-0.14458622732318602,-0.14576612313464954,-0.14699000834250603,-0.14825788294675557,-0.1495697469473981,-0.15092560034443367,-0.15232544313786223,-0.1537692753276838,-0.1552570969138984,-0.156788907896506,-0.15836470827550664,-0.15998449805090026,-0.1616482772226869,-0.16335604579086654,-0.16510780375543924,-0.1669035511164049,-0.1687432878737636,-0.17062701402751532,-0.17255472957766002,-0.17452643452419775,-0.1765421288671285,-0.17860181260645225,-0.180705485742169,-0.1828531482742788,-0.18504480020278158,-0.1872804415276774,-0.1895600722489662,-0.19188369236664804,-0.19425130188072284,-0.1966629007911907,-0.19911848909805152,-0.20161806680130542,-0.20416163390095232,-0.20674919039699222,-0.20938073628942513,-0.21205627157825108,-0.21477579626347,-0.21753931034508195,-0.22034681382308685,-0.22319830669748486,-0.22609378896827584,-0.22903326063545984,-0.23201672169903684,-0.23504417215900686,-0.2381156120153699,-0.24123104126812595,-0.24439045991727498,-0.24759386796281707,-0.25084126540475216,-0.25413265224308024,-0.25746802847780126,-0.26084739410891544,-0.26427074913642257,-0.2677380935603227,-0.27124942738061586,-0.274804750597302,-0.2784040632103812,-0.2820473652198534,-0.28573465662571856,-0.28946593742797677,-0.29324120762662803,-0.2970604672216723,-0.3009237162131095,-0.30483095460093973,-0.30878218238516303,-0.31277739956577927,-0.31681660614278856,-0.32089980211619085,-0.32502698748598624,-0.3291981622521746,-0.33341332641475596,-0.3376724799737303,-0.34197562292909767,-0.34632275528085804,-0.35071387702901147,-0.3551489881735578,-0.35962808871449725,-0.36415117865182967,-0.36871825798555513,-0.37332932671567354,-0.37798438484218505],[-0.1305261922200516,-0.1307530362406408,-0.13104993872703222,-0.13141689967922587,-0.13185391909722174,-0.13236099698101988,-0.1329381333306202,-0.13358532814602278,-0.1343025814272276,-0.13508989317423462,-0.13594726338704388,-0.13687469206565533,-0.13787217921006903,-0.13893972482028497,-0.14007732889630312,-0.1412849914381235,-0.14256271244574614,-0.14391049191917096,-0.14532832985839805,-0.14681622626342736,-0.1483741811342589,-0.15000219447089266,-0.15170026627332867,-0.15346839654156685,-0.15530658527560728,-0.15721483247544998,-0.15919313814109487,-0.16124150227254197,-0.16335992486979134,-0.1655484059328429,-0.16780694546169672,-0.17013554345635273,-0.17253419991681102,-0.1750029148430715,-0.17754168823513422,-0.18015052009299917,-0.18282941041666634,-0.18557835920613575,-0.18839736646140742,-0.19128643218248126,-0.19424555636935736,-0.19727473902203568,-0.20037398014051622,-0.203543279724799,-0.20678263777488398,-0.21009205429077124,-0.21347152927246069,-0.21692106271995235,-0.22044065463324625,-0.2240303050123424,-0.22769001385724078,-0.23141978116794137,-0.23521960694444422,-0.23908949118674927,-0.24302943389485654,-0.24703943506876605,-0.2511194947084778,-0.2552696128139917,-0.25948978938530787,-0.2637800244224263,-0.268140317925347,-0.27257066989406986,-0.27707108032859495,-0.2816415492289223,-0.2862820765950519,-0.29099266242698363,-0.2957733067247177,-0.3006240094882539,-0.3055447707175924,-0.31053559041273304,-0.31559646857367596,-0.32072740520042115,-0.32592840029296855,-0.3311994538513181,-0.33654056587547,-0.3419517363654241,-0.34743296532118034,-0.35298425274273887,-0.35860559863009966,-0.3642970029832627,-0.37005846580222784,-0.3758899870869953,-0.3817915668375648,-0.38776320505393674,-0.3938049017361108,-0.3999166568840872,-0.4060984704978658,-0.4123503425774466,-0.4186722731228296,-0.42506426213401494,-0.4315263096110024,-0.43805841555379216,-0.44466057996238406,-0.4513328028367783,-0.45807508417697457,-0.4648874239829732,-0.47176982225477404,-0.4787222789923771,-0.4857447941957824,-0.49283736786499],[-0.1305261922200516,-0.13065103257419702,-0.1308699640801352,-0.13118298673786613,-0.13159010054738982,-0.13209130550870626,-0.13268660162181545,-0.13337598888671737,-0.1341594673034121,-0.13503703687189955,-0.13600869759217973,-0.1370744494642527,-0.1382342924881184,-0.13948822666377686,-0.14083625199122807,-0.14227836847047204,-0.14381457610150875,-0.14544487488433824,-0.14716926481896045,-0.14898774590537545,-0.15090031814358318,-0.15290698153358365,-0.15500773607537688,-0.15720258176896285,-0.15949151861434158,-0.16187454661151307,-0.16435166576047733,-0.16692287606123432,-0.16958817751378408,-0.17234757011812657,-0.17520105387426183,-0.17814862878218984,-0.1811902948419106,-0.18432605205342412,-0.1875559004167304,-0.19087983993182941,-0.1942978705987212,-0.1978099924174057,-0.20141620538788302,-0.20511650951015303,-0.20891090478421584,-0.21279939121007138,-0.21678196878771966,-0.2208586375171607,-0.2250293973983945,-0.22929424843142107,-0.23365319061624035,-0.2381062239528524,-0.24265334844125722,-0.24729456408145475,-0.2520298708734451,-0.25685926881722815,-0.261782757912804,-0.26680033816017257,-0.2719120095593339,-0.277117772110288,-0.2824176258130348,-0.28781157066757435,-0.2932996066739067,-0.29888173383203176,-0.30455795214194964,-0.3103282616036602,-0.3161926622171636,-0.3221511539824597,-0.3282037368995485,-0.33435041096843016,-0.3405911761891045,-0.3469260325615717,-0.35335498008583155,-0.3598780187618841,-0.3664951485897294,-0.3732063695693676,-0.38001168170079846,-0.38691108498402205,-0.39390457941903845,-0.4009921650058476,-0.4081738417444495,-0.4154496096348441,-0.4228194686770316,-0.43028341887101174,-0.43784146021678466,-0.4454935927143503,-0.4532398163637086,-0.4610801311648598,-0.46901453711780366,-0.47704303422254035,-0.48516562247906975,-0.49338230188739196,-0.5016930724475068,-0.5100979341594145,-0.518596887023115,-0.5271899310386082,-0.5358770662058941,-0.5446582925249728,-0.5535336099958442,-0.5625030186185084,-0.5715665183929654,-0.580724109319215,-0.5899757913972574,-0.5993215646270927],[-0.1305261922200516,-0.130550990576599,-0.1306917688833104,-0.13094852714018584,-0.13132126534722524,-0.13180998350442863,-0.13241468161179598,-0.13313535966932735,-0.13397201767702271,-0.13492465563488207,-0.1359932735429054,-0.13717787140109272,-0.13847844920944405,-0.13989500696795937,-0.14142754467663868,-0.14307606233548192,-0.14484055994448922,-0.1467210375036605,-0.14871749501299578,-0.15082993247249504,-0.1530583498821583,-0.1554027472419855,-0.15786312455197674,-0.16043948181213194,-0.16313181902245114,-0.16594013618293435,-0.16886443329358153,-0.1719047103543927,-0.17506096736536791,-0.178333204326507,-0.18172142123781018,-0.18522561809927732,-0.18884579491090847,-0.1925819516727036,-0.1964340883846627,-0.2004022050467858,-0.2044863016590729,-0.20868637822152397,-0.21300243473413907,-0.21743447119691814,-0.2219824876098612,-0.22664648397296822,-0.23142646028623926,-0.23632241654967429,-0.24133435276327334,-0.24646226892703638,-0.2517061650409633,-0.2570660411050543,-0.2625418971193093,-0.26813373308372823,-0.27384154899831126,-0.27966534486305816,-0.28560512067796917,-0.29166087644304406,-0.297832612158283,-0.3041203278236859,-0.31052402343925284,-0.3170436990049837,-0.3236793545208786,-0.33043098998693743,-0.33729860540316037,-0.3442822007695472,-0.3513817760860981,-0.3585973313528129,-0.36592886656969176,-0.3733763817367346,-0.3809398768539414,-0.38861935192131225,-0.396414806938847,-0.4043262419065457,-0.4123536568244085,-0.4204970516924353,-0.42875642651062607,-0.4371317812789808,-0.44562311599749954,-0.4542304306661823,-0.462953725285029,-0.47179299985403966,-0.48074825437321445,-0.48981948884255316,-0.4990067032620559,-0.5083098976317225,-0.517729071951553,-0.5272642262215478,-0.5369153604417063,-0.546682474612029,-0.5565655687325156,-0.5665646428031663,-0.5766796968239809,-0.5869107307949595,-0.5972577447161022,-0.6077207385874087,-0.6182997124088793,-0.6289946661805139,-0.6398055999023123,-0.6507325135742749,-0.6617754071964014,-0.672934280768692,-0.6842091342911464,-0.695599967763765],[-0.1305261922200516,-0.1304470982947315,-0.13050350670084637,-0.13069541743839624,-0.13102283050738112,-0.13148574590780096,-0.13208416363965578,-0.13281808370294562,-0.13368750609767044,-0.13469243082383026,-0.13583285788142505,-0.1371087872704548,-0.13852021899091957,-0.14006715304281933,-0.14174958942615407,-0.1435675281409238,-0.14552096918712853,-0.14760991256476824,-0.14983435827384295,-0.15219430631435266,-0.15468975668629734,-0.157320709389677,-0.16008716442449164,-0.16298912179074126,-0.16602658148842592,-0.16919954351754554,-0.17250800787810014,-0.17595197457008974,-0.17953144359351436,-0.1832464149483739,-0.18709688863466845,-0.19108286465239802,-0.19520434300156256,-0.1994613236821621,-0.20385380669419662,-0.2083817920376661,-0.21304527971257062,-0.21784426971891013,-0.2227787620566846,-0.22784875672589405,-0.2330542537265385,-0.23839525305861795,-0.24387175472213238,-0.2494837587170818,-0.2552312650434662,-0.26111427370128565,-0.26713278469054,-0.27328679801122935,-0.2795763136633537,-0.28600133164691305,-0.2925618519619074,-0.29925787460833675,-0.30608939958620107,-0.3130564268955004,-0.32015895653623466,-0.327396988508404,-0.33477052281200825,-0.34227955944704747,-0.34992409841352173,-0.35770413971143095,-0.36561968334077516,-0.37367072930155437,-0.3818572775937686,-0.3901793282174178,-0.39863688117250196,-0.40722993645902117,-0.4159584940769753,-0.4248225540263645,-0.43382211630718864,-0.44295718091944764,-0.45222774786314174,-0.4616338171382709,-0.471175388744835,-0.48085246268283405,-0.49066503895226815,-0.5006131175531372,-0.5106966984854413,-0.5209157817491803,-0.5312703673443543,-0.5417604552709634,-0.5523860455290074,-0.5631471381184864,-0.5740437330394002,-0.5850758302917493,-0.5962434298755331,-0.6075465317907521,-0.6189851360374061,-0.630559242615495,-0.6422688515250189,-0.6541139627659778,-0.6660945763383718,-0.6782106922422005,-0.6904623104774644,-0.7028494310441633,-0.7153720539422971,-0.728030179171866,-0.7408238067328698,-0.7537529366253085,-0.7668175688491823,-0.7800177034044912],[-0.1305261922200516,-0.13033670254712032,-0.13029962664769557,-0.1304149645217774,-0.1306827161693658,-0.1311028815904608,-0.13167546078506234,-0.13240045375317044,-0.13327786049478513,-0.1343076810099064,-0.13548991529853424,-0.13682456336066862,-0.13831162519630957,-0.1399511008054571,-0.14174299018811118,-0.14368729334427185,-0.14578401027393909,-0.1480331409771129,-0.1504346854537933,-0.15298864370398024,-0.15569501572767377,-0.15855380152487383,-0.16156500109558047,-0.1647286144397937,-0.16804464155751347,-0.17151308244873983,-0.17513393711347278,-0.17890720555171227,-0.18283288776345835,-0.18691098374871096,-0.19114149350747017,-0.19552441703973594,-0.20005975434550827,-0.2047475054247872,-0.2095876702775727,-0.21458024890386473,-0.21972524130366333,-0.22502264747696854,-0.2304724674237803,-0.23607470114409862,-0.24182934863792352,-0.24773640990525497,-0.25379588494609295,-0.2600077737604376,-0.2663720763482888,-0.27288879270964655,-0.27955792284451086,-0.28637946675288173,-0.29335342443475915,-0.3004797958901432,-0.30775858111903376,-0.31518978012143095,-0.32277339289733464,-0.33050941944674495,-0.33839785976966186,-0.34643871386608527,-0.3546319817360153,-0.3629776633794518,-0.37147575879639494,-0.3801262679868446,-0.3889291909508009,-0.39788452768826377,-0.4069922781992332,-0.4162524424837092,-0.42566502054169175,-0.4352300123731809,-0.4449474179781766,-0.4548172373566789,-0.4648394705086877,-0.47501411743420296,-0.48534117813322497,-0.49582065260575353,-0.5064525408517886,-0.5172368428713303,-0.5281735586643785,-0.5392626882309334,-0.5505042315709948,-0.5618981886845628,-0.5734445595716372,-0.5851433442322184,-0.596994542666306,-0.6089981548739003,-0.621154180855001,-0.6334626206096083,-0.6459234741377222,-0.6585367414393428,-0.6713024225144698,-0.6842205173631036,-0.6972910259852437,-0.7105139483808905,-0.7238892845500439,-0.7374170344927038,-0.7510971982088703,-0.7649297756985434,-0.7789147669617229,-0.7930521719984092,-0.8073419908086019,-0.8217842233923012,-0.836378869749507,-0.8511259298802196],[-0.1305261922200516,-0.13021871245861638,-0.13007771781161243,-0.13010320827903973,-0.1302951838608983,-0.13065364455718817,-0.13117859036790927,-0.13187002129306163,-0.1327279373326453,-0.13375233848666018,-0.13494322475510637,-0.13630059613798376,-0.13782445263529244,-0.13951479424703242,-0.14137162097320363,-0.1433949328138061,-0.14558472976883985,-0.14794101183830485,-0.15046377902220115,-0.1531530313205287,-0.1560087687332875,-0.15903099126047754,-0.16221969890209886,-0.16557489165815145,-0.1690965695286353,-0.17278473251355042,-0.1766393806128968,-0.18066051382667445,-0.18484813215488338,-0.18920223559752355,-0.19372282415459496,-0.1984098978260977,-0.20326345661203166,-0.2082835005123969,-0.2134700295271934,-0.21882304365642113,-0.22434254290008016,-0.23002852725817047,-0.23588099673069204,-0.24189995131764486,-0.24808539101902896,-0.25443731583484425,-0.26095572576509085,-0.26764062080976875,-0.27449200096887794,-0.2815098662424183,-0.28869421663038997,-0.29604505213279286,-0.30356237274962705,-0.31124617848089253,-0.31909646932658925,-0.3271132452867172,-0.3352965063612765,-0.34364625255026704,-0.35216248385368876,-0.3608452002715418,-0.3696944018038261,-0.37871008845054166,-0.3878922602116885,-0.3972409170872666,-0.40675605907727597,-0.41643768618171656,-0.4262857984005885,-0.4363003957338916,-0.44648147818162603,-0.4568290457437917,-0.4673430984203887,-0.4780236362114169,-0.4888706591168764,-0.499884167136767,-0.511064160271089,-0.5224106385198424,-0.5339236018830268,-0.5456030503606425,-0.5574489839526897,-0.569461402659168,-0.5816403064800776,-0.5939856954154183,-0.6064975694651906,-0.619175928629394,-0.6320207729080287,-0.6450321023010945,-0.6582099168085915,-0.6715542164305199,-0.6850650011668796,-0.6987422710176707,-0.7125860259828928,-0.7265962660625465,-0.7407729912566312,-0.7551162015651471,-0.7696258969880945,-0.7843020775254731,-0.7991447431772829,-0.8141538939435239,-0.8293295298241962,-0.8446716508192997,-0.8601802569288346,-0.8758553481528008,-0.8916969244911981,-0.9077049859440268],[-0.25881904510252063,-0.2587875140697604,-0.2587816431360989,-0.2588014323015362,-0.2588468815660721,-0.2589179909297068,-0.2590147603924401,-0.2591371899542721,-0.2592852796152029,-0.2594590293752324,-0.25965843923436055,-0.25988350919258746,-0.26013423924991297,-0.26041062940633725,-0.2607126796618602,-0.2610403900164819,-0.2613937604702023,-0.26177279102302137,-0.2621774816749392,-0.2626078324259557,-0.26306384327607096,-0.2635455142252848,-0.2640528452735974,-0.2645858364210087,-0.26514448766751875,-0.26572879901312746,-0.26633877045783494,-0.266974402001641,-0.26763569364454587,-0.2683226453865494,-0.26903525722765165,-0.2697735291678526,-0.2705374612071523,-0.27132705334555063,-0.27214230558304764,-0.2729832179196435,-0.2738497903553379,-0.2747420228901311,-0.275659915524023,-0.2766034682570136,-0.2775726810891029,-0.27856755402029093,-0.2795880870505776,-0.28063428017996306,-0.28170613340844713,-0.2828036467360299,-0.2839268201627115,-0.28507565368849164,-0.2862501473133706,-0.2874503010373482,-0.28867611486042455,-0.2899275887825996,-0.29120472280387333,-0.2925075169242458,-0.29383597114371696,-0.2951900854622868,-0.2965698598799554,-0.29797529439672266,-0.29940638901258865,-0.3008631437275533,-0.30234555854161665,-0.3038536334547788,-0.30538736846703957,-0.30694676357839906,-0.3085318187888572,-0.3101425340984141,-0.31177890950706977,-0.31344094501482406,-0.3151286406216771,-0.31684199632762877,-0.3185810121326792,-0.3203456880368284,-0.3221360240400762,-0.3239520201424227,-0.32579367634386797,-0.3276609926444119,-0.32955396904405454,-0.3314726055427959,-0.33341690214063596,-0.3353868588375748,-0.33738247563361223,-0.3394037525287484,-0.34145068952298324,-0.3435232866163168,-0.3456215438087491,-0.34774546110028004,-0.34989503849090975,-0.3520702759806382,-0.3542711735694653,-0.35649773125739115,-0.35874994904441565,-0.36102782693053886,-0.3633313649157608,-0.36566056300008143,-0.3680154211835007,-0.3703959394660188,-0.3728021178476355,-0.37523395632835094,-0.3776914549081651,-0.380174613587078],[-0.3826834323650895,-0.3821088848453557,-0.3815696446629165,-0.381065711817772,-0.380597086309922,-0.38016376813936664,-0.3797657573061059,-0.3794030538101397,-0.3790756576514682,-0.3787835688300913,-0.378526787346009,-0.3783053131992212,-0.37811914638972804,-0.37796828691752954,-0.37785273478262554,-0.3777724899850162,-0.37772755252470147,-0.37771792240168145,-0.37774359961595594,-0.37780458416752505,-0.3779008760563888,-0.378032475282547,-0.37819938184599994,-0.37840159574674737,-0.3786391169847895,-0.37891194556012625,-0.37922008147275754,-0.3795635247226834,-0.379942275309904,-0.38035633323441903,-0.3808056984962288,-0.3812903710953331,-0.38181035103173205,-0.38236563830542564,-0.3829562329164137,-0.38358213486469656,-0.38424334415027384,-0.38493986077314585,-0.3856716847333124,-0.38643881603077357,-0.3872412546655293,-0.3880790006375797,-0.38895205394692467,-0.38986041459356424,-0.39080408257749844,-0.39178305789872725,-0.39279734055725063,-0.3938469305530686,-0.3949318278861812,-0.3960520325565884,-0.39720754456429014,-0.39839836390928657,-0.39962449059157756,-0.4008859246111632,-0.4021826659680434,-0.4035147146622182,-0.40488207069368765,-0.4062847340624517,-0.4077227047685103,-0.40919598281186353,-0.41070456819251133,-0.4122484609104538,-0.4138276609656909,-0.41544216835822256,-0.41709198308804873,-0.41877710515516964,-0.42049753455958505,-0.42225327130129514,-0.42404431538029985,-0.425870666796599,-0.4277323255501929,-0.42962929164108143,-0.43156156506926446,-0.4335291458347421,-0.4355320339375145,-0.4375702293775814,-0.4396437321549429,-0.4417525422695989,-0.4438966597215497,-0.446076084510795,-0.4482908166373349,-0.4505408561011694,-0.45282620290229847,-0.4551468570407222,-0.4575028185164405,-0.4598940873294534,-0.462320663479761,-0.46478254696736315,-0.46727973779225984,-0.4698122359544512,-0.4723800414539372,-0.4749831542907177,-0.47762157446479286,-0.48029530197616266,-0.4830043368248269,-0.4857486790107859,-0.4885283285340395,-0.4913432853945876,-0.4941935495924304,-0.4970791211275678],[-0.3826834323650895,-0.3807376534196969,-0.3788768554624221,-0.37710103849326504,-0.37541020251222573,-0.3738043475193042,-0.37228347351450036,-0.37084758049781436,-0.36949666846924617,-0.3682307374287956,-0.3670497873764628,-0.36595381831224777,-0.3649428302361505,-0.36401682314817096,-0.36317579704830916,-0.36241975193656517,-0.36174868781293895,-0.3611626046774305,-0.3606615025300398,-0.36024538137076684,-0.3599142411996117,-0.3596680820165742,-0.35950690382165446,-0.3594307066148525,-0.3594394903961683,-0.3595332551656018,-0.35971200092315314,-0.35997572766882224,-0.36032443540260906,-0.3607581241245135,-0.3612767938345359,-0.3618804445326759,-0.36256907621893386,-0.3633426888933094,-0.36420128255580275,-0.3651448572064139,-0.3661734128451427,-0.3672869494719894,-0.3684854670869538,-0.36976896569003587,-0.3711374452812358,-0.37259090586055343,-0.3741293474279888,-0.37575276998354196,-0.3774611735272129,-0.37925455805900155,-0.38113292357890793,-0.38309627008693203,-0.385144597583074,-0.3872779060673337,-0.38949619553971115,-0.3917994660002063,-0.39418771744881925,-0.39666094988555,-0.3992191633103984,-0.40186235772336465,-0.4045905331244486,-0.4074036895136503,-0.4103018268909698,-0.413284945256407,-0.41635304460996203,-0.41950612495163475,-0.4227441862814253,-0.42606722859933355,-0.4294752519053595,-0.4329682561995033,-0.4365462414817648,-0.4402092077521441,-0.44395715501064115,-0.44779008325725583,-0.45170799249198834,-0.4557108827148387,-0.4597987539258067,-0.4639716061248925,-0.46822943931209604,-0.4725722534874174,-0.47700004865085643,-0.4815128248024133,-0.4861105819420879,-0.49079332006988025,-0.4955610391857903,-0.5004137392898182,-0.5053514203819637,-0.5103740824622272,-0.5154817255306081,-0.520674349587107,-0.5259519546317236,-0.531314540664458,-0.5367621076853102,-0.54229465569428,-0.5479121846913677,-0.5536146946765731,-0.5594021856498963,-0.5652746576113372,-0.5712321105608958,-0.5772745444985723,-0.5834019594243665,-0.5896143553382783,-0.595911732240308,-0.6022940901304554],[-0.3826834323650895,-0.3799338196787701,-0.37730529479395636,-0.37479785771064844,-0.3724115084288462,-0.37014624694854975,-0.368002073269759,-0.365978987392474,-0.3640769893166948,-0.3622960790424212,-0.3606362565696535,-0.35909752189839145,-0.3576798750286351,-0.35638331596038453,-0.35520784469363964,-0.3541534612284006,-0.3532201655646672,-0.3524079577024396,-0.35171683764171774,-0.3511468053825016,-0.3506978609247912,-0.3503700042685865,-0.35016323541388755,-0.3500775543606943,-0.35011296110900686,-0.35026945565882517,-0.3505470380101492,-0.35094570816297893,-0.3514654661173144,-0.3521063118731556,-0.35286824543050255,-0.3537512667893552,-0.3547553759497137,-0.3558805729115779,-0.3571268576749478,-0.35849423023982346,-0.35998269060620486,-0.36159223877409197,-0.36332287474348485,-0.36517459851438344,-0.36714741008678775,-0.36924130946069783,-0.3714562966361137,-0.3737923716130352,-0.3762495343914625,-0.3788277849713956,-0.38152712335283434,-0.38434754953577877,-0.38728906352022896,-0.3903516653061849,-0.39353535489364666,-0.39684013228261417,-0.40026599747308733,-0.40381295046506627,-0.40748099125855086,-0.41127011985354134,-0.4151803362500375,-0.41921164044803927,-0.42336403244754695,-0.4276375122485603,-0.4320320798510794,-0.43654773525510415,-0.4411844784606348,-0.44594230946767105,-0.45082122827621307,-0.45582123488626086,-0.46094232929781437,-0.46618451151087364,-0.47154778152543864,-0.47703213934150923,-0.48263758495908576,-0.48836411837816796,-0.49421173959875586,-0.5001804486208495,-0.506270245444449,-0.5124811300695542,-0.5188131024961651,-0.5252661627242816,-0.531840310753904,-0.5385355465850321,-0.545351870217666,-0.5522892816518056,-0.5593477808874507,-0.5665273679246019,-0.5738280427632586,-0.5812498054034211,-0.5887926558450893,-0.5964565940882635,-0.6042416201329431,-0.6121477339791286,-0.6201749356268199,-0.6283232250760168,-0.6365926023267195,-0.644983067378928,-0.653494620232642,-0.6621272608878619,-0.6708809893445875,-0.679755805602819,-0.6887517096625559,-0.6978687015237989],[-0.3826834323650895,-0.3793810997766161,-0.3762284445955717,-0.3732254668219563,-0.37037216645576987,-0.3676685434970124,-0.3651145979456839,-0.3627103298017844,-0.3604557390653141,-0.3583508257362725,-0.3563955898146601,-0.3545900313004765,-0.352934150193722,-0.3514279464943964,-0.3500714202024998,-0.3488645713180322,-0.3478073998409936,-0.3468999057713841,-0.34614208910920347,-0.3455339498544519,-0.3450754880071293,-0.34476670356723554,-0.3446075965347709,-0.34459816690973516,-0.34473841469212857,-0.3450283398819508,-0.3454679424792021,-0.3460572224838823,-0.3467961798959916,-0.3476848147155298,-0.3487231269424971,-0.3499111165768932,-0.3512487836187185,-0.35273612806797267,-0.35437314992465574,-0.356159849188768,-0.35809622586030915,-0.36018227993927926,-0.3624180114256784,-0.3648034203195065,-0.3673385066207636,-0.3700232703294497,-0.3728577114455648,-0.3758418299691088,-0.3789756259000819,-0.3822590992384839,-0.3856922499843149,-0.3892750781375749,-0.39300758369826383,-0.39688976666638187,-0.4009216270419288,-0.4051031648249047,-0.4094343800153097,-0.41391527261314365,-0.41854584261840655,-0.42332609003109845,-0.4282560148512193,-0.4333356170787691,-0.43856489671374804,-0.44394385375615586,-0.44947248820599267,-0.4551508000632585,-0.46097878932795333,-0.46695645600007707,-0.47308380007962986,-0.47936082156661164,-0.48578752046102236,-0.4923638967628622,-0.4990899504721309,-0.5059656815888285,-0.5129910901129552,-0.5201661760445109,-0.5274909393834956,-0.5349653801299092,-0.5425894982837519,-0.5503632938450236,-0.5582867668137241,-0.5663599171898537,-0.5745827449734123,-0.5829552501644,-0.5914774327628165,-0.6001492927686621,-0.6089708301819364,-0.61794204500264,-0.6270629372307726,-0.636333506866334,-0.6457537539093245,-0.655323678359744,-0.6650432802175925,-0.6749125594828699,-0.6849315161555765,-0.6951001502357118,-0.7054184617232762,-0.7158864506182696,-0.726504116920692,-0.7372714606305434,-0.7481884817478237,-0.7592551802725329,-0.7704715562046713,-0.7818376095442386],[-0.3826834323650895,-0.3789583938253659,-0.3754062534321859,-0.37202701118554987,-0.3688206670854576,-0.36578722113190903,-0.36292667332490425,-0.36023902366444327,-0.35772427215052616,-0.3553824187831527,-0.3532134635623231,-0.35121740648803723,-0.34939424756029513,-0.34774398677909685,-0.34626662414444226,-0.34496215965633154,-0.3438305933147646,-0.34287192511974146,-0.3420861550712621,-0.3414732831693265,-0.3410333094139347,-0.34076623380508664,-0.3406720563427824,-0.3407507770270219,-0.34100239585780523,-0.34142691283513227,-0.34202432795900317,-0.3427946412294178,-0.34373785264637624,-0.3448539622098784,-0.3461429699199244,-0.3476048757765141,-0.3492396797796477,-0.351047381929325,-0.3530279822255461,-0.355181480668311,-0.3575078772576197,-0.36000717199347215,-0.3626793648758684,-0.3655244559048084,-0.3685424450802922,-0.37173333240231976,-0.3750971178708911,-0.3786338014860062,-0.38234338324766526,-0.3862258631558679,-0.39028124121061436,-0.3945095174119046,-0.39891069175973864,-0.40348476425411645,-0.40823173489503806,-0.4131516036825035,-0.41824437061651265,-0.4235100356970656,-0.4289485989241623,-0.4345600602978028,-0.4403444198179871,-0.44630167748471516,-0.452431833297987,-0.45873488725780254,-0.465210839364162,-0.4718596896170652,-0.4786814380165122,-0.48567608456250294,-0.4928436292550375,-0.5001840720941158,-0.5076974130797379,-0.5153836522119037,-0.5232427894906134,-0.5312748249158668,-0.539479758487664,-0.547857590206005,-0.5564083200708898,-0.5651319480823184,-0.5740284742402908,-0.5830978985448069,-0.5923402209958668,-0.6017554415934705,-0.6113435603376179,-0.6211045772283093,-0.6310384922655443,-0.641145305449323,-0.6514250167796456,-0.661877626256512,-0.672503133879922,-0.683301539649876,-0.6942728435663736,-0.7054170456294153,-0.7167341458390005,-0.7282241441951296,-0.7398870406978024,-0.751722835347019,-0.7637315281427794,-0.7759131190850836,-0.7882676081739315,-0.8007949954093232,-0.8134952807912588,-0.8263684643197381,-0.8394145459947611,-0.852633525816328],[-0.3826834323650895,-0.378609746241549,-0.37472768935285694,-0.3710372616990136,-0.36753846328001866,-0.3642312940958723,-0.3611157541465744,-0.35819184343212507,-0.35545956195252437,-0.3529189097077721,-0.35056988669786837,-0.34841249292281323,-0.3464467283826066,-0.3446725930772485,-0.3430900870067389,-0.34169921017107785,-0.3404999625702653,-0.33949234420430147,-0.33867635507318605,-0.3380519951769192,-0.3376192645155009,-0.337378163088931,-0.33732869089720974,-0.33747084794033694,-0.3378046342183128,-0.33833004973113706,-0.33904709447880993,-0.3399557684613313,-0.3410560716787012,-0.3423480041309197,-0.3438315658179867,-0.3455067567399022,-0.3473735768966663,-0.34943202628827896,-0.35168210491474006,-0.35412381277604976,-0.35675714987220797,-0.35958211620321473,-0.36259871176907,-0.3658069365697738,-0.36920679060532624,-0.37279827387572706,-0.3765813863809765,-0.3805561281210744,-0.38472249909602096,-0.389080499305816,-0.39363012875045955,-0.3983713874299516,-0.40330427534429225,-0.4084287924934814,-0.4137449388775191,-0.41925271449640533,-0.42495211935014016,-0.4308431534387235,-0.4369258167621553,-0.4432001093204357,-0.4496660311135646,-0.45632358214154206,-0.46317276240436805,-0.47021357190204255,-0.4774460106345656,-0.4848700786019372,-0.49248577580415737,-0.500293102241226,-0.5082920579131431,-0.516482642819909,-0.5248648569615233,-0.533438700337986,-0.5422041729492973,-0.5511612747954571,-0.5603100058764656,-0.5696503661923226,-0.579182355743028,-0.588905974528582,-0.5988212225489846,-0.6089280998042357,-0.6192266062943353,-0.6297167420192834,-0.6403985069790802,-0.6512719011737255,-0.6623369246032192,-0.6735935772675615,-0.6850418591667522,-0.6966817703007916,-0.7085133106696795,-0.720536480273416,-0.7327512791120009,-0.7451577071854345,-0.7577557644937165,-0.770545451036847,-0.7835267668148262,-0.7966997118276539,-0.8100642860753301,-0.8236204895578547,-0.837368322275228,-0.8513077842274497,-0.86543887541452,-0.8797615958364389,-0.8942759454932063,-0.9089819243848223],[-0.7071067811865475,-0.7003040839744568,-0.693682607463888,-0.6872423516548414,-0.6809833165473166,-0.6749055021413137,-0.669008908436833,-0.6632935354338741,-0.6577593831324374,-0.6524064515325226,-0.6472347406341298,-0.6422442504372587,-0.6374349809419099,-0.6328069321480829,-0.6283601040557779,-0.6240944966649951,-0.6200101099757341,-0.6161069439879951,-0.6123849987017782,-0.6088442741170832,-0.6054847702339102,-0.6023064870522591,-0.59930942457213,-0.5964935827935228,-0.5938589617164376,-0.5914055613408745,-0.5891333816668334,-0.5870424226943142,-0.5851326844233171,-0.5834041668538417,-0.5818568699858886,-0.5804907938194572,-0.579305938354548,-0.5783023035911607,-0.5774798895292954,-0.5768386961689521,-0.5763787235101309,-0.5760999715528314,-0.576002440297054,-0.5760861297427987,-0.5763510398900653,-0.576797170738854,-0.5774245222891644,-0.578233094540997,-0.5792228874943515,-0.580393901149228,-0.5817461355056265,-0.5832795905635468,-0.5849942663229892,-0.5868901627839537,-0.58896727994644,-0.5912256178104485,-0.5936651763759788,-0.5962859556430313,-0.5990879556116055,-0.6020711762817019,-0.6052356176533201,-0.6085812797264605,-0.6121081625011227,-0.615816265977307,-0.6197055901550133,-0.6237761350342413,-0.6280279006149916,-0.6324608868972637,-0.6370750938810579,-0.6418705215663739,-0.6468471699532121,-0.6520050390415721,-0.6573441288314543,-0.6628644393228582,-0.6685659705157843,-0.6744487224102323,-0.6805126950062024,-0.6867578883036942,-0.6931843023027082,-0.6997919370032442,-0.7065807924053021,-0.7135508685088819,-0.720702165313984,-0.7280346828206079,-0.7355484210287537,-0.7432433799384215,-0.7511195595496112,-0.759176959862323,-0.7674155808765568,-0.7758354225923125,-0.7844364850095902,-0.7932187681283901,-0.8021822719487117,-0.8113269964705554,-0.8206529416939211,-0.8301601076188088,-0.8398484942452185,-0.84971810157315,-0.8597689296026035,-0.8700009783335791,-0.8804142477660767,-0.8910087379000962,-0.9017844487356377,-0.9127413802727012],[-0.9659258262890682,-0.9623054226783431,-0.9587633138951245,-0.9552994999394125,-0.951913980811207,-0.9486067565105079,-0.9453778270373154,-0.9422271923916294,-0.93915485257345,-0.9361608075827771,-0.9332450574196107,-0.9304076020839508,-0.9276484415757974,-0.9249675758951503,-0.9223650050420099,-0.919840729016376,-0.9173947478182487,-0.9150270614476279,-0.9127376699045138,-0.910526573188906,-0.9083937713008047,-0.9063392642402098,-0.9043630520071216,-0.9024651346015398,-0.9006455120234645,-0.8989041842728959,-0.8972411513498336,-0.8956564132542779,-0.8941499699862289,-0.892721821545686,-0.8913719679326498,-0.8901004091471203,-0.8889071451890972,-0.8877921760585806,-0.8867555017555706,-0.885797122280067,-0.88491703763207,-0.8841152478115796,-0.8833917528185955,-0.882746552653118,-0.8821796473151471,-0.8816910368046825,-0.8812807211217246,-0.8809487002662731,-0.8806949742383282,-0.8805195430378898,-0.880422406664958,-0.8804035651195324,-0.8804630184016136,-0.8806007665112012,-0.8808168094482954,-0.8811111472128961,-0.8814837798050033,-0.881934707224617,-0.8824639294717371,-0.8830714465463639,-0.8837572584484972,-0.8845213651781371,-0.8853637667352833,-0.8862844631199361,-0.8872834543320953,-0.8883607403717613,-0.8895163212389335,-0.8907501969336125,-0.8920623674557978,-0.8934528328054896,-0.8949215929826881,-0.8964686479873931,-0.8980939978196045,-0.8997976424793224,-0.9015795819665469,-0.9034398162812779,-0.9053783454235154,-0.9073951693932594,-0.9094902881905099,-0.9116637018152669,-0.9139154102675304,-0.9162454135473005,-0.9186537116545772,-0.9211403045893604,-0.9237051923516499,-0.926348374941446,-0.9290698523587486,-0.9318696246035578,-0.9347476916758733,-0.9377040535756956,-0.9407387103030244,-0.9438516618578596,-0.9470429082402014,-0.9503124494500497,-0.9536602854874043,-0.9570864163522657,-0.9605908420446334,-0.9641735625645078,-0.9678345779118886,-0.9715738880867759,-0.9753914930891698,-0.9792873929190702,-0.9832615875764771,-0.9873140770613905],[-0.9659258262890682,-0.9579254255917796,-0.9500935328224586,-0.9424301479811054,-0.9349352710677197,-0.9276089020823015,-0.9204510410248512,-0.9134616878953683,-0.9066408426938533,-0.8999885054203058,-0.893504676074726,-0.8871893546571137,-0.881042541167469,-0.875064235605792,-0.8692544379720826,-0.863613148266341,-0.8581403664885668,-0.8528360926387605,-0.8477003267169219,-0.8427330687230506,-0.8379343186571472,-0.8333040765192112,-0.8288423423092429,-0.8245491160272422,-0.8204243976732092,-0.8164681872471439,-0.8126804847490462,-0.8090612901789159,-0.8056106035367536,-0.8023284248225587,-0.7992147540363315,-0.7962695911780718,-0.7934929362477801,-0.7908847892454557,-0.7884451501710991,-0.7861740190247101,-0.7840713958062888,-0.7821372805158351,-0.7803716731533489,-0.7787745737188304,-0.7773459822122796,-0.7760858986336965,-0.7749943229830809,-0.7740712552604329,-0.7733166954657527,-0.77273064359904,-0.7723130996602949,-0.7720640636495174,-0.7719835355667077,-0.7720715154118656,-0.7723280031849911,-0.7727529988860842,-0.7733465025151449,-0.7741085140721733,-0.7750390335571693,-0.7761380609701332,-0.7774055963110644,-0.7788416395799633,-0.7804461907768299,-0.7822192499016641,-0.7841608169544659,-0.7862708919352355,-0.7885494748439725,-0.7909965656806773,-0.7936121644453498,-0.7963962711379897,-0.7993488857585973,-0.8024700083071727,-0.8057596387837156,-0.8092177771882261,-0.8128444235207043,-0.8166395777811501,-0.8206032399695635,-0.8247354100859445,-0.8290360881302934,-0.8335052741026098,-0.8381429680028938,-0.8429491698311453,-0.8479238795873647,-0.8530670972715516,-0.8583788228837061,-0.8638590564238283,-0.869507797891918,-0.8753250472879754,-0.8813108046120005,-0.8874650698639932,-0.8937878430439535,-0.9002791241518816,-0.9069389131877772,-0.9137672101516404,-0.9207640150434714,-0.9279293278632699,-0.935263148611036,-0.9427654772867698,-0.9504363138904712,-0.9582756584221402,-0.9662835108817769,-0.9744598712693813,-0.9828047395849532,-0.9913181158284927],[-0.9659258262890682,-0.9554154778577697,-0.9451226150584339,-0.9350472378910606,-0.9251893463556499,-0.9155489404522015,-0.9061260201807159,-0.8969205855411927,-0.8879326365336321,-0.8791621731580341,-0.8706091954143986,-0.8622737033027256,-0.8541556968230152,-0.8462551759752671,-0.8385721407594817,-0.8311065911756589,-0.8238585272237986,-0.816827948903901,-0.8100148562159659,-0.8034192491599932,-0.7970411277359831,-0.7908804919439355,-0.7849373417838506,-0.7792116772557279,-0.773703498359568,-0.7684128050953706,-0.7633395974631357,-0.7584838754628634,-0.7538456390945537,-0.7494248883582064,-0.7452216232538216,-0.7412358437813995,-0.7374675499409399,-0.7339167417324428,-0.7305834191559083,-0.7274675822113364,-0.7245692308987269,-0.7218883652180801,-0.7194249851693958,-0.7171790907526738,-0.7151506819679146,-0.7133397588151179,-0.7117463212942837,-0.7103703694054121,-0.709211903148503,-0.7082709225235565,-0.7075474275305724,-0.7070414181695509,-0.7067528944404919,-0.7066818563433956,-0.7068283038782618,-0.7071922370450905,-0.7077736558438816,-0.7085725602746354,-0.7095889503373518,-0.7108228260320306,-0.712274187358672,-0.713943034317276,-0.7158293669078424,-0.7179331851303715,-0.720254488984863,-0.7227932784713171,-0.7255495535897338,-0.7285233143401131,-0.7317145607224548,-0.735123292736759,-0.7387495103830259,-0.7425932136612553,-0.7466544025714472,-0.7509330771136016,-0.7554292372877185,-0.7601428830937982,-0.7650740145318402,-0.7702226316018448,-0.775588734303812,-0.7811723226377416,-0.7869733966036339,-0.7929919562014887,-0.799228001431306,-0.8056815322930859,-0.8123525487868284,-0.8192410509125333,-0.8263470386702008,-0.8336705120598308,-0.8412114710814232,-0.8489699157349785,-0.8569458460204962,-0.8651392619379764,-0.8735501634874192,-0.8821785506688244,-0.8910244234821922,-0.9000877819275227,-0.9093686260048155,-0.9188669557140711,-0.928582771055289,-0.9385160720284695,-0.9486668586336127,-0.9590351308707182,-0.9696208887397864,-0.9804241322408171],[-0.9659258262890682,-0.953755160877826,-0.9418303674950935,-0.9301514461408712,-0.9187183968151589,-0.9075312195179562,-0.8965899142492637,-0.8858944810090811,-0.8754449197974086,-0.8652412306142458,-0.8552834134595932,-0.8455714683334503,-0.8361053952358175,-0.8268851941666945,-0.8179108651260815,-0.8091824081139783,-0.8006998231303853,-0.7924631101753022,-0.7844722692487291,-0.776727300350666,-0.7692282034811126,-0.7619749786400691,-0.7549676258275357,-0.7482061450435122,-0.7416905362879986,-0.735420799560995,-0.7293969348625015,-0.7236189421925177,-0.718086821551044,-0.7128005729380802,-0.7077601963536262,-0.7029656917976823,-0.6984170592702484,-0.6941142987713242,-0.6900574103009103,-0.6862463938590062,-0.682681249445612,-0.6793619770607278,-0.6762885767043534,-0.6734610483764891,-0.6708793920771348,-0.6685436078062903,-0.6664536955639557,-0.6646096553501312,-0.6630114871648165,-0.6616591910080118,-0.6605527668797171,-0.6596922147799322,-0.6590775347086573,-0.6587087266658924,-0.6585857906516375,-0.6587087266658924,-0.6590775347086574,-0.6596922147799322,-0.660552766879717,-0.6616591910080117,-0.6630114871648165,-0.6646096553501311,-0.6664536955639557,-0.6685436078062903,-0.6708793920771347,-0.6734610483764891,-0.6762885767043535,-0.6793619770607278,-0.682681249445612,-0.6862463938590062,-0.6900574103009104,-0.6941142987713245,-0.6984170592702486,-0.7029656917976824,-0.7077601963536264,-0.7128005729380803,-0.7180868215510441,-0.7236189421925177,-0.7293969348625016,-0.7354207995609952,-0.7416905362879987,-0.7482061450435122,-0.7549676258275357,-0.7619749786400694,-0.7692282034811126,-0.776727300350666,-0.784472269248729,-0.7924631101753024,-0.8006998231303855,-0.8091824081139786,-0.8179108651260816,-0.8268851941666946,-0.8361053952358175,-0.8455714683334503,-0.8552834134595932,-0.8652412306142461,-0.8754449197974087,-0.8858944810090814,-0.8965899142492639,-0.9075312195179565,-0.9187183968151589,-0.9301514461408714,-0.9418303674950937,-0.9537551608778261],[-0.9914448613738104,-0.9875873519345522,-0.9838095002897488,-0.9801113064394005,-0.9764927703835071,-0.9729538921220686,-0.9694946716550852,-0.9661151089825566,-0.9628152041044831,-0.9595949570208645,-0.9564543677317009,-0.9533934362369921,-0.9504121625367383,-0.9475105466309396,-0.9446885885195956,-0.9419462882027065,-0.9392836456802726,-0.9367006609522937,-0.9341973340187698,-0.9317736648797007,-0.9294296535350867,-0.9271652999849274,-0.924980604229223,-0.9228755662679735,-0.9208501861011793,-0.9189044637288399,-0.9170383991509555,-0.915251992367526,-0.9135452433785515,-0.9119181521840317,-0.9103707187839671,-0.9089029431783574,-0.9075148253672027,-0.906206365350503,-0.9049775631282582,-0.9038284187004684,-0.9027589320671334,-0.9017691032282535,-0.9008589321838285,-0.9000284189338584,-0.8992775634783433,-0.8986063658172834,-0.898014825950678,-0.8975029438785278,-0.8970707196008325,-0.8967181531175922,-0.8964452444288069,-0.8962519935344763,-0.8961384004346007,-0.8961044651291803,-0.8961501876182147,-0.896275567901704,-0.8964806059796484,-0.8967653018520477,-0.8971296555189019,-0.897573666980211,-0.8980973362359752,-0.8987006632861944,-0.8993836481308684,-0.9001462907699974,-0.9009885912035813,-0.9019105494316202,-0.9029121654541141,-0.9039934392710629,-0.9051543708824665,-0.9063949602883252,-0.907715207488639,-0.9091151124834076,-0.9105946752726312,-0.9121538958563096,-0.9137927742344432,-0.9155113104070316,-0.9173095043740749,-0.9191873561355732,-0.9211448656915265,-0.9231820330419347,-0.9252988581867979,-0.927495341126116,-0.9297714818598891,-0.9321272803881173,-0.9345627367108003,-0.9370778508279382,-0.9396726227395309,-0.9423470524455788,-0.9451011399460816,-0.9479348852410394,-0.9508482883304521,-0.9538413492143198,-0.9569140678926423,-0.96006644436542,-0.9632984786326525,-0.96661017069434,-0.9700015205504824,-0.9734725282010798,-0.9770231936461321,-0.9806535168856394,-0.9843634979196015,-0.9881531367480187,-0.9920224333708908,-0.9959713877882179],[-0.9914448613738104,-0.9787026644037091,-0.9662042359928293,-0.9539495761411716,-0.9419386848487354,-0.930171562115521,-0.9186482079415283,-0.9073686223267574,-0.8963328052712083,-0.885540756774881,-0.8749924768377753,-0.8646879654598914,-0.854627222641229,-0.8448102483817885,-0.8352370426815698,-0.8259076055405727,-0.8168219369587975,-0.807980036936244,-0.7993819054729124,-0.7910275425688024,-0.7829169482239141,-0.7750501224382476,-0.7674270652118026,-0.7600477765445794,-0.7529122564365781,-0.7460205048877985,-0.7393725218982408,-0.7329683074679045,-0.7268078615967902,-0.7208911842848975,-0.7152182755322266,-0.7097891353387774,-0.7046037637045499,-0.6996621606295443,-0.6949643261137602,-0.6905102601571983,-0.6862999627598578,-0.6823334339217391,-0.6786106736428421,-0.6751316819231669,-0.6718964587627133,-0.6689050041614817,-0.6661573181194717,-0.6636534006366833,-0.6613932517131168,-0.659376871348772,-0.657604259543649,-0.6560754162977476,-0.654790341611068,-0.6537490354836101,-0.6529514979153741,-0.6523977289063596,-0.652087728456567,-0.6520214965659962,-0.652199033234647,-0.6526203384625195,-0.6532854122496139,-0.6541942545959301,-0.6553468655014678,-0.6567432449662274,-0.6583833929902088,-0.6602673095734117,-0.6623949947158365,-0.6647664484174829,-0.6673816706783512,-0.6702406614984412,-0.6733434208777529,-0.6766899488162864,-0.6802802453140415,-0.6841143103710184,-0.6881921439872172,-0.6925137461626376,-0.6970791168972799,-0.7018882561911437,-0.7069411640442294,-0.7122378404565367,-0.7177782854280659,-0.7235624989588166,-0.7295904810487894,-0.7358622316979837,-0.7423777509063999,-0.7491370386740377,-0.7561400950008971,-0.7633869198869784,-0.7708775133322814,-0.7786118753368062,-0.7865900059005527,-0.7948119050235211,-0.8032775727057111,-0.8119870089471228,-0.8209402137477563,-0.8301371871076115,-0.8395779290266885,-0.8492624395049871,-0.8591907185425075,-0.8693627661392498,-0.8797785822952137,-0.8904381670103994,-0.9013415202848066,-0.9124886421184358],[-0.9914448613738104,-0.9774598513651782,-0.9637320295471065,-0.950261395919595,-0.9370479504826439,-0.9240916932362532,-0.9113926241804229,-0.8989507433151529,-0.8867660506404434,-0.8748385461562943,-0.8631682298627055,-0.8517551017596771,-0.8405991618472088,-0.8297004101253012,-0.8190588465939539,-0.8086744712531668,-0.7985472841029402,-0.7886772851432741,-0.7790644743741684,-0.7697088517956229,-0.7606104174076379,-0.751769171210213,-0.7431851132033487,-0.7348582433870446,-0.726788561761301,-0.7189760683261178,-0.711420763081495,-0.7041226460274325,-0.6970817171639304,-0.6902979764909886,-0.6837714240086072,-0.6775020597167862,-0.6714898836155256,-0.6657348957048254,-0.6602370959846854,-0.6549964844551062,-0.650013061116087,-0.6452868259676283,-0.6408177790097298,-0.6366059202423918,-0.6326512496656143,-0.628953767279397,-0.6255134730837401,-0.6223303670786436,-0.6194044492641075,-0.6167357196401317,-0.6143241782067163,-0.6121698249638612,-0.6102726599115665,-0.6086326830498323,-0.6072498943786584,-0.6061242938980449,-0.6052558816079917,-0.6046446575084989,-0.6042906215995665,-0.6041937738811944,-0.6043541143533828,-0.6047716430161316,-0.6054463598694406,-0.60637826491331,-0.6075673581477399,-0.6090136395727301,-0.6107171091882807,-0.6126777669943917,-0.614895612991063,-0.6173706471782946,-0.6201028695560866,-0.6230922801244392,-0.6263388788833519,-0.6298426658328251,-0.6336036409728587,-0.6376218043034526,-0.6418971558246069,-0.6464296955363216,-0.6512194234385966,-0.6562663395314321,-0.6615704438148279,-0.667131736288784,-0.6729502169533006,-0.6790258858083775,-0.6853587428540149,-0.6919487880902125,-0.6987960215169704,-0.7059004431342888,-0.7132620529421676,-0.7208808509406067,-0.7287568371296063,-0.7368900115091662,-0.7452803740792865,-0.7539279248399671,-0.7628326637912082,-0.7719945909330096,-0.7814137062653712,-0.7910900097882935,-0.8010235015017759,-0.8112141814058188,-0.8216620495004221,-0.8323671057855856,-0.8433293502613096,-0.8545487829275941],[-0.9914448613738104,-0.9873140770613905,-0.983261587576477,-0.9792873929190701,-0.9753914930891698,-0.9715738880867759,-0.9678345779118886,-0.9641735625645077,-0.9605908420446334,-0.9570864163522657,-0.9536602854874044,-0.9503124494500497,-0.9470429082402014,-0.9438516618578596,-0.9407387103030244,-0.9377040535756955,-0.9347476916758733,-0.9318696246035577,-0.9290698523587488,-0.9263483749414462,-0.92370519235165,-0.9211403045893604,-0.9186537116545772,-0.9162454135473005,-0.9139154102675304,-0.9116637018152669,-0.9094902881905099,-0.9073951693932594,-0.9053783454235154,-0.9034398162812778,-0.9015795819665469,-0.8997976424793223,-0.8980939978196044,-0.8964686479873929,-0.894921592982688,-0.8934528328054896,-0.8920623674557978,-0.8907501969336125,-0.8895163212389336,-0.8883607403717613,-0.8872834543320954,-0.8862844631199362,-0.8853637667352834,-0.8845213651781371,-0.8837572584484973,-0.883071446546364,-0.8824639294717374,-0.881934707224617,-0.8814837798050033,-0.8811111472128961,-0.8808168094482954,-0.8806007665112012,-0.8804630184016138,-0.8804035651195324,-0.8804224066649579,-0.8805195430378897,-0.8806949742383281,-0.8809487002662733,-0.8812807211217245,-0.8816910368046825,-0.882179647315147,-0.882746552653118,-0.8833917528185955,-0.8841152478115796,-0.8849170376320701,-0.885797122280067,-0.8867555017555706,-0.8877921760585807,-0.8889071451890973,-0.8901004091471204,-0.89137196793265,-0.8927218215456862,-0.8941499699862288,-0.8956564132542779,-0.8972411513498337,-0.898904184272896,-0.9006455120234647,-0.9024651346015398,-0.9043630520071215,-0.9063392642402099,-0.9083937713008047,-0.910526573188906,-0.9127376699045137,-0.915027061447628,-0.9173947478182489,-0.9198407290163761,-0.92236500504201,-0.9249675758951506,-0.9276484415757973,-0.9304076020839507,-0.9332450574196107,-0.9361608075827772,-0.9391548525734501,-0.9422271923916297,-0.9453778270373155,-0.9486067565105081,-0.951913980811207,-0.9552994999394127,-0.9587633138951246,-0.9623054226783432],[-0.9238795325112867,-0.915288296828767,-0.9068442525353444,-0.8985473996310195,-0.8903977381157917,-0.8823952679896614,-0.8745399892526283,-0.8668319019046927,-0.8592710059458546,-0.8518573013761137,-0.8445907881954701,-0.8374714664039239,-0.830499336001475,-0.8236743969881236,-0.8169966493638693,-0.8104660931287127,-0.8040827282826531,-0.7978465548256912,-0.7917575727578267,-0.7858157820790592,-0.7800211827893895,-0.7743737748888166,-0.7688735583773414,-0.7635205332549634,-0.758314699521683,-0.7532560571774997,-0.7483446062224139,-0.7435803466564254,-0.7389632784795344,-0.7344934016917406,-0.7301707162930442,-0.7259952222834452,-0.7219669196629436,-0.7180858084315392,-0.7143518885892323,-0.7107651601360228,-0.7073256230719106,-0.7040332773968957,-0.7008881231109783,-0.6978901602141581,-0.6950393887064352,-0.69233580858781,-0.6897794198582818,-0.6873702225178512,-0.6851082165665178,-0.6829934020042818,-0.6810257788311431,-0.6792053470471018,-0.6775321066521579,-0.6760060576463114,-0.6746272000295621,-0.6733955338019103,-0.6723110589633559,-0.6713737755138988,-0.6705836834535389,-0.6699407827822765,-0.6694450735001115,-0.6690965556070438,-0.6688952291030736,-0.6688410939882006,-0.6689341502624251,-0.6691743979257467,-0.669561836978166,-0.6700964674196823,-0.6707782892502961,-0.6716073024700073,-0.6725835070788159,-0.6737069030767218,-0.6749774904637251,-0.6763952692398256,-0.6779602394050237,-0.679672400959319,-0.6815317539027117,-0.6835382982352017,-0.6856920339567891,-0.687992961067474,-0.6904410795672561,-0.6930363894561355,-0.6957788907341125,-0.6986685834011868,-0.7017054674573583,-0.7048895429026272,-0.7082208097369934,-0.7116992679604572,-0.7153249175730181,-0.7190977585746765,-0.7230177909654322,-0.7270850147452853,-0.7312994299142358,-0.7356610364722835,-0.7401698344194287,-0.7448258237556713,-0.7496290044810112,-0.7545793765954485,-0.759676940098983,-0.764921694991615,-0.7703136412733443,-0.7758527789441709,-0.781539108004095,-0.7873726284531164],[-0.9238795325112867,-0.9127413802727012,-0.9017844487356377,-0.8910087379000962,-0.8804142477660767,-0.870000978333579,-0.8597689296026035,-0.8497181015731499,-0.8398484942452185,-0.8301601076188089,-0.8206529416939212,-0.8113269964705555,-0.8021822719487118,-0.7932187681283902,-0.7844364850095903,-0.7758354225923126,-0.7674155808765568,-0.759176959862323,-0.7511195595496114,-0.7432433799384217,-0.7355484210287538,-0.7280346828206079,-0.7207021653139841,-0.713550868508882,-0.7065807924053022,-0.6997919370032443,-0.6931843023027082,-0.6867578883036943,-0.6805126950062024,-0.6744487224102325,-0.6685659705157844,-0.6628644393228582,-0.6573441288314543,-0.6520050390415721,-0.6468471699532121,-0.641870521566374,-0.6370750938810579,-0.6324608868972639,-0.6280279006149917,-0.6237761350342416,-0.6197055901550133,-0.6158162659773072,-0.6121081625011229,-0.6085812797264607,-0.6052356176533203,-0.602071176281702,-0.5990879556116058,-0.5962859556430314,-0.593665176375979,-0.5912256178104487,-0.5889672799464403,-0.5868901627839539,-0.5849942663229895,-0.5832795905635471,-0.5817461355056266,-0.5803939011492281,-0.5792228874943517,-0.5782330945409973,-0.5774245222891646,-0.5767971707388542,-0.5763510398900655,-0.5760861297427989,-0.5760024402970543,-0.5760999715528317,-0.5763787235101311,-0.5768386961689524,-0.5774798895292957,-0.5783023035911611,-0.5793059383545484,-0.5804907938194576,-0.5818568699858888,-0.5834041668538421,-0.5851326844233173,-0.5870424226943145,-0.5891333816668337,-0.5914055613408749,-0.593858961716438,-0.596493582793523,-0.5993094245721302,-0.6023064870522594,-0.6054847702339105,-0.6088442741170834,-0.6123849987017784,-0.6161069439879955,-0.6200101099757345,-0.6240944966649955,-0.6283601040557782,-0.6328069321480834,-0.6374349809419103,-0.6422442504372592,-0.6472347406341301,-0.6524064515325229,-0.6577593831324378,-0.6632935354338746,-0.6690089084368334,-0.6749055021413143,-0.680983316547317,-0.6872423516548417,-0.6936826074638884,-0.7003040839744572],[-0.9238795325112867,-0.9197569794501527,-0.9157060225864705,-0.9117266619202402,-0.9078188974514616,-0.9039827291801349,-0.90021815710626,-0.8965251812298369,-0.8929038015508659,-0.8893540180693466,-0.885875830785279,-0.8824692396986632,-0.8791342448094993,-0.8758708461177872,-0.8726790436235269,-0.8695588373267185,-0.8665102272273619,-0.8635332133254572,-0.8606277956210044,-0.8577939741140033,-0.8550317488044542,-0.8523411196923566,-0.849722086777711,-0.8471746500605172,-0.8446988095407753,-0.8422945652184851,-0.8399619170936468,-0.8377008651662603,-0.8355114094363257,-0.8333935499038427,-0.831347286568812,-0.8293726194312326,-0.8274695484911054,-0.8256380737484299,-0.8238781952032062,-0.8221899128554344,-0.8205732267051145,-0.8190281367522463,-0.8175546429968299,-0.8161527454388655,-0.8148224440783527,-0.813563738915292,-0.812376629949683,-0.8112611171815258,-0.8102172006108204,-0.8092448802375669,-0.8083441560617651,-0.8075150280834151,-0.8067574963025171,-0.8060715607190709,-0.8054572213330765,-0.804914478144534,-0.8044433311534431,-0.8040437803598043,-0.8037158257636172,-0.803459467364882,-0.8032747051635984,-0.8031615391597668,-0.8031199693533873,-0.8031499957444592,-0.8032516183329832,-0.803424837118959,-0.8036696521023865,-0.8039860632832658,-0.8043740706615972,-0.8048336742373801,-0.805364874010615,-0.8059676699813016,-0.8066420621494401,-0.8073880505150306,-0.8082056350780727,-0.8090948158385668,-0.8100555927965125,-0.8110879659519102,-0.8121919353047597,-0.8133675008550612,-0.8146146626028143,-0.8159334205480191,-0.8173237746906761,-0.8187857250307848,-0.8203192715683453,-0.8219244143033575,-0.8236011532358216,-0.8253494883657375,-0.8271694196931053,-0.8290609472179249,-0.8310240709401964,-0.8330587908599197,-0.8351651069770949,-0.8373430192917217,-0.8395925278038006,-0.8419136325133312,-0.8443063334203135,-0.8467706305247478,-0.849306523826634,-0.8519140133259718,-0.8545930990227616,-0.8573437809170031,-0.8601660590086965,-0.8630599332978418],[-0.8660254037844388,-0.850165387000285,-0.8344244510408607,-0.8188025959061658,-0.8032998215962005,-0.7879161281109646,-0.7726515154504582,-0.7575059836146812,-0.7424795326036339,-0.7275721624173158,-0.7127838730557273,-0.6981146645188683,-0.6835645368067387,-0.6691334899193385,-0.6548215238566678,-0.6406286386187267,-0.6265548342055149,-0.6126001106170328,-0.5987644678532802,-0.5850479059142569,-0.5714504247999631,-0.5579720245103988,-0.5446127050455639,-0.5313724664054584,-0.5182513085900825,-0.5052492315994361,-0.4923662354335191,-0.4796023200923315,-0.4669574855758735,-0.45443173188414493,-0.44202505901714584,-0.4297374669748762,-0.41756895575733616,-0.40551952536452535,-0.39358917579644426,-0.3817779070530926,-0.37008571913447036,-0.3585126120405776,-0.3470585857714143,-0.33572364032698043,-0.32450777570727607,-0.31341099191230126,-0.30243328894205584,-0.29157466679653987,-0.2808351254757534,-0.27021466497969643,-0.25971328530836885,-0.2493309864617708,-0.2390677684399022,-0.22892363124276308,-0.21889857487035344,-0.20899259932267328,-0.19920570459972256,-0.18953789070150137,-0.1799891576280096,-0.1705595053792473,-0.1612489339552145,-0.15205744335591126,-0.14298503358133738,-0.134031704631493,-0.1251974565063781,-0.11648228920599261,-0.10788620273033667,-0.09940919707941015,-0.0910512722532131,-0.08281242825174555,-0.07469266507500748,-0.06669198272299885,-0.058810381195719706,-0.05104786049317013,-0.04340442061534994,-0.03588006156225919,-0.02847478333389794,-0.021188585930266166,-0.014021469351363863,-0.00697343359719102,-4.447866774766329e-05,0.0067653954369662345,0.013456188716950646,0.02002790117220561,0.026480532802731084,0.032814083608527084,0.039028553589593534,0.0451239427459306,0.05110025107753817,0.05695747858441629,0.06269562526656493,0.0683146911239841,0.07381467615667378,0.07919558036463402,0.08445740374786478,0.08960014630636604,0.09462380804013784,0.09952838894918019,0.104313889033493,0.10898030829307638,0.1135276467279303,0.11795590433805475,0.12226508112344969,0.12645517708411522],[-0.8660254037844388,-0.8498110672926097,-0.8336970518513453,-0.8176833574606459,-0.8017699841205115,-0.7859569318309416,-0.7702442005919367,-0.7546317904034966,-0.7391197012656214,-0.7237079331783111,-0.7083964861415655,-0.6931853601553848,-0.6780745552197689,-0.6630640713347178,-0.6481539085002316,-0.6333440667163102,-0.6186345459829536,-0.6040253463001619,-0.5895164676679353,-0.5751079100862734,-0.5607996735551761,-0.5465917580746438,-0.5324841636446763,-0.5184768902652735,-0.5045699379364358,-0.4907633066581628,-0.47705699643045457,-0.46345100725331123,-0.4499453391267328,-0.4365399920507192,-0.4232349660252704,-0.41003026105038637,-0.39692587712606736,-0.383921814252313,-0.3710180724291236,-0.35821465165649913,-0.3455115519344394,-0.33290877326294444,-0.3204063156420143,-0.3080041790716491,-0.2957023635518487,-0.28350086908261324,-0.2713996956639425,-0.2593988432958366,-0.24749831197829553,-0.23569810171131936,-0.22399821249490798,-0.21239864432906144,-0.20089939721377975,-0.18950047114906288,-0.17820186613491087,-0.16700358217132366,-0.15590561925830132,-0.14490797739584382,-0.13401065658395117,-0.12321365682262338,-0.11251697811186039,-0.10192062045166232,-0.09142458384202902,-0.08102886828296056,-0.07073347377445693,-0.06053840031651812,-0.05044364790914417,-0.040449216552335035,-0.03055510624609077,-0.020761316990411352,-0.011067848785296736,-0.0014747016307469774,0.00801812447323795,0.01741062952665791,0.026702813529513175,0.035894676481803584,0.04498621838352915,0.05397743923468987,0.06286833903528576,0.07165891778531681,0.08034917548478301,0.0889391121336844,0.09742872773202091,0.10581802227979263,0.1141069957769995,0.12229564822364153,0.13038397961971857,0.13837198996523092,0.1462596792601784,0.15404704750456108,0.1617340946983789,0.1693208208416319,0.17680722593432002,0.18419330997644334,0.19147907296800185,0.19866451490899545,0.20574963579942424,0.2127344356392882,0.21961891442858722,0.2264030721673215,0.23308690885549094,0.23967042449309553,0.24615361908013528,0.2525364926166102],[-0.7933533402912352,-0.7895199636596624,-0.7857466054329484,-0.7820332656110938,-0.7783799441940983,-0.7747866411819618,-0.7712533565746845,-0.7677800903722661,-0.7643668425747072,-0.7610136131820073,-0.7577204021941664,-0.7544872096111845,-0.7513140354330619,-0.7482008796597984,-0.7451477422913938,-0.7421546233278485,-0.7392215227691623,-0.7363484406153353,-0.7335353768663674,-0.7307823315222586,-0.7280893045830087,-0.725456296048618,-0.7228833059190866,-0.720370334194414,-0.7179173808746007,-0.7155244459596465,-0.7131915294495514,-0.7109186313443153,-0.7087057516439385,-0.7065528903484207,-0.704460047457762,-0.7024272229719625,-0.7004544168910221,-0.6985416292149407,-0.6966888599437185,-0.6948961090773556,-0.6931633766158514,-0.6914906625592067,-0.6898779669074209,-0.6883252896604942,-0.6868326308184267,-0.6853999903812183,-0.684027368348869,-0.6827147647213787,-0.6814621794987477,-0.6802696126809757,-0.6791370642680628,-0.678064534260009,-0.6770520226568143,-0.6760995294584788,-0.6752070546650024,-0.674374598276385,-0.6736021602926269,-0.6728897407137278,-0.6722373395396877,-0.671644956770507,-0.6711125924061851,-0.6706402464467225,-0.670227918892119,-0.6698756097423746,-0.6695833189974892,-0.669351046657463,-0.6691787927222959,-0.6690665571919879,-0.669014340066539,-0.6690221413459493,-0.6690899610302188,-0.6692177991193471,-0.6694056556133348,-0.6696535305121813,-0.6699614238158872,-0.6703293355244522,-0.6707572656378761,-0.6712452141561591,-0.6717931810793015,-0.6724011664073029,-0.6730691701401632,-0.6737971922778828,-0.6745852328204616,-0.6754332917678995,-0.6763413691201964,-0.6773094648773523,-0.6783375790393674,-0.6794257116062417,-0.680573862577975,-0.6817820319545675,-0.683050219736019,-0.6843784259223298,-0.6857666505134996,-0.6872148935095285,-0.6887231549104166,-0.6902914347161636,-0.6919197329267699,-0.6936080495422352,-0.6953563845625598,-0.6971647379877434,-0.699033109817786,-0.7009615000526878,-0.7029499086924488,-0.7049983357370688],[-0.7933533402912352,-0.7855584485143802,-0.7778837380034652,-0.7703292087584902,-0.7628948607794553,-0.7555806940663604,-0.7483867086192054,-0.7413129044379902,-0.7343592815227155,-0.7275258398733805,-0.7208125794899854,-0.7142195003725305,-0.7077466025210154,-0.7013938859354405,-0.6951613506158053,-0.6890489965621104,-0.6830568237743553,-0.6771848322525404,-0.6714330219966654,-0.6658013930067305,-0.6602899452827354,-0.6548986788246803,-0.6496275936325654,-0.6444766897063903,-0.6394459670461552,-0.6345354256518602,-0.6297450655235051,-0.62507488666109,-0.6205248890646149,-0.6160950727340798,-0.6117854376694848,-0.6075959838708297,-0.6035267113381146,-0.5995776200713395,-0.5957487100705045,-0.5920399813356094,-0.5884514338666544,-0.5849830676636393,-0.5816348827265642,-0.5784068790554291,-0.575299056650234,-0.572311415510979,-0.5694439556376638,-0.5666966770302887,-0.5640695796888536,-0.5615626636133584,-0.5591759288038034,-0.5569093752601881,-0.554763002982513,-0.5527368119707778,-0.5508308022249827,-0.5490449737451275,-0.5473793265312125,-0.5458338605832374,-0.5444085759012021,-0.5431034724851069,-0.5419185503349518,-0.5408538094507367,-0.5399092498324615,-0.5390848714801263,-0.538380674393731,-0.537796658573276,-0.5373328240187607,-0.5369891707301856,-0.5367656987075504,-0.5366624079508552,-0.5366792984601,-0.5368163702352847,-0.5370736232764096,-0.5374510575834743,-0.5379486731564791,-0.538566469995424,-0.5393044481003086,-0.5401626074711334,-0.5411409481078981,-0.542239470010603,-0.5434581731792477,-0.5447970576138325,-0.5462561233143572,-0.5478353702808221,-0.5495347985132268,-0.5513544080115715,-0.5532941987758562,-0.555354170806081,-0.5575343241022457,-0.5598346586643503,-0.5622551744923951,-0.5647958715863799,-0.5674567499463046,-0.5702378095721693,-0.5731390504639741,-0.5761604726217188,-0.5793020760454034,-0.5825638607350282,-0.5859458266905928,-0.5894479739120976,-0.5930703023995422,-0.5968128121529268,-0.6006755031722515,-0.6046583754575162],[-0.7933533402912352,-0.783306363516721,-0.7734030926689058,-0.7636435277477898,-0.7540276687533728,-0.7445555156856547,-0.7352270685446357,-0.7260423273303156,-0.7170012920426948,-0.7081039626817729,-0.69935033924755,-0.690740421740026,-0.6822742101592011,-0.6739517045050752,-0.6657729047776485,-0.6577378109769207,-0.649846423102892,-0.6420987411555622,-0.6344947651349316,-0.6270344950410001,-0.6197179308737674,-0.6125450726332337,-0.6055159203193992,-0.5986304739322634,-0.5918887334718269,-0.5852906989380894,-0.578836370331051,-0.5725257476507115,-0.566358830897071,-0.5603356200701296,-0.5544561151698871,-0.5487203161963439,-0.5431282231494995,-0.5376798360293542,-0.5323751548359079,-0.5272141795691607,-0.5221969102291125,-0.5173233468157633,-0.5125934893291132,-0.508007337769162,-0.5035648921359099,-0.4992661524293569,-0.49511111864950275,-0.49109979079634775,-0.48723216886989174,-0.48350825287013466,-0.47992804279707674,-0.47649153865071775,-0.4731987404310578,-0.47004964813809696,-0.4670442617718351,-0.46418258133227225,-0.4614646068194085,-0.45889033823324366,-0.4564597755737779,-0.4541729188410112,-0.45202976803494344,-0.4500303231555748,-0.4481745842029051,-0.44646255117693456,-0.44489422407766294,-0.44346960290509035,-0.4421886876592168,-0.44105147834004227,-0.4400579749475668,-0.4392081774817903,-0.4385020859427129,-0.43793970033033447,-0.4375210206446551,-0.4372460468856747,-0.43711477905339335,-0.4371272171478111,-0.43728336116892774,-0.4375832111167435,-0.43802676699125825,-0.4386140287924721,-0.43934499652038494,-0.44021967017499675,-0.44123804975630765,-0.44240013526431754,-0.4437059266990265,-0.4451554240604344,-0.44674862734854137,-0.44848553656334744,-0.4503661517048524,-0.45239047277305644,-0.45455849976795953,-0.4568702326895617,-0.45932567153786275,-0.4619248163128629,-0.46466766701456214,-0.4675542236429604,-0.4705844861980576,-0.4737584546798539,-0.4770761290883491,-0.48053750942354345,-0.48414259568543677,-0.4878913878740292,-0.49178388598932055,-0.495820090031311],[-0.7933533402912352,-0.7818376095442389,-0.7704715562046714,-0.7592551802725332,-0.7481884817478239,-0.7372714606305435,-0.7265041169206922,-0.7158864506182697,-0.7054184617232765,-0.695100150235712,-0.6849315161555766,-0.6749125594828701,-0.6650432802175926,-0.6553236783597441,-0.6457537539093247,-0.6363335068663343,-0.6270629372307726,-0.6179420450026403,-0.6089708301819368,-0.6001492927686622,-0.5914774327628166,-0.5829552501644001,-0.5745827449734126,-0.5663599171898539,-0.5582867668137242,-0.5503632938450237,-0.542589498283752,-0.5349653801299094,-0.5274909393834957,-0.520166176044511,-0.5129910901129553,-0.5059656815888286,-0.4990899504721309,-0.49236389676286213,-0.48578752046102236,-0.47936082156661175,-0.47308380007962997,-0.4669564560000772,-0.46097878932795344,-0.4551508000632586,-0.4494724882059928,-0.443943853756156,-0.43856489671374815,-0.4333356170787692,-0.42825601485121945,-0.42332609003109856,-0.4185458426184066,-0.4139152726131437,-0.40943438001530974,-0.4051031648249048,-0.4009216270419289,-0.3968897666663819,-0.39300758369826394,-0.3892750781375749,-0.3856922499843149,-0.3822590992384839,-0.3789756259000819,-0.37584182996910886,-0.3728577114455648,-0.3700232703294497,-0.3673385066207636,-0.3648034203195065,-0.3624180114256784,-0.3601822799392793,-0.35809622586030915,-0.356159849188768,-0.35437314992465585,-0.3527361280679727,-0.3512487836187185,-0.3499111165768933,-0.3487231269424971,-0.3476848147155299,-0.34679617989599165,-0.3460572224838824,-0.3454679424792021,-0.3450283398819508,-0.3447384146921285,-0.34459816690973516,-0.3446075965347709,-0.3447667035672356,-0.3450754880071292,-0.34553394985445185,-0.34614208910920347,-0.3468999057713841,-0.3478073998409936,-0.3488645713180322,-0.3500714202024998,-0.3514279464943964,-0.352934150193722,-0.3545900313004765,-0.35639558981466,-0.3583508257362725,-0.36045573906531403,-0.3627103298017845,-0.36511459794568396,-0.36766854349701245,-0.37037216645576987,-0.3732254668219563,-0.3762284445955717,-0.37938109977661616],[-0.6087614290087209,-0.6054784670891964,-0.6022398556268322,-0.5990455946216284,-0.5958956840735851,-0.592790123982702,-0.5897289143489792,-0.5867120551724169,-0.583739546453015,-0.5808113881907733,-0.5779275803856919,-0.5750881230377709,-0.5722930161470102,-0.5695422597134099,-0.56683585373697,-0.5641737982176903,-0.5615560931555712,-0.5589827385506122,-0.5564537344028138,-0.5539690807121757,-0.5515287774786979,-0.5491328247023802,-0.546781222383223,-0.5444739705212263,-0.5422110691163898,-0.5399925181687137,-0.537818317678198,-0.5356884676448426,-0.5336029680686475,-0.5315618189496127,-0.5295650202877384,-0.5276125720830244,-0.5257044743354707,-0.5238407270450774,-0.5220213302118445,-0.520246283835772,-0.5185155879168597,-0.5168292424551078,-0.5151872474505161,-0.513589602903085,-0.5120363088128141,-0.5105273651797037,-0.5090627720037535,-0.5076425292849636,-0.5062666370233342,-0.504935095218865,-0.5036479038715562,-0.5024050629814077,-0.5012065725484197,-0.5000524325725919,-0.4989426430539246,-0.4978772039924175,-0.49685611538807084,-0.49587937724088454,-0.4949469895508586,-0.49405895231799296,-0.4932152655422877,-0.4924159292237428,-0.49166094336235816,-0.49095030795813394,-0.49028402301107005,-0.48966208852116644,-0.4890845044884232,-0.48855127091284045,-0.4880623877944179,-0.4876178551331558,-0.487217672929054,-0.4868618411821125,-0.4865503598923315,-0.48628322905971066,-0.4860604486842503,-0.4858820187659503,-0.4857479393048105,-0.4856582103008311,-0.48561283175401215,-0.4856118036643535,-0.48565512603185523,-0.4857427988565172,-0.48587482213833966,-0.4860511958773224,-0.4862719200734655,-0.4865369947267689,-0.48684641983723265,-0.4872001954048568,-0.48759832142964127,-0.4880407979115861,-0.4885276248506913,-0.48905880224695686,-0.4896343301003827,-0.4902542084109689,-0.4909184371787155,-0.49162701640362244,-0.4923799460856897,-0.49317722622491733,-0.4940188568213053,-0.4949048378748536,-0.49583516938556227,-0.4968098513534313,-0.4978288837784607,-0.4988922666606504],[-0.25881904510252063,-0.25676521300379723,-0.25472695471456674,-0.2527042702348292,-0.2506971595645845,-0.24870562270383273,-0.24672965965257385,-0.24476927041080787,-0.24282445497853486,-0.24089521335575473,-0.23898154554246745,-0.2370834515386731,-0.23520093134437162,-0.2333339849595631,-0.2314826123842474,-0.22964681361842468,-0.22782658866209485,-0.2260219375152579,-0.22423286017791388,-0.22245935665006278,-0.22070142693170458,-0.21895907102283924,-0.21723228892346677,-0.21552108063358727,-0.21382544615320065,-0.2121453854823069,-0.2104808986209061,-0.20883198556899818,-0.2071986463265832,-0.20558088089366108,-0.20397868927023186,-0.20239207145629556,-0.20082102745185218,-0.1992655572569017,-0.1977256608714441,-0.19620133829547942,-0.19469258952900767,-0.1931994145720288,-0.1917218134245428,-0.19025978608654975,-0.18881333255804955,-0.1873824528390423,-0.18596714692952793,-0.1845674148295065,-0.18318325653897793,-0.18181467205794224,-0.18046166138639952,-0.17912422452434965,-0.1778023614717927,-0.17649607222872868,-0.17520535679515753,-0.1739302151710793,-0.17267064735649396,-0.1714266533514015,-0.17019823315580196,-0.16898538676969535,-0.16778811419308162,-0.16660641542596083,-0.16544029046833292,-0.1642897393201979,-0.16315476198155576,-0.16203535845240657,-0.16093152873275024,-0.15984327282258684,-0.15877059072191635,-0.1577134824307387,-0.15667194794905404,-0.15564598727686227,-0.15463560041416335,-0.15364078736095738,-0.1526615481172443,-0.15169788268302414,-0.15074979105829683,-0.14981727324306243,-0.148900329237321,-0.1479989590410724,-0.14711316265431676,-0.14624294007705396,-0.1453882913092841,-0.14454921635100718,-0.1437257152022231,-0.14291778786293197,-0.1421254343331337,-0.14134865461282836,-0.14058744870201592,-0.1398418166006964,-0.13911175830886974,-0.13839727382653602,-0.13769836315369519,-0.13701502629034723,-0.1363472632364922,-0.1356950739921301,-0.1350584585572609,-0.13443741693188457,-0.13383194911600116,-0.13324205510961065,-0.13266773491271305,-0.13210898852530834,-0.13156581594739652,-0.13103821717897762],[-0.25881904510252063,-0.25513272241727475,-0.251468584221609,-0.2478266305155236,-0.2442068612990183,-0.24060927657209327,-0.23703387633474846,-0.23348066058698383,-0.22994962932879948,-0.22644078256019534,-0.22295412028117137,-0.21948964249172762,-0.21604734919186408,-0.2126272403815808,-0.20922931606087766,-0.20585357622975478,-0.20250002088821215,-0.1991686500362497,-0.1958594636738675,-0.1925724618010655,-0.18930764441784373,-0.18606501152420213,-0.18284456312014075,-0.17964629920565958,-0.17647021978075866,-0.17331632484543796,-0.17018461439969745,-0.16707508844353716,-0.1639877469769571,-0.16092258999995726,-0.1578796175125376,-0.15485882951469818,-0.151860226006439,-0.14888380698776,-0.14592957245866123,-0.1429975224191427,-0.14008765686920435,-0.13719997580884624,-0.13433447923806832,-0.13149116715687062,-0.12867003956525316,-0.12587109646321595,-0.12309433785075888,-0.12033976372788206,-0.11760737409458545,-0.11489716895086906,-0.11220914829673288,-0.10954331213217693,-0.10689966045720116,-0.10427819327180564,-0.10167891057599031,-0.09910181236975522,-0.09654689865310034,-0.09401416942602568,-0.09150362468853122,-0.08901526444061698,-0.08654908868228298,-0.08410509741352919,-0.0816832906343556,-0.07928366834476223,-0.07690623054474909,-0.07455097723431615,-0.07221790841346343,-0.06990702408219092,-0.06761832424049861,-0.06535180888838656,-0.0631074780258547,-0.06088533165290305,-0.058685369769531634,-0.05650759237574045,-0.05435199947152945,-0.052218591056898675,-0.050107367131848116,-0.04801832769637777,-0.04595147275048764,-0.04390680229417773,-0.04188431632744803,-0.03988401485029855,-0.037905897862729285,-0.035949965364740245,-0.0340162173563314,-0.032104653837502786,-0.030215274808254415,-0.028348080268586227,-0.02650307021849826,-0.02468024465799051,-0.022879603587062973,-0.021101147005715658,-0.019344874913948554,-0.017610787311761664,-0.015898884199154993,-0.014209165576128538,-0.012541631442682302,-0.010896281798816278,-0.00927311664453049,-0.007672135979824897,-0.006093339804699522,-0.004536728119154363,-0.0030023009231894206,-0.001490058216804694],[-0.13052619222005163,-0.1289624884372554,-0.127404005702148,-0.12585074401472937,-0.12430270337499957,-0.12275988378295856,-0.12122228523860636,-0.11968990774194294,-0.11816275129296835,-0.11664081589168257,-0.11512410153808555,-0.11361260823217735,-0.11210633597395796,-0.11060528476342736,-0.10910945460058556,-0.10761884548543257,-0.10613345741796838,-0.10465329039819302,-0.10317834442610645,-0.10170861950170867,-0.10024411562499971,-0.09878483279597952,-0.09733077101464814,-0.09588193028100557,-0.0944383105950518,-0.09299991195678682,-0.09156673436621067,-0.09013877782332329,-0.08871604232812473,-0.08729852788061497,-0.08588623448079401,-0.08447916212866186,-0.0830773108242185,-0.08168068056746394,-0.08028927135839821,-0.07890308319702127,-0.07752211608333313,-0.07614637001733379,-0.07477584499902325,-0.0734105410284015,-0.07205045810546856,-0.07069559623022445,-0.06934595540266911,-0.06800153562280258,-0.06666233689062485,-0.06532835920613593,-0.0639996025693358,-0.06267606698022447,-0.061357752438801955,-0.06004465894506823,-0.05873678649902332,-0.0574341351006672,-0.05613670474999989,-0.05484449544702138,-0.053557507191731676,-0.052275739984130765,-0.050999193824218664,-0.04972786871199538,-0.048461764647460874,-0.04720088163061518,-0.045945219661458286,-0.044694778739990185,-0.043449558866210894,-0.04220956004012041,-0.040974782261718724,-0.039745225531005825,-0.03852088984798176,-0.037301775212646465,-0.036087881624999985,-0.03487920908504233,-0.03367575759277345,-0.03247752714819337,-0.03128451775130211,-0.030096729402099634,-0.028914162100585974,-0.027736815846761107,-0.026564690640625045,-0.02539778648217778,-0.02423610337141932,-0.023079641308349667,-0.021928400292968813,-0.02078238032527676,-0.019641581405273525,-0.018506003532959073,-0.017375646708333425,-0.01625051093139658,-0.01513059620214854,-0.014015902520589303,-0.012906429886718864,-0.011802178300537229,-0.010703147762044394,-0.009609338271240364,-0.008520749828125134,-0.007437382432698707,-0.006359236084961093,-0.0052863107849122695,-0.004218606532552248,-0.0031561233278810286,-0.0020988611708986117,-0.0010468200616049967],[0.13052619222005124,0.13103821717897723,0.1315658159473961,0.13210898852530795,0.13266773491271264,0.13324205510961026,0.13383194911600077,0.13443741693188418,0.1350584585572605,0.13569507399212974,0.13634726323649188,0.13701502629034687,0.1376983631536948,0.13839727382653563,0.13911175830886938,0.13984181660069603,0.14058744870201556,0.14134865461282803,0.14212543433313338,0.14291778786293163,0.14372571520222277,0.14454921635100682,0.1453882913092838,0.14624294007705363,0.1471131626543164,0.14799895904107208,0.14890032923732063,0.1498172732430621,0.1507497910582965,0.15169788268302375,0.15266154811724392,0.15364078736095702,0.15463560041416302,0.1556459872768619,0.1566719479490537,0.1577134824307384,0.15877059072191602,0.1598432728225865,0.16093152873274993,0.16203535845240621,0.16315476198155543,0.16428973932019758,0.16544029046833258,0.1666064154259605,0.16778811419308132,0.16898538676969505,0.17019823315580168,0.1714266533514012,0.17267064735649362,0.17393021517107896,0.1752053567951572,0.17649607222872835,0.1778023614717924,0.17912422452434934,0.18046166138639919,0.18181467205794194,0.1831832565389776,0.18456741482950617,0.18596714692952762,0.18738245283904198,0.18881333255804922,0.19025978608654942,0.19172181342454248,0.1931994145720285,0.19469258952900736,0.19620133829547912,0.19772566087144383,0.19926555725690143,0.2008210274518519,0.20239207145629526,0.20397868927023158,0.20558088089366078,0.20719864632658286,0.20883198556899785,0.2104808986209058,0.2121453854823066,0.21382544615320032,0.21552108063358694,0.21723228892346644,0.2189590710228389,0.22070142693170422,0.22245935665006245,0.22423286017791355,0.2260219375152576,0.2278265886620945,0.22964681361842434,0.23148261238424708,0.23333398495956276,0.2352009313443713,0.23708345153867275,0.23898154554246712,0.24089521335575437,0.24282445497853453,0.2447692704108076,0.24672965965257354,0.24870562270383242,0.25069715956458416,0.25270427023482883,0.2547269547145664,0.2567652130037969],[0.38268343236508917,0.3821088848453554,0.38156964466291615,0.38106571181777166,0.38059708630992173,0.3801637681393663,0.3797657573061056,0.37940305381013945,0.3790756576514679,0.378783568830091,0.3785267873460087,0.37830531319922095,0.37811914638972777,0.3779682869175293,0.3778527347826253,0.377772489985016,0.37772755252470125,0.3777179224016812,0.3777435996159557,0.3778045841675248,0.37790087605638856,0.3780324752825468,0.3781993818459997,0.37840159574674714,0.3786391169847893,0.3789119455601261,0.3792200814727574,0.37956352472268323,0.3799422753099038,0.3803563332344189,0.38080569849622864,0.381290371095333,0.38181035103173194,0.38236563830542547,0.3829562329164136,0.3835821348646964,0.3842433441502737,0.3849398607731458,0.3856716847333123,0.38643881603077346,0.3872412546655292,0.3880790006375796,0.3889520539469246,0.3898604145935642,0.3908040825774984,0.3917830578987272,0.3927973405572506,0.3938469305530685,0.3949318278861811,0.39605203255658833,0.39720754456429014,0.39839836390928657,0.39962449059157756,0.4008859246111632,0.4021826659680434,0.4035147146622182,0.40488207069368765,0.4062847340624517,0.40772270476851036,0.40919598281186353,0.4107045681925114,0.41224846091045386,0.4138276609656909,0.41544216835822256,0.4170919830880488,0.41877710515516964,0.42049753455958516,0.4222532713012952,0.42404431538029985,0.42587066679659913,0.427732325550193,0.42962929164108155,0.4315615650692646,0.4335291458347422,0.43553203393751455,0.4375702293775815,0.43964373215494296,0.44175254226959904,0.4438966597215498,0.4460760845107951,0.44829081663733505,0.45054085610116956,0.4528262029022986,0.45514685704072233,0.45750281851644065,0.4598940873294536,0.4623206634797611,0.4647825469673633,0.46727973779226,0.4698122359544514,0.4723800414539373,0.47498315429071786,0.47762157446479303,0.4802953019761628,0.48300433682482713,0.4857486790107861,0.4885283285340397,0.4913432853945878,0.4941935495924306,0.497079121127568],[0.38268343236508917,0.38073765341969656,0.3788768554624217,0.3771010384932647,0.37541020251222545,0.37380434751930386,0.37228347351450003,0.370847580497814,0.3694966684692458,0.36823073742879525,0.3670497873764625,0.36595381831224744,0.36494283023615015,0.3640168231481707,0.3631757970483089,0.3624197519365649,0.3617486878129386,0.3611626046774302,0.3606615025300395,0.36024538137076656,0.35991424119961135,0.35966808201657385,0.3595069038216541,0.3594307066148521,0.35943949039616796,0.3595332551656015,0.3597120009231528,0.3599757276688218,0.36032443540260867,0.36075812412451325,0.3612767938345356,0.36188044453267565,0.3625690762189334,0.3633426888933091,0.3642012825558024,0.36514485720641354,0.36617341284514243,0.36728694947198903,0.3684854670869534,0.36976896569003553,0.3711374452812354,0.3725909058605531,0.3741293474279884,0.37575276998354157,0.37746117352721253,0.37925455805900116,0.38113292357890755,0.3830962700869317,0.3851445975830736,0.38727790606733326,0.3894961955397107,0.3917994660002059,0.39418771744881886,0.39666094988554956,0.399219163310398,0.4018623577233642,0.40459053312444815,0.40740368951364986,0.4103018268909693,0.4132849452564065,0.41635304460996153,0.41950612495163425,0.42274418628142474,0.42606722859933305,0.429475251905359,0.43296825619950274,0.4365462414817643,0.44020920775214356,0.4439571550106406,0.4477900832572553,0.45170799249198784,0.4557108827148382,0.45979875392580616,0.4639716061248919,0.4682294393120955,0.4725722534874168,0.4770000486508559,0.48151282480241264,0.48611058194208734,0.4907933200698797,0.49556103918578975,0.5004137392898176,0.5053514203819631,0.5103740824622265,0.5154817255306076,0.5206743495871063,0.5259519546317231,0.5313145406644574,0.5367621076853095,0.5422946556942794,0.547912184691367,0.5536146946765724,0.5594021856498955,0.5652746576113366,0.5712321105608951,0.5772745444985716,0.5834019594243657,0.5896143553382777,0.5959117322403071,0.6022940901304547],[0.5,0.4988922666606499,0.4978288837784602,0.4968098513534308,0.4958351693855618,0.4949048378748531,0.4940188568213048,0.49317722622491683,0.4923799460856893,0.491627016403622,0.4909184371787151,0.49025420841096845,0.4896343301003822,0.48905880224695636,0.4885276248506908,0.4880407979115856,0.4875983214296407,0.4872001954048563,0.48684641983723226,0.4865369947267685,0.48627192007346504,0.48605119587732193,0.48587482213833916,0.4857427988565167,0.48565512603185473,0.48561180366435297,0.48561283175401165,0.48565821030083056,0.48574793930481003,0.48588201876594966,0.4860604486842497,0.4862832290597101,0.48655035989233086,0.48686184118211195,0.4872176729290534,0.48761785513315525,0.4880623877944174,0.4885512709128399,0.48908450448842267,0.4896620885211659,0.4902840230110694,0.4909503079581333,0.49166094336235755,0.4924159292237421,0.4932152655422871,0.4940589523179924,0.494946989550858,0.49587937724088393,0.49685611538807023,0.497877203992417,0.498942643053924,0.5000524325725914,0.501206572548419,0.5024050629814071,0.5036479038715556,0.5049350952188644,0.5062666370233334,0.5076425292849629,0.5090627720037527,0.5105273651797029,0.5120363088128134,0.5135896029030842,0.5151872474505155,0.5168292424551071,0.518515587916859,0.5202462838357712,0.5220213302118438,0.5238407270450768,0.5257044743354701,0.5276125720830236,0.5295650202877377,0.5315618189496121,0.5336029680686467,0.5356884676448417,0.5378183176781972,0.5399925181687129,0.542211069116389,0.5444739705212254,0.5467812223832222,0.5491328247023795,0.5515287774786969,0.5539690807121748,0.5564537344028129,0.5589827385506114,0.5615560931555703,0.5641737982176895,0.5668358537369691,0.5695422597134091,0.5722930161470093,0.57508812303777,0.5779275803856909,0.5808113881907723,0.583739546453014,0.586712055172416,0.5897289143489783,0.5927901239827011,0.5958956840735841,0.5990455946216275,0.6022398556268312,0.6054784670891954],[0.7071067811865475,0.7049983357370684,0.7029499086924482,0.7009615000526874,0.6990331098177855,0.6971647379877429,0.6953563845625593,0.6936080495422349,0.6919197329267696,0.6902914347161633,0.6887231549104162,0.6872148935095281,0.6857666505134992,0.6843784259223294,0.6830502197360186,0.681782031954567,0.6805738625779746,0.6794257116062412,0.6783375790393672,0.677309464877352,0.676341369120196,0.675433291767899,0.6745852328204612,0.6737971922778825,0.6730691701401629,0.6724011664073025,0.6717931810793011,0.6712452141561589,0.6707572656378757,0.6703293355244517,0.6699614238158869,0.669653530512181,0.6694056556133343,0.6692177991193466,0.6690899610302183,0.669022141345949,0.6690143400665387,0.6690665571919876,0.6691787927222955,0.6693510466574626,0.6695833189974889,0.6698756097423744,0.6702279188921187,0.6706402464467223,0.6711125924061849,0.6716449567705067,0.6722373395396875,0.6728897407137274,0.6736021602926265,0.6743745982763848,0.6752070546650021,0.6760995294584784,0.6770520226568141,0.6780645342600087,0.6791370642680624,0.6802696126809753,0.6814621794987472,0.6827147647213785,0.6840273683488687,0.685399990381218,0.6868326308184265,0.6883252896604939,0.6898779669074206,0.6914906625592063,0.6931633766158511,0.6948961090773552,0.6966888599437183,0.6985416292149406,0.7004544168910218,0.7024272229719623,0.7044600474577618,0.7065528903484205,0.7087057516439382,0.7109186313443151,0.7131915294495512,0.7155244459596463,0.7179173808746004,0.7203703341944137,0.7228833059190862,0.7254562960486178,0.7280893045830085,0.7307823315222582,0.733535376866367,0.7363484406153351,0.7392215227691621,0.7421546233278484,0.7451477422913937,0.7482008796597982,0.7513140354330616,0.7544872096111843,0.7577204021941661,0.761013613182007,0.764366842574707,0.7677800903722661,0.7712533565746843,0.7747866411819617,0.7783799441940982,0.7820332656110937,0.7857466054329483,0.789519963659662],[0.9238795325112868,0.9205581808386399,0.917312421380345,0.9141422541364022,0.9110476791068114,0.9080286962915725,0.9050853056906856,0.9022175073041507,0.8994253011319681,0.8967086871741374,0.8940676654306587,0.8915022359015319,0.8890123985867571,0.8865981534863344,0.8842595006002636,0.8819964399285448,0.8798089714711782,0.8776970952281636,0.875660811199501,0.8737001193851905,0.8718150197852319,0.8700055123996252,0.8682715972283706,0.8666132742714681,0.8650305435289174,0.8635234050007189,0.8620918586868724,0.8607359045873776,0.8594555427022352,0.8582507730314447,0.8571215955750062,0.8560680103329197,0.8550900173051854,0.8541876164918029,0.8533608078927724,0.8526095915080941,0.8519339673377677,0.8513339353817935,0.850809495640171,0.8503606481129007,0.8499873927999824,0.8496897297014161,0.8494676588172018,0.8493211801473395,0.8492502936918292,0.849254999450671,0.8493352974238646,0.8494911876114103,0.8497226700133081,0.8500297446295579,0.8504124114601598,0.8508706705051136,0.8514045217644194,0.8520139652380772,0.8526990009260871,0.8534596288284491,0.8542958489451629,0.8552076612762287,0.8561950658216466,0.8572580625814166,0.8583966515555386,0.8596108327440124,0.8609006061468385,0.8622659717640165,0.8637069295955465,0.8652234796414284,0.8668156219016625,0.8684833563762486,0.8702266830651867,0.8720456019684767,0.8739401130861189,0.875910216418113,0.8779559119644591,0.8800771997251571,0.8822740797002073,0.8845465518896095,0.8868946162933637,0.8893182729114697,0.891817521743928,0.8943923627907383,0.8970427960519006,0.8997688215274148,0.902570439217281,0.9054476491214993,0.9084004512400694,0.9114288455729918,0.914532832120266,0.9177124108818926,0.9209675818578709,0.9242983450482012,0.9277047004528836,0.931186648071918,0.9347441879053043,0.9383773199530427,0.9420860442151332,0.9458703606915757,0.9497302693823702,0.9536657702875166,0.9576768634070151,0.9617635487408656],[0.9238795325112868,0.9164287380144281,0.9091421141799024,0.9020196610077098,0.8950613784978502,0.8882672666503234,0.8816373254651299,0.8751715549422692,0.8688699550817417,0.8627325258835472,0.8567592673476856,0.8509501794741569,0.8453052622629612,0.8398245157140988,0.834507939827569,0.8293555346033725,0.8243673000415089,0.8195432361419784,0.814883342904781,0.8103876203299165,0.8060560684173851,0.8018886871671865,0.797885476579321,0.7940464366537884,0.7903715673905889,0.7868608687897225,0.783514340851189,0.7803319835749885,0.777313796961121,0.7744597810095866,0.7717699357203851,0.7692442610935166,0.7668827571289812,0.7646854238267788,0.7626522611869094,0.7607832692093731,0.7590784478941698,0.7575377972412994,0.7561613172507621,0.7549490079225576,0.7539008692566863,0.7530169012531479,0.7522971039119426,0.7517414772330703,0.751350021216531,0.7511227358623247,0.7510596211704514,0.751160677140911,0.7514259037737037,0.7518553010688295,0.7524488690262883,0.7532066076460799,0.7541285169282046,0.7552145968726625,0.7564648474794532,0.757879268748577,0.7594578606800337,0.7612006232738235,0.7631075565299463,0.7651786604484022,0.7674139350291911,0.7698133802723128,0.7723769961777676,0.7751047827455555,0.7779967399756763,0.7810528678681301,0.784273166422917,0.787657635640037,0.7912062755194897,0.7949190860612756,0.7987960672653945,0.8028372191318465,0.8070425416606314,0.8114120348517493,0.8159456987052003,0.8206435332209842,0.8255055383991011,0.830531714239551,0.8357220607423341,0.84107657790745,0.8465952657348992,0.8522781242246811,0.858125153376796,0.864136353191244,0.8703117236680249,0.876651264807139,0.883154976608586,0.8898228590723661,0.8966549121984791,0.9036511359869253,0.9108115304377044,0.9181360955508164,0.9256248313262614,0.9332777377640397,0.9410948148641507,0.9490760626265947,0.9572214810513718,0.9655310701384819,0.974004829887925,0.9826427602997012],[0.9659258262890681,0.962305422678343,0.9587633138951244,0.9552994999394124,0.9519139808112069,0.9486067565105079,0.9453778270373153,0.9422271923916293,0.9391548525734499,0.936160807582777,0.9332450574196106,0.9304076020839507,0.9276484415757972,0.9249675758951503,0.9223650050420098,0.9198407290163759,0.9173947478182485,0.9150270614476278,0.9127376699045137,0.9105265731889058,0.9083937713008047,0.9063392642402097,0.9043630520071215,0.9024651346015397,0.9006455120234644,0.8989041842728958,0.8972411513498336,0.8956564132542778,0.8941499699862286,0.892721821545686,0.8913719679326497,0.8901004091471201,0.8889071451890971,0.8877921760585805,0.8867555017555704,0.8857971222800669,0.88491703763207,0.8841152478115794,0.8833917528185954,0.8827465526531177,0.8821796473151469,0.8816910368046824,0.8812807211217245,0.880948700266273,0.8806949742383282,0.8805195430378898,0.8804224066649579,0.8804035651195323,0.8804630184016136,0.8806007665112011,0.8808168094482953,0.8811111472128959,0.8814837798050033,0.8819347072246169,0.8824639294717371,0.8830714465463638,0.8837572584484971,0.884521365178137,0.8853637667352832,0.886284463119936,0.8872834543320953,0.888360740371761,0.8895163212389335,0.8907501969336125,0.8920623674557977,0.8934528328054896,0.894921592982688,0.896468647987393,0.8980939978196044,0.8997976424793223,0.9015795819665468,0.9034398162812778,0.9053783454235153,0.9073951693932594,0.9094902881905099,0.9116637018152669,0.9139154102675304,0.9162454135473004,0.9186537116545771,0.9211403045893602,0.9237051923516499,0.926348374941446,0.9290698523587486,0.9318696246035578,0.9347476916758733,0.9377040535756956,0.9407387103030244,0.9438516618578596,0.9470429082402013,0.9503124494500497,0.9536602854874043,0.9570864163522657,0.9605908420446334,0.9641735625645078,0.9678345779118886,0.9715738880867759,0.9753914930891698,0.9792873929190702,0.9832615875764771,0.9873140770613905]]],[\"ys\",[[0.0,0.0010468200616048137,0.0020988611708984296,0.003156123327880847,0.004218606532552066,0.005286310784912089,0.0063592360849609115,0.0074373824326985395,0.008520749828124967,0.009609338271240197,0.01070314776204423,0.011802178300537064,0.012906429886718699,0.014015902520589138,0.01513059620214838,0.01625051093139642,0.017375646708333265,0.018506003532958913,0.01964158140527336,0.02078238032527661,0.021928400292968667,0.023079641308349517,0.024236103371419175,0.025397786482177637,0.026564690640624895,0.027736815846760958,0.028914162100585825,0.03009672940209949,0.03128451775130196,0.03247752714819323,0.0336757575927733,0.034879209085042176,0.03608788162499986,0.03730177521264634,0.03852088984798162,0.0397452255310057,0.04097478226171859,0.042209560040120275,0.04344955886621077,0.04469477873999006,0.04594521966145816,0.047200881630615046,0.04846176464746074,0.04972786871199525,0.05099919382421855,0.05227573998413066,0.053557507191731565,0.05484449544702127,0.05613670474999978,0.05743413510066709,0.05873678649902321,0.06004465894506812,0.061357752438801844,0.06267606698022436,0.06399960256933569,0.06532835920613582,0.06666233689062474,0.06800153562280246,0.069345955402669,0.07069559623022433,0.07205045810546847,0.0734105410284014,0.07477584499902315,0.0761463700173337,0.07752211608333304,0.07890308319702118,0.08028927135839813,0.08168068056746389,0.08307731082421843,0.08447916212866177,0.08588623448079392,0.0872985278806149,0.08871604232812465,0.0901387778233232,0.09156673436621057,0.09299991195678675,0.09443831059505171,0.09588193028100547,0.09733077101464807,0.09878483279597944,0.10024411562499963,0.1017086195017086,0.10317834442610636,0.10465329039819295,0.10613345741796831,0.10761884548543252,0.10910945460058549,0.11060528476342729,0.11210633597395789,0.1136126082321773,0.1151241015380855,0.11664081589168249,0.11816275129296828,0.11968990774194291,0.12122228523860629,0.1227598837829585,0.1243027033749995,0.12585074401472932,0.12740400570214794,0.12896248843725536],[0.0,0.0014900582168045121,0.0030023009231892406,0.004536728119154184,0.006093339804699344,0.007672135979824721,0.009273116644530312,0.010896281798816123,0.012541631442682147,0.014209165576128387,0.015898884199154847,0.017610787311761515,0.019344874913948405,0.021101147005715512,0.022879603587062834,0.02468024465799037,0.026503070218498122,0.028348080268586092,0.030215274808254276,0.032104653837502675,0.0340162173563313,0.03594996536474013,0.03790589786272918,0.039884014850298445,0.04188431632744793,0.04390680229417762,0.04595147275048754,0.04801832769637766,0.05010736713184802,0.05221859105689857,0.054351999471529355,0.05650759237574034,0.05868536976953156,0.06088533165290298,0.06310747802585463,0.06535180888838647,0.06761832424049855,0.06990702408219085,0.07221790841346336,0.07455097723431608,0.07690623054474902,0.07928366834476216,0.08168329063435553,0.08410509741352912,0.08654908868228293,0.08901526444061696,0.0915036246885312,0.09401416942602564,0.0965468986531003,0.09910181236975518,0.1016789105759903,0.1042781932718056,0.10689966045720115,0.10954331213217688,0.11220914829673286,0.11489716895086904,0.11760737409458544,0.12033976372788202,0.12309433785075885,0.1258710964632159,0.12867003956525316,0.13149116715687065,0.13433447923806835,0.13719997580884624,0.14008765686920438,0.1429975224191427,0.14592957245866128,0.14888380698776005,0.15186022600643903,0.1548588295146982,0.15787961751253762,0.1609225899999573,0.16398774697695712,0.1670750884435372,0.17018461439969748,0.173316324845438,0.17647021978075872,0.17964629920565964,0.1828445631201408,0.18606501152420218,0.18930764441784376,0.19257246180106558,0.19585946367386753,0.19916865003624978,0.20250002088821217,0.20585357622975486,0.20922931606087775,0.21262724038158087,0.21604734919186416,0.2194896424917277,0.22295412028117143,0.2264407825601954,0.2299496293287996,0.233480660586984,0.23703387633474854,0.24060927657209338,0.24420686129901842,0.24782663051552367,0.25146858422160917,0.25513272241727486],[0.0,0.0017220754456429043,0.0034866712726597067,0.005293787481050409,0.007143424070815009,0.00903558104195351,0.010970258394465906,0.012947456128352205,0.0149671742436124,0.017029412740246497,0.01913417161825449,0.02128145087763638,0.023471250518392175,0.025703570540521865,0.027978410944025457,0.03029577172890294,0.032655652895154326,0.03505805444277962,0.037502976371778796,0.03999041868215188,0.04252038137389887,0.045092864447019744,0.047707867901514524,0.050365391737383206,0.05306543595462579,0.05580800055324227,0.05859308553323264,0.06142069089459691,0.06429081663733509,0.06720346276144715,0.07015862926693311,0.073156316153793,0.07619652342202676,0.07927925107163444,0.08240449910261602,0.08557226751497146,0.08878255630870083,0.09203536548380409,0.09533069504028126,0.09866854497813232,0.1020489152973573,0.10547180599795612,0.10893721707992889,0.11244514854327554,0.1159956003879961,0.11958857261409056,0.12322406522155893,0.12690207821040117,0.1306226115806173,0.13438566533220736,0.1381912394651713,0.14203933397950916,0.1459299488752209,0.14986308415230656,0.15383873981076612,0.15785691585059955,0.1619176122718069,0.16602082907438812,0.17016656625834325,0.1743548238236723,0.17858560177037522,0.18285890009845207,0.18717471880790282,0.19153305789872746,0.19593391737092597,0.20037729722449843,0.20486319745944476,0.20939161807576498,0.21396255907345912,0.21857602045252708,0.22323200221296902,0.22793050435478487,0.23267152687797457,0.2374550697825382,0.24228113306847573,0.24714971673578714,0.25206082078447245,0.25701444521453165,0.26201059002596483,0.2670492552187719,0.2721304407929528,0.2772541467485076,0.2824203730854362,0.28762911980373884,0.29288038690341534,0.29817417438446575,0.3035104822468901,0.3088893104906883,0.31431065911586037,0.3197745281224064,0.32528091751032634,0.3308298272796201,0.33642125743028783,0.34205520796232947,0.3477316788757449,0.3534506701705343,0.3592121818466976,0.3650162139042348,0.37086276634314586,0.37675183916343086],[0.0,0.0018499999999999999,0.003763636363636363,0.00574090909090909,0.00778181818181818,0.009886363636363634,0.012054545454545451,0.014286363636363635,0.01658181818181818,0.018940909090909088,0.021363636363636366,0.023849999999999996,0.026399999999999996,0.029013636363636363,0.03169090909090909,0.034431818181818175,0.03723636363636363,0.04010454545454545,0.04303636363636363,0.046031818181818174,0.049090909090909095,0.05221363636363635,0.05539999999999999,0.058649999999999994,0.06196363636363636,0.06534090909090909,0.06878181818181818,0.07228636363636362,0.07585454545454545,0.07948636363636362,0.08318181818181816,0.08694090909090907,0.09076363636363635,0.09464999999999998,0.0986,0.10261363636363634,0.10669090909090906,0.11083181818181817,0.11503636363636362,0.11930454545454544,0.12363636363636363,0.12803181818181816,0.13249090909090905,0.13701363636363634,0.14159999999999998,0.14625,0.15096363636363636,0.15574090909090907,0.16058181818181816,0.1654863636363636,0.17045454545454544,0.1754863636363636,0.18058181818181818,0.18574090909090907,0.19096363636363634,0.19624999999999998,0.2016,0.20701363636363632,0.21249090909090906,0.21803181818181813,0.22363636363636358,0.22930454545454543,0.2350363636363636,0.24083181818181817,0.24669090909090907,0.2526136363636363,0.2586,0.26465,0.2707636363636364,0.276940909090909,0.2831818181818181,0.2894863636363636,0.29585454545454537,0.3022863636363635,0.3087818181818181,0.31534090909090906,0.3219636363636363,0.32864999999999994,0.3354,0.34221363636363633,0.3490909090909091,0.35603181818181817,0.36303636363636355,0.3701045454545454,0.37723636363636354,0.3844318181818181,0.391690909090909,0.3990136363636363,0.40639999999999993,0.41384999999999994,0.42136363636363633,0.42894090909090904,0.4365818181818181,0.44428636363636365,0.4520545454545454,0.4598863636363636,0.46778181818181813,0.475740909090909,0.4837636363636363,0.49184999999999995],[0.0,0.001915257111265898,0.0039148042665483876,0.00599864146584747,0.008166768709163144,0.010419185996495411,0.012755893327844268,0.015176890703209722,0.017682178122591763,0.020271755585990398,0.02294562309340563,0.025703780644837443,0.028546228240285854,0.03147296587975086,0.03448399356323245,0.03757931129073064,0.04075891906224542,0.044022816877776795,0.04737100473732475,0.05080348264088931,0.05432025058847047,0.05792130858006819,0.06160665661568253,0.06537629469531345,0.06923022281896096,0.07316844098662507,0.07719094919830578,0.08129774745400307,0.08548883575371696,0.08976421409744742,0.09412388248519449,0.09856784091695817,0.10309608939273841,0.10770862791253527,0.11240545647634871,0.1171865750841787,0.12205198373602533,0.12700168243188856,0.13203567117176837,0.13715394995566477,0.14235651878357777,0.14764337765550734,0.15301452657145348,0.15846996553141626,0.16400969453539563,0.1696337135833916,0.17534202267540414,0.18113462181143325,0.18701151099147897,0.19297269021554128,0.19901815948362023,0.2051479187957157,0.2113619681518278,0.21766030755195653,0.2240429369961018,0.23050985648426367,0.23706106601644214,0.24369656559263714,0.2504163552128488,0.257220434877077,0.2641088045853219,0.2710814643375833,0.2781384141338613,0.28527965397415594,0.29250518385846713,0.29981500378679493,0.30720911375913934,0.31468751377550036,0.32225020383587794,0.32989718394027195,0.3376284540886827,0.34544401428111016,0.353343864517554,0.3613280047980145,0.36939643512249165,0.3775491554909854,0.3857861659034957,0.39410746636002264,0.4025130568605661,0.4110029374051262,0.4195771079937029,0.4282355686262962,0.4369783193029059,0.4458053600235324,0.4547166907881754,0.46371231159683507,0.4727922224495113,0.48195642334620414,0.49120491428691354,0.5005376952716396,0.5099547663003822,0.5194561273731414,0.5290417784899172,0.5387117196507095,0.5484659508555184,0.558304472104344,0.5682272833971862,0.5782343847340449,0.5883257761149202,0.5985014575398121],[0.13052619222005157,0.13103821717897757,0.13156581594739647,0.13210898852530828,0.13266773491271297,0.1332420551096106,0.1338319491160011,0.13443741693188452,0.13505845855726084,0.13569507399213004,0.1363472632364922,0.13701502629034723,0.13769836315369516,0.138397273826536,0.1391117583088697,0.13984181660069633,0.1405874487020159,0.14134865461282833,0.1421254343331337,0.14291778786293197,0.14372571520222313,0.14454921635100715,0.14538829130928413,0.14624294007705396,0.14711316265431673,0.1479989590410724,0.14890032923732097,0.14981727324306243,0.15074979105829683,0.1516978826830241,0.15266154811724428,0.15364078736095735,0.15463560041416335,0.15564598727686224,0.15667194794905404,0.15771348243073874,0.15877059072191635,0.15984327282258687,0.16093152873275024,0.16203535845240657,0.16315476198155576,0.1642897393201979,0.16544029046833292,0.16660641542596083,0.16778811419308168,0.16898538676969538,0.17019823315580201,0.1714266533514015,0.17267064735649396,0.17393021517107932,0.17520535679515753,0.17649607222872868,0.17780236147179274,0.17912422452434967,0.18046166138639952,0.1818146720579423,0.18318325653897796,0.1845674148295065,0.18596714692952798,0.1873824528390423,0.1888133325580496,0.19025978608654978,0.19172181342454286,0.19319941457202883,0.19469258952900773,0.19620133829547948,0.1977256608714442,0.1992655572569018,0.20082102745185226,0.20239207145629565,0.20397868927023194,0.20558088089366117,0.20719864632658325,0.20883198556899824,0.2104808986209062,0.212145385482307,0.2138254461532007,0.21552108063358733,0.21723228892346685,0.2189590710228393,0.2207014269317046,0.22245935665006283,0.22423286017791394,0.226021937515258,0.2278265886620949,0.22964681361842476,0.2314826123842475,0.23333398495956317,0.2352009313443717,0.23708345153867316,0.2389815455424675,0.24089521335575478,0.24282445497853494,0.24476927041080804,0.24672965965257396,0.24870562270383287,0.2506971595645846,0.2527042702348293,0.25472695471456686,0.25676521300379734],[0.13052619222005157,0.130651032574197,0.13086996408013518,0.1311829867378661,0.13159010054738976,0.13209130550870624,0.13268660162181542,0.13337598888671734,0.13415946730341208,0.1350370368718995,0.1360086975921797,0.13707444946425268,0.1382342924881184,0.13948822666377683,0.14083625199122804,0.142278368470472,0.14381457610150872,0.1454448748843382,0.14716926481896042,0.14898774590537542,0.15090031814358318,0.15290698153358362,0.15500773607537688,0.15720258176896285,0.15949151861434158,0.16187454661151307,0.16435166576047733,0.1669228760612343,0.16958817751378408,0.17234757011812657,0.17520105387426183,0.17814862878218984,0.1811902948419106,0.18432605205342412,0.18755590041673037,0.1908798399318294,0.19429787059872117,0.1978099924174057,0.20141620538788302,0.20511650951015303,0.20891090478421584,0.21279939121007135,0.21678196878771966,0.2208586375171607,0.2250293973983945,0.22929424843142104,0.23365319061624035,0.23810622395285239,0.24265334844125722,0.24729456408145475,0.2520298708734451,0.25685926881722815,0.261782757912804,0.26680033816017257,0.2719120095593339,0.277117772110288,0.2824176258130348,0.28781157066757435,0.2932996066739067,0.29888173383203176,0.30455795214194964,0.3103282616036602,0.3161926622171636,0.3221511539824597,0.3282037368995485,0.33435041096843016,0.3405911761891045,0.3469260325615717,0.35335498008583155,0.3598780187618841,0.3664951485897294,0.3732063695693676,0.38001168170079846,0.38691108498402205,0.39390457941903845,0.4009921650058476,0.4081738417444495,0.4154496096348441,0.4228194686770316,0.43028341887101174,0.4378414602167846,0.4454935927143503,0.4532398163637086,0.4610801311648598,0.46901453711780366,0.47704303422254035,0.48516562247906975,0.49338230188739196,0.5016930724475068,0.5100979341594145,0.518596887023115,0.5271899310386082,0.5358770662058941,0.5446582925249728,0.5535336099958442,0.5625030186185084,0.5715665183929654,0.580724109319215,0.5899757913972574,0.5993215646270927],[0.13052619222005157,0.13055099057659897,0.13069176888331038,0.13094852714018582,0.1313212653472252,0.1318099835044286,0.13241468161179595,0.13313535966932732,0.13397201767702271,0.13492465563488204,0.13599327354290539,0.1371778714010927,0.13847844920944402,0.13989500696795934,0.14142754467663862,0.14307606233548192,0.1448405599444892,0.14672103750366047,0.14871749501299578,0.15082993247249504,0.1530583498821583,0.1554027472419855,0.1578631245519767,0.1604394818121319,0.16313181902245114,0.16594013618293432,0.16886443329358153,0.1719047103543927,0.17506096736536786,0.178333204326507,0.18172142123781015,0.18522561809927732,0.18884579491090847,0.1925819516727036,0.1964340883846627,0.2004022050467858,0.2044863016590729,0.20868637822152397,0.21300243473413905,0.2174344711969181,0.2219824876098612,0.22664648397296822,0.23142646028623926,0.23632241654967429,0.24133435276327334,0.24646226892703635,0.2517061650409633,0.2570660411050543,0.2625418971193093,0.26813373308372823,0.27384154899831126,0.27966534486305816,0.28560512067796917,0.29166087644304406,0.297832612158283,0.3041203278236859,0.31052402343925284,0.3170436990049837,0.3236793545208786,0.33043098998693743,0.33729860540316037,0.3442822007695472,0.3513817760860981,0.3585973313528129,0.36592886656969176,0.3733763817367346,0.3809398768539414,0.38861935192131225,0.396414806938847,0.4043262419065457,0.4123536568244085,0.4204970516924353,0.42875642651062607,0.4371317812789808,0.44562311599749954,0.4542304306661823,0.462953725285029,0.47179299985403966,0.48074825437321445,0.48981948884255316,0.4990067032620559,0.5083098976317225,0.517729071951553,0.5272642262215478,0.5369153604417063,0.546682474612029,0.5565655687325156,0.5665646428031663,0.5766796968239809,0.5869107307949595,0.5972577447161022,0.6077207385874087,0.6182997124088793,0.6289946661805139,0.6398055999023123,0.6507325135742749,0.6617754071964014,0.672934280768692,0.6842091342911464,0.695599967763765],[0.25881904510252074,0.2587875140697605,0.2587816431360991,0.2588014323015363,0.2588468815660723,0.2589179909297069,0.2590147603924402,0.2591371899542723,0.25928527961520303,0.2594590293752325,0.25965843923436066,0.25988350919258757,0.2601342392499131,0.2604106294063374,0.26071267966186035,0.261040390016482,0.2613937604702024,0.26177279102302153,0.2621774816749393,0.26260783242595587,0.2630638432760711,0.26354551422528494,0.26405284527359757,0.26458583642100886,0.2651444876675189,0.2657287990131276,0.26633877045783505,0.2669744020016412,0.26763569364454604,0.26832264538654954,0.2690352572276518,0.26977352916785274,0.2705374612071524,0.2713270533455508,0.27214230558304786,0.27298321791964364,0.27384979035533813,0.27474202289013133,0.2756599155240232,0.27660346825701376,0.2775726810891031,0.2785675540202911,0.2795880870505778,0.28063428017996317,0.2817061334084473,0.2828036467360301,0.2839268201627117,0.28507565368849186,0.2862501473133708,0.2874503010373484,0.28867611486042477,0.28992758878259983,0.29120472280387355,0.29250751692424604,0.2938359711437172,0.29519008546228703,0.29656985987995554,0.2979752943967228,0.29940638901258887,0.3008631437275535,0.3023455585416169,0.303853633454779,0.3053873684670398,0.3069467635783993,0.30853181878885744,0.31014253409841436,0.31177890950707,0.3134409450148243,0.31512864062167734,0.316841996327629,0.3185810121326794,0.3203456880368286,0.3221360240400764,0.3239520201424229,0.3257936763438682,0.3276609926444121,0.32955396904405476,0.3314726055427961,0.33341690214063624,0.335386858837575,0.33738247563361246,0.33940375252874866,0.34145068952298346,0.34352328661631704,0.3456215438087494,0.3477454611002804,0.34989503849091,0.35207027598063845,0.3542711735694655,0.3564977312573914,0.35874994904441593,0.3610278269305391,0.36333136491576107,0.36566056300008165,0.368015421183501,0.370395939466019,0.3728021178476358,0.3752339563283512,0.37769145490816536,0.3801746135870782],[0.25881904510252074,0.25801129384584626,0.25726858422160914,0.2565909162298094,0.255978289870447,0.25543070514352195,0.25494816204903425,0.2545306605869839,0.254178200757371,0.2538907825601954,0.25366840599545715,0.2535110710631563,0.25341877776329275,0.25339152609586657,0.25342931606087776,0.25353214765832627,0.2537000208882122,0.2539329357505355,0.25423089224529616,0.25459389037249414,0.2550219301321295,0.2555150115242022,0.2560731345487122,0.2566962992056596,0.25738450549504444,0.25813775341686657,0.25895604297112607,0.2598393741578229,0.2607877469769571,0.26180116142852866,0.26287961751253763,0.2640231152289839,0.26523165457786757,0.2665052355591886,0.267843858172947,0.2692475224191427,0.27071622829777575,0.27224997580884625,0.27384876495235405,0.2755125957282992,0.27724146813668177,0.2790353821775016,0.2808943378507589,0.2828183351564535,0.28480737409458545,0.2868614546651548,0.2889805768681614,0.29116474070360543,0.2934139461714868,0.2957281932718056,0.2981074820045617,0.30055181236975514,0.303061184367386,0.3056355979974542,0.30827505325995974,0.31097955015490264,0.3137490886822829,0.31658366884210054,0.31948329063435554,0.32244795405904786,0.32547765911617754,0.32857240580574465,0.33173219412774907,0.33495702408219086,0.33824689566906996,0.3416018088883864,0.3450217637401403,0.3485067602243316,0.35205679834096015,0.355671878090026,0.3593519994715293,0.36309716248546997,0.36690736713184796,0.3707826134106633,0.37472290132191605,0.37872823086560614,0.3827986020417336,0.3869340148502984,0.3911344692913006,0.3953999653647401,0.399730503070617,0.4041260824089312,0.4085867033796827,0.4131123659828717,0.417703070218498,0.42235881608656173,0.42707960358706276,0.43186543272000116,0.43671630348537693,0.44163221588319,0.4466131699134405,0.45165916557612834,0.45677020287125353,0.4619462817988161,0.46718740235881595,0.47249356455125324,0.47786476837612785,0.4833010138334398,0.48880230092318916,0.49436862964537587],[0.25881904510252074,0.25721658975773987,0.255737070427214,0.254380487110943,0.2531468398089271,0.25203612852116614,0.2510483532476601,0.2501835139884091,0.2494416107434131,0.248822643512672,0.24832661229618588,0.24795351709395472,0.24770335790597853,0.24757613473225737,0.24757184757279113,0.2476904964275799,0.24793208129662356,0.2482966021799223,0.24878405907747603,0.24939445198928467,0.25012778091534826,0.2509840458556668,0.2519632468102404,0.2530653837790689,0.2542904567621524,0.2556384657594909,0.2571094107710843,0.25870329179693274,0.2604201088370361,0.2622598618913945,0.2642225509600078,0.26630817604287615,0.2685167371399994,0.27084823425137766,0.27330266737701087,0.2758800365168991,0.2785803416710423,0.2814035828394404,0.2843497600220935,0.2874188732190016,0.2906109224301647,0.2939259076555827,0.2973638288952557,0.30092468614918366,0.30460847941736663,0.30841520869980454,0.31234487399649746,0.3163974753074453,0.32057301263264815,0.3248714859721059,0.32929289532581874,0.33383724069378645,0.33850452207600923,0.3432947394724869,0.34820789288321957,0.3532439823082072,0.3584030077474498,0.3636849692009474,0.3690898666686999,0.3746177001507075,0.38026846964697003,0.38604217515748745,0.39193881668225994,0.39795839422128737,0.40410090777456975,0.41036635734210714,0.41675474292389947,0.4232660645199468,0.4299003221302491,0.4366575157548062,0.4435376453936185,0.4505407110466857,0.4576667127140079,0.464915650395585,0.4722875240914171,0.47978233380150426,0.4874000795258463,0.4951407612644433,0.5030043790172953,0.5109909327844024,0.5191004225657644,0.5273328483613813,0.535688210171253,0.5441665079953799,0.5527677418337618,0.5614919116863986,0.5703390175532903,0.5793090594344372,0.5884020373298389,0.5976179512394956,0.6069568011634073,0.6164185871015739,0.6260033090539956,0.6357109670206722,0.6455415610016036,0.6554950909967902,0.6655715570062317,0.6757709590299282,0.6860932970678796,0.6965385711200861],[0.793353340291235,0.7907944910128972,0.7883020168843224,0.7858759179055107,0.783516194076462,0.7812228453971763,0.7789958718676536,0.7768352734878938,0.7747410502578974,0.7727132021776639,0.7707517292471934,0.7688566314664858,0.7670279088355412,0.7652655613543599,0.7635695890229413,0.7619399918412858,0.7603767698093934,0.7588799229272642,0.7574494511948978,0.7560853546122945,0.7547876331794544,0.753556286896377,0.7523913157630628,0.7512927197795115,0.7502604989457233,0.7492946532616983,0.7483951827274361,0.7475620873429369,0.7467953671082009,0.7460950220232279,0.7454610520880178,0.7448934573025707,0.7443922376668869,0.7439573931809658,0.7435889238448079,0.7432868296584132,0.7430511106217813,0.7428817667349125,0.7427787979978067,0.7427422044104639,0.7427719859728842,0.7428681426850675,0.7430306745470139,0.7432595815587231,0.7435548637201955,0.7439165210314309,0.7443445534924293,0.7448389611031907,0.7453997438637152,0.7460269017740027,0.7467204348340533,0.7474803430438668,0.7483066264034433,0.7491992849127829,0.7501583185718854,0.7511837273807512,0.7522755113393799,0.7534336704477715,0.7546582047059263,0.7559491141138441,0.7573063986715249,0.7587300583789687,0.7602200932361756,0.7617765032431455,0.7633992883998784,0.7650884487063743,0.7668439841626331,0.7686658947686552,0.7705541805244402,0.7725088414299881,0.7745298774852993,0.7766172886903734,0.7787710750452104,0.7809912365498106,0.7832777732041738,0.7856306850082999,0.7880499719621892,0.7905356340658414,0.7930876713192567,0.795706083722435,0.7983908712753764,0.8011420339780807,0.803959571830548,0.8068434848327786,0.809793772984772,0.8128104362865284,0.8158934747380479,0.8190428883393304,0.8222586770903759,0.8255408409911846,0.8288893800417562,0.8323042942420907,0.8357855835921885,0.8393332480920491,0.8429472877416728,0.8466277025410596,0.8503744924902092,0.8541876575891221,0.8580671978377978,0.8620131132362367],[0.793353340291235,0.7873726284531164,0.7815391080040948,0.7758527789441709,0.7703136412733442,0.7649216949916149,0.7596769400989829,0.7545793765954482,0.7496290044810111,0.7448258237556713,0.7401698344194286,0.7356610364722835,0.7312994299142357,0.7270850147452853,0.7230177909654321,0.7190977585746764,0.715324917573018,0.7116992679604571,0.7082208097369934,0.7048895429026272,0.7017054674573584,0.6986685834011868,0.6957788907341125,0.6930363894561355,0.690441079567256,0.6879929610674739,0.6856920339567891,0.6835382982352016,0.6815317539027117,0.6796724009593189,0.6779602394050236,0.6763952692398255,0.6749774904637249,0.6737069030767215,0.6725835070788156,0.6716073024700072,0.6707782892502961,0.6700964674196823,0.6695618369781657,0.6691743979257467,0.668934150262425,0.6688410939882006,0.6688952291030735,0.6690965556070438,0.6694450735001116,0.6699407827822766,0.670583683453539,0.6713737755138987,0.6723110589633559,0.6733955338019103,0.6746272000295621,0.6760060576463113,0.6775321066521579,0.6792053470471018,0.681025778831143,0.6829934020042817,0.6851082165665177,0.6873702225178511,0.6897794198582818,0.6923358085878097,0.6950393887064352,0.6978901602141581,0.7008881231109783,0.7040332773968958,0.7073256230719105,0.7107651601360228,0.7143518885892324,0.7180858084315394,0.7219669196629437,0.7259952222834452,0.7301707162930442,0.7344934016917407,0.7389632784795344,0.7435803466564255,0.7483446062224139,0.7532560571774998,0.758314699521683,0.7635205332549634,0.7688735583773414,0.7743737748888166,0.7800211827893894,0.7858157820790592,0.7917575727578264,0.7978465548256911,0.8040827282826531,0.8104660931287127,0.8169966493638693,0.8236743969881235,0.830499336001475,0.8374714664039238,0.8445907881954701,0.8518573013761136,0.8592710059458546,0.8668319019046928,0.8745399892526283,0.8823952679896614,0.8903977381157917,0.8985473996310195,0.9068442525353445,0.9152882968287669],[0.8660254037844386,0.8630599332978416,0.8601660590086961,0.857343780917003,0.8545930990227614,0.8519140133259715,0.8493065238266336,0.8467706305247475,0.8443063334203135,0.841913632513331,0.8395925278038004,0.8373430192917217,0.8351651069770947,0.8330587908599195,0.8310240709401963,0.8290609472179248,0.8271694196931052,0.8253494883657374,0.8236011532358215,0.8219244143033574,0.8203192715683453,0.8187857250307846,0.817323774690676,0.8159334205480191,0.814614662602814,0.8133675008550609,0.8121919353047596,0.8110879659519101,0.8100555927965124,0.8090948158385665,0.8082056350780725,0.8073880505150303,0.8066420621494399,0.8059676699813014,0.8053648740106146,0.80483367423738,0.8043740706615969,0.8039860632832658,0.8036696521023863,0.8034248371189588,0.803251618332983,0.8031499957444592,0.8031199693533871,0.803161539159767,0.8032747051635984,0.8034594673648819,0.8037158257636172,0.8040437803598042,0.8044433311534431,0.8049144781445339,0.8054572213330764,0.8060715607190708,0.806757496302517,0.807515028083415,0.8083441560617649,0.8092448802375667,0.8102172006108201,0.8112611171815256,0.8123766299496828,0.8135637389152919,0.8148224440783527,0.8161527454388653,0.8175546429968299,0.8190281367522463,0.8205732267051145,0.8221899128554344,0.8238781952032063,0.8256380737484299,0.8274695484911054,0.8293726194312326,0.8313472865688118,0.8333935499038428,0.8355114094363256,0.8377008651662602,0.8399619170936468,0.842294565218485,0.8446988095407751,0.8471746500605171,0.8497220867777109,0.8523411196923565,0.8550317488044541,0.8577939741140033,0.8606277956210042,0.8635332133254572,0.8665102272273619,0.8695588373267185,0.8726790436235269,0.8758708461177872,0.8791342448094992,0.8824692396986631,0.8858758307852789,0.8893540180693464,0.8929038015508658,0.896525181229837,0.9002181571062601,0.903982729180135,0.9078188974514616,0.9117266619202402,0.9157060225864705,0.9197569794501527],[0.9659258262890683,0.9623054226783432,0.9587633138951246,0.9552994999394127,0.951913980811207,0.948606756510508,0.9453778270373155,0.9422271923916296,0.9391548525734502,0.9361608075827772,0.9332450574196108,0.9304076020839508,0.9276484415757974,0.9249675758951504,0.92236500504201,0.9198407290163763,0.9173947478182488,0.9150270614476279,0.9127376699045138,0.9105265731889061,0.9083937713008049,0.90633926424021,0.9043630520071216,0.9024651346015398,0.9006455120234645,0.898904184272896,0.8972411513498337,0.8956564132542779,0.8941499699862289,0.8927218215456861,0.8913719679326498,0.8901004091471203,0.8889071451890972,0.8877921760585807,0.8867555017555706,0.8857971222800671,0.88491703763207,0.8841152478115796,0.8833917528185955,0.882746552653118,0.8821796473151471,0.8816910368046825,0.8812807211217246,0.8809487002662731,0.8806949742383282,0.8805195430378898,0.8804224066649581,0.8804035651195324,0.8804630184016136,0.8806007665112012,0.8808168094482954,0.8811111472128961,0.8814837798050033,0.881934707224617,0.8824639294717371,0.8830714465463639,0.8837572584484972,0.8845213651781371,0.8853637667352833,0.8862844631199361,0.8872834543320955,0.8883607403717613,0.8895163212389336,0.8907501969336125,0.8920623674557978,0.8934528328054896,0.8949215929826881,0.8964686479873931,0.8980939978196045,0.8997976424793224,0.9015795819665469,0.9034398162812779,0.9053783454235154,0.9073951693932594,0.9094902881905099,0.9116637018152669,0.9139154102675304,0.9162454135473005,0.9186537116545772,0.9211403045893604,0.9237051923516499,0.926348374941446,0.9290698523587486,0.9318696246035578,0.9347476916758733,0.9377040535756956,0.9407387103030244,0.9438516618578596,0.9470429082402014,0.9503124494500497,0.9536602854874043,0.9570864163522657,0.9605908420446334,0.9641735625645078,0.9678345779118886,0.9715738880867759,0.9753914930891698,0.9792873929190702,0.9832615875764771,0.9873140770613905],[0.9659258262890683,0.9579254255917797,0.9500935328224587,0.9424301479811055,0.9349352710677197,0.9276089020823016,0.9204510410248512,0.9134616878953684,0.9066408426938534,0.899988505420306,0.8935046760747261,0.8871893546571137,0.881042541167469,0.8750642356057922,0.8692544379720827,0.863613148266341,0.858140366488567,0.8528360926387605,0.8477003267169219,0.8427330687230508,0.8379343186571473,0.8333040765192113,0.8288423423092429,0.8245491160272422,0.8204243976732093,0.816468187247144,0.8126804847490462,0.8090612901789159,0.8056106035367536,0.8023284248225587,0.7992147540363316,0.796269591178072,0.7934929362477801,0.7908847892454558,0.7884451501710992,0.7861740190247102,0.7840713958062888,0.7821372805158351,0.7803716731533489,0.7787745737188305,0.7773459822122796,0.7760858986336965,0.774994322983081,0.774071255260433,0.7733166954657527,0.77273064359904,0.7723130996602949,0.7720640636495174,0.7719835355667077,0.7720715154118656,0.7723280031849911,0.7727529988860842,0.7733465025151449,0.7741085140721734,0.7750390335571694,0.7761380609701332,0.7774055963110644,0.7788416395799633,0.78044619077683,0.7822192499016641,0.784160816954466,0.7862708919352355,0.7885494748439725,0.7909965656806773,0.7936121644453498,0.7963962711379897,0.7993488857585973,0.8024700083071727,0.8057596387837156,0.8092177771882261,0.8128444235207043,0.8166395777811501,0.8206032399695635,0.8247354100859446,0.8290360881302934,0.8335052741026098,0.8381429680028938,0.8429491698311453,0.8479238795873647,0.8530670972715516,0.8583788228837061,0.8638590564238283,0.869507797891918,0.8753250472879754,0.8813108046120005,0.8874650698639932,0.8937878430439535,0.9002791241518816,0.9069389131877772,0.9137672101516404,0.9207640150434714,0.9279293278632699,0.935263148611036,0.9427654772867698,0.9504363138904712,0.9582756584221402,0.9662835108817769,0.9744598712693813,0.9828047395849532,0.9913181158284927],[0.9914448613738104,0.9875873519345522,0.9838095002897488,0.9801113064394005,0.9764927703835071,0.9729538921220686,0.9694946716550852,0.9661151089825566,0.9628152041044831,0.9595949570208645,0.9564543677317009,0.9533934362369921,0.9504121625367383,0.9475105466309396,0.9446885885195956,0.9419462882027065,0.9392836456802726,0.9367006609522937,0.9341973340187698,0.9317736648797007,0.9294296535350867,0.9271652999849274,0.924980604229223,0.9228755662679735,0.9208501861011793,0.9189044637288399,0.9170383991509555,0.915251992367526,0.9135452433785515,0.9119181521840317,0.9103707187839671,0.9089029431783574,0.9075148253672027,0.906206365350503,0.9049775631282582,0.9038284187004684,0.9027589320671334,0.9017691032282535,0.9008589321838285,0.9000284189338584,0.8992775634783433,0.8986063658172834,0.898014825950678,0.8975029438785278,0.8970707196008325,0.8967181531175922,0.8964452444288069,0.8962519935344763,0.8961384004346007,0.8961044651291803,0.8961501876182147,0.896275567901704,0.8964806059796484,0.8967653018520477,0.8971296555189019,0.897573666980211,0.8980973362359752,0.8987006632861944,0.8993836481308684,0.9001462907699974,0.9009885912035813,0.9019105494316202,0.9029121654541141,0.9039934392710629,0.9051543708824665,0.9063949602883252,0.907715207488639,0.9091151124834076,0.9105946752726312,0.9121538958563096,0.9137927742344432,0.9155113104070316,0.9173095043740749,0.9191873561355732,0.9211448656915265,0.9231820330419347,0.9252988581867979,0.927495341126116,0.9297714818598891,0.9321272803881173,0.9345627367108003,0.9370778508279382,0.9396726227395309,0.9423470524455788,0.9451011399460816,0.9479348852410394,0.9508482883304521,0.9538413492143198,0.9569140678926423,0.96006644436542,0.9632984786326525,0.96661017069434,0.9700015205504824,0.9734725282010798,0.9770231936461321,0.9806535168856394,0.9843634979196015,0.9881531367480187,0.9920224333708908,0.9959713877882179],[0.9914448613738104,0.9873140770613905,0.983261587576477,0.9792873929190701,0.9753914930891698,0.9715738880867759,0.9678345779118886,0.9641735625645077,0.9605908420446334,0.9570864163522657,0.9536602854874044,0.9503124494500497,0.9470429082402014,0.9438516618578596,0.9407387103030244,0.9377040535756955,0.9347476916758733,0.9318696246035577,0.9290698523587488,0.9263483749414462,0.92370519235165,0.9211403045893604,0.9186537116545772,0.9162454135473005,0.9139154102675304,0.9116637018152669,0.9094902881905099,0.9073951693932594,0.9053783454235154,0.9034398162812778,0.9015795819665469,0.8997976424793223,0.8980939978196044,0.8964686479873929,0.894921592982688,0.8934528328054896,0.8920623674557978,0.8907501969336125,0.8895163212389336,0.8883607403717613,0.8872834543320954,0.8862844631199362,0.8853637667352834,0.8845213651781371,0.8837572584484973,0.883071446546364,0.8824639294717374,0.881934707224617,0.8814837798050033,0.8811111472128961,0.8808168094482954,0.8806007665112012,0.8804630184016138,0.8804035651195324,0.8804224066649579,0.8805195430378897,0.8806949742383281,0.8809487002662733,0.8812807211217245,0.8816910368046825,0.882179647315147,0.882746552653118,0.8833917528185955,0.8841152478115796,0.8849170376320701,0.885797122280067,0.8867555017555706,0.8877921760585807,0.8889071451890973,0.8901004091471204,0.89137196793265,0.8927218215456862,0.8941499699862288,0.8956564132542779,0.8972411513498337,0.898904184272896,0.9006455120234647,0.9024651346015398,0.9043630520071215,0.9063392642402099,0.9083937713008047,0.910526573188906,0.9127376699045137,0.915027061447628,0.9173947478182489,0.9198407290163761,0.92236500504201,0.9249675758951506,0.9276484415757973,0.9304076020839507,0.9332450574196107,0.9361608075827772,0.9391548525734501,0.9422271923916297,0.9453778270373155,0.9486067565105081,0.951913980811207,0.9552994999394127,0.9587633138951246,0.9623054226783432],[0.9914448613738104,0.9826427602997013,0.974004829887925,0.9655310701384819,0.9572214810513718,0.9490760626265947,0.9410948148641506,0.9332777377640394,0.9256248313262615,0.9181360955508164,0.9108115304377044,0.9036511359869253,0.8966549121984791,0.8898228590723661,0.883154976608586,0.8766512648071391,0.8703117236680249,0.8641363531912439,0.8581251533767962,0.8522781242246811,0.8465952657348993,0.8410765779074502,0.8357220607423341,0.8305317142395511,0.8255055383991011,0.8206435332209842,0.8159456987052003,0.8114120348517493,0.8070425416606314,0.8028372191318465,0.7987960672653945,0.7949190860612756,0.7912062755194897,0.7876576356400369,0.784273166422917,0.7810528678681301,0.7779967399756763,0.7751047827455555,0.7723769961777676,0.7698133802723128,0.767413935029191,0.7651786604484022,0.7631075565299464,0.7612006232738237,0.7594578606800337,0.757879268748577,0.7564648474794533,0.7552145968726625,0.7541285169282047,0.7532066076460799,0.7524488690262883,0.7518553010688296,0.7514259037737038,0.7511606771409111,0.7510596211704512,0.7511227358623247,0.7513500212165309,0.7517414772330703,0.7522971039119426,0.753016901253148,0.7539008692566862,0.7549490079225576,0.756161317250762,0.7575377972412994,0.7590784478941697,0.7607832692093731,0.7626522611869095,0.764685423826779,0.7668827571289814,0.7692442610935166,0.7717699357203851,0.7744597810095866,0.777313796961121,0.7803319835749885,0.783514340851189,0.7868608687897225,0.7903715673905889,0.7940464366537884,0.7978854765793209,0.8018886871671864,0.806056068417385,0.8103876203299165,0.8148833429047808,0.8195432361419785,0.824367300041509,0.8293555346033725,0.8345079398275691,0.8398245157140988,0.8453052622629612,0.8509501794741569,0.8567592673476855,0.8627325258835471,0.8688699550817416,0.8751715549422693,0.8816373254651299,0.8882672666503235,0.8950613784978502,0.9020196610077098,0.9091421141799024,0.9164287380144281],[0.9914448613738104,0.9799745803395463,0.9687106848902998,0.9576531750260708,0.9468020507468595,0.9361573120526657,0.9257189589434895,0.9154869914193309,0.90546140948019,0.8956422131260667,0.8860294023569608,0.8766229771728726,0.8674229375738018,0.8584292835597488,0.8496420151307132,0.8410611322866952,0.8326866350276949,0.8245185233537122,0.8165567972647472,0.8088014567607995,0.8012525018418697,0.7939099325079572,0.7867737487590623,0.779843950595185,0.7731205380163253,0.7666035110224833,0.7602928696136587,0.7541886137898517,0.7482907435510625,0.7425992588972906,0.7371141598285365,0.7318354463447998,0.7267631184460808,0.7218971761323795,0.7172376194036955,0.7127844482600294,0.7085376627013807,0.7044972627277497,0.7006632483391362,0.6970356195355403,0.6936143763169618,0.6903995186834012,0.687391046634858,0.6845889601713324,0.6819932592928244,0.679603943999334,0.6774210142908611,0.6754444701674058,0.6736743116289682,0.6721105386755479,0.6707531513071455,0.6696021495237606,0.6686575333253932,0.6679193027120436,0.6673874576837113,0.6670619982403967,0.6669429243820997,0.6670302361088203,0.6673239334205585,0.6678240163173141,0.6685304847990876,0.6694433388658785,0.670562578517687,0.6718882037545131,0.6734202145763567,0.6751586109832179,0.6771033929750967,0.6792545605519932,0.6816121137139072,0.6841760524608387,0.6869463767927879,0.6899230867097547,0.6931061822117389,0.6964956632987408,0.7000915299707604,0.7038937822277974,0.707902420069852,0.7121174434969243,0.7165388525090142,0.7211666471061217,0.7260008272882467,0.7310413930553892,0.7362883444075493,0.741741681344727,0.7474014038669222,0.7532675119741351,0.7593400056663656,0.7656188849436137,0.7721041498058795,0.7787958002531628,0.7856938362854635,0.7927982579027819,0.8001090651051179,0.8076262578924716,0.8153498362648426,0.8232798002222314,0.8314161497646377,0.8397588848920615,0.848308005604503,0.8570635119019622],[0.9914448613738104,0.9782197174924949,0.9652217297459367,0.9524508981341359,0.9399072226570925,0.9275907033148064,0.9155013401072777,0.9036391330345064,0.8920040820964925,0.880596187293236,0.8694154486247366,0.8584618660909948,0.8477354396920104,0.8372361694277832,0.8269640552983134,0.8169190973036011,0.807101295443646,0.7975106497184483,0.7881471601280083,0.7790108266723254,0.7701016493514,0.7614196281652317,0.752964763113821,0.7447370541971674,0.7367365014152714,0.7289631047681328,0.7214168642557515,0.7140977798781275,0.7070058516352609,0.7001410795271518,0.6935034635537998,0.6870930037152053,0.6809097000113683,0.6749535524422886,0.6692245610079661,0.6637227257084013,0.6584480465435937,0.6534005235135435,0.6485801566182505,0.6439869458577151,0.639620891231937,0.6354819927409163,0.6315702503846529,0.6278856641631468,0.6244282340763982,0.6211979601244069,0.618194842307173,0.6154188806246965,0.6128700750769772,0.6105484256640153,0.6084539323858109,0.6065865952423639,0.6049464142336742,0.6035333893597419,0.6023475206205668,0.6013888080161494,0.6006572515464891,0.6001528512115863,0.5998756070114408,0.5998255189460526,0.600002587015422,0.6004068112195485,0.6010381915584326,0.601896728032074,0.6029824206404726,0.6042952693836288,0.6058352742615423,0.6076024352742131,0.6095967524216412,0.6118182257038268,0.6142668551207697,0.6169426406724702,0.6198455823589278,0.6229756801801428,0.6263329341361153,0.6299173442268451,0.6337289104523323,0.6377676328125768,0.6420335113075788,0.646526545937338,0.6512467367018546,0.6561940836011287,0.66136858663516,0.6667702458039488,0.6723990611074948,0.6782550325457983,0.6843381601188592,0.6906484438266776,0.697185883669253,0.7039504796465861,0.7109422317586764,0.7181611400055242,0.7256072043871292,0.7332804249034918,0.7411808015546115,0.7493083343404887,0.7576630232611233,0.7662448683165152,0.7750538695066644,0.7840900268315711],[0.9914448613738104,0.9769598689294664,0.9627100605587076,0.9486954362615342,0.9349159960379461,0.9213717398879431,0.9080626678115256,0.8949887798086932,0.8821500758794463,0.8695465560237845,0.8571782202417081,0.8450450685332168,0.8331471008983108,0.8214843173369902,0.8100567178492548,0.7988643024351048,0.7879070710945398,0.7771850238275604,0.7666981606341663,0.7564464815143572,0.7464299864681337,0.7366486754954953,0.7271025485964421,0.7177916057709741,0.7087158470190917,0.6998752723407944,0.6912698817360824,0.6828996752049556,0.6747646527474143,0.6668648143634581,0.659200160053087,0.6517706898163015,0.6445764036531012,0.6376173015634862,0.6308933835474564,0.6244046496050121,0.6181510997361528,0.6121327339408789,0.6063495522191903,0.600801554571087,0.5954887409965689,0.5904111114956362,0.5855686660682886,0.5809614047145264,0.5765893274343494,0.5724524342277577,0.5685507250947514,0.5648842000353302,0.5614528590494944,0.5582567021372438,0.5552957292985785,0.5525699405334985,0.5500793358420039,0.5478239152240945,0.5458036786797702,0.5440186262090314,0.5424687578118779,0.5411540734883096,0.5400745732383265,0.5392302570619287,0.5386211249591163,0.5382471769298891,0.5381084129742473,0.5382048330921907,0.5385364372837192,0.5391032255488332,0.5399051978875324,0.5409423542998169,0.5422146947856867,0.5437222193451416,0.545464927978182,0.5474428206848077,0.5496558974650185,0.5521041583188147,0.5547876032461962,0.557706232247163,0.560860045321715,0.5642490424698522,0.5678732236915749,0.5717325889868827,0.5758271383557759,0.5801568717982544,0.584721789314318,0.589521890903967,0.5945571765672012,0.5998276463040206,0.6053333001144255,0.6110741379984157,0.617050159955991,0.6232613659871518,0.6297077560918977,0.6363893302702289,0.6433060885221455,0.6504580308476473,0.6578451572467343,0.6654674677194067,0.6733249622656642,0.6814176408855072,0.6897455035789353,0.6983085503459489],[0.9914448613738104,0.9760005293819823,0.9607908943127437,0.9458159561660944,0.9310757149420348,0.9165701706405643,0.9022993232616835,0.888263172805392,0.87446171927169,0.8608949626605776,0.8475629029720544,0.8344655402061207,0.8216028743627765,0.8089749054420217,0.7965816334438561,0.7844230583682802,0.7724991802152936,0.7608099989848967,0.7493555146770892,0.7381357272918709,0.7271506368292424,0.7164002432892029,0.705884546671753,0.6956035469768925,0.6855572442046215,0.67574563835494,0.6661687294278479,0.6568265174233452,0.6477190023414319,0.638846184182108,0.6302080629453736,0.6218046386312287,0.6136359112396732,0.6057018807707072,0.5980025472243305,0.5905379106005434,0.5833079708993456,0.5763127281207374,0.5695521822647185,0.563026333331289,0.5567351813204491,0.5506787262321986,0.5448569680665375,0.5392699068234658,0.5339175425029835,0.5287998751050907,0.5239169046297873,0.5192686310770734,0.5148550544469489,0.5106761747394137,0.5067319919544682,0.5030225060921121,0.49954771715234536,0.496307625135168,0.4933022300405801,0.4905315318685817,0.4879955306191728,0.4856942262923532,0.4836276188881231,0.48179570840648245,0.48019849484743116,0.4788359782109694,0.477708158497097,0.4768150357058141,0.4761566098371206,0.4757328808910166,0.475543848867502,0.47558951376657677,0.4758698755882411,0.47638493433249474,0.4771346899993379,0.47811914258877053,0.4793382921007925,0.4807921385354039,0.48248068189260485,0.48440392217239525,0.486561859374775,0.4889544934997442,0.4915818245473028,0.494443852517451,0.49754057741018853,0.5008719992255154,0.5044381179634317,0.5082389336239377,0.5122744462070329,0.5165446557127176,0.5210495621409917,0.5257891654918554,0.5307634657653084,0.5359724629613508,0.5414161570799828,0.5470945481212042,0.5530076360850149,0.5591554209714151,0.5655379027804047,0.5721550815119839,0.5790069571661524,0.5860935297429103,0.5934147992422577,0.6009707656641946],[0.9914448613738104,0.9752392978389659,0.9592618376358608,0.9435124807644952,0.9279912272248694,0.9126980770169829,0.897633030140836,0.8827960865964285,0.8681872463837608,0.8538065095028324,0.8396538759536436,0.8257293457361944,0.8120329188504845,0.7985645952965142,0.7853243750742835,0.7723122581837922,0.7595282446250405,0.7469723343980283,0.734644527502756,0.7225448239392228,0.7106732237074294,0.6990297268073752,0.6876143332390606,0.6764270430024855,0.6654678560976501,0.6547367725245541,0.6442337922831978,0.6339589153735806,0.6239121417957033,0.6140934715495655,0.6045029046351671,0.5951404410525082,0.5860060808015889,0.5770998238824091,0.5684216702949688,0.5599716200392683,0.5517496731153071,0.5437558295230854,0.5359900892626033,0.5284524523338605,0.5211429187368575,0.5140614884715939,0.5072081615380699,0.5005829379362854,0.49418581766624037,0.48801680072793485,0.4820758871213689,0.47636307684654244,0.4708783699034555,0.46562176629210805,0.4605932660125003,0.4557928690646319,0.4512205754485031,0.44687638516411377,0.44276029821146395,0.43887231459055376,0.435212434301383,0.4317806573439519,0.4285769837182602,0.425601413424308,0.4228539464620954,0.4203345828316223,0.41804332253288873,0.4159801655658947,0.41414511193064013,0.4125381616271251,0.4111593146553496,0.4100085710153136,0.40908593070701726,0.4083913937304603,0.40792496008564294,0.4076866297725651,0.4076764027912267,0.40789427914162785,0.4083402588237686,0.40901434183764884,0.4099165281832686,0.41104681786062786,0.4124052108697267,0.41399170721056505,0.4158063068831429,0.41784900988746027,0.42011981622351713,0.42261872589131355,0.4253457388908495,0.42830085522212497,0.43148407488513996,0.4348953978798945,0.43853482420638856,0.4424023538646221,0.44649798685459524,0.45082172317630786,0.45537356282975994,0.4601535058149517,0.4651615521318828,0.4703977017805535,0.47586195476096377,0.48155431107311353,0.4874747707170028,0.4936233336926316],[0.9914448613738104,0.974617349630027,0.9580068055115708,0.9416132290184419,0.9254366201506402,0.9094769789081655,0.8937343052910182,0.878208599299198,0.8628998609327051,0.8478080901915394,0.8329332870757008,0.8182754515851893,0.803834583720005,0.7896106834801482,0.7756037508656182,0.7618137858764156,0.7482407885125401,0.7348847587739918,0.721745696660771,0.7088236021728771,0.6961184753103107,0.6836303160730711,0.6713591244611588,0.6593049004745737,0.6474676441133158,0.6358473553773851,0.6244440342667816,0.6132576807815053,0.6022882949215562,0.5915358766869343,0.5810004260776397,0.570681943093672,0.5605804277350318,0.5506958800017187,0.5410282998937328,0.5315776874110741,0.5223440425537426,0.5133273653217383,0.5045276557150611,0.4959449137337112,0.48757913937768843,0.479430332646993,0.47149849354162454,0.4637836220615834,0.4562857182068695,0.44900478197748267,0.44194081337342306,0.43509381239469064,0.42846377904128546,0.4220507133132074,0.41585461521045664,0.40987548473303304,0.4041133218809366,0.3985681266541674,0.39323989905272533,0.3881286390766105,0.3832343467258229,0.3785570220003625,0.37409666490022925,0.3698532754254232,0.36582685357594436,0.36201739935179267,0.35842491275296817,0.355049393779471,0.35189084243130087,0.34894925870845794,0.34622464261094227,0.3437169941387538,0.3414263132918925,0.3393526000703584,0.33749585447415154,0.33585607650327176,0.3344332661577193,0.3332274234374939,0.3322385483425958,0.33146664087302485,0.3309117010287811,0.3305737288098646,0.33045272421627525,0.3305486872480131,0.3308616179050781,0.33139151618747037,0.33213838209518975,0.3331022156282364,0.3342830167866102,0.3356807855703112,0.33729552197933943,0.3391272260136949,0.3411758976733774,0.3434415369583873,0.3459241438687243,0.34862371840438844,0.3515402605653798,0.3546737703516984,0.35802424776334413,0.3615916928003171,0.3653761054626173,0.3693774857502446,0.37359583366319915,0.37803114920148084],[0.9659258262890683,0.9617635487408658,0.9576768634070152,0.9536657702875169,0.9497302693823703,0.9458703606915758,0.9420860442151333,0.9383773199530429,0.9347441879053046,0.9311866480719183,0.9277047004528839,0.9242983450482014,0.920967581857871,0.9177124108818927,0.9145328321202664,0.911428845572992,0.9084004512400697,0.9054476491214994,0.9025704392172813,0.899768821527415,0.8970427960519008,0.8943923627907386,0.8918175217439281,0.88931827291147,0.8868946162933637,0.8845465518896096,0.8822740797002075,0.8800771997251572,0.8779559119644591,0.875910216418113,0.873940113086119,0.8720456019684768,0.8702266830651867,0.8684833563762486,0.8668156219016627,0.8652234796414286,0.8637069295955466,0.8622659717640166,0.8609006061468387,0.8596108327440127,0.8583966515555387,0.8572580625814168,0.8561950658216468,0.8552076612762289,0.8542958489451631,0.8534596288284492,0.8526990009260873,0.8520139652380774,0.8514045217644195,0.8508706705051137,0.8504124114601599,0.8500297446295582,0.8497226700133083,0.8494911876114104,0.8493352974238646,0.8492549994506711,0.8492502936918291,0.8493211801473395,0.8494676588172018,0.8496897297014161,0.8499873927999824,0.8503606481129008,0.850809495640171,0.8513339353817935,0.8519339673377678,0.8526095915080942,0.8533608078927727,0.854187616491803,0.8550900173051855,0.8560680103329199,0.8571215955750064,0.8582507730314449,0.8594555427022353,0.8607359045873777,0.8620918586868724,0.863523405000719,0.8650305435289174,0.8666132742714681,0.8682715972283706,0.8700055123996253,0.8718150197852318,0.8737001193851904,0.875660811199501,0.8776970952281637,0.8798089714711783,0.8819964399285449,0.8842595006002636,0.8865981534863345,0.8890123985867571,0.8915022359015319,0.8940676654306586,0.8967086871741374,0.8994253011319681,0.902217507304151,0.9050853056906857,0.9080286962915726,0.9110476791068114,0.9141422541364023,0.9173124213803451,0.9205581808386399],[0.9238795325112868,0.9197569794501528,0.9157060225864706,0.9117266619202403,0.9078188974514617,0.903982729180135,0.9002181571062601,0.8965251812298369,0.8929038015508659,0.8893540180693467,0.8858758307852791,0.8824692396986633,0.8791342448094993,0.8758708461177873,0.872679043623527,0.8695588373267186,0.8665102272273619,0.8635332133254574,0.8606277956210044,0.8577939741140035,0.8550317488044542,0.8523411196923567,0.8497220867777111,0.8471746500605173,0.8446988095407753,0.8422945652184852,0.839961917093647,0.8377008651662603,0.8355114094363257,0.833393549903843,0.831347286568812,0.8293726194312327,0.8274695484911054,0.82563807374843,0.8238781952032063,0.8221899128554344,0.8205732267051147,0.8190281367522465,0.8175546429968301,0.8161527454388655,0.8148224440783527,0.813563738915292,0.812376629949683,0.8112611171815258,0.8102172006108206,0.8092448802375669,0.8083441560617652,0.8075150280834151,0.8067574963025171,0.8060715607190709,0.8054572213330766,0.8049144781445341,0.8044433311534432,0.8040437803598044,0.8037158257636172,0.803459467364882,0.8032747051635987,0.8031615391597671,0.8031199693533873,0.8031499957444592,0.8032516183329832,0.803424837118959,0.8036696521023865,0.8039860632832658,0.8043740706615972,0.8048336742373801,0.8053648740106151,0.8059676699813016,0.8066420621494403,0.8073880505150306,0.8082056350780729,0.8090948158385668,0.8100555927965126,0.8110879659519102,0.8121919353047597,0.8133675008550612,0.8146146626028143,0.8159334205480192,0.8173237746906761,0.8187857250307848,0.8203192715683453,0.8219244143033576,0.8236011532358217,0.8253494883657376,0.8271694196931053,0.8290609472179249,0.8310240709401964,0.8330587908599197,0.8351651069770949,0.8373430192917218,0.8395925278038006,0.8419136325133312,0.8443063334203136,0.8467706305247479,0.849306523826634,0.8519140133259718,0.8545930990227616,0.8573437809170031,0.8601660590086965,0.8630599332978418],[0.9238795325112868,0.9152882968287671,0.9068442525353445,0.8985473996310196,0.8903977381157918,0.8823952679896615,0.8745399892526284,0.8668319019046927,0.8592710059458546,0.8518573013761138,0.8445907881954702,0.837471466403924,0.830499336001475,0.8236743969881237,0.8169966493638694,0.8104660931287127,0.8040827282826533,0.7978465548256912,0.7917575727578267,0.7858157820790593,0.7800211827893895,0.7743737748888168,0.7688735583773414,0.7635205332549635,0.758314699521683,0.7532560571774999,0.7483446062224139,0.7435803466564255,0.7389632784795345,0.7344934016917407,0.7301707162930443,0.7259952222834453,0.7219669196629436,0.7180858084315392,0.7143518885892324,0.7107651601360228,0.7073256230719106,0.7040332773968958,0.7008881231109783,0.6978901602141581,0.6950393887064352,0.69233580858781,0.6897794198582818,0.6873702225178512,0.6851082165665179,0.6829934020042818,0.6810257788311432,0.6792053470471018,0.677532106652158,0.6760060576463114,0.6746272000295621,0.6733955338019103,0.6723110589633559,0.6713737755138988,0.670583683453539,0.6699407827822765,0.6694450735001115,0.6690965556070438,0.6688952291030736,0.6688410939882006,0.6689341502624251,0.6691743979257467,0.669561836978166,0.6700964674196823,0.6707782892502961,0.6716073024700073,0.6725835070788159,0.6737069030767218,0.6749774904637251,0.6763952692398256,0.6779602394050237,0.679672400959319,0.6815317539027117,0.6835382982352017,0.6856920339567891,0.687992961067474,0.6904410795672561,0.6930363894561355,0.6957788907341125,0.6986685834011868,0.7017054674573583,0.7048895429026272,0.7082208097369934,0.7116992679604572,0.7153249175730181,0.7190977585746765,0.7230177909654322,0.7270850147452853,0.7312994299142358,0.7356610364722835,0.7401698344194287,0.7448258237556713,0.7496290044810112,0.7545793765954485,0.759676940098983,0.764921694991615,0.7703136412733443,0.7758527789441709,0.781539108004095,0.7873726284531164],[0.9238795325112868,0.9127413802727014,0.9017844487356378,0.8910087379000963,0.8804142477660768,0.8700009783335791,0.8597689296026036,0.8497181015731499,0.8398484942452185,0.830160107618809,0.8206529416939213,0.8113269964705556,0.8021822719487118,0.7932187681283902,0.7844364850095903,0.7758354225923126,0.7674155808765569,0.7591769598623231,0.7511195595496114,0.7432433799384217,0.7355484210287538,0.728034682820608,0.720702165313984,0.713550868508882,0.7065807924053022,0.6997919370032443,0.6931843023027083,0.6867578883036943,0.6805126950062025,0.6744487224102325,0.6685659705157843,0.6628644393228583,0.6573441288314542,0.6520050390415721,0.6468471699532121,0.641870521566374,0.6370750938810579,0.6324608868972638,0.6280279006149917,0.6237761350342415,0.6197055901550133,0.6158162659773071,0.6121081625011228,0.6085812797264606,0.6052356176533202,0.602071176281702,0.5990879556116058,0.5962859556430313,0.5936651763759789,0.5912256178104486,0.5889672799464402,0.5868901627839538,0.5849942663229893,0.583279590563547,0.5817461355056265,0.5803939011492281,0.5792228874943515,0.578233094540997,0.5774245222891645,0.576797170738854,0.5763510398900653,0.5760861297427988,0.5760024402970543,0.5760999715528317,0.576378723510131,0.5768386961689522,0.5774798895292956,0.578302303591161,0.5793059383545482,0.5804907938194575,0.5818568699858887,0.5834041668538419,0.5851326844233171,0.5870424226943143,0.5891333816668335,0.5914055613408746,0.5938589617164378,0.5964935827935228,0.59930942457213,0.6023064870522592,0.6054847702339102,0.6088442741170832,0.6123849987017782,0.6161069439879951,0.6200101099757342,0.6240944966649951,0.628360104055778,0.6328069321480831,0.63743498094191,0.642244250437259,0.6472347406341298,0.6524064515325226,0.6577593831324375,0.6632935354338744,0.6690089084368331,0.674905502141314,0.6809833165473167,0.6872423516548415,0.6936826074638881,0.7003040839744569],[0.9238795325112868,0.9110727134186851,0.898460957721186,0.8860442654187893,0.8738226365114953,0.8617960709993038,0.8499645688822147,0.8383281301602282,0.8268867548333444,0.8156404429015633,0.8045891943648844,0.7937330092233081,0.7830718874768344,0.7726058291254634,0.7623348341691946,0.7522589026080284,0.742378034441965,0.7326922296710041,0.7232014882951457,0.7139058103143899,0.7048051957287367,0.6958996445381858,0.6871891567427376,0.6786737323423919,0.6703533713371487,0.6622280737270081,0.6542978395119701,0.6465626686920345,0.6390225612672016,0.6316775172374711,0.6245275366028432,0.617572619363318,0.6108127655188952,0.604247975069575,0.5978782480153573,0.5917035843562422,0.5857239840922297,0.5799394472233196,0.5743499737495121,0.5689555636708071,0.5637562169872047,0.5587519336987049,0.5539427138053077,0.5493285573070129,0.5449094642038207,0.540685434495731,0.5366564681827439,0.5328225652648593,0.5291837257420773,0.5257399496143977,0.5224912368818209,0.5194375875443464,0.5165790016019746,0.5139154790547054,0.5114470199025385,0.5091736241454744,0.5070952917835128,0.5052120228166537,0.503523817244897,0.5020306750682431,0.5007325962866915,0.4996295809002426,0.49872162890889626,0.49800874031265246,0.4974909151115111,0.4971681533054725,0.49704045489453624,0.49710781987870256,0.4973702482579715,0.4978277400323429,0.4984802952018169,0.4993279137663935,0.5003705957260726,0.5016083410808542,0.5030411498307383,0.5046690219757252,0.5064919575158143,0.5085099564510062,0.5107230187813006,0.5131311445066975,0.515734333627197,0.518532586142799,0.5215259020535035,0.5247142813593106,0.5280977240602203,0.5316762301562323,0.5354497996473472,0.5394184325335645,0.5435821288148842,0.5479408884913066,0.5524947115628316,0.5572435980294591,0.5621875478911891,0.5673265611480217,0.5726606377999568,0.5781897778469944,0.5839139812891346,0.5898332481263773,0.5959475783587226,0.6022569719861705],[0.9238795325112868,0.9098816859287312,0.8960809918968309,0.8824774504155861,0.8690710614849968,0.8558618251050628,0.8428497412757843,0.830034809997161,0.8174170312691934,0.8049964050918812,0.7927729314652242,0.7807466103892227,0.7689174418638764,0.7572854258891858,0.7458505624651505,0.7346128515917705,0.7235722932690462,0.7127288874969769,0.7020826342755635,0.6916335336048053,0.6813815854847024,0.671326789915255,0.6614691468964629,0.6518086564283262,0.6423453185108451,0.6330791331440193,0.6240101003278489,0.6151382200623338,0.6064634923474743,0.5979859171832701,0.5897054945697214,0.581622224506828,0.5737361069945901,0.5660471420330074,0.5585553296220803,0.5512606697618088,0.5441631624521924,0.5372628076932316,0.5305596054849262,0.524053555827276,0.5177446587202813,0.5116329141639422,0.5057183221582583,0.5000008827032298,0.4944805957988569,0.4891574614451393,0.48403147964207704,0.4791026503896702,0.47437097368791875,0.4698364495368228,0.46549907793638223,0.461358858886597,0.45741579238746727,0.453669878438993,0.45012111704117397,0.44676950819401046,0.44361505189750233,0.4406577481516497,0.43789759695645236,0.43533459831191046,0.432968752218024,0.4308000586747929,0.42882851768221725,0.42705412924029695,0.42547689334903216,0.4240968100084227,0.4229138792184687,0.42192810097917,0.4211394752905268,0.420548002152539,0.4201536815652066,0.41995651352852964,0.419956498042508,0.4201536351071418,0.4205479247224311,0.4211393668883758,0.4219279616049758,0.4229137088722313,0.4240966086901422,0.4254766610587085,0.42705386597793016,0.4288282234478073,0.4307997334683398,0.4329683960395277,0.435334211161371,0.43789717883386975,0.4406572990570239,0.44361457183083347,0.44676899715529844,0.4501205750304188,0.4536693054561946,0.4574151884326258,0.4613582239597124,0.46549841203745446,0.4698357526658518,0.47437024584490467,0.4791018915746129,0.48403068985497655,0.48915664068599557,0.49447974406767004],[0.9238795325112868,0.9089819243848224,0.8942759454932063,0.8797615958364391,0.8654388754145201,0.8513077842274498,0.837368322275228,0.8236204895578547,0.8100642860753301,0.7966997118276541,0.7835267668148264,0.7705454510368472,0.7577557644937165,0.7451577071854347,0.732751279112001,0.720536480273416,0.7085133106696795,0.6966817703007917,0.6850418591667524,0.6735935772675616,0.6623369246032194,0.6512719011737257,0.6403985069790803,0.6297167420192836,0.6192266062943353,0.6089280998042358,0.5988212225489847,0.5889059745285821,0.5791823557430281,0.5696503661923226,0.5603100058764657,0.5511612747954572,0.5422041729492975,0.533438700337986,0.5248648569615232,0.5164826428199091,0.5082920579131434,0.5002931022412261,0.4924857758041575,0.48487007860193737,0.4774460106345657,0.47021357190204277,0.4631727624043682,0.4563235821415422,0.44966603111356485,0.4432001093204359,0.4369258167621555,0.4308431534387236,0.42495211935014027,0.4192527144964055,0.4137449388775193,0.4084287924934815,0.40330427534429236,0.39837138742995176,0.39363012875045966,0.38908049930581606,0.3847224990960211,0.38055612812107464,0.37658138638097666,0.3727982738757272,0.36920679060532635,0.365806936569774,0.36259871176907016,0.3595821162032149,0.3567571498722082,0.35412381277604993,0.3516821049147403,0.34943202628827913,0.3473735768966665,0.34550675673990244,0.3438315658179869,0.3423480041309199,0.34105607167870144,0.33995576846133146,0.33904709447881015,0.3383300497311373,0.33780463421831297,0.33747084794033716,0.3373286908972099,0.3373781630889312,0.33761926451550106,0.3380519951769194,0.3386763550731863,0.33949234420430174,0.3404999625702656,0.3416992101710782,0.34309008700673915,0.3446725930772488,0.3464467283826068,0.3484124929228135,0.3505698866978687,0.3529189097077724,0.35545956195252465,0.3581918434321254,0.3611157541465747,0.36423129409587257,0.367538463280019,0.37103726169901385,0.3747276893528573,0.3786097462415493],[0.7071067811865476,0.697868701523799,0.688751709662556,0.6797558056028191,0.6708809893445876,0.662127260887862,0.6534946202326422,0.6449830673789279,0.6365926023267197,0.628323225076017,0.62017493562682,0.6121477339791288,0.6042416201329431,0.5964565940882636,0.5887926558450894,0.5812498054034212,0.5738280427632586,0.5665273679246019,0.559347780887451,0.5522892816518057,0.5453518702176661,0.5385355465850323,0.5318403107539041,0.5252661627242817,0.5188131024961651,0.5124811300695543,0.5062702454444491,0.5001804486208496,0.494211739598756,0.48836411837816807,0.4826375849590859,0.47703213934150934,0.4715477815254387,0.4661845115108737,0.4609423292978144,0.45582123488626103,0.4508212282762132,0.4459423094676712,0.4411844784606349,0.4365477352551043,0.4320320798510795,0.4276375122485605,0.4233640324475471,0.41921164044803955,0.4151803362500377,0.41127011985354156,0.4074809912585511,0.40381295046506643,0.4002659974730875,0.3968401322826143,0.3935353548936468,0.39035166530618515,0.3872890635202292,0.38434754953577893,0.38152712335283445,0.3788277849713957,0.37624953439146264,0.3737923716130354,0.37145629663611385,0.36924130946069805,0.367147410086788,0.3651745985143836,0.363322874743485,0.3615922387740922,0.359982690606205,0.35849423023982363,0.357126857674948,0.3558805729115781,0.35475537594971396,0.35375126678935553,0.3528682454305028,0.3521063118731559,0.35146546611731466,0.3509457081629791,0.3505470380101494,0.3502694556588254,0.3501129611090071,0.35007755436069454,0.3501632354138878,0.3503700042685867,0.3506978609247914,0.3511468053825018,0.35171683764171796,0.3524079577024399,0.35322016556466745,0.35415346122840086,0.35520784469364,0.3563833159603848,0.35767987502863535,0.3590975218983917,0.36063625656965376,0.36229607904242156,0.3640769893166951,0.36597898739247436,0.36800207326975937,0.3701462469485501,0.37241150842884657,0.3747978577106488,0.3773052947939567,0.3799338196787704],[0.258819045102521,0.2567652130037977,0.25472695471456713,0.2527042702348296,0.2506971595645849,0.24870562270383312,0.2467296596525742,0.24476927041080826,0.24282445497853522,0.24089521335575506,0.2389815455424678,0.23708345153867347,0.23520093134437198,0.23333398495956345,0.23148261238424778,0.229646813618425,0.22782658866209518,0.2260219375152583,0.22423286017791427,0.22245935665006314,0.2207014269317049,0.21895907102283957,0.2172322889234671,0.2155210806335876,0.21382544615320098,0.21214538548230727,0.21048089862090644,0.20883198556899854,0.20719864632658355,0.20558088089366144,0.2039786892702322,0.2023920714562959,0.20082102745185254,0.19926555725690204,0.19772566087144441,0.19620133829547975,0.194692589529008,0.19319941457202913,0.19172181342454314,0.1902597860865501,0.18881333255804988,0.18738245283904265,0.18596714692952826,0.18456741482950684,0.18318325653897827,0.1818146720579426,0.18046166138639985,0.17912422452434998,0.17780236147179304,0.17649607222872898,0.17520535679515786,0.1739302151710796,0.17267064735649426,0.17142665335140184,0.1701982331558023,0.16898538676969568,0.16778811419308193,0.16660641542596114,0.16544029046833322,0.16428973932019822,0.1631547619815561,0.16203535845240685,0.16093152873275057,0.15984327282258717,0.15877059072191665,0.15771348243073904,0.15667194794905437,0.15564598727686257,0.1546356004141637,0.1536407873609577,0.15266154811724464,0.15169788268302448,0.15074979105829717,0.14981727324306277,0.14890032923732133,0.14799895904107274,0.1471131626543171,0.1462429400770543,0.14538829130928446,0.14454921635100754,0.14372571520222346,0.1429177878629323,0.14212543433313407,0.14134865461282872,0.14058744870201628,0.13984181660069672,0.1391117583088701,0.13839727382653635,0.13769836315369552,0.1370150262903476,0.13634726323649257,0.13569507399213043,0.13505845855726123,0.13443741693188493,0.13383194911600152,0.133242055109611,0.1326677349127134,0.1321089885253087,0.13156581594739686,0.13103821717897798],[0.258819045102521,0.25513272241727514,0.2514685842216094,0.24782663051552395,0.24420686129901867,0.24060927657209363,0.2370338763347488,0.2334806605869842,0.22994962932879984,0.22644078256019565,0.2229541202811717,0.21948964249172795,0.2160473491918644,0.2126272403815811,0.20922931606087797,0.2058535762297551,0.20250002088821242,0.19916865003625,0.1958594636738678,0.1925724618010658,0.189307644417844,0.18606501152420238,0.182844563120141,0.17964629920565983,0.1764702197807589,0.17331632484543819,0.17018461439969768,0.16707508844353738,0.16398774697695734,0.16092258999995745,0.15787961751253782,0.15485882951469837,0.15186022600643917,0.1488838069877602,0.14592957245866142,0.1429975224191429,0.14008765686920457,0.13719997580884644,0.13433447923806852,0.13149116715687084,0.12867003956525333,0.1258710964632161,0.12309433785075907,0.12033976372788223,0.1176073740945856,0.11489716895086921,0.11220914829673302,0.10954331213217705,0.10689966045720131,0.10427819327180576,0.10167891057599043,0.09910181236975533,0.09654689865310045,0.09401416942602578,0.09150362468853133,0.0890152644406171,0.08654908868228307,0.08410509741352928,0.0816832906343557,0.07928366834476232,0.07690623054474917,0.07455097723431621,0.0722179084134635,0.06990702408219099,0.0676183242404987,0.06535180888838661,0.06310747802585476,0.06088533165290311,0.058685369769531676,0.05650759237574049,0.0543519994715295,0.05221859105689872,0.05010736713184815,0.048018327696377795,0.04595147275048767,0.043906802294177746,0.04188431632744805,0.03988401485029856,0.0379058978627293,0.035949965364740245,0.03401621735633141,0.03210465383750279,0.030215274808254415,0.02834808026858622,0.02650307021849825,0.024680244657990496,0.022879603587062956,0.021101147005715637,0.019344874913948526,0.017610787311761637,0.015898884199154962,0.014209165576128504,0.012541631442682263,0.010896281798816238,0.009273116644530444,0.00767213597982485,0.006093339804699472,0.004536728119154311,0.003002300923189365,0.001490058216804636],[0.258819045102521,0.2542199820384417,0.24963517373579375,0.24506462019457725,0.2405083214147921,0.23596627739643833,0.23143848813951592,0.22692495364402493,0.22242567390996534,0.2179406489373371,0.21346987872614032,0.20901336327637482,0.20457110258804076,0.20014309666113808,0.19572934549566673,0.1913298490916268,0.1869446074490183,0.18257362056784118,0.1782168884480955,0.1738744110897811,0.16954618849289813,0.1652322206574465,0.16093250758342625,0.15664704927083745,0.15237584571968002,0.14811889692995397,0.14387620290165926,0.13964776363479597,0.1354335791293641,0.13123364938536355,0.1270479744027944,0.12287655418165667,0.11871938872195031,0.11457647802367535,0.11044782208683172,0.10633342091141958,0.10223327449743876,0.09814738284488934,0.09407574595377127,0.09001836382408461,0.08597523645582933,0.08194636384900547,0.07793174600361298,0.07393138291965184,0.0699452745971221,0.06597342103602376,0.06201582223635679,0.058072478198121225,0.05414338892131702,0.050228554405944204,0.046327974652002786,0.042441649659492736,0.03856957942841409,0.03471176395876682,0.030868203250550945,0.027038897303766456,0.023223846118413348,0.019423049694491643,0.01563650803200131,0.011864221130942355,0.008106188991314794,0.004362411613118601,0.0006328889963538031,-0.0030823788589796133,-0.0067833919528816275,-0.010470150285352281,-0.014142653856391532,-0.01780090266599941,-0.02144489671417589,-0.02507463600092094,-0.028690120526234666,-0.032291350290116996,-0.03587832529256794,-0.03945104553358749,-0.04300951101317566,-0.04655372173133245,-0.05008367768805785,-0.05359937888335186,-0.0571008253172145,-0.060588016989645756,-0.0640609539006456,-0.06751963605021408,-0.07096406343835113,-0.07439423606505684,-0.07781015393033114,-0.08121181703417407,-0.08459922537658562,-0.0879723789575658,-0.09133127777711456,-0.09467592183523195,-0.09800631113191796,-0.10132244566717258,-0.1046243254409958,-0.10791195045338767,-0.11118532070434808,-0.11444443619387717,-0.11768929692197486,-0.12091990288864116,-0.12413625409387609,-0.1273383505376796],[0.258819045102521,0.2536426642004706,0.24846628329842016,0.24328990239636974,0.23811352149431933,0.23293714059226892,0.22776075969021847,0.22258437878816806,0.21740799788611767,0.21223161698406726,0.20705523608201684,0.2018788551799664,0.19670247427791596,0.19152609337586554,0.1863497124738151,0.18117333157176468,0.17599695066971427,0.17082056976766388,0.1656441888656135,0.16046780796356308,0.15529142706151267,0.15011504615946222,0.14493866525741178,0.1397622843553614,0.13458590345331098,0.12940952255126056,0.12423314164921012,0.11905676074715969,0.11388037984510929,0.10870399894305886,0.10352761804100843,0.098351237138958,0.09317485623690759,0.08799847533485716,0.08282209443280672,0.07764571353075636,0.07246933262870595,0.06729295172665553,0.062116570824605095,0.056940189922554674,0.051763809020504245,0.04658742811845386,0.04141104721640345,0.03623466631435303,0.031058285412302593,0.02588190451025217,0.02070552360820175,0.015529142706151342,0.01035276180410092,0.005176380902050491,6.938893903907228e-17,-0.005176380902050345,-0.010352761804100767,-0.015529142706151189,-0.02070552360820161,-0.025881904510252032,-0.031058285412302454,-0.03623466631435284,-0.04141104721640325,-0.04658742811845367,-0.051763809020504085,-0.05694018992255452,-0.06211657082460494,-0.06729295172665536,-0.07246933262870578,-0.0776457135307562,-0.08282209443280662,-0.08799847533485705,-0.09317485623690747,-0.09835123713895783,-0.10352761804100824,-0.10870399894305868,-0.1138803798451091,-0.11905676074715951,-0.12423314164920994,-0.12940952255126037,-0.13458590345331078,-0.1397622843553612,-0.14493866525741161,-0.15011504615946206,-0.15529142706151247,-0.16046780796356291,-0.16564418886561325,-0.1708205697676637,-0.1759969506697141,-0.18117333157176452,-0.18634971247381493,-0.19152609337586537,-0.1967024742779158,-0.20187885517996623,-0.20705523608201665,-0.21223161698406706,-0.21740799788611748,-0.22258437878816792,-0.22776075969021828,-0.23293714059226872,-0.23811352149431914,-0.24328990239636952,-0.24846628329841994,-0.2536426642004704],[0.130526192220052,0.12896248843725577,0.12740400570214833,0.12585074401472973,0.1243027033749999,0.12275988378295889,0.12122228523860669,0.11968990774194327,0.11816275129296869,0.11664081589168288,0.11512410153808587,0.11361260823217767,0.11210633597395826,0.11060528476342767,0.10910945460058587,0.10761884548543287,0.10613345741796867,0.1046532903981933,0.10317834442610672,0.10170861950170895,0.10024411562499996,0.09878483279597979,0.09733077101464839,0.0958819302810058,0.09443831059505205,0.09299991195678707,0.0915667343662109,0.09013877782332352,0.08871604232812495,0.08729852788061519,0.08588623448079423,0.08447916212866206,0.08307731082421872,0.08168068056746415,0.0802892713583984,0.07890308319702147,0.07752211608333331,0.07614637001733397,0.07477584499902343,0.07341054102840168,0.07205045810546874,0.0706955962302246,0.06934595540266929,0.06800153562280276,0.06666233689062502,0.06532835920613608,0.06399960256933596,0.06267606698022463,0.06135775243880209,0.06004465894506837,0.05873678649902345,0.057434135100667326,0.056136704750000016,0.0548444954470215,0.05355750719173179,0.05227573998413087,0.050999193824218775,0.04972786871199548,0.04846176464746098,0.04720088163061527,0.04594521966145837,0.044694778739990275,0.043449558866210984,0.04220956004012048,0.04097478226171879,0.039745225531005894,0.03852088984798181,0.037301775212646535,0.03608788162500004,0.03487920908504237,0.033675757592773505,0.03247752714819342,0.03128451775130214,0.030096729402099672,0.028914162100586,0.02773681584676114,0.02656469064062507,0.0253977864821778,0.024236103371419338,0.023079641308349684,0.021928400292968823,0.020782380325276763,0.019641581405273528,0.018506003532959073,0.017375646708333425,0.016250510931396577,0.01513059620214853,0.014015902520589285,0.012906429886718846,0.011802178300537204,0.010703147762044368,0.009609338271240333,0.0085207498281251,0.00743738243269867,0.006359236084961052,0.005286310784912225,0.0042186065325522,0.003156123327880978,0.002098861170898557,0.001046820061604939],[0.130526192220052,0.1269826865871143,0.12340708821452179,0.11979939710227448,0.11615961325037233,0.11248773665881537,0.10878376732760357,0.10504770525673694,0.10127955044621552,0.09747930289603926,0.09364696260620817,0.08978252957672227,0.0858860038075815,0.08195738529878596,0.07799667405033558,0.07400387006223037,0.06997897333447035,0.0659219838670555,0.06183290165998587,0.05771172671326137,0.05355845902688205,0.049373098600847924,0.045155645435158945,0.04090609952981515,0.03662446088481655,0.032310729500163116,0.027964905375854856,0.023586988511891768,0.019176978908273874,0.014734876565001165,0.01026068148207361,0.005754393659491236,0.001216013097254047,-0.00335446020463797,-0.007957026246184815,-0.012591685027386446,-0.01725843654824294,-0.021957280808754236,-0.026688217808920375,-0.03145124754874133,-0.03624637002821712,-0.04107358524734768,-0.0459328932061331,-0.05082429390457335,-0.05574778734266843,-0.060703373520418324,-0.06569105243782304,-0.07071082409488257,-0.07576268849159692,-0.0808466456279661,-0.08596269550399012,-0.09111083811966895,-0.09629107347500261,-0.1015034015699911,-0.10674782240463439,-0.11202433597893252,-0.11733294229288545,-0.12267364134649318,-0.12804643313975578,-0.13345131767267318,-0.13888829494524543,-0.14435736495747248,-0.14985852770935437,-0.1553917832008911,-0.16095713143208262,-0.16655457240292898,-0.17218410611343013,-0.17784573256358616,-0.18353945175339698,-0.18926526368286253,-0.19502316835198302,-0.20081316576075833,-0.20663525590918844,-0.21248943879727336,-0.2183757144250131,-0.2242940827924077,-0.23024454389945712,-0.23622709774616132,-0.2422417443325204,-0.24828848365853431,-0.254367315724203,-0.2604782405295265,-0.26662125807450476,-0.27279636835913795,-0.2790035713834259,-0.28524286714736874,-0.2915142556509664,-0.29781773689421887,-0.30415331087712616,-0.3105209775996882,-0.31692073706190516,-0.32335258926377697,-0.3298165342053035,-0.3363125718864849,-0.34284070230732105,-0.3494009254678121,-0.355993241367958,-0.36261765000775864,-0.36927415138721414,-0.37596274550632447],[0.130526192220052,0.12675324693425097,0.12292914373660345,0.11905388262710953,0.11512746360576914,0.1111498866725823,0.107121151827549,0.10304125907066923,0.09891020840194305,0.09472799982137038,0.09049463332895125,0.08621010892468568,0.08187442660857365,0.07748758638061516,0.07304958824081023,0.06856043218915885,0.064020118225661,0.0594286463503167,0.05478601656312597,0.05009222886408876,0.0453472832532051,0.04055117973047499,0.035703918295898404,0.03080549894947537,0.025855921691205902,0.02085518652108996,0.01580329343912757,0.010700242445318718,0.005546033539663431,0.0003406667221616949,-0.004915858007186517,-0.010223540648381185,-0.015582381201422302,-0.020992379666309874,-0.026453536043043895,-0.03196585033162434,-0.03752932253205128,-0.04314395264432466,-0.04880974066844451,-0.05452668660441081,-0.06029479045222355,-0.06611405221188273,-0.07198447188338838,-0.07790604946674048,-0.08387878496193907,-0.0899026783689841,-0.09597772968787557,-0.10210393891861348,-0.10828130606119787,-0.11450983111562871,-0.12078951408190601,-0.12712035496002977,-0.13350235374999997,-0.13993551045181662,-0.14641982506547974,-0.1529552975909893,-0.1595419280283453,-0.16617971637754772,-0.17286866263859665,-0.17960876681149204,-0.1864000288962339,-0.1932424488928222,-0.20013602680125694,-0.20708076262153816,-0.2140766563536658,-0.22112370799763992,-0.22822191755346047,-0.23537128502112747,-0.24257181040064096,-0.2498234936920008,-0.2571263348952072,-0.26448033401026005,-0.2718854910371593,-0.279341805975905,-0.28684927882649724,-0.2944079095889359,-0.30201769826322106,-0.3096786448493526,-0.31739074934733064,-0.32515401175715514,-0.33296843207882604,-0.3408340103123434,-0.3487507464577071,-0.3567186405149174,-0.36473769248397414,-0.3728079023648773,-0.380929270157627,-0.38910179586222315,-0.3973254794786657,-0.4056003210069547,-0.4139263204470902,-0.4223034777990721,-0.4307317930629005,-0.43921126623857537,-0.4477418973260965,-0.4563236863254643,-0.46495663323667846,-0.4736407380597391,-0.48237600079464615,-0.49116242144139977],[-0.13052619222005177,-0.13103821717897776,-0.13156581594739666,-0.13210898852530847,-0.13266773491271316,-0.1332420551096108,-0.13383194911600127,-0.13443741693188468,-0.135058458557261,-0.13569507399213024,-0.13634726323649238,-0.1370150262903474,-0.13769836315369532,-0.13839727382653616,-0.13911175830886988,-0.1398418166006965,-0.14058744870201606,-0.1413486546128285,-0.14212543433313385,-0.1429177878629321,-0.14372571520222327,-0.14454921635100731,-0.14538829130928427,-0.1462429400770541,-0.14711316265431687,-0.14799895904107255,-0.1489003292373211,-0.1498172732430626,-0.15074979105829697,-0.15169788268302423,-0.15266154811724442,-0.1536407873609575,-0.15463560041416347,-0.15564598727686235,-0.15667194794905417,-0.15771348243073885,-0.15877059072191646,-0.15984327282258698,-0.16093152873275038,-0.16203535845240669,-0.16315476198155587,-0.16428973932019802,-0.16544029046833303,-0.16660641542596094,-0.16778811419308176,-0.1689853867696955,-0.17019823315580213,-0.17142665335140161,-0.17267064735649407,-0.1739302151710794,-0.17520535679515764,-0.1764960722287288,-0.17780236147179285,-0.17912422452434978,-0.18046166138639963,-0.18181467205794238,-0.18318325653897805,-0.18456741482950662,-0.18596714692952804,-0.18738245283904242,-0.1888133325580497,-0.19025978608654986,-0.19172181342454295,-0.19319941457202894,-0.1946925895290078,-0.1962013382954796,-0.19772566087144428,-0.19926555725690187,-0.20082102745185235,-0.20239207145629573,-0.20397868927023202,-0.20558088089366122,-0.2071986463265833,-0.20883198556899835,-0.21048089862090624,-0.21214538548230705,-0.21382544615320076,-0.21552108063358738,-0.2172322889234669,-0.21895907102283935,-0.2207014269317047,-0.2224593566500629,-0.224232860177914,-0.22602193751525806,-0.227826588662095,-0.22964681361842482,-0.23148261238424755,-0.23333398495956323,-0.23520093134437178,-0.23708345153867325,-0.2389815455424676,-0.24089521335575487,-0.242824454978535,-0.2447692704108081,-0.24672965965257404,-0.24870562270383292,-0.25069715956458466,-0.25270427023482933,-0.2547269547145669,-0.2567652130037974],[-0.38268343236508967,-0.380737653419697,-0.3788768554624223,-0.37710103849326515,-0.3754102025122259,-0.3738043475193043,-0.37228347351450053,-0.3708475804978145,-0.3694966684692463,-0.36823073742879575,-0.36704978737646293,-0.36595381831224794,-0.36494283023615065,-0.36401682314817113,-0.3631757970483094,-0.36241975193656534,-0.36174868781293906,-0.3611626046774306,-0.36066150253004,-0.360245381370767,-0.35991424119961185,-0.3596680820165743,-0.35950690382165457,-0.3594307066148526,-0.3594394903961684,-0.3595332551656019,-0.35971200092315325,-0.35997572766882235,-0.3603244354026091,-0.36075812412451363,-0.36127679383453604,-0.36188044453267604,-0.36256907621893397,-0.3633426888933095,-0.36420128255580286,-0.365144857206414,-0.3661734128451428,-0.3672869494719895,-0.36848546708695384,-0.369768965690036,-0.3711374452812358,-0.37259090586055355,-0.37412934742798887,-0.37575276998354207,-0.377461173527213,-0.37925455805900166,-0.38113292357890804,-0.38309627008693214,-0.38514459758307407,-0.38727790606733375,-0.3894961955397112,-0.3917994660002064,-0.3941877174488193,-0.39666094988555,-0.39921916331039853,-0.40186235772336465,-0.40459053312444865,-0.40740368951365036,-0.41030182689096983,-0.413284945256407,-0.41635304460996203,-0.41950612495163475,-0.4227441862814253,-0.42606722859933355,-0.4294752519053595,-0.4329682561995033,-0.4365462414817648,-0.4402092077521441,-0.44395715501064115,-0.4477900832572559,-0.4517079924919884,-0.4557108827148387,-0.4597987539258067,-0.4639716061248925,-0.46822943931209615,-0.4725722534874174,-0.47700004865085655,-0.4815128248024133,-0.4861105819420879,-0.49079332006988025,-0.49556103918579036,-0.5004137392898182,-0.5053514203819638,-0.5103740824622272,-0.5154817255306082,-0.5206743495871071,-0.5259519546317236,-0.531314540664458,-0.5367621076853102,-0.54229465569428,-0.5479121846913677,-0.5536146946765731,-0.5594021856498963,-0.5652746576113372,-0.5712321105608958,-0.5772745444985723,-0.5834019594243665,-0.5896143553382783,-0.595911732240308,-0.6022940901304554],[-0.38268343236508967,-0.3799338196787702,-0.3773052947939565,-0.37479785771064855,-0.37241150842884635,-0.37014624694854986,-0.36800207326975914,-0.36597898739247414,-0.3640769893166949,-0.3622960790424214,-0.36063625656965353,-0.35909752189839156,-0.3576798750286352,-0.3563833159603847,-0.35520784469363975,-0.35415346122840063,-0.35322016556466723,-0.3524079577024397,-0.3517168376417179,-0.35114680538250165,-0.3506978609247913,-0.3503700042685866,-0.3501632354138876,-0.3500775543606944,-0.35011296110900697,-0.3502694556588252,-0.3505470380101492,-0.35094570816297893,-0.3514654661173145,-0.3521063118731556,-0.35286824543050255,-0.35375126678935526,-0.35475537594971374,-0.3558805729115778,-0.3571268576749478,-0.35849423023982346,-0.35998269060620486,-0.36159223877409197,-0.36332287474348485,-0.36517459851438344,-0.36714741008678775,-0.36924130946069783,-0.3714562966361136,-0.3737923716130352,-0.37624953439146247,-0.3788277849713955,-0.38152712335283423,-0.38434754953577877,-0.38728906352022896,-0.3903516653061849,-0.39353535489364666,-0.39684013228261406,-0.4002659974730873,-0.40381295046506616,-0.40748099125855086,-0.4112701198535412,-0.41518033625003736,-0.41921164044803927,-0.42336403244754683,-0.42763751224856017,-0.4320320798510793,-0.43654773525510404,-0.4411844784606346,-0.44594230946767094,-0.45082122827621296,-0.4558212348862607,-0.4609423292978142,-0.4661845115108735,-0.47154778152543847,-0.4770321393415091,-0.4826375849590856,-0.4883641183781678,-0.49421173959875575,-0.5001804486208493,-0.5062702454444488,-0.512481130069554,-0.5188131024961649,-0.5252661627242814,-0.5318403107539038,-0.5385355465850319,-0.5453518702176657,-0.5522892816518054,-0.5593477808874505,-0.5665273679246016,-0.5738280427632584,-0.5812498054034209,-0.5887926558450891,-0.5964565940882632,-0.6042416201329428,-0.6121477339791284,-0.6201749356268196,-0.6283232250760166,-0.6365926023267192,-0.6449830673789276,-0.6534946202326417,-0.6621272608878616,-0.6708809893445873,-0.6797558056028186,-0.6887517096625556,-0.6978687015237985],[-0.38268343236508967,-0.3821088848453559,-0.38156964466291665,-0.3810657118177721,-0.3805970863099222,-0.38016376813936675,-0.37976575730610607,-0.3794030538101399,-0.37907565765146833,-0.37878356883009145,-0.3785267873460091,-0.37830531319922134,-0.37811914638972816,-0.3779682869175297,-0.3778527347826257,-0.37777248998501634,-0.3777275525247016,-0.37771792240168156,-0.3777435996159561,-0.37780458416752516,-0.37790087605638895,-0.37803247528254713,-0.37819938184600005,-0.3784015957467475,-0.37863911698478964,-0.3789119455601263,-0.37922008147275765,-0.3795635247226835,-0.3799422753099041,-0.38035633323441914,-0.3808056984962289,-0.3812903710953332,-0.38181035103173216,-0.3823656383054257,-0.3829562329164138,-0.38358213486469667,-0.38424334415027395,-0.3849398607731459,-0.38567168473331254,-0.3864388160307737,-0.3872412546655294,-0.38807900063757983,-0.3889520539469248,-0.38986041459356435,-0.3908040825774985,-0.3917830578987273,-0.3927973405572507,-0.39384693055306863,-0.3949318278861812,-0.39605203255658844,-0.39720754456429025,-0.3983983639092867,-0.3996244905915777,-0.40088592461116324,-0.4021826659680434,-0.40351471466221833,-0.4048820706936877,-0.4062847340624517,-0.40772270476851036,-0.40919598281186353,-0.41070456819251144,-0.41224846091045386,-0.4138276609656909,-0.41544216835822256,-0.4170919830880488,-0.4187771051551697,-0.42049753455958516,-0.4222532713012952,-0.42404431538029985,-0.4258706667965991,-0.42773232555019297,-0.4296292916410815,-0.4315615650692645,-0.43352914583474217,-0.4355320339375145,-0.4375702293775814,-0.4396437321549429,-0.441752542269599,-0.4438966597215497,-0.44607608451079506,-0.4482908166373349,-0.4505408561011694,-0.45282620290229847,-0.4551468570407222,-0.4575028185164405,-0.4598940873294534,-0.462320663479761,-0.46478254696736315,-0.46727973779225984,-0.4698122359544512,-0.4723800414539372,-0.4749831542907177,-0.47762157446479286,-0.48029530197616266,-0.48300433682482696,-0.4857486790107859,-0.4885283285340395,-0.49134328539458766,-0.4941935495924304,-0.4970791211275678],[-0.4999999999999998,-0.49296158336758494,-0.4861646387603448,-0.4796091661782796,-0.4732951656213892,-0.46722263708967354,-0.4613915805831327,-0.4558019961017667,-0.45045388364557554,-0.44534724321455915,-0.44048207480871754,-0.43585837842805075,-0.4314761540725588,-0.4273354017422416,-0.42343612143709924,-0.41977831315713166,-0.41636197690233884,-0.41318711267272096,-0.4102537204682779,-0.4075618002890096,-0.40511135213491606,-0.4029023760059974,-0.40093487190225346,-0.39920883982368427,-0.39772427977029,-0.3964811917420705,-0.39547957573902587,-0.394719431761156,-0.3942007598084609,-0.3939235598809407,-0.3938878319785952,-0.39409357610142454,-0.39454079224942873,-0.39522948042260775,-0.39615964062096154,-0.39733127284449016,-0.39874437709319355,-0.40039895336707176,-0.40229500166612475,-0.4044325219903526,-0.40681151433975526,-0.4094319787143327,-0.41229391511408486,-0.41539732353901193,-0.41874220398911377,-0.42232855646439055,-0.426156380964842,-0.43022567749046825,-0.4345364460412693,-0.4390886866172452,-0.4438823992183959,-0.4489175838447214,-0.45419424049622176,-0.4597123691728969,-0.4654719698747468,-0.4714730426017716,-0.4777155873539711,-0.48419960413134544,-0.4909250929338946,-0.4978920537616185,-0.5051004866145173,-0.512550391492591,-0.5202417683958394,-0.5281746173242625,-0.5363489382778606,-0.5447647312566334,-0.553421996260581,-0.5623207332897034,-0.5714609423440007,-0.5808426234234726,-0.5904657765281195,-0.6003304016579412,-0.6104364988129376,-0.6207840679931088,-0.6313731091984549,-0.6422036224289759,-0.6532756076846716,-0.664589064965542,-0.6761439942715874,-0.6879403956028076,-0.6999782689592026,-0.7122576143407723,-0.7247784317475165,-0.737540721179436,-0.7505444826365301,-0.7637897161187992,-0.7772764216262429,-0.7910045991588616,-0.8049742487166549,-0.8191853702996231,-0.8336379639077661,-0.848332029541084,-0.8632675671995765,-0.878444576883244,-0.8938630585920861,-0.9095230123261032,-0.9254244380852951,-0.9415673358696617,-0.9579517056792032,-0.9745775475139195],[-0.4999999999999998,-0.4926705344400655,-0.4855832653209964,-0.47873819264279244,-0.4721353164054536,-0.46577463660897994,-0.45965615325337145,-0.4537798663386281,-0.44814577586474996,-0.4427538818317369,-0.437604184239589,-0.4326966830883063,-0.42803137837788857,-0.4236082701083362,-0.4194273582796488,-0.4154886428918267,-0.41179212394486964,-0.4083378014387778,-0.40512567537355115,-0.4021557457491896,-0.39942801256569327,-0.396942475823062,-0.3946991355212959,-0.3926979916603949,-0.3909390442403591,-0.3894222932611885,-0.38814773872288294,-0.38711538062544254,-0.3863252189688674,-0.38577725375315736,-0.3854714849783124,-0.38540791264433266,-0.385586536751218,-0.3860073572989686,-0.38667037428758433,-0.38757558771706524,-0.38872299758741125,-0.39011260389862246,-0.39174440665069876,-0.39361840584364016,-0.39573460147744677,-0.3980929935521185,-0.40069358206765543,-0.4035363670240575,-0.4066213484213247,-0.4099485262594571,-0.4135179005384546,-0.4173294712583172,-0.421383238419045,-0.425679202020638,-0.43021736206309613,-0.4349977185464194,-0.4400202714706078,-0.44528502083566135,-0.45079196664158006,-0.45654110888836397,-0.462532447576013,-0.4687659827045271,-0.4752417142739064,-0.48195964228415084,-0.4889197667352605,-0.4961220876272353,-0.5035666049600752,-0.5112533187337802,-0.5191822289483504,-0.5273533356037858,-0.5357666387000863,-0.544422138237252,-0.5533198342152829,-0.5624597266341788,-0.5718418154939399,-0.5814661007945662,-0.5913325825360576,-0.6014412607184141,-0.6117921353416359,-0.6223852064057227,-0.6332204739106748,-0.6442979378564919,-0.6556175982431743,-0.6671794550707218,-0.6789835083391345,-0.6910297580484123,-0.703318204198555,-0.7158488467895631,-0.7286216858214363,-0.7416367212941747,-0.7548939532077782,-0.768393381562247,-0.7821350063575807,-0.7961188275937797,-0.8103448452708438,-0.8248130593887733,-0.8395234699475677,-0.8544760769472273,-0.8696708803877519,-0.8851078802691418,-0.9007870765913968,-0.916708469354517,-0.9328720585585023,-0.9492778442033528],[-0.6087614290087207,-0.6071394634743124,-0.6055701326683116,-0.6040534365907189,-0.602589375241534,-0.6011779486207569,-0.5998191567283876,-0.598512999564426,-0.5972594771288725,-0.5960585894217266,-0.5949103364429886,-0.5938147181926583,-0.5927717346707357,-0.5917813858772212,-0.5908436718121143,-0.5899585924754154,-0.5891261478671241,-0.5883463379872408,-0.5876191628357652,-0.5869446224126974,-0.5863227167180375,-0.5857534457517852,-0.585236809513941,-0.5847728080045044,-0.5843614412234757,-0.5840027091708547,-0.5836966118466417,-0.5834431492508364,-0.5832423213834388,-0.5830941282444492,-0.5829985698338673,-0.5829556461516932,-0.5829653571979271,-0.5830277029725686,-0.5831426834756179,-0.5833102987070753,-0.5835305486669403,-0.5838034333552131,-0.5841289527718937,-0.5845071069169823,-0.5849378957904784,-0.5854213193923826,-0.5859573777226943,-0.5865460707814141,-0.5871873985685416,-0.5878813610840768,-0.5886279583280201,-0.5894271903003708,-0.5902790570011296,-0.5911835584302961,-0.5921406945878706,-0.5931504654738526,-0.5942128710882427,-0.5953279114310405,-0.5964955865022461,-0.5977158963018594,-0.5989888408298807,-0.6003144200863098,-0.6016926340711466,-0.6031234827843912,-0.6046069662260437,-0.606143084396104,-0.6077318372945721,-0.6093732249214481,-0.6110672472767317,-0.6128139043604232,-0.6146131961725225,-0.6164651227130297,-0.6183696839819446,-0.6203268799792674,-0.622336710704998,-0.6243991761591363,-0.6265142763416824,-0.6286820112526366,-0.6309023808919983,-0.6331753852597679,-0.6355010243559454,-0.6378792981805307,-0.6403102067335237,-0.6427937500149247,-0.6453299280247333,-0.6479187407629499,-0.6505601882295741,-0.6532542704246063,-0.6560009873480461,-0.6588003389998939,-0.6616523253801493,-0.6645569464888128,-0.6675142023258839,-0.6705240928913629,-0.6735866181852497,-0.6767017782075443,-0.6798695729582467,-0.6830900024373568,-0.6863630666448749,-0.6896887655808007,-0.6930670992451344,-0.6964980676378759,-0.6999816707590251,-0.7035179086085822],[-0.6087614290087207,-0.604658375457516,-0.6006755031722513,-0.5968128121529266,-0.593070302399542,-0.5894479739120974,-0.5859458266905926,-0.5825638607350279,-0.5793020760454032,-0.5761604726217185,-0.5731390504639738,-0.5702378095721692,-0.5674567499463044,-0.5647958715863797,-0.5622551744923949,-0.5598346586643501,-0.5575343241022455,-0.5553541708060807,-0.5532941987758562,-0.5513544080115714,-0.5495347985132267,-0.5478353702808219,-0.546256123314357,-0.5447970576138323,-0.5434581731792475,-0.5422394700106028,-0.541140948107898,-0.5401626074711332,-0.5393044481003084,-0.5385664699954237,-0.5379486731564789,-0.5374510575834741,-0.5370736232764093,-0.5368163702352846,-0.5366792984600998,-0.536662407950855,-0.5367656987075502,-0.5369891707301854,-0.5373328240187606,-0.5377966585732757,-0.5383806743937309,-0.5390848714801262,-0.5399092498324614,-0.5408538094507365,-0.5419185503349517,-0.5431034724851069,-0.5444085759012021,-0.5458338605832371,-0.5473793265312122,-0.5490449737451274,-0.5508308022249826,-0.5527368119707776,-0.5547630029825128,-0.556909375260188,-0.5591759288038032,-0.5615626636133582,-0.5640695796888533,-0.5666966770302884,-0.5694439556376636,-0.5723114155109787,-0.5752990566502338,-0.5784068790554289,-0.581634882726564,-0.5849830676636392,-0.5884514338666542,-0.5920399813356093,-0.5957487100705043,-0.5995776200713395,-0.6035267113381145,-0.6075959838708296,-0.6117854376694847,-0.6160950727340797,-0.6205248890646148,-0.6250748866610898,-0.629745065523505,-0.6345354256518599,-0.639445967046155,-0.64447668970639,-0.6496275936325651,-0.6548986788246802,-0.6602899452827352,-0.6658013930067302,-0.6714330219966651,-0.6771848322525402,-0.6830568237743552,-0.6890489965621103,-0.6951613506158052,-0.7013938859354403,-0.7077466025210153,-0.7142195003725302,-0.7208125794899853,-0.7275258398733803,-0.7343592815227152,-0.7413129044379902,-0.7483867086192052,-0.7555806940663602,-0.7628948607794551,-0.7703292087584901,-0.777883738003465,-0.78555844851438],[-0.6087614290087207,-0.6032227411761154,-0.5978479185471539,-0.5926369611218361,-0.587589868900162,-0.5827066418821315,-0.5779872800677447,-0.5734317834570015,-0.5690401520499022,-0.5648123858464466,-0.5607484848466345,-0.5568484490504662,-0.5531122784579414,-0.5495399730690604,-0.5461315328838232,-0.5428869579022295,-0.5398062481242795,-0.5368894035499734,-0.5341364241793108,-0.531547310012292,-0.5291220610489168,-0.5268606772891853,-0.5247631587330974,-0.5228295053806533,-0.5210597172318528,-0.519453794286696,-0.518011736545183,-0.5167335440073135,-0.5156192166730877,-0.5146687545425057,-0.5138821576155673,-0.5132594258922727,-0.5128005593726217,-0.5125055580566145,-0.5123744219442508,-0.5124071510355309,-0.5126037453304547,-0.5129642048290222,-0.5134885295312333,-0.5141767194370881,-0.5150287745465866,-0.5160446948597288,-0.5172244803765146,-0.5185681310969441,-0.5200756470210174,-0.5217470281487343,-0.5235822744800949,-0.5255813860150992,-0.5277443627537471,-0.5300712046960387,-0.5325619118419741,-0.5352164841915531,-0.5380349217447759,-0.5410172245016422,-0.5441633924621523,-0.5474734256263061,-0.5509473239941034,-0.5545850875655447,-0.5583867163406294,-0.5623522103193579,-0.56648156950173,-0.5707747938877459,-0.5752318834774055,-0.5798528382707088,-0.5846376582676556,-0.5895863434682462,-0.5946988938724805,-0.5999753094803585,-0.6054155902918802,-0.6110197363070454,-0.6167877475258545,-0.6227196239483073,-0.6288153655744035,-0.6350749724041436,-0.6414984444375275,-0.6480857816745549,-0.654836984115226,-0.6617520517595408,-0.6688309846074993,-0.6760737826591016,-0.6834804459143474,-0.6910509743732369,-0.6987853680357701,-0.7066836269019471,-0.7147457509717675,-0.7229717402452318,-0.7313615947223399,-0.7399153144030916,-0.7486328992874869,-0.757514349375526,-0.7665596646672087,-0.7757688451625351,-0.7851418908615051,-0.794678801764119,-0.8043795778703764,-0.8142442191802775,-0.8242727256938223,-0.8344650974110108,-0.8448213343318429,-0.8553414364563188],[-0.6087614290087207,-0.6022569719861703,-0.5959475783587224,-0.5898332481263772,-0.5839139812891344,-0.5781897778469941,-0.5726606377999565,-0.5673265611480214,-0.5621875478911889,-0.5572435980294589,-0.5524947115628314,-0.5479408884913065,-0.543582128814884,-0.5394184325335641,-0.535449799647347,-0.5316762301562322,-0.52809772406022,-0.5247142813593104,-0.5215259020535034,-0.5185325861427988,-0.5157343336271969,-0.5131311445066974,-0.5107230187813004,-0.508509956451006,-0.5064919575158142,-0.5046690219757249,-0.5030411498307382,-0.5016083410808541,-0.5003705957260723,-0.4993279137663933,-0.4984802952018167,-0.4978277400323427,-0.49737024825797127,-0.4971078198787024,-0.497040454894536,-0.4971681533054723,-0.497490915111511,-0.4980087403126523,-0.4987216289088961,-0.49962958090024256,-0.5007325962866914,-0.502030675068243,-0.5035238172448969,-0.5052120228166536,-0.5070952917835125,-0.5091736241454743,-0.5114470199025385,-0.5139154790547051,-0.5165790016019745,-0.5194375875443463,-0.5224912368818208,-0.5257399496143977,-0.5291837257420772,-0.5328225652648592,-0.5366564681827437,-0.5406854344957308,-0.5449094642038206,-0.5493285573070128,-0.5539427138053075,-0.5587519336987048,-0.5637562169872046,-0.568955563670807,-0.574349973749512,-0.5799394472233195,-0.5857239840922295,-0.5917035843562422,-0.5978782480153573,-0.6042479750695751,-0.6108127655188952,-0.6175726193633179,-0.6245275366028432,-0.6316775172374711,-0.6390225612672016,-0.6465626686920344,-0.6542978395119701,-0.6622280737270081,-0.6703533713371486,-0.6786737323423917,-0.6871891567427375,-0.6958996445381858,-0.7048051957287366,-0.7139058103143899,-0.7232014882951455,-0.7326922296710041,-0.742378034441965,-0.7522589026080284,-0.7623348341691946,-0.7726058291254633,-0.7830718874768343,-0.7937330092233081,-0.8045891943648844,-0.8156404429015632,-0.8268867548333444,-0.8383281301602284,-0.8499645688822147,-0.8617960709993038,-0.8738226365114953,-0.8860442654187893,-0.898460957721186,-0.9110727134186851],[-0.7933533402912349,-0.7907944910128971,-0.7883020168843223,-0.7858759179055106,-0.7835161940764619,-0.7812228453971762,-0.7789958718676535,-0.7768352734878938,-0.7747410502578973,-0.7727132021776637,-0.7707517292471933,-0.7688566314664856,-0.7670279088355412,-0.7652655613543597,-0.7635695890229413,-0.7619399918412858,-0.7603767698093933,-0.758879922927264,-0.7574494511948978,-0.7560853546122945,-0.7547876331794542,-0.753556286896377,-0.7523913157630626,-0.7512927197795114,-0.7502604989457232,-0.749294653261698,-0.748395182727436,-0.7475620873429368,-0.7467953671082006,-0.7460950220232276,-0.7454610520880176,-0.7448934573025707,-0.7443922376668868,-0.7439573931809657,-0.7435889238448078,-0.743286829658413,-0.7430511106217811,-0.7428817667349122,-0.7427787979978066,-0.7427422044104637,-0.7427719859728841,-0.7428681426850674,-0.7430306745470137,-0.743259581558723,-0.7435548637201952,-0.7439165210314308,-0.7443445534924291,-0.7448389611031906,-0.745399743863715,-0.7460269017740024,-0.746720434834053,-0.7474803430438666,-0.7483066264034431,-0.7491992849127828,-0.7501583185718853,-0.751183727380751,-0.7522755113393796,-0.7534336704477713,-0.7546582047059261,-0.7559491141138439,-0.7573063986715247,-0.7587300583789685,-0.7602200932361753,-0.7617765032431452,-0.7633992883998781,-0.765088448706374,-0.766843984162633,-0.768665894768655,-0.77055418052444,-0.7725088414299879,-0.7745298774852991,-0.7766172886903732,-0.7787710750452101,-0.7809912365498104,-0.7832777732041736,-0.7856306850082997,-0.788049971962189,-0.7905356340658412,-0.7930876713192565,-0.7957060837224348,-0.7983908712753762,-0.8011420339780805,-0.8039595718305479,-0.8068434848327783,-0.8097937729847716,-0.812810436286528,-0.8158934747380476,-0.8190428883393301,-0.8222586770903757,-0.8255408409911843,-0.8288893800417559,-0.8323042942420906,-0.8357855835921881,-0.8393332480920489,-0.8429472877416726,-0.8466277025410593,-0.850374492490209,-0.8541876575891219,-0.8580671978377976,-0.8620131132362365],[-0.9659258262890683,-0.9623054226783432,-0.9587633138951246,-0.9552994999394127,-0.951913980811207,-0.948606756510508,-0.9453778270373155,-0.9422271923916296,-0.9391548525734502,-0.9361608075827772,-0.9332450574196108,-0.9304076020839508,-0.9276484415757974,-0.9249675758951504,-0.92236500504201,-0.9198407290163763,-0.9173947478182488,-0.9150270614476279,-0.9127376699045138,-0.9105265731889061,-0.9083937713008049,-0.90633926424021,-0.9043630520071216,-0.9024651346015398,-0.9006455120234645,-0.898904184272896,-0.8972411513498337,-0.8956564132542779,-0.8941499699862289,-0.8927218215456861,-0.8913719679326498,-0.8901004091471203,-0.8889071451890972,-0.8877921760585807,-0.8867555017555706,-0.8857971222800671,-0.88491703763207,-0.8841152478115796,-0.8833917528185955,-0.882746552653118,-0.8821796473151471,-0.8816910368046825,-0.8812807211217246,-0.8809487002662731,-0.8806949742383282,-0.8805195430378898,-0.8804224066649581,-0.8804035651195324,-0.8804630184016136,-0.8806007665112012,-0.8808168094482954,-0.8811111472128961,-0.8814837798050033,-0.881934707224617,-0.8824639294717371,-0.8830714465463639,-0.8837572584484972,-0.8845213651781371,-0.8853637667352833,-0.8862844631199361,-0.8872834543320955,-0.8883607403717613,-0.8895163212389336,-0.8907501969336125,-0.8920623674557978,-0.8934528328054896,-0.8949215929826881,-0.8964686479873931,-0.8980939978196045,-0.8997976424793224,-0.9015795819665469,-0.9034398162812779,-0.9053783454235154,-0.9073951693932594,-0.9094902881905099,-0.9116637018152669,-0.9139154102675304,-0.9162454135473005,-0.9186537116545772,-0.9211403045893604,-0.9237051923516499,-0.926348374941446,-0.9290698523587486,-0.9318696246035578,-0.9347476916758733,-0.9377040535756956,-0.9407387103030244,-0.9438516618578596,-0.9470429082402014,-0.9503124494500497,-0.9536602854874043,-0.9570864163522657,-0.9605908420446334,-0.9641735625645078,-0.9678345779118886,-0.9715738880867759,-0.9753914930891698,-0.9792873929190702,-0.9832615875764771,-0.9873140770613905],[-0.9659258262890683,-0.9579254255917797,-0.9500935328224587,-0.9424301479811055,-0.9349352710677197,-0.9276089020823016,-0.9204510410248512,-0.9134616878953684,-0.9066408426938534,-0.899988505420306,-0.8935046760747261,-0.8871893546571137,-0.881042541167469,-0.8750642356057922,-0.8692544379720827,-0.863613148266341,-0.858140366488567,-0.8528360926387605,-0.8477003267169219,-0.8427330687230508,-0.8379343186571473,-0.8333040765192113,-0.8288423423092429,-0.8245491160272422,-0.8204243976732093,-0.816468187247144,-0.8126804847490462,-0.8090612901789159,-0.8056106035367536,-0.8023284248225587,-0.7992147540363316,-0.796269591178072,-0.7934929362477801,-0.7908847892454558,-0.7884451501710992,-0.7861740190247102,-0.7840713958062888,-0.7821372805158351,-0.7803716731533489,-0.7787745737188305,-0.7773459822122796,-0.7760858986336965,-0.774994322983081,-0.774071255260433,-0.7733166954657527,-0.77273064359904,-0.7723130996602949,-0.7720640636495174,-0.7719835355667077,-0.7720715154118656,-0.7723280031849911,-0.7727529988860842,-0.7733465025151449,-0.7741085140721734,-0.7750390335571694,-0.7761380609701332,-0.7774055963110644,-0.7788416395799633,-0.78044619077683,-0.7822192499016641,-0.784160816954466,-0.7862708919352355,-0.7885494748439725,-0.7909965656806773,-0.7936121644453498,-0.7963962711379897,-0.7993488857585973,-0.8024700083071727,-0.8057596387837156,-0.8092177771882261,-0.8128444235207043,-0.8166395777811501,-0.8206032399695635,-0.8247354100859446,-0.8290360881302934,-0.8335052741026098,-0.8381429680028938,-0.8429491698311453,-0.8479238795873647,-0.8530670972715516,-0.8583788228837061,-0.8638590564238283,-0.869507797891918,-0.8753250472879754,-0.8813108046120005,-0.8874650698639932,-0.8937878430439535,-0.9002791241518816,-0.9069389131877772,-0.9137672101516404,-0.9207640150434714,-0.9279293278632699,-0.935263148611036,-0.9427654772867698,-0.9504363138904712,-0.9582756584221402,-0.9662835108817769,-0.9744598712693813,-0.9828047395849532,-0.9913181158284927],[-0.9914448613738104,-0.9875873519345522,-0.9838095002897488,-0.9801113064394005,-0.9764927703835071,-0.9729538921220686,-0.9694946716550852,-0.9661151089825566,-0.9628152041044831,-0.9595949570208645,-0.9564543677317009,-0.9533934362369921,-0.9504121625367383,-0.9475105466309396,-0.9446885885195956,-0.9419462882027065,-0.9392836456802726,-0.9367006609522937,-0.9341973340187698,-0.9317736648797007,-0.9294296535350867,-0.9271652999849274,-0.924980604229223,-0.9228755662679735,-0.9208501861011793,-0.9189044637288399,-0.9170383991509555,-0.915251992367526,-0.9135452433785515,-0.9119181521840317,-0.9103707187839671,-0.9089029431783574,-0.9075148253672027,-0.906206365350503,-0.9049775631282582,-0.9038284187004684,-0.9027589320671334,-0.9017691032282535,-0.9008589321838285,-0.9000284189338584,-0.8992775634783433,-0.8986063658172834,-0.898014825950678,-0.8975029438785278,-0.8970707196008325,-0.8967181531175922,-0.8964452444288069,-0.8962519935344763,-0.8961384004346007,-0.8961044651291803,-0.8961501876182147,-0.896275567901704,-0.8964806059796484,-0.8967653018520477,-0.8971296555189019,-0.897573666980211,-0.8980973362359752,-0.8987006632861944,-0.8993836481308684,-0.9001462907699974,-0.9009885912035813,-0.9019105494316202,-0.9029121654541141,-0.9039934392710629,-0.9051543708824665,-0.9063949602883252,-0.907715207488639,-0.9091151124834076,-0.9105946752726312,-0.9121538958563096,-0.9137927742344432,-0.9155113104070316,-0.9173095043740749,-0.9191873561355732,-0.9211448656915265,-0.9231820330419347,-0.9252988581867979,-0.927495341126116,-0.9297714818598891,-0.9321272803881173,-0.9345627367108003,-0.9370778508279382,-0.9396726227395309,-0.9423470524455788,-0.9451011399460816,-0.9479348852410394,-0.9508482883304521,-0.9538413492143198,-0.9569140678926423,-0.96006644436542,-0.9632984786326525,-0.96661017069434,-0.9700015205504824,-0.9734725282010798,-0.9770231936461321,-0.9806535168856394,-0.9843634979196015,-0.9881531367480187,-0.9920224333708908,-0.9959713877882179],[-0.9914448613738105,-0.9873140770613906,-0.9832615875764771,-0.9792873929190702,-0.97539149308917,-0.971573888086776,-0.9678345779118888,-0.9641735625645078,-0.9605908420446336,-0.9570864163522658,-0.9536602854874046,-0.9503124494500497,-0.9470429082402014,-0.9438516618578597,-0.9407387103030244,-0.9377040535756958,-0.9347476916758735,-0.9318696246035579,-0.9290698523587488,-0.9263483749414463,-0.92370519235165,-0.9211403045893604,-0.9186537116545773,-0.9162454135473006,-0.9139154102675306,-0.911663701815267,-0.9094902881905099,-0.9073951693932594,-0.9053783454235154,-0.9034398162812778,-0.9015795819665469,-0.8997976424793224,-0.8980939978196045,-0.896468647987393,-0.894921592982688,-0.8934528328054898,-0.8920623674557979,-0.8907501969336126,-0.8895163212389338,-0.8883607403717614,-0.8872834543320955,-0.8862844631199362,-0.8853637667352834,-0.8845213651781372,-0.8837572584484974,-0.8830714465463642,-0.8824639294717374,-0.8819347072246171,-0.8814837798050034,-0.8811111472128961,-0.8808168094482955,-0.8806007665112013,-0.8804630184016138,-0.8804035651195325,-0.880422406664958,-0.8805195430378898,-0.8806949742383282,-0.8809487002662733,-0.8812807211217246,-0.8816910368046825,-0.8821796473151471,-0.8827465526531181,-0.8833917528185955,-0.8841152478115797,-0.8849170376320701,-0.8857971222800671,-0.8867555017555707,-0.8877921760585809,-0.8889071451890974,-0.8901004091471205,-0.8913719679326502,-0.8927218215456862,-0.894149969986229,-0.895656413254278,-0.8972411513498337,-0.898904184272896,-0.9006455120234647,-0.9024651346015399,-0.9043630520071216,-0.9063392642402099,-0.9083937713008047,-0.9105265731889061,-0.9127376699045138,-0.9150270614476281,-0.9173947478182489,-0.9198407290163764,-0.9223650050420101,-0.9249675758951506,-0.9276484415757974,-0.9304076020839509,-0.9332450574196107,-0.9361608075827773,-0.9391548525734502,-0.9422271923916298,-0.9453778270373157,-0.9486067565105082,-0.9519139808112071,-0.9552994999394128,-0.9587633138951247,-0.9623054226783433],[-0.923879532511287,-0.9197569794501529,-0.9157060225864707,-0.9117266619202404,-0.9078188974514618,-0.9039827291801351,-0.9002181571062602,-0.896525181229837,-0.892903801550866,-0.8893540180693467,-0.8858758307852792,-0.8824692396986634,-0.8791342448094994,-0.8758708461177873,-0.8726790436235271,-0.8695588373267187,-0.8665102272273619,-0.8635332133254574,-0.8606277956210046,-0.8577939741140035,-0.8550317488044543,-0.8523411196923567,-0.8497220867777111,-0.8471746500605172,-0.8446988095407753,-0.8422945652184851,-0.8399619170936469,-0.8377008651662604,-0.8355114094363257,-0.833393549903843,-0.8313472865688118,-0.8293726194312327,-0.8274695484911054,-0.8256380737484299,-0.8238781952032063,-0.8221899128554345,-0.8205732267051146,-0.8190281367522464,-0.81755464299683,-0.8161527454388655,-0.8148224440783527,-0.813563738915292,-0.812376629949683,-0.8112611171815258,-0.8102172006108205,-0.8092448802375669,-0.8083441560617652,-0.8075150280834151,-0.8067574963025171,-0.8060715607190709,-0.8054572213330764,-0.8049144781445339,-0.8044433311534431,-0.8040437803598043,-0.8037158257636172,-0.803459467364882,-0.8032747051635986,-0.803161539159767,-0.8031199693533873,-0.8031499957444592,-0.8032516183329831,-0.8034248371189588,-0.8036696521023864,-0.8039860632832658,-0.8043740706615969,-0.8048336742373801,-0.8053648740106149,-0.8059676699813016,-0.8066420621494401,-0.8073880505150304,-0.8082056350780726,-0.8090948158385667,-0.8100555927965125,-0.8110879659519101,-0.8121919353047597,-0.8133675008550609,-0.8146146626028141,-0.8159334205480191,-0.817323774690676,-0.8187857250307846,-0.8203192715683452,-0.8219244143033573,-0.8236011532358214,-0.8253494883657375,-0.8271694196931052,-0.8290609472179248,-0.8310240709401963,-0.8330587908599196,-0.8351651069770947,-0.8373430192917217,-0.8395925278038004,-0.841913632513331,-0.8443063334203134,-0.8467706305247478,-0.8493065238266337,-0.8519140133259716,-0.8545930990227614,-0.857343780917003,-0.8601660590086962,-0.8630599332978416],[-0.923879532511287,-0.9152882968287672,-0.9068442525353447,-0.8985473996310197,-0.8903977381157919,-0.8823952679896616,-0.8745399892526285,-0.866831901904693,-0.8592710059458547,-0.8518573013761138,-0.8445907881954704,-0.8374714664039241,-0.8304993360014752,-0.8236743969881237,-0.8169966493638696,-0.8104660931287129,-0.8040827282826534,-0.7978465548256914,-0.7917575727578269,-0.7858157820790596,-0.7800211827893897,-0.7743737748888169,-0.7688735583773417,-0.7635205332549637,-0.7583146995216832,-0.7532560571774999,-0.7483446062224143,-0.7435803466564257,-0.7389632784795347,-0.7344934016917408,-0.7301707162930444,-0.7259952222834455,-0.7219669196629439,-0.7180858084315395,-0.7143518885892326,-0.7107651601360231,-0.7073256230719108,-0.704033277396896,-0.7008881231109785,-0.6978901602141584,-0.6950393887064357,-0.6923358085878103,-0.6897794198582822,-0.6873702225178515,-0.6851082165665181,-0.6829934020042822,-0.6810257788311436,-0.6792053470471022,-0.6775321066521582,-0.6760060576463116,-0.6746272000295626,-0.6733955338019106,-0.6723110589633562,-0.6713737755138991,-0.6705836834535394,-0.669940782782277,-0.6694450735001118,-0.6690965556070443,-0.6688952291030739,-0.668841093988201,-0.6689341502624253,-0.6691743979257472,-0.6695618369781662,-0.6700964674196828,-0.6707782892502965,-0.6716073024700078,-0.6725835070788162,-0.6737069030767222,-0.6749774904637256,-0.6763952692398261,-0.677960239405024,-0.6796724009593194,-0.6815317539027121,-0.6835382982352021,-0.6856920339567896,-0.6879929610674744,-0.6904410795672565,-0.693036389456136,-0.6957788907341129,-0.6986685834011872,-0.7017054674573588,-0.7048895429026276,-0.708220809736994,-0.7116992679604577,-0.7153249175730186,-0.719097758574677,-0.7230177909654327,-0.7270850147452859,-0.7312994299142362,-0.7356610364722841,-0.7401698344194292,-0.7448258237556717,-0.7496290044810117,-0.7545793765954489,-0.7596769400989836,-0.7649216949916156,-0.7703136412733448,-0.7758527789441715,-0.7815391080040955,-0.787372628453117],[-0.8660254037844386,-0.8620131132362367,-0.8580671978377977,-0.8541876575891221,-0.8503744924902092,-0.8466277025410595,-0.8429472877416727,-0.839333248092049,-0.8357855835921885,-0.8323042942420908,-0.8288893800417563,-0.8255408409911846,-0.8222586770903759,-0.8190428883393305,-0.815893474738048,-0.8128104362865285,-0.809793772984772,-0.8068434848327786,-0.8039595718305482,-0.8011420339780809,-0.7983908712753767,-0.7957060837224352,-0.7930876713192568,-0.7905356340658416,-0.7880499719621893,-0.7856306850083,-0.7832777732041739,-0.7809912365498106,-0.7787710750452106,-0.7766172886903734,-0.7745298774852993,-0.7725088414299882,-0.7705541805244402,-0.7686658947686552,-0.7668439841626332,-0.7650884487063744,-0.7633992883998785,-0.7617765032431456,-0.7602200932361757,-0.7587300583789688,-0.7573063986715252,-0.7559491141138445,-0.7546582047059266,-0.7534336704477719,-0.7522755113393801,-0.7511837273807515,-0.7501583185718859,-0.7491992849127831,-0.7483066264034436,-0.747480343043867,-0.7467204348340535,-0.7460269017740029,-0.7453997438637154,-0.7448389611031909,-0.7443445534924296,-0.7439165210314311,-0.7435548637201957,-0.7432595815587234,-0.7430306745470141,-0.7428681426850677,-0.7427719859728845,-0.7427422044104642,-0.742778797997807,-0.7428817667349128,-0.7430511106217816,-0.7432868296584135,-0.7435889238448083,-0.7439573931809663,-0.7443922376668872,-0.7448934573025712,-0.7454610520880182,-0.7460950220232283,-0.7467953671082013,-0.7475620873429374,-0.7483951827274364,-0.7492946532616986,-0.7502604989457238,-0.7512927197795118,-0.7523913157630632,-0.7535562868963774,-0.7547876331794547,-0.756085354612295,-0.7574494511948983,-0.7588799229272647,-0.760376769809394,-0.7619399918412865,-0.7635695890229419,-0.7652655613543603,-0.7670279088355418,-0.7688566314664863,-0.7707517292471938,-0.7727132021776644,-0.774741050257898,-0.7768352734878946,-0.7789958718676543,-0.781222845397177,-0.7835161940764627,-0.7858759179055114,-0.7883020168843231,-0.7907944910128979],[-0.7071067811865477,-0.7035179086085828,-0.6999816707590256,-0.6964980676378764,-0.6930670992451349,-0.6896887655808013,-0.6863630666448755,-0.6830900024373573,-0.6798695729582471,-0.6767017782075448,-0.6735866181852501,-0.6705240928913634,-0.6675142023258843,-0.6645569464888132,-0.6616523253801497,-0.6588003389998942,-0.6560009873480466,-0.6532542704246067,-0.6505601882295746,-0.6479187407629503,-0.6453299280247339,-0.642793750014925,-0.6403102067335242,-0.6378792981805311,-0.6355010243559459,-0.6331753852597685,-0.6309023808919988,-0.6286820112526369,-0.6265142763416829,-0.6243991761591366,-0.6223367107049983,-0.6203268799792677,-0.6183696839819449,-0.61646512271303,-0.6146131961725229,-0.6128139043604236,-0.611067247276732,-0.6093732249214483,-0.6077318372945724,-0.6061430843961043,-0.604606966226044,-0.6031234827843917,-0.6016926340711469,-0.6003144200863101,-0.5989888408298811,-0.5977158963018598,-0.5964955865022465,-0.5953279114310408,-0.594212871088243,-0.593150465473853,-0.5921406945878709,-0.5911835584302965,-0.5902790570011299,-0.5894271903003712,-0.5886279583280203,-0.5878813610840772,-0.5871873985685419,-0.5865460707814143,-0.5859573777226946,-0.5854213193923827,-0.5849378957904787,-0.5845071069169825,-0.584128952771894,-0.5838034333552133,-0.5835305486669405,-0.5833102987070755,-0.5831426834756184,-0.583027702972569,-0.5829653571979274,-0.5829556461516936,-0.5829985698338676,-0.5830941282444495,-0.5832423213834391,-0.5834431492508365,-0.5836966118466419,-0.5840027091708551,-0.5843614412234759,-0.5847728080045046,-0.5852368095139411,-0.5857534457517856,-0.5863227167180377,-0.5869446224126975,-0.5876191628357653,-0.588346337987241,-0.5891261478671244,-0.5899585924754155,-0.5908436718121145,-0.5917813858772214,-0.592771734670736,-0.5938147181926584,-0.5949103364429887,-0.5960585894217268,-0.5972594771288726,-0.5985129995644264,-0.5998191567283879,-0.6011779486207572,-0.6025893752415343,-0.6040534365907192,-0.605570132668312,-0.6071394634743126],[-0.38268343236508956,-0.38017461358707805,-0.37769145490816514,-0.375233956328351,-0.37280211784763556,-0.37039593946601884,-0.3680154211835008,-0.36566056300008143,-0.3633313649157609,-0.361027826930539,-0.3587499490444158,-0.35649773125739126,-0.3542711735694654,-0.35207027598063834,-0.3498950384909099,-0.3477454611002802,-0.34562154380874927,-0.34352328661631704,-0.34145068952298346,-0.3394037525287486,-0.3373824756336125,-0.33538685883757496,-0.3334169021406362,-0.3314726055427961,-0.32955396904405476,-0.3276609926444122,-0.3257936763438682,-0.3239520201424229,-0.32213602404007646,-0.32034568803682856,-0.3185810121326795,-0.316841996327629,-0.3151286406216773,-0.3134409450148243,-0.31177890950707,-0.31014253409841447,-0.30853181878885755,-0.3069467635783994,-0.3053873684670399,-0.30385363345477906,-0.302345558541617,-0.30086314372755363,-0.29940638901258904,-0.297975294396723,-0.29656985987995577,-0.2951900854622872,-0.2938359711437174,-0.2925075169242462,-0.2912047228038737,-0.2899275887826,-0.288676114860425,-0.28745030103734864,-0.286250147313371,-0.2850756536884921,-0.28392682016271187,-0.2828036467360304,-0.2817061334084476,-0.28063428017996345,-0.2795880870505781,-0.2785675540202914,-0.2775726810891034,-0.2766034682570141,-0.2756599155240235,-0.27474202289013167,-0.2738497903553385,-0.27298321791964403,-0.2721423055830483,-0.2713270533455512,-0.27053746120715283,-0.2697735291678532,-0.26903525722765226,-0.26832264538655004,-0.2676356936445465,-0.2669744020016417,-0.26633877045783555,-0.2657287990131281,-0.2651444876675194,-0.26458583642100936,-0.26405284527359807,-0.2635455142252855,-0.2630638432760716,-0.26260783242595637,-0.2621774816749399,-0.2617727910230221,-0.261393760470203,-0.2610403900164826,-0.26071267966186096,-0.260410629406338,-0.26013423924991375,-0.2598835091925882,-0.2596584392343613,-0.25945902937523313,-0.2592852796152037,-0.259137189954273,-0.259014760392441,-0.25891799092970763,-0.258846881566073,-0.25880143230153707,-0.2587816431360998,-0.25878751406976136],[-0.38268343236508956,-0.3779843848421851,-0.3733293267156736,-0.3687182579855552,-0.3641511786518297,-0.3596280887144973,-0.35514898817355783,-0.35071387702901147,-0.34632275528085804,-0.3419756229290977,-0.3376724799737304,-0.333413326414756,-0.32919816225217463,-0.3250269874859863,-0.3208998021161909,-0.3168166061427886,-0.3127773995657793,-0.3087821823851631,-0.30483095460093984,-0.3009237162131096,-0.29706046722167234,-0.2932412076266281,-0.2894659374279768,-0.2857346566257186,-0.2820473652198534,-0.27840406321038125,-0.2748047505973021,-0.27124942738061586,-0.26773809356032274,-0.26427074913642257,-0.26084739410891544,-0.2574680284778013,-0.25413265224308024,-0.2508412654047521,-0.24759386796281702,-0.24439045991727504,-0.24123104126812597,-0.23811561201536993,-0.23504417215900691,-0.2320167216990369,-0.22903326063545987,-0.22609378896827592,-0.22319830669748492,-0.22034681382308696,-0.217539310345082,-0.21477579626347004,-0.21205627157825113,-0.20938073628942516,-0.20674919039699224,-0.20416163390095235,-0.20161806680130548,-0.19911848909805158,-0.19666290079119073,-0.1942513018807229,-0.19188369236664807,-0.18956007224896623,-0.18728044152767742,-0.18504480020278163,-0.18285314827427884,-0.18070548574216908,-0.1786018126064523,-0.17654212886712853,-0.1745264345241978,-0.1725547295776601,-0.17062701402751537,-0.16874328787376366,-0.16690355111640495,-0.16510780375543926,-0.1633560457908666,-0.161648277222687,-0.15998449805090031,-0.1583647082755067,-0.15678890789650607,-0.15525709691389847,-0.1537692753276839,-0.15232544313786228,-0.15092560034443372,-0.14956974694739816,-0.14825788294675563,-0.14699000834250608,-0.14576612313464957,-0.14458622732318605,-0.14345032090811555,-0.1423584038894381,-0.1413104762671536,-0.14030653804126214,-0.13934658921176368,-0.13843062977865825,-0.1375586597419458,-0.1367306791016264,-0.1359466878577,-0.13520668601016664,-0.13451067355902624,-0.1338586505042789,-0.13325061684592454,-0.1326865725839632,-0.13216651771839488,-0.13169045224921958,-0.13125837617643726,-0.13087028950004798],[-0.2588190451025215,-0.2567652130037982,-0.2547269547145676,-0.25270427023483005,-0.2506971595645854,-0.24870562270383356,-0.24672965965257468,-0.2447692704108087,-0.24282445497853566,-0.2408952133557555,-0.23898154554246823,-0.23708345153867386,-0.2352009313443724,-0.23333398495956384,-0.2314826123842482,-0.2296468136184254,-0.22782658866209554,-0.22602193751525862,-0.2242328601779146,-0.22245935665006347,-0.22070142693170527,-0.2189590710228399,-0.21723228892346746,-0.21552108063358794,-0.2138254461532013,-0.21214538548230757,-0.21048089862090674,-0.20883198556899882,-0.2071986463265838,-0.2055808808936617,-0.20397868927023247,-0.20239207145629615,-0.20082102745185276,-0.1992655572569023,-0.19772566087144466,-0.19620133829547998,-0.19469258952900823,-0.19319941457202933,-0.19172181342454334,-0.19025978608655025,-0.18881333255805008,-0.1873824528390428,-0.18596714692952843,-0.18456741482950698,-0.1831832565389784,-0.18181467205794277,-0.1804616613864,-0.17912422452435012,-0.17780236147179312,-0.1764960722287291,-0.17520535679515795,-0.1739302151710797,-0.17267064735649434,-0.17142665335140192,-0.17019823315580238,-0.16898538676969574,-0.16778811419308198,-0.1666064154259612,-0.16544029046833325,-0.16428973932019822,-0.16315476198155612,-0.16203535845240688,-0.16093152873275057,-0.15984327282258715,-0.15877059072191665,-0.15771348243073904,-0.15667194794905434,-0.15564598727686255,-0.15463560041416363,-0.15364078736095765,-0.15266154811724458,-0.1516978826830244,-0.1507497910582971,-0.1498172732430627,-0.14890032923732124,-0.14799895904107263,-0.14711316265431698,-0.14624294007705418,-0.14538829130928435,-0.14454921635100737,-0.14372571520222333,-0.14291778786293213,-0.1421254343331339,-0.14134865461282856,-0.1405874487020161,-0.13984181660069656,-0.1391117583088699,-0.13839727382653616,-0.13769836315369532,-0.13701502629034737,-0.13634726323649235,-0.1356950739921302,-0.13505845855726098,-0.13443741693188468,-0.13383194911600127,-0.13324205510961074,-0.13266773491271314,-0.13210898852530842,-0.1315658159473966,-0.13103821717897768]]]]}}},\"view\":{\"type\":\"object\",\"name\":\"CDSView\",\"id\":\"p1039\",\"attributes\":{\"filter\":{\"type\":\"object\",\"name\":\"AllIndices\",\"id\":\"p1040\"}}},\"glyph\":{\"type\":\"object\",\"name\":\"MultiLine\",\"id\":\"p1109\",\"attributes\":{\"line_color\":{\"type\":\"value\",\"value\":\"#2b83ba\"},\"line_alpha\":{\"type\":\"value\",\"value\":0.6},\"line_width\":{\"type\":\"field\",\"field\":\"line_width\"}}},\"selection_glyph\":{\"type\":\"object\",\"name\":\"MultiLine\",\"id\":\"p1117\",\"attributes\":{\"line_color\":{\"type\":\"value\",\"value\":\"#fdae61\"},\"line_width\":{\"type\":\"field\",\"field\":\"line_width\"}}},\"hover_glyph\":{\"type\":\"object\",\"name\":\"MultiLine\",\"id\":\"p1125\",\"attributes\":{\"line_color\":{\"type\":\"value\",\"value\":\"#abdda4\"},\"line_width\":{\"type\":\"field\",\"field\":\"line_width\"}}}}},\"selection_policy\":{\"type\":\"object\",\"name\":\"NodesAndLinkedEdges\",\"id\":\"p1168\"},\"inspection_policy\":{\"type\":\"object\",\"name\":\"NodesAndLinkedEdges\",\"id\":\"p1170\"}}}],\"toolbar\":{\"type\":\"object\",\"name\":\"Toolbar\",\"id\":\"p1010\",\"attributes\":{\"tools\":[{\"type\":\"object\",\"name\":\"HoverTool\",\"id\":\"p1013\",\"attributes\":{\"renderers\":\"auto\",\"tooltips\":\"@name\"}},{\"type\":\"object\",\"name\":\"TapTool\",\"id\":\"p1014\",\"attributes\":{\"renderers\":\"auto\"}},{\"type\":\"object\",\"name\":\"BoxSelectTool\",\"id\":\"p1015\",\"attributes\":{\"renderers\":\"auto\",\"overlay\":{\"type\":\"object\",\"name\":\"BoxAnnotation\",\"id\":\"p1016\",\"attributes\":{\"syncable\":false,\"level\":\"overlay\",\"visible\":false,\"editable\":true,\"line_color\":\"black\",\"line_alpha\":1.0,\"line_width\":2,\"line_dash\":[4,4],\"fill_color\":\"lightgrey\",\"fill_alpha\":0.5}}}},{\"type\":\"object\",\"name\":\"WheelZoomTool\",\"id\":\"p1017\"},{\"type\":\"object\",\"name\":\"PanTool\",\"id\":\"p1018\"}]}}}}],\"callbacks\":{\"type\":\"map\"}}};\n  const render_items = [{\"docid\":\"9d2014ae-c8eb-4b11-8b1e-de58366b72ba\",\"roots\":{\"p1004\":\"9a3f4dbb-8372-4f6f-ab35-f76b78597450\"},\"root_ids\":[\"p1004\"]}];\n  root.Bokeh.embed.embed_items_notebook(docs_json, render_items);\n  }\n  if (root.Bokeh !== undefined) {\n    embed_document(root);\n  } else {\n    let attempts = 0;\n    const timer = setInterval(function(root) {\n      if (root.Bokeh !== undefined) {\n        clearInterval(timer);\n        embed_document(root);\n      } else {\n        attempts++;\n        if (attempts > 100) {\n          clearInterval(timer);\n          console.log(\"Bokeh: ERROR: Unable to run BokehJS code because BokehJS library is missing\");\n        }\n      }\n    }, 10, root)\n  }\n})(window);",
      "application/vnd.bokehjs_exec.v0+json": ""
     },
     "metadata": {
      "application/vnd.bokehjs_exec.v0+json": {
       "id": "p1004"
      }
     },
     "output_type": "display_data"
    }
   ],
   "source": [
    "output_notebook()\n",
    "\n",
    "N = len(G.nodes())\n",
    "node_indices = list(range(N))\n",
    "plot = Plot(width=600, height=600,\n",
    "            x_range=Range1d(-1.1,1.1), y_range=Range1d(-1.1,1.1))\n",
    "plot.title.text = \"Concepts Relations Network\"\n",
    "plot.title.text_font_size = '20pt'\n",
    "\n",
    "# Interactive Tools\n",
    "plot.add_tools(HoverTool(tooltips='@name'), TapTool(), BoxSelectTool(), WheelZoomTool(), PanTool())\n",
    "\n",
    "graph_renderer = from_networkx(G, nx.circular_layout, scale=1, center=(0,0))\n",
    "# Noder Renderer\n",
    "graph_renderer.node_renderer.data_source.data['name'] = [concept_keys[x] for x in G.nodes()]\n",
    "graph_renderer.node_renderer.glyph = Circle(size=15, fill_color=Spectral4[0])\n",
    "graph_renderer.node_renderer.selection_glyph = Circle(size=15, fill_color=Spectral4[2])\n",
    "graph_renderer.node_renderer.hover_glyph = Circle(size=15, fill_color=Spectral4[1])\n",
    "graph_renderer.edge_renderer.data_source.data['start'] = starts\n",
    "graph_renderer.edge_renderer.data_source.data['end'] = ends\n",
    "\n",
    "# Create a static layout\n",
    "circ = [i*2*math.pi/N for i in node_indices]\n",
    "x = [math.cos(i) for i in circ]\n",
    "y = [math.sin(i) for i in circ]\n",
    "graph_layout = dict(zip(node_indices, zip(x, y)))\n",
    "graph_renderer.layout_provider = StaticLayoutProvider(graph_layout=graph_layout)\n",
    "\n",
    "# Draw quadratic bezier paths\n",
    "def bezier(start, end, control, steps):\n",
    "    return [(1-s)**2*start + 2*(1-s)*s*control + s**2*end for s in steps]\n",
    "\n",
    "# Edge Renderer\n",
    "graph_renderer.edge_renderer.data_source.data[\"line_width\"] = [max(2,G.get_edge_data(a,b)['weight']) for a, b in G.edges()]\n",
    "graph_renderer.edge_renderer.glyph = MultiLine(line_color=Spectral4[0], line_alpha=0.6)\n",
    "graph_renderer.edge_renderer.selection_glyph = MultiLine(line_color=Spectral4[2])\n",
    "graph_renderer.edge_renderer.hover_glyph = MultiLine(line_color=Spectral4[1])\n",
    "graph_renderer.edge_renderer.glyph.line_width = {'field': 'line_width'}\n",
    "graph_renderer.edge_renderer.selection_glyph.line_width = {'field': 'line_width'}\n",
    "graph_renderer.edge_renderer.hover_glyph.line_width = {'field': 'line_width'}\n",
    "\n",
    "# Calculate edge curves\n",
    "xs, ys = [], []\n",
    "steps = [i/100. for i in range(100)]\n",
    "for u, v in G.edges():\n",
    "    sx, sy = graph_layout[nodes_order.index(u)]\n",
    "    ex, ey = graph_layout[nodes_order.index(v)]\n",
    "    cx = (sx+ex)/(abs(nodes_order.index(u) - nodes_order.index(v)) +1.5)\n",
    "    cy = (sy+ey)/(abs(nodes_order.index(u) - nodes_order.index(v)) +1.5)\n",
    "    xs.append(bezier(sx, ex, cx, steps))\n",
    "    ys.append(bezier(sy, ey, cy, steps))\n",
    "\n",
    "graph_renderer.edge_renderer.data_source.data['xs'] = xs\n",
    "graph_renderer.edge_renderer.data_source.data['ys'] = ys\n",
    "\n",
    "# Selection Policy\n",
    "graph_renderer.selection_policy = NodesAndLinkedEdges()\n",
    "graph_renderer.inspection_policy = NodesAndLinkedEdges()\n",
    "\n",
    "plot.renderers.append(graph_renderer)\n",
    "show(plot)"
   ]
  },
  {
   "attachments": {},
   "cell_type": "markdown",
   "metadata": {},
   "source": [
    "## 2. Concepts Relations Heatmap"
   ]
  },
  {
   "cell_type": "code",
   "execution_count": 6,
   "metadata": {},
   "outputs": [],
   "source": [
    "# Create a matrix with the symetric relations\n",
    "dfe1 = df_edges.drop(columns=['source', 'target'])\n",
    "dfe2 = df_edges.drop(columns=['source', 'target']).rename(columns={\"target_name\":\"source_name\", \"source_name\": 'target_name'})\n",
    "\n",
    "concepts_df = pd.concat([dfe1, dfe2], ignore_index=True).drop_duplicates()"
   ]
  },
  {
   "cell_type": "code",
   "execution_count": 7,
   "metadata": {},
   "outputs": [
    {
     "data": {
      "text/html": [
       "<div>\n",
       "<style scoped>\n",
       "    .dataframe tbody tr th:only-of-type {\n",
       "        vertical-align: middle;\n",
       "    }\n",
       "\n",
       "    .dataframe tbody tr th {\n",
       "        vertical-align: top;\n",
       "    }\n",
       "\n",
       "    .dataframe thead th {\n",
       "        text-align: right;\n",
       "    }\n",
       "</style>\n",
       "<table border=\"1\" class=\"dataframe\">\n",
       "  <thead>\n",
       "    <tr style=\"text-align: right;\">\n",
       "      <th></th>\n",
       "      <th>Concepts</th>\n",
       "      <th>Count</th>\n",
       "    </tr>\n",
       "  </thead>\n",
       "  <tbody>\n",
       "    <tr>\n",
       "      <th>0</th>\n",
       "      <td>Deep learning</td>\n",
       "      <td>16</td>\n",
       "    </tr>\n",
       "    <tr>\n",
       "      <th>1</th>\n",
       "      <td>Artificial intelligence</td>\n",
       "      <td>15</td>\n",
       "    </tr>\n",
       "    <tr>\n",
       "      <th>2</th>\n",
       "      <td>Machine learning</td>\n",
       "      <td>16</td>\n",
       "    </tr>\n",
       "  </tbody>\n",
       "</table>\n",
       "</div>"
      ],
      "text/plain": [
       "                  Concepts  Count\n",
       "0            Deep learning     16\n",
       "1  Artificial intelligence     15\n",
       "2         Machine learning     16"
      ]
     },
     "execution_count": 7,
     "metadata": {},
     "output_type": "execute_result"
    }
   ],
   "source": [
    "# Read the total per concept for the diagonal\n",
    "df_concepts = pd.read_csv('concepts.csv')\n",
    "df_concepts.head(3)"
   ]
  },
  {
   "cell_type": "code",
   "execution_count": 8,
   "metadata": {},
   "outputs": [
    {
     "data": {
      "text/html": [
       "<div>\n",
       "<style scoped>\n",
       "    .dataframe tbody tr th:only-of-type {\n",
       "        vertical-align: middle;\n",
       "    }\n",
       "\n",
       "    .dataframe tbody tr th {\n",
       "        vertical-align: top;\n",
       "    }\n",
       "\n",
       "    .dataframe thead th {\n",
       "        text-align: right;\n",
       "    }\n",
       "</style>\n",
       "<table border=\"1\" class=\"dataframe\">\n",
       "  <thead>\n",
       "    <tr style=\"text-align: right;\">\n",
       "      <th></th>\n",
       "      <th>weight</th>\n",
       "      <th>source_name</th>\n",
       "      <th>target_name</th>\n",
       "    </tr>\n",
       "  </thead>\n",
       "  <tbody>\n",
       "    <tr>\n",
       "      <th>168</th>\n",
       "      <td>1</td>\n",
       "      <td>Many-valued logic</td>\n",
       "      <td>Many-valued logic</td>\n",
       "    </tr>\n",
       "    <tr>\n",
       "      <th>169</th>\n",
       "      <td>1</td>\n",
       "      <td>Utility</td>\n",
       "      <td>Utility</td>\n",
       "    </tr>\n",
       "    <tr>\n",
       "      <th>170</th>\n",
       "      <td>1</td>\n",
       "      <td>Use case</td>\n",
       "      <td>Use case</td>\n",
       "    </tr>\n",
       "    <tr>\n",
       "      <th>171</th>\n",
       "      <td>1</td>\n",
       "      <td>Economics</td>\n",
       "      <td>Economics</td>\n",
       "    </tr>\n",
       "    <tr>\n",
       "      <th>172</th>\n",
       "      <td>1</td>\n",
       "      <td>Test case</td>\n",
       "      <td>Test case</td>\n",
       "    </tr>\n",
       "  </tbody>\n",
       "</table>\n",
       "</div>"
      ],
      "text/plain": [
       "     weight        source_name        target_name\n",
       "168       1  Many-valued logic  Many-valued logic\n",
       "169       1            Utility            Utility\n",
       "170       1           Use case           Use case\n",
       "171       1          Economics          Economics\n",
       "172       1          Test case          Test case"
      ]
     },
     "execution_count": 8,
     "metadata": {},
     "output_type": "execute_result"
    }
   ],
   "source": [
    "# Add the diagonal to the matrix\n",
    "df_concepts = df_concepts.rename(columns={'Concepts':'source_name','Count':'weight'})\n",
    "df_concepts['target_name'] = df_concepts['source_name']\n",
    "concepts_df = pd.concat([concepts_df, df_concepts], ignore_index=True).drop_duplicates()\n",
    "concepts_df.tail()"
   ]
  },
  {
   "cell_type": "code",
   "execution_count": 9,
   "metadata": {},
   "outputs": [
    {
     "data": {
      "text/html": [
       "\n",
       "  <div id=\"c01afe84-e89e-41f7-86a2-630d71ad216f\" data-root-id=\"p1373\" style=\"display: contents;\"></div>\n"
      ]
     },
     "metadata": {},
     "output_type": "display_data"
    },
    {
     "data": {
      "application/javascript": "(function(root) {\n  function embed_document(root) {\n  const docs_json = {\"135a245a-0ff5-4a29-aa56-4157ec29436e\":{\"version\":\"3.1.0\",\"title\":\"Bokeh Application\",\"defs\":[],\"roots\":[{\"type\":\"object\",\"name\":\"Figure\",\"id\":\"p1373\",\"attributes\":{\"width\":700,\"x_range\":{\"type\":\"object\",\"name\":\"FactorRange\",\"id\":\"p1382\",\"attributes\":{\"factors\":[\"Adversarial system\",\"Aptitude\",\"Artificial intelligence\",\"Baseline (typography)\",\"Causality\",\"Conceptual model\",\"Das Model\",\"Dave Barker\",\"Decision tree\",\"Decision-making\",\"Deep learning\",\"Definition\",\"Design\",\"Discrimination\",\"Economics\",\"Ensemble learning\",\"Ethics\",\"Existentialism\",\"Expert system\",\"Feature learning\",\"Fuzzy logic\",\"Inference\",\"Knowledge\",\"Knowledge acquisition\",\"Learning\",\"Lloyd Parks\",\"Logic\",\"Machine learning\",\"Many-valued logic\",\"Model\",\"Movement for Democracy in Liberia\",\"Mycin\",\"Page layout\",\"Person\",\"Prodrug\",\"Racism\",\"Reason\",\"Scientific modelling\",\"Sentence spacing\",\"System\",\"Systemic bias\",\"Test case\",\"The Uniques (Jamaican group)\",\"Thought\",\"Tool\",\"Use case\",\"Utility\",\"Weakness\"]}},\"y_range\":{\"type\":\"object\",\"name\":\"FactorRange\",\"id\":\"p1384\",\"attributes\":{\"factors\":[\"Weakness\",\"Utility\",\"Use case\",\"Tool\",\"Thought\",\"The Uniques (Jamaican group)\",\"Test case\",\"Systemic bias\",\"System\",\"Sentence spacing\",\"Scientific modelling\",\"Reason\",\"Racism\",\"Prodrug\",\"Person\",\"Page layout\",\"Mycin\",\"Movement for Democracy in Liberia\",\"Model\",\"Many-valued logic\",\"Machine learning\",\"Logic\",\"Lloyd Parks\",\"Learning\",\"Knowledge acquisition\",\"Knowledge\",\"Inference\",\"Fuzzy logic\",\"Feature learning\",\"Expert system\",\"Existentialism\",\"Ethics\",\"Ensemble learning\",\"Economics\",\"Discrimination\",\"Design\",\"Definition\",\"Deep learning\",\"Decision-making\",\"Decision tree\",\"Dave Barker\",\"Das Model\",\"Conceptual model\",\"Causality\",\"Baseline (typography)\",\"Artificial intelligence\",\"Aptitude\",\"Adversarial system\"]}},\"x_scale\":{\"type\":\"object\",\"name\":\"CategoricalScale\",\"id\":\"p1386\"},\"y_scale\":{\"type\":\"object\",\"name\":\"CategoricalScale\",\"id\":\"p1388\"},\"title\":{\"type\":\"object\",\"name\":\"Title\",\"id\":\"p1378\",\"attributes\":{\"text\":\"Concepts Relations Heatmap\",\"text_font_size\":\"20pt\"}},\"renderers\":[{\"type\":\"object\",\"name\":\"GlyphRenderer\",\"id\":\"p1429\",\"attributes\":{\"data_source\":{\"type\":\"object\",\"name\":\"ColumnDataSource\",\"id\":\"p1420\",\"attributes\":{\"selected\":{\"type\":\"object\",\"name\":\"Selection\",\"id\":\"p1421\",\"attributes\":{\"indices\":[],\"line_indices\":[]}},\"selection_policy\":{\"type\":\"object\",\"name\":\"UnionRenderers\",\"id\":\"p1422\"},\"data\":{\"type\":\"map\",\"entries\":[[\"index\",{\"type\":\"ndarray\",\"array\":{\"type\":\"bytes\",\"data\":\"AAAAAAEAAAACAAAAAwAAAAQAAAAFAAAABgAAAAcAAAAIAAAACQAAAAoAAAALAAAADAAAAA0AAAAOAAAADwAAABAAAAARAAAAEgAAABMAAAAUAAAAFQAAABYAAAAXAAAAGAAAABkAAAAaAAAAGwAAABwAAAAdAAAAHgAAAB8AAAAgAAAAIQAAACIAAAAjAAAAJAAAACUAAAAmAAAAJwAAACgAAAApAAAAKgAAACsAAAAsAAAALQAAAC4AAAAvAAAAMAAAADEAAAAyAAAAMwAAADQAAAA1AAAANgAAADcAAAA4AAAAOQAAADoAAAA7AAAAPAAAAD0AAAA+AAAAPwAAAEAAAABBAAAAQgAAAEMAAABEAAAARQAAAEYAAABHAAAASAAAAEkAAABKAAAASwAAAEwAAABNAAAATgAAAE8AAABQAAAAUQAAAFIAAABTAAAAVAAAAFUAAABWAAAAVwAAAFgAAABZAAAAWgAAAFsAAABcAAAAXQAAAF4AAABfAAAAYAAAAGEAAABiAAAAYwAAAGQAAABlAAAAZgAAAGcAAABoAAAAaQAAAGoAAABrAAAAbAAAAG0AAABuAAAAbwAAAHAAAABxAAAAcgAAAHMAAAB0AAAAdQAAAHYAAAB3AAAAeAAAAHkAAAB6AAAAewAAAHwAAAB9AAAAfgAAAH8AAACAAAAAgQAAAIIAAACDAAAAhAAAAIUAAACGAAAAhwAAAIgAAACJAAAAigAAAIsAAACMAAAAjQAAAI4AAACPAAAAkAAAAJEAAACSAAAAkwAAAJQAAACVAAAAlgAAAJcAAACYAAAAmQAAAJoAAACbAAAAnAAAAJ0AAACeAAAAnwAAAKAAAAChAAAAogAAAKMAAACkAAAApQAAAKYAAACnAAAAqAAAAKkAAACqAAAAqwAAAKwAAAA=\"},\"shape\":[173],\"dtype\":\"int32\",\"order\":\"little\"}],[\"weight\",{\"type\":\"ndarray\",\"array\":{\"type\":\"bytes\",\"data\":\"DgAAAA8AAAABAAAAAQAAAAEAAAAOAAAAAQAAAAEAAAABAAAAAQAAAAEAAAABAAAAAQAAAAEAAAABAAAAAQAAAAEAAAABAAAABgAAAAEAAAABAAAAAQAAAAEAAAABAAAAAQAAAAEAAAABAAAAAQAAAAIAAAABAAAAAQAAAAEAAAABAAAAAQAAAAEAAAABAAAAAQAAAAEAAAABAAAAAQAAAAEAAAABAAAAAQAAAAEAAAABAAAAAQAAAAEAAAABAAAAAQAAAAEAAAABAAAAAQAAAAEAAAABAAAAAQAAAAEAAAABAAAAAQAAAAEAAAAAAAAAAQAAAAEAAAABAAAADgAAAA8AAAABAAAAAQAAAAEAAAAOAAAAAQAAAAEAAAABAAAAAQAAAAEAAAABAAAAAQAAAAEAAAABAAAAAQAAAAEAAAABAAAABgAAAAEAAAABAAAAAQAAAAEAAAABAAAAAQAAAAEAAAABAAAAAQAAAAIAAAABAAAAAQAAAAEAAAABAAAAAQAAAAEAAAABAAAAAQAAAAEAAAABAAAAAQAAAAEAAAABAAAAAQAAAAEAAAABAAAAAQAAAAEAAAABAAAAAQAAAAEAAAABAAAAAQAAAAEAAAABAAAAAQAAAAEAAAABAAAAAQAAAAEAAAABAAAAAQAAAAEAAAAQAAAADwAAABAAAAACAAAAAQAAAAEAAAABAAAAAQAAAAEAAAABAAAAAQAAAAcAAAABAAAABwAAAAEAAAACAAAAAgAAAAEAAAACAAAABAAAAAEAAAABAAAAAgAAAAEAAAABAAAAAQAAAAEAAAABAAAAAQAAAAEAAAABAAAAAQAAAAIAAAABAAAAAgAAAAEAAAABAAAAAQAAAAEAAAABAAAAAQAAAAEAAAABAAAAAQAAAAEAAAABAAAAAQAAAAEAAAA=\"},\"shape\":[173],\"dtype\":\"int32\",\"order\":\"little\"}],[\"source_name\",{\"type\":\"ndarray\",\"array\":[\"Deep learning\",\"Deep learning\",\"Deep learning\",\"Deep learning\",\"Deep learning\",\"Artificial intelligence\",\"Artificial intelligence\",\"Artificial intelligence\",\"Machine learning\",\"Machine learning\",\"Machine learning\",\"Dave Barker\",\"Dave Barker\",\"The Uniques (Jamaican group)\",\"Discrimination\",\"Discrimination\",\"Racism\",\"Das Model\",\"Das Model\",\"Das Model\",\"Das Model\",\"Das Model\",\"Das Model\",\"Das Model\",\"Das Model\",\"Learning\",\"Movement for Democracy in Liberia\",\"Movement for Democracy in Liberia\",\"Movement for Democracy in Liberia\",\"Movement for Democracy in Liberia\",\"Movement for Democracy in Liberia\",\"Movement for Democracy in Liberia\",\"Thought\",\"Thought\",\"Thought\",\"Thought\",\"Knowledge\",\"Knowledge\",\"Knowledge\",\"Reason\",\"Reason\",\"Reason\",\"Model\",\"Model\",\"Model\",\"Model\",\"Conceptual model\",\"Page layout\",\"Page layout\",\"Baseline (typography)\",\"Ensemble learning\",\"Existentialism\",\"Logic\",\"Logic\",\"Expert system\",\"Expert system\",\"Mycin\",\"System\",\"Fuzzy logic\",\"Utility\",\"Use case\",\"Use case\",\"Economics\",\"Artificial intelligence\",\"Machine learning\",\"Feature learning\",\"Ethics\",\"Inference\",\"Machine learning\",\"Inference\",\"Decision tree\",\"Feature learning\",\"Ethics\",\"Decision tree\",\"The Uniques (Jamaican group)\",\"Lloyd Parks\",\"Lloyd Parks\",\"Racism\",\"Systemic bias\",\"Systemic bias\",\"Learning\",\"Movement for Democracy in Liberia\",\"Scientific modelling\",\"Prodrug\",\"Conceptual model\",\"Adversarial system\",\"Weakness\",\"Tool\",\"Movement for Democracy in Liberia\",\"Scientific modelling\",\"Prodrug\",\"Conceptual model\",\"Adversarial system\",\"Weakness\",\"Tool\",\"Knowledge\",\"Aptitude\",\"Existentialism\",\"Person\",\"Aptitude\",\"Reason\",\"Logic\",\"Model\",\"Design\",\"Logic\",\"Design\",\"Ensemble learning\",\"Decision-making\",\"Causality\",\"Tool\",\"Baseline (typography)\",\"Sentence spacing\",\"Sentence spacing\",\"Decision-making\",\"Person\",\"Fuzzy logic\",\"Many-valued logic\",\"Mycin\",\"Knowledge acquisition\",\"Knowledge acquisition\",\"Definition\",\"Many-valued logic\",\"Economics\",\"Test case\",\"Test case\",\"Deep learning\",\"Artificial intelligence\",\"Machine learning\",\"Ethics\",\"Dave Barker\",\"The Uniques (Jamaican group)\",\"Lloyd Parks\",\"Feature learning\",\"Discrimination\",\"Racism\",\"Systemic bias\",\"Das Model\",\"Learning\",\"Movement for Democracy in Liberia\",\"Scientific modelling\",\"Thought\",\"Knowledge\",\"Aptitude\",\"Reason\",\"Model\",\"Design\",\"Prodrug\",\"Conceptual model\",\"Page layout\",\"Baseline (typography)\",\"Sentence spacing\",\"Adversarial system\",\"Weakness\",\"Ensemble learning\",\"Decision-making\",\"Existentialism\",\"Person\",\"Tool\",\"Inference\",\"Logic\",\"Expert system\",\"Mycin\",\"Knowledge acquisition\",\"System\",\"Definition\",\"Causality\",\"Decision tree\",\"Fuzzy logic\",\"Many-valued logic\",\"Utility\",\"Use case\",\"Economics\",\"Test case\"],\"shape\":[173],\"dtype\":\"object\",\"order\":\"little\"}],[\"target_name\",{\"type\":\"ndarray\",\"array\":[\"Artificial intelligence\",\"Machine learning\",\"Feature learning\",\"Ethics\",\"Inference\",\"Machine learning\",\"Inference\",\"Decision tree\",\"Feature learning\",\"Ethics\",\"Decision tree\",\"The Uniques (Jamaican group)\",\"Lloyd Parks\",\"Lloyd Parks\",\"Racism\",\"Systemic bias\",\"Systemic bias\",\"Learning\",\"Movement for Democracy in Liberia\",\"Scientific modelling\",\"Prodrug\",\"Conceptual model\",\"Adversarial system\",\"Weakness\",\"Tool\",\"Movement for Democracy in Liberia\",\"Scientific modelling\",\"Prodrug\",\"Conceptual model\",\"Adversarial system\",\"Weakness\",\"Tool\",\"Knowledge\",\"Aptitude\",\"Existentialism\",\"Person\",\"Aptitude\",\"Reason\",\"Logic\",\"Model\",\"Design\",\"Logic\",\"Design\",\"Ensemble learning\",\"Decision-making\",\"Causality\",\"Tool\",\"Baseline (typography)\",\"Sentence spacing\",\"Sentence spacing\",\"Decision-making\",\"Person\",\"Fuzzy logic\",\"Many-valued logic\",\"Mycin\",\"Knowledge acquisition\",\"Knowledge acquisition\",\"Definition\",\"Many-valued logic\",\"Utility\",\"Economics\",\"Test case\",\"Test case\",\"Deep learning\",\"Deep learning\",\"Deep learning\",\"Deep learning\",\"Deep learning\",\"Artificial intelligence\",\"Artificial intelligence\",\"Artificial intelligence\",\"Machine learning\",\"Machine learning\",\"Machine learning\",\"Dave Barker\",\"Dave Barker\",\"The Uniques (Jamaican group)\",\"Discrimination\",\"Discrimination\",\"Racism\",\"Das Model\",\"Das Model\",\"Das Model\",\"Das Model\",\"Das Model\",\"Das Model\",\"Das Model\",\"Das Model\",\"Learning\",\"Movement for Democracy in Liberia\",\"Movement for Democracy in Liberia\",\"Movement for Democracy in Liberia\",\"Movement for Democracy in Liberia\",\"Movement for Democracy in Liberia\",\"Movement for Democracy in Liberia\",\"Thought\",\"Thought\",\"Thought\",\"Thought\",\"Knowledge\",\"Knowledge\",\"Knowledge\",\"Reason\",\"Reason\",\"Reason\",\"Model\",\"Model\",\"Model\",\"Model\",\"Conceptual model\",\"Page layout\",\"Page layout\",\"Baseline (typography)\",\"Ensemble learning\",\"Existentialism\",\"Logic\",\"Logic\",\"Expert system\",\"Expert system\",\"Mycin\",\"System\",\"Fuzzy logic\",\"Use case\",\"Use case\",\"Economics\",\"Deep learning\",\"Artificial intelligence\",\"Machine learning\",\"Ethics\",\"Dave Barker\",\"The Uniques (Jamaican group)\",\"Lloyd Parks\",\"Feature learning\",\"Discrimination\",\"Racism\",\"Systemic bias\",\"Das Model\",\"Learning\",\"Movement for Democracy in Liberia\",\"Scientific modelling\",\"Thought\",\"Knowledge\",\"Aptitude\",\"Reason\",\"Model\",\"Design\",\"Prodrug\",\"Conceptual model\",\"Page layout\",\"Baseline (typography)\",\"Sentence spacing\",\"Adversarial system\",\"Weakness\",\"Ensemble learning\",\"Decision-making\",\"Existentialism\",\"Person\",\"Tool\",\"Inference\",\"Logic\",\"Expert system\",\"Mycin\",\"Knowledge acquisition\",\"System\",\"Definition\",\"Causality\",\"Decision tree\",\"Fuzzy logic\",\"Many-valued logic\",\"Utility\",\"Use case\",\"Economics\",\"Test case\"],\"shape\":[173],\"dtype\":\"object\",\"order\":\"little\"}]]}}},\"view\":{\"type\":\"object\",\"name\":\"CDSView\",\"id\":\"p1430\",\"attributes\":{\"filter\":{\"type\":\"object\",\"name\":\"AllIndices\",\"id\":\"p1431\"}}},\"glyph\":{\"type\":\"object\",\"name\":\"Rect\",\"id\":\"p1426\",\"attributes\":{\"x\":{\"type\":\"field\",\"field\":\"source_name\"},\"y\":{\"type\":\"field\",\"field\":\"target_name\"},\"width\":{\"type\":\"value\",\"value\":1},\"height\":{\"type\":\"value\",\"value\":1},\"line_color\":{\"type\":\"value\",\"value\":null},\"fill_color\":{\"type\":\"field\",\"field\":\"weight\",\"transform\":{\"type\":\"object\",\"name\":\"LinearColorMapper\",\"id\":\"p1419\",\"attributes\":{\"palette\":[\"#f7fbff\",\"#deebf7\",\"#c6dbef\",\"#9ecae1\",\"#6baed6\",\"#4292c6\",\"#2171b5\",\"#084594\"],\"low\":0,\"high\":16}}}}},\"nonselection_glyph\":{\"type\":\"object\",\"name\":\"Rect\",\"id\":\"p1427\",\"attributes\":{\"x\":{\"type\":\"field\",\"field\":\"source_name\"},\"y\":{\"type\":\"field\",\"field\":\"target_name\"},\"width\":{\"type\":\"value\",\"value\":1},\"height\":{\"type\":\"value\",\"value\":1},\"line_color\":{\"type\":\"value\",\"value\":null},\"line_alpha\":{\"type\":\"value\",\"value\":0.1},\"fill_color\":{\"type\":\"field\",\"field\":\"weight\",\"transform\":{\"id\":\"p1419\"}},\"fill_alpha\":{\"type\":\"value\",\"value\":0.1},\"hatch_alpha\":{\"type\":\"value\",\"value\":0.1}}},\"muted_glyph\":{\"type\":\"object\",\"name\":\"Rect\",\"id\":\"p1428\",\"attributes\":{\"x\":{\"type\":\"field\",\"field\":\"source_name\"},\"y\":{\"type\":\"field\",\"field\":\"target_name\"},\"width\":{\"type\":\"value\",\"value\":1},\"height\":{\"type\":\"value\",\"value\":1},\"line_color\":{\"type\":\"value\",\"value\":null},\"line_alpha\":{\"type\":\"value\",\"value\":0.2},\"fill_color\":{\"type\":\"field\",\"field\":\"weight\",\"transform\":{\"id\":\"p1419\"}},\"fill_alpha\":{\"type\":\"value\",\"value\":0.2},\"hatch_alpha\":{\"type\":\"value\",\"value\":0.2}}}}}],\"toolbar\":{\"type\":\"object\",\"name\":\"Toolbar\",\"id\":\"p1381\",\"attributes\":{\"tools\":[{\"type\":\"object\",\"name\":\"HoverTool\",\"id\":\"p1402\",\"attributes\":{\"renderers\":\"auto\",\"tooltips\":[[\"Concepts\",\"@source_name{safe} <br> @target_name\"],[\"Count\",\"@weight\"]]}},{\"type\":\"object\",\"name\":\"SaveTool\",\"id\":\"p1403\"},{\"type\":\"object\",\"name\":\"PanTool\",\"id\":\"p1404\"},{\"type\":\"object\",\"name\":\"BoxZoomTool\",\"id\":\"p1405\",\"attributes\":{\"overlay\":{\"type\":\"object\",\"name\":\"BoxAnnotation\",\"id\":\"p1406\",\"attributes\":{\"syncable\":false,\"level\":\"overlay\",\"visible\":false,\"left_units\":\"canvas\",\"right_units\":\"canvas\",\"bottom_units\":\"canvas\",\"top_units\":\"canvas\",\"line_color\":\"black\",\"line_alpha\":1.0,\"line_width\":2,\"line_dash\":[4,4],\"fill_color\":\"lightgrey\",\"fill_alpha\":0.5}}}},{\"type\":\"object\",\"name\":\"ResetTool\",\"id\":\"p1407\"},{\"type\":\"object\",\"name\":\"WheelZoomTool\",\"id\":\"p1408\"}]}},\"left\":[{\"type\":\"object\",\"name\":\"CategoricalAxis\",\"id\":\"p1396\",\"attributes\":{\"ticker\":{\"type\":\"object\",\"name\":\"CategoricalTicker\",\"id\":\"p1397\"},\"formatter\":{\"type\":\"object\",\"name\":\"CategoricalTickFormatter\",\"id\":\"p1399\"},\"major_label_standoff\":0,\"major_label_policy\":{\"type\":\"object\",\"name\":\"AllLabels\",\"id\":\"p1398\"},\"major_label_text_font_size\":\"7px\",\"axis_line_color\":null,\"major_tick_line_color\":null}}],\"right\":[{\"type\":\"object\",\"name\":\"ColorBar\",\"id\":\"p1433\",\"attributes\":{\"ticker\":{\"type\":\"object\",\"name\":\"BasicTicker\",\"id\":\"p1432\",\"attributes\":{\"desired_num_ticks\":8,\"mantissas\":[1,2,5]}},\"major_label_policy\":{\"type\":\"object\",\"name\":\"NoOverlap\",\"id\":\"p1434\"},\"padding\":5,\"major_label_text_font_size\":\"7px\",\"label_standoff\":6,\"color_mapper\":{\"id\":\"p1419\"}}}],\"above\":[{\"type\":\"object\",\"name\":\"CategoricalAxis\",\"id\":\"p1390\",\"attributes\":{\"ticker\":{\"type\":\"object\",\"name\":\"CategoricalTicker\",\"id\":\"p1391\"},\"formatter\":{\"type\":\"object\",\"name\":\"CategoricalTickFormatter\",\"id\":\"p1393\"},\"major_label_standoff\":0,\"major_label_orientation\":1.0471975511965976,\"major_label_policy\":{\"type\":\"object\",\"name\":\"AllLabels\",\"id\":\"p1392\"},\"major_label_text_font_size\":\"7px\",\"axis_line_color\":null,\"major_tick_line_color\":null}}],\"center\":[{\"type\":\"object\",\"name\":\"Grid\",\"id\":\"p1395\",\"attributes\":{\"axis\":{\"id\":\"p1390\"},\"grid_line_color\":null}},{\"type\":\"object\",\"name\":\"Grid\",\"id\":\"p1401\",\"attributes\":{\"dimension\":1,\"axis\":{\"id\":\"p1396\"},\"grid_line_color\":null}}]}}],\"callbacks\":{\"type\":\"map\"}}};\n  const render_items = [{\"docid\":\"135a245a-0ff5-4a29-aa56-4157ec29436e\",\"roots\":{\"p1373\":\"c01afe84-e89e-41f7-86a2-630d71ad216f\"},\"root_ids\":[\"p1373\"]}];\n  root.Bokeh.embed.embed_items_notebook(docs_json, render_items);\n  }\n  if (root.Bokeh !== undefined) {\n    embed_document(root);\n  } else {\n    let attempts = 0;\n    const timer = setInterval(function(root) {\n      if (root.Bokeh !== undefined) {\n        clearInterval(timer);\n        embed_document(root);\n      } else {\n        attempts++;\n        if (attempts > 100) {\n          clearInterval(timer);\n          console.log(\"Bokeh: ERROR: Unable to run BokehJS code because BokehJS library is missing\");\n        }\n      }\n    }, 10, root)\n  }\n})(window);",
      "application/vnd.bokehjs_exec.v0+json": ""
     },
     "metadata": {
      "application/vnd.bokehjs_exec.v0+json": {
       "id": "p1373"
      }
     },
     "output_type": "display_data"
    }
   ],
   "source": [
    "from bokeh.transform import linear_cmap\n",
    "from bokeh.models import BasicTicker, PrintfTickFormatter\n",
    "import numpy as np\n",
    "\n",
    "# Config\n",
    "TOOLS = \"hover,save,pan,box_zoom,reset,wheel_zoom\"\n",
    "colors = list(Blues8)\n",
    "colors.reverse()\n",
    "\n",
    "# Sources\n",
    "sources = list(set(concepts_df.source_name))\n",
    "sources.sort()\n",
    "targets = list(set(concepts_df.target_name))\n",
    "targets.sort(reverse=True)\n",
    "\n",
    "#Create Figure\n",
    "p = figure(x_range=sources, y_range=targets,\n",
    "           x_axis_location=\"above\", width=700, height=600,\n",
    "           tools=TOOLS, toolbar_location='right',\n",
    "           tooltips=[('Concepts', '@source_name{safe} <br> @target_name'), ('Count', '@weight')])\n",
    "\n",
    "p.grid.grid_line_color = None\n",
    "p.axis.axis_line_color = None\n",
    "p.axis.major_tick_line_color = None\n",
    "p.axis.major_label_text_font_size = \"7px\"\n",
    "p.axis.major_label_standoff = 0\n",
    "p.xaxis.major_label_orientation = np.pi / 3\n",
    "\n",
    "p.title.text = \"Concepts Relations Heatmap\"\n",
    "p.title.text_font_size = '20pt'\n",
    "\n",
    "# Create heatmap as Rect matrix\n",
    "hm = p.rect(x=\"source_name\", y=\"target_name\", width=1, height=1, source=concepts_df,\n",
    "           fill_color=linear_cmap(\"weight\", colors, low=concepts_df.weight.min(), high=concepts_df.weight.max()),\n",
    "           line_color=None)\n",
    "\n",
    "p.add_layout(hm.construct_color_bar(\n",
    "    major_label_text_font_size=\"7px\",\n",
    "    ticker=BasicTicker(desired_num_ticks=len(colors)),\n",
    "    label_standoff=6,\n",
    "    border_line_color=None,\n",
    "    padding=5\n",
    "), 'right')\n",
    "show(p)\n"
   ]
  },
  {
   "attachments": {},
   "cell_type": "markdown",
   "metadata": {},
   "source": [
    "## 3. Categories breakdown by number of appearances"
   ]
  },
  {
   "cell_type": "code",
   "execution_count": 10,
   "metadata": {},
   "outputs": [],
   "source": [
    "# Read procesed categories\n",
    "df_cat = pd.read_csv('categories_her.csv')\n"
   ]
  },
  {
   "cell_type": "code",
   "execution_count": 11,
   "metadata": {},
   "outputs": [
    {
     "data": {
      "application/vnd.plotly.v1+json": {
       "config": {
        "plotlyServerURL": "https://plot.ly"
       },
       "data": [
        {
         "branchvalues": "total",
         "customdata": [
          [
           1
          ],
          [
           3
          ],
          [
           1.6666666666666667
          ],
          [
           7
          ],
          [
           1
          ],
          [
           1
          ],
          [
           2
          ],
          [
           9
          ],
          [
           2
          ],
          [
           1
          ],
          [
           1
          ],
          [
           3
          ],
          [
           1
          ],
          [
           1.8
          ],
          [
           1
          ],
          [
           7
          ],
          [
           1
          ],
          [
           9
          ],
          [
           2
          ],
          [
           1
          ],
          [
           1
          ],
          [
           1
          ],
          [
           7.444444444444445
          ],
          [
           1
          ],
          [
           1
          ],
          [
           1
          ],
          [
           2.111111111111111
          ],
          [
           5.064516129032258
          ]
         ],
         "domain": {
          "x": [
           0,
           1
          ],
          "y": [
           0,
           1
          ]
         },
         "hovertemplate": "labels=%{label}<br>Count_sum=%{value}<br>parent=%{parent}<br>id=%{id}<br>Count=%{color}<extra></extra>",
         "ids": [
          "Categories/family and relationships/parenting/adoption and fostering",
          "Categories/technology & computing/artificial intelligence/artificial intelligence",
          "Categories/technology & computing/computing/computer software and applications",
          "Categories/education/education/education",
          "Categories/science/geography/geography",
          "Categories/technology & computing/consumer electronics/home entertainment systems",
          "Categories/technology & computing/computing/information and network security",
          "Categories/education/language learning/language learning",
          "Categories/education/online education/online education",
          "Categories/news and politics/politics/political issues",
          "Categories/automotive/auto body styles/sedan",
          "Categories/technology & computing/artificial intelligence",
          "Categories/automotive/auto body styles",
          "Categories/technology & computing/computing",
          "Categories/technology & computing/consumer electronics",
          "Categories/education/education",
          "Categories/science/geography",
          "Categories/education/language learning",
          "Categories/education/online education",
          "Categories/family and relationships/parenting",
          "Categories/news and politics/politics",
          "Categories/automotive",
          "Categories/education",
          "Categories/family and relationships",
          "Categories/news and politics",
          "Categories/science",
          "Categories/technology & computing",
          "Categories"
         ],
         "labels": [
          "adoption and fostering",
          "artificial intelligence",
          "computer software and applications",
          "education",
          "geography",
          "home entertainment systems",
          "information and network security",
          "language learning",
          "online education",
          "political issues",
          "sedan",
          "artificial intelligence",
          "auto body styles",
          "computing",
          "consumer electronics",
          "education",
          "geography",
          "language learning",
          "online education",
          "parenting",
          "politics",
          "automotive",
          "education",
          "family and relationships",
          "news and politics",
          "science",
          "technology & computing",
          "Categories"
         ],
         "marker": {
          "coloraxis": "coloraxis",
          "colors": [
           1,
           3,
           1.6666666666666667,
           7,
           1,
           1,
           2,
           9,
           2,
           1,
           1,
           3,
           1,
           1.8,
           1,
           7,
           1,
           9,
           2,
           1,
           1,
           1,
           7.444444444444445,
           1,
           1,
           1,
           2.111111111111111,
           5.064516129032258
          ]
         },
         "name": "",
         "parents": [
          "Categories/family and relationships/parenting",
          "Categories/technology & computing/artificial intelligence",
          "Categories/technology & computing/computing",
          "Categories/education/education",
          "Categories/science/geography",
          "Categories/technology & computing/consumer electronics",
          "Categories/technology & computing/computing",
          "Categories/education/language learning",
          "Categories/education/online education",
          "Categories/news and politics/politics",
          "Categories/automotive/auto body styles",
          "Categories/technology & computing",
          "Categories/automotive",
          "Categories/technology & computing",
          "Categories/technology & computing",
          "Categories/education",
          "Categories/science",
          "Categories/education",
          "Categories/education",
          "Categories/family and relationships",
          "Categories/news and politics",
          "Categories",
          "Categories",
          "Categories",
          "Categories",
          "Categories",
          "Categories",
          ""
         ],
         "type": "treemap",
         "values": [
          1,
          3,
          3,
          7,
          1,
          1,
          2,
          9,
          2,
          1,
          1,
          3,
          1,
          5,
          1,
          7,
          1,
          9,
          2,
          1,
          1,
          1,
          18,
          1,
          1,
          1,
          9,
          31
         ]
        }
       ],
       "layout": {
        "coloraxis": {
         "cmax": 9,
         "cmin": 0,
         "colorbar": {
          "title": {
           "text": "Count"
          }
         },
         "colorscale": [
          [
           0,
           "rgb(247,251,255)"
          ],
          [
           0.125,
           "rgb(222,235,247)"
          ],
          [
           0.25,
           "rgb(198,219,239)"
          ],
          [
           0.375,
           "rgb(158,202,225)"
          ],
          [
           0.5,
           "rgb(107,174,214)"
          ],
          [
           0.625,
           "rgb(66,146,198)"
          ],
          [
           0.75,
           "rgb(33,113,181)"
          ],
          [
           0.875,
           "rgb(8,81,156)"
          ],
          [
           1,
           "rgb(8,48,107)"
          ]
         ]
        },
        "legend": {
         "tracegroupgap": 0
        },
        "template": {
         "data": {
          "bar": [
           {
            "error_x": {
             "color": "#2a3f5f"
            },
            "error_y": {
             "color": "#2a3f5f"
            },
            "marker": {
             "line": {
              "color": "#E5ECF6",
              "width": 0.5
             },
             "pattern": {
              "fillmode": "overlay",
              "size": 10,
              "solidity": 0.2
             }
            },
            "type": "bar"
           }
          ],
          "barpolar": [
           {
            "marker": {
             "line": {
              "color": "#E5ECF6",
              "width": 0.5
             },
             "pattern": {
              "fillmode": "overlay",
              "size": 10,
              "solidity": 0.2
             }
            },
            "type": "barpolar"
           }
          ],
          "carpet": [
           {
            "aaxis": {
             "endlinecolor": "#2a3f5f",
             "gridcolor": "white",
             "linecolor": "white",
             "minorgridcolor": "white",
             "startlinecolor": "#2a3f5f"
            },
            "baxis": {
             "endlinecolor": "#2a3f5f",
             "gridcolor": "white",
             "linecolor": "white",
             "minorgridcolor": "white",
             "startlinecolor": "#2a3f5f"
            },
            "type": "carpet"
           }
          ],
          "choropleth": [
           {
            "colorbar": {
             "outlinewidth": 0,
             "ticks": ""
            },
            "type": "choropleth"
           }
          ],
          "contour": [
           {
            "colorbar": {
             "outlinewidth": 0,
             "ticks": ""
            },
            "colorscale": [
             [
              0,
              "#0d0887"
             ],
             [
              0.1111111111111111,
              "#46039f"
             ],
             [
              0.2222222222222222,
              "#7201a8"
             ],
             [
              0.3333333333333333,
              "#9c179e"
             ],
             [
              0.4444444444444444,
              "#bd3786"
             ],
             [
              0.5555555555555556,
              "#d8576b"
             ],
             [
              0.6666666666666666,
              "#ed7953"
             ],
             [
              0.7777777777777778,
              "#fb9f3a"
             ],
             [
              0.8888888888888888,
              "#fdca26"
             ],
             [
              1,
              "#f0f921"
             ]
            ],
            "type": "contour"
           }
          ],
          "contourcarpet": [
           {
            "colorbar": {
             "outlinewidth": 0,
             "ticks": ""
            },
            "type": "contourcarpet"
           }
          ],
          "heatmap": [
           {
            "colorbar": {
             "outlinewidth": 0,
             "ticks": ""
            },
            "colorscale": [
             [
              0,
              "#0d0887"
             ],
             [
              0.1111111111111111,
              "#46039f"
             ],
             [
              0.2222222222222222,
              "#7201a8"
             ],
             [
              0.3333333333333333,
              "#9c179e"
             ],
             [
              0.4444444444444444,
              "#bd3786"
             ],
             [
              0.5555555555555556,
              "#d8576b"
             ],
             [
              0.6666666666666666,
              "#ed7953"
             ],
             [
              0.7777777777777778,
              "#fb9f3a"
             ],
             [
              0.8888888888888888,
              "#fdca26"
             ],
             [
              1,
              "#f0f921"
             ]
            ],
            "type": "heatmap"
           }
          ],
          "heatmapgl": [
           {
            "colorbar": {
             "outlinewidth": 0,
             "ticks": ""
            },
            "colorscale": [
             [
              0,
              "#0d0887"
             ],
             [
              0.1111111111111111,
              "#46039f"
             ],
             [
              0.2222222222222222,
              "#7201a8"
             ],
             [
              0.3333333333333333,
              "#9c179e"
             ],
             [
              0.4444444444444444,
              "#bd3786"
             ],
             [
              0.5555555555555556,
              "#d8576b"
             ],
             [
              0.6666666666666666,
              "#ed7953"
             ],
             [
              0.7777777777777778,
              "#fb9f3a"
             ],
             [
              0.8888888888888888,
              "#fdca26"
             ],
             [
              1,
              "#f0f921"
             ]
            ],
            "type": "heatmapgl"
           }
          ],
          "histogram": [
           {
            "marker": {
             "pattern": {
              "fillmode": "overlay",
              "size": 10,
              "solidity": 0.2
             }
            },
            "type": "histogram"
           }
          ],
          "histogram2d": [
           {
            "colorbar": {
             "outlinewidth": 0,
             "ticks": ""
            },
            "colorscale": [
             [
              0,
              "#0d0887"
             ],
             [
              0.1111111111111111,
              "#46039f"
             ],
             [
              0.2222222222222222,
              "#7201a8"
             ],
             [
              0.3333333333333333,
              "#9c179e"
             ],
             [
              0.4444444444444444,
              "#bd3786"
             ],
             [
              0.5555555555555556,
              "#d8576b"
             ],
             [
              0.6666666666666666,
              "#ed7953"
             ],
             [
              0.7777777777777778,
              "#fb9f3a"
             ],
             [
              0.8888888888888888,
              "#fdca26"
             ],
             [
              1,
              "#f0f921"
             ]
            ],
            "type": "histogram2d"
           }
          ],
          "histogram2dcontour": [
           {
            "colorbar": {
             "outlinewidth": 0,
             "ticks": ""
            },
            "colorscale": [
             [
              0,
              "#0d0887"
             ],
             [
              0.1111111111111111,
              "#46039f"
             ],
             [
              0.2222222222222222,
              "#7201a8"
             ],
             [
              0.3333333333333333,
              "#9c179e"
             ],
             [
              0.4444444444444444,
              "#bd3786"
             ],
             [
              0.5555555555555556,
              "#d8576b"
             ],
             [
              0.6666666666666666,
              "#ed7953"
             ],
             [
              0.7777777777777778,
              "#fb9f3a"
             ],
             [
              0.8888888888888888,
              "#fdca26"
             ],
             [
              1,
              "#f0f921"
             ]
            ],
            "type": "histogram2dcontour"
           }
          ],
          "mesh3d": [
           {
            "colorbar": {
             "outlinewidth": 0,
             "ticks": ""
            },
            "type": "mesh3d"
           }
          ],
          "parcoords": [
           {
            "line": {
             "colorbar": {
              "outlinewidth": 0,
              "ticks": ""
             }
            },
            "type": "parcoords"
           }
          ],
          "pie": [
           {
            "automargin": true,
            "type": "pie"
           }
          ],
          "scatter": [
           {
            "fillpattern": {
             "fillmode": "overlay",
             "size": 10,
             "solidity": 0.2
            },
            "type": "scatter"
           }
          ],
          "scatter3d": [
           {
            "line": {
             "colorbar": {
              "outlinewidth": 0,
              "ticks": ""
             }
            },
            "marker": {
             "colorbar": {
              "outlinewidth": 0,
              "ticks": ""
             }
            },
            "type": "scatter3d"
           }
          ],
          "scattercarpet": [
           {
            "marker": {
             "colorbar": {
              "outlinewidth": 0,
              "ticks": ""
             }
            },
            "type": "scattercarpet"
           }
          ],
          "scattergeo": [
           {
            "marker": {
             "colorbar": {
              "outlinewidth": 0,
              "ticks": ""
             }
            },
            "type": "scattergeo"
           }
          ],
          "scattergl": [
           {
            "marker": {
             "colorbar": {
              "outlinewidth": 0,
              "ticks": ""
             }
            },
            "type": "scattergl"
           }
          ],
          "scattermapbox": [
           {
            "marker": {
             "colorbar": {
              "outlinewidth": 0,
              "ticks": ""
             }
            },
            "type": "scattermapbox"
           }
          ],
          "scatterpolar": [
           {
            "marker": {
             "colorbar": {
              "outlinewidth": 0,
              "ticks": ""
             }
            },
            "type": "scatterpolar"
           }
          ],
          "scatterpolargl": [
           {
            "marker": {
             "colorbar": {
              "outlinewidth": 0,
              "ticks": ""
             }
            },
            "type": "scatterpolargl"
           }
          ],
          "scatterternary": [
           {
            "marker": {
             "colorbar": {
              "outlinewidth": 0,
              "ticks": ""
             }
            },
            "type": "scatterternary"
           }
          ],
          "surface": [
           {
            "colorbar": {
             "outlinewidth": 0,
             "ticks": ""
            },
            "colorscale": [
             [
              0,
              "#0d0887"
             ],
             [
              0.1111111111111111,
              "#46039f"
             ],
             [
              0.2222222222222222,
              "#7201a8"
             ],
             [
              0.3333333333333333,
              "#9c179e"
             ],
             [
              0.4444444444444444,
              "#bd3786"
             ],
             [
              0.5555555555555556,
              "#d8576b"
             ],
             [
              0.6666666666666666,
              "#ed7953"
             ],
             [
              0.7777777777777778,
              "#fb9f3a"
             ],
             [
              0.8888888888888888,
              "#fdca26"
             ],
             [
              1,
              "#f0f921"
             ]
            ],
            "type": "surface"
           }
          ],
          "table": [
           {
            "cells": {
             "fill": {
              "color": "#EBF0F8"
             },
             "line": {
              "color": "white"
             }
            },
            "header": {
             "fill": {
              "color": "#C8D4E3"
             },
             "line": {
              "color": "white"
             }
            },
            "type": "table"
           }
          ]
         },
         "layout": {
          "annotationdefaults": {
           "arrowcolor": "#2a3f5f",
           "arrowhead": 0,
           "arrowwidth": 1
          },
          "autotypenumbers": "strict",
          "coloraxis": {
           "colorbar": {
            "outlinewidth": 0,
            "ticks": ""
           }
          },
          "colorscale": {
           "diverging": [
            [
             0,
             "#8e0152"
            ],
            [
             0.1,
             "#c51b7d"
            ],
            [
             0.2,
             "#de77ae"
            ],
            [
             0.3,
             "#f1b6da"
            ],
            [
             0.4,
             "#fde0ef"
            ],
            [
             0.5,
             "#f7f7f7"
            ],
            [
             0.6,
             "#e6f5d0"
            ],
            [
             0.7,
             "#b8e186"
            ],
            [
             0.8,
             "#7fbc41"
            ],
            [
             0.9,
             "#4d9221"
            ],
            [
             1,
             "#276419"
            ]
           ],
           "sequential": [
            [
             0,
             "#0d0887"
            ],
            [
             0.1111111111111111,
             "#46039f"
            ],
            [
             0.2222222222222222,
             "#7201a8"
            ],
            [
             0.3333333333333333,
             "#9c179e"
            ],
            [
             0.4444444444444444,
             "#bd3786"
            ],
            [
             0.5555555555555556,
             "#d8576b"
            ],
            [
             0.6666666666666666,
             "#ed7953"
            ],
            [
             0.7777777777777778,
             "#fb9f3a"
            ],
            [
             0.8888888888888888,
             "#fdca26"
            ],
            [
             1,
             "#f0f921"
            ]
           ],
           "sequentialminus": [
            [
             0,
             "#0d0887"
            ],
            [
             0.1111111111111111,
             "#46039f"
            ],
            [
             0.2222222222222222,
             "#7201a8"
            ],
            [
             0.3333333333333333,
             "#9c179e"
            ],
            [
             0.4444444444444444,
             "#bd3786"
            ],
            [
             0.5555555555555556,
             "#d8576b"
            ],
            [
             0.6666666666666666,
             "#ed7953"
            ],
            [
             0.7777777777777778,
             "#fb9f3a"
            ],
            [
             0.8888888888888888,
             "#fdca26"
            ],
            [
             1,
             "#f0f921"
            ]
           ]
          },
          "colorway": [
           "#636efa",
           "#EF553B",
           "#00cc96",
           "#ab63fa",
           "#FFA15A",
           "#19d3f3",
           "#FF6692",
           "#B6E880",
           "#FF97FF",
           "#FECB52"
          ],
          "font": {
           "color": "#2a3f5f"
          },
          "geo": {
           "bgcolor": "white",
           "lakecolor": "white",
           "landcolor": "#E5ECF6",
           "showlakes": true,
           "showland": true,
           "subunitcolor": "white"
          },
          "hoverlabel": {
           "align": "left"
          },
          "hovermode": "closest",
          "mapbox": {
           "style": "light"
          },
          "paper_bgcolor": "white",
          "plot_bgcolor": "#E5ECF6",
          "polar": {
           "angularaxis": {
            "gridcolor": "white",
            "linecolor": "white",
            "ticks": ""
           },
           "bgcolor": "#E5ECF6",
           "radialaxis": {
            "gridcolor": "white",
            "linecolor": "white",
            "ticks": ""
           }
          },
          "scene": {
           "xaxis": {
            "backgroundcolor": "#E5ECF6",
            "gridcolor": "white",
            "gridwidth": 2,
            "linecolor": "white",
            "showbackground": true,
            "ticks": "",
            "zerolinecolor": "white"
           },
           "yaxis": {
            "backgroundcolor": "#E5ECF6",
            "gridcolor": "white",
            "gridwidth": 2,
            "linecolor": "white",
            "showbackground": true,
            "ticks": "",
            "zerolinecolor": "white"
           },
           "zaxis": {
            "backgroundcolor": "#E5ECF6",
            "gridcolor": "white",
            "gridwidth": 2,
            "linecolor": "white",
            "showbackground": true,
            "ticks": "",
            "zerolinecolor": "white"
           }
          },
          "shapedefaults": {
           "line": {
            "color": "#2a3f5f"
           }
          },
          "ternary": {
           "aaxis": {
            "gridcolor": "white",
            "linecolor": "white",
            "ticks": ""
           },
           "baxis": {
            "gridcolor": "white",
            "linecolor": "white",
            "ticks": ""
           },
           "bgcolor": "#E5ECF6",
           "caxis": {
            "gridcolor": "white",
            "linecolor": "white",
            "ticks": ""
           }
          },
          "title": {
           "x": 0.05
          },
          "xaxis": {
           "automargin": true,
           "gridcolor": "white",
           "linecolor": "white",
           "ticks": "",
           "title": {
            "standoff": 15
           },
           "zerolinecolor": "white",
           "zerolinewidth": 2
          },
          "yaxis": {
           "automargin": true,
           "gridcolor": "white",
           "linecolor": "white",
           "ticks": "",
           "title": {
            "standoff": 15
           },
           "zerolinecolor": "white",
           "zerolinewidth": 2
          }
         }
        },
        "title": {
         "text": "Categories breakdown by number of appearances"
        }
       }
      }
     },
     "metadata": {},
     "output_type": "display_data"
    },
    {
     "data": {
      "application/vnd.jupyter.widget-view+json": {
       "model_id": "95c95f90767d4536b3926d83d9dfb1fe",
       "version_major": 2,
       "version_minor": 0
      },
      "text/plain": [
       "interactive(children=(IntRangeSlider(value=(0, 9), description='Count:', max=9), Output()), _dom_classes=('wid…"
      ]
     },
     "metadata": {},
     "output_type": "display_data"
    },
    {
     "data": {
      "application/vnd.plotly.v1+json": {
       "config": {
        "plotlyServerURL": "https://plot.ly"
       },
       "data": [
        {
         "branchvalues": "total",
         "customdata": [
          [
           1
          ],
          [
           3
          ],
          [
           1.6666666666666667
          ],
          [
           7
          ],
          [
           1
          ],
          [
           1
          ],
          [
           2
          ],
          [
           9
          ],
          [
           2
          ],
          [
           1
          ],
          [
           1
          ],
          [
           3
          ],
          [
           1
          ],
          [
           1.8
          ],
          [
           1
          ],
          [
           7
          ],
          [
           1
          ],
          [
           9
          ],
          [
           2
          ],
          [
           1
          ],
          [
           1
          ],
          [
           1
          ],
          [
           7.444444444444445
          ],
          [
           1
          ],
          [
           1
          ],
          [
           1
          ],
          [
           2.111111111111111
          ],
          [
           5.064516129032258
          ]
         ],
         "domain": {
          "x": [
           0,
           1
          ],
          "y": [
           0,
           1
          ]
         },
         "hovertemplate": "labels=%{label}<br>Count_sum=%{value}<br>parent=%{parent}<br>id=%{id}<br>Count=%{color}<extra></extra>",
         "ids": [
          "Categories/family and relationships/parenting/adoption and fostering",
          "Categories/technology & computing/artificial intelligence/artificial intelligence",
          "Categories/technology & computing/computing/computer software and applications",
          "Categories/education/education/education",
          "Categories/science/geography/geography",
          "Categories/technology & computing/consumer electronics/home entertainment systems",
          "Categories/technology & computing/computing/information and network security",
          "Categories/education/language learning/language learning",
          "Categories/education/online education/online education",
          "Categories/news and politics/politics/political issues",
          "Categories/automotive/auto body styles/sedan",
          "Categories/technology & computing/artificial intelligence",
          "Categories/automotive/auto body styles",
          "Categories/technology & computing/computing",
          "Categories/technology & computing/consumer electronics",
          "Categories/education/education",
          "Categories/science/geography",
          "Categories/education/language learning",
          "Categories/education/online education",
          "Categories/family and relationships/parenting",
          "Categories/news and politics/politics",
          "Categories/automotive",
          "Categories/education",
          "Categories/family and relationships",
          "Categories/news and politics",
          "Categories/science",
          "Categories/technology & computing",
          "Categories"
         ],
         "labels": [
          "adoption and fostering",
          "artificial intelligence",
          "computer software and applications",
          "education",
          "geography",
          "home entertainment systems",
          "information and network security",
          "language learning",
          "online education",
          "political issues",
          "sedan",
          "artificial intelligence",
          "auto body styles",
          "computing",
          "consumer electronics",
          "education",
          "geography",
          "language learning",
          "online education",
          "parenting",
          "politics",
          "automotive",
          "education",
          "family and relationships",
          "news and politics",
          "science",
          "technology & computing",
          "Categories"
         ],
         "marker": {
          "coloraxis": "coloraxis",
          "colors": [
           1,
           3,
           1.6666666666666667,
           7,
           1,
           1,
           2,
           9,
           2,
           1,
           1,
           3,
           1,
           1.8,
           1,
           7,
           1,
           9,
           2,
           1,
           1,
           1,
           7.444444444444445,
           1,
           1,
           1,
           2.111111111111111,
           5.064516129032258
          ]
         },
         "name": "",
         "parents": [
          "Categories/family and relationships/parenting",
          "Categories/technology & computing/artificial intelligence",
          "Categories/technology & computing/computing",
          "Categories/education/education",
          "Categories/science/geography",
          "Categories/technology & computing/consumer electronics",
          "Categories/technology & computing/computing",
          "Categories/education/language learning",
          "Categories/education/online education",
          "Categories/news and politics/politics",
          "Categories/automotive/auto body styles",
          "Categories/technology & computing",
          "Categories/automotive",
          "Categories/technology & computing",
          "Categories/technology & computing",
          "Categories/education",
          "Categories/science",
          "Categories/education",
          "Categories/education",
          "Categories/family and relationships",
          "Categories/news and politics",
          "Categories",
          "Categories",
          "Categories",
          "Categories",
          "Categories",
          "Categories",
          ""
         ],
         "type": "treemap",
         "values": [
          1,
          3,
          3,
          7,
          1,
          1,
          2,
          9,
          2,
          1,
          1,
          3,
          1,
          5,
          1,
          7,
          1,
          9,
          2,
          1,
          1,
          1,
          18,
          1,
          1,
          1,
          9,
          31
         ]
        }
       ],
       "layout": {
        "coloraxis": {
         "cmax": 9,
         "cmin": 0,
         "colorbar": {
          "title": {
           "text": "Count"
          }
         },
         "colorscale": [
          [
           0,
           "rgb(247,251,255)"
          ],
          [
           0.125,
           "rgb(222,235,247)"
          ],
          [
           0.25,
           "rgb(198,219,239)"
          ],
          [
           0.375,
           "rgb(158,202,225)"
          ],
          [
           0.5,
           "rgb(107,174,214)"
          ],
          [
           0.625,
           "rgb(66,146,198)"
          ],
          [
           0.75,
           "rgb(33,113,181)"
          ],
          [
           0.875,
           "rgb(8,81,156)"
          ],
          [
           1,
           "rgb(8,48,107)"
          ]
         ]
        },
        "legend": {
         "tracegroupgap": 0
        },
        "template": {
         "data": {
          "bar": [
           {
            "error_x": {
             "color": "#2a3f5f"
            },
            "error_y": {
             "color": "#2a3f5f"
            },
            "marker": {
             "line": {
              "color": "#E5ECF6",
              "width": 0.5
             },
             "pattern": {
              "fillmode": "overlay",
              "size": 10,
              "solidity": 0.2
             }
            },
            "type": "bar"
           }
          ],
          "barpolar": [
           {
            "marker": {
             "line": {
              "color": "#E5ECF6",
              "width": 0.5
             },
             "pattern": {
              "fillmode": "overlay",
              "size": 10,
              "solidity": 0.2
             }
            },
            "type": "barpolar"
           }
          ],
          "carpet": [
           {
            "aaxis": {
             "endlinecolor": "#2a3f5f",
             "gridcolor": "white",
             "linecolor": "white",
             "minorgridcolor": "white",
             "startlinecolor": "#2a3f5f"
            },
            "baxis": {
             "endlinecolor": "#2a3f5f",
             "gridcolor": "white",
             "linecolor": "white",
             "minorgridcolor": "white",
             "startlinecolor": "#2a3f5f"
            },
            "type": "carpet"
           }
          ],
          "choropleth": [
           {
            "colorbar": {
             "outlinewidth": 0,
             "ticks": ""
            },
            "type": "choropleth"
           }
          ],
          "contour": [
           {
            "colorbar": {
             "outlinewidth": 0,
             "ticks": ""
            },
            "colorscale": [
             [
              0,
              "#0d0887"
             ],
             [
              0.1111111111111111,
              "#46039f"
             ],
             [
              0.2222222222222222,
              "#7201a8"
             ],
             [
              0.3333333333333333,
              "#9c179e"
             ],
             [
              0.4444444444444444,
              "#bd3786"
             ],
             [
              0.5555555555555556,
              "#d8576b"
             ],
             [
              0.6666666666666666,
              "#ed7953"
             ],
             [
              0.7777777777777778,
              "#fb9f3a"
             ],
             [
              0.8888888888888888,
              "#fdca26"
             ],
             [
              1,
              "#f0f921"
             ]
            ],
            "type": "contour"
           }
          ],
          "contourcarpet": [
           {
            "colorbar": {
             "outlinewidth": 0,
             "ticks": ""
            },
            "type": "contourcarpet"
           }
          ],
          "heatmap": [
           {
            "colorbar": {
             "outlinewidth": 0,
             "ticks": ""
            },
            "colorscale": [
             [
              0,
              "#0d0887"
             ],
             [
              0.1111111111111111,
              "#46039f"
             ],
             [
              0.2222222222222222,
              "#7201a8"
             ],
             [
              0.3333333333333333,
              "#9c179e"
             ],
             [
              0.4444444444444444,
              "#bd3786"
             ],
             [
              0.5555555555555556,
              "#d8576b"
             ],
             [
              0.6666666666666666,
              "#ed7953"
             ],
             [
              0.7777777777777778,
              "#fb9f3a"
             ],
             [
              0.8888888888888888,
              "#fdca26"
             ],
             [
              1,
              "#f0f921"
             ]
            ],
            "type": "heatmap"
           }
          ],
          "heatmapgl": [
           {
            "colorbar": {
             "outlinewidth": 0,
             "ticks": ""
            },
            "colorscale": [
             [
              0,
              "#0d0887"
             ],
             [
              0.1111111111111111,
              "#46039f"
             ],
             [
              0.2222222222222222,
              "#7201a8"
             ],
             [
              0.3333333333333333,
              "#9c179e"
             ],
             [
              0.4444444444444444,
              "#bd3786"
             ],
             [
              0.5555555555555556,
              "#d8576b"
             ],
             [
              0.6666666666666666,
              "#ed7953"
             ],
             [
              0.7777777777777778,
              "#fb9f3a"
             ],
             [
              0.8888888888888888,
              "#fdca26"
             ],
             [
              1,
              "#f0f921"
             ]
            ],
            "type": "heatmapgl"
           }
          ],
          "histogram": [
           {
            "marker": {
             "pattern": {
              "fillmode": "overlay",
              "size": 10,
              "solidity": 0.2
             }
            },
            "type": "histogram"
           }
          ],
          "histogram2d": [
           {
            "colorbar": {
             "outlinewidth": 0,
             "ticks": ""
            },
            "colorscale": [
             [
              0,
              "#0d0887"
             ],
             [
              0.1111111111111111,
              "#46039f"
             ],
             [
              0.2222222222222222,
              "#7201a8"
             ],
             [
              0.3333333333333333,
              "#9c179e"
             ],
             [
              0.4444444444444444,
              "#bd3786"
             ],
             [
              0.5555555555555556,
              "#d8576b"
             ],
             [
              0.6666666666666666,
              "#ed7953"
             ],
             [
              0.7777777777777778,
              "#fb9f3a"
             ],
             [
              0.8888888888888888,
              "#fdca26"
             ],
             [
              1,
              "#f0f921"
             ]
            ],
            "type": "histogram2d"
           }
          ],
          "histogram2dcontour": [
           {
            "colorbar": {
             "outlinewidth": 0,
             "ticks": ""
            },
            "colorscale": [
             [
              0,
              "#0d0887"
             ],
             [
              0.1111111111111111,
              "#46039f"
             ],
             [
              0.2222222222222222,
              "#7201a8"
             ],
             [
              0.3333333333333333,
              "#9c179e"
             ],
             [
              0.4444444444444444,
              "#bd3786"
             ],
             [
              0.5555555555555556,
              "#d8576b"
             ],
             [
              0.6666666666666666,
              "#ed7953"
             ],
             [
              0.7777777777777778,
              "#fb9f3a"
             ],
             [
              0.8888888888888888,
              "#fdca26"
             ],
             [
              1,
              "#f0f921"
             ]
            ],
            "type": "histogram2dcontour"
           }
          ],
          "mesh3d": [
           {
            "colorbar": {
             "outlinewidth": 0,
             "ticks": ""
            },
            "type": "mesh3d"
           }
          ],
          "parcoords": [
           {
            "line": {
             "colorbar": {
              "outlinewidth": 0,
              "ticks": ""
             }
            },
            "type": "parcoords"
           }
          ],
          "pie": [
           {
            "automargin": true,
            "type": "pie"
           }
          ],
          "scatter": [
           {
            "fillpattern": {
             "fillmode": "overlay",
             "size": 10,
             "solidity": 0.2
            },
            "type": "scatter"
           }
          ],
          "scatter3d": [
           {
            "line": {
             "colorbar": {
              "outlinewidth": 0,
              "ticks": ""
             }
            },
            "marker": {
             "colorbar": {
              "outlinewidth": 0,
              "ticks": ""
             }
            },
            "type": "scatter3d"
           }
          ],
          "scattercarpet": [
           {
            "marker": {
             "colorbar": {
              "outlinewidth": 0,
              "ticks": ""
             }
            },
            "type": "scattercarpet"
           }
          ],
          "scattergeo": [
           {
            "marker": {
             "colorbar": {
              "outlinewidth": 0,
              "ticks": ""
             }
            },
            "type": "scattergeo"
           }
          ],
          "scattergl": [
           {
            "marker": {
             "colorbar": {
              "outlinewidth": 0,
              "ticks": ""
             }
            },
            "type": "scattergl"
           }
          ],
          "scattermapbox": [
           {
            "marker": {
             "colorbar": {
              "outlinewidth": 0,
              "ticks": ""
             }
            },
            "type": "scattermapbox"
           }
          ],
          "scatterpolar": [
           {
            "marker": {
             "colorbar": {
              "outlinewidth": 0,
              "ticks": ""
             }
            },
            "type": "scatterpolar"
           }
          ],
          "scatterpolargl": [
           {
            "marker": {
             "colorbar": {
              "outlinewidth": 0,
              "ticks": ""
             }
            },
            "type": "scatterpolargl"
           }
          ],
          "scatterternary": [
           {
            "marker": {
             "colorbar": {
              "outlinewidth": 0,
              "ticks": ""
             }
            },
            "type": "scatterternary"
           }
          ],
          "surface": [
           {
            "colorbar": {
             "outlinewidth": 0,
             "ticks": ""
            },
            "colorscale": [
             [
              0,
              "#0d0887"
             ],
             [
              0.1111111111111111,
              "#46039f"
             ],
             [
              0.2222222222222222,
              "#7201a8"
             ],
             [
              0.3333333333333333,
              "#9c179e"
             ],
             [
              0.4444444444444444,
              "#bd3786"
             ],
             [
              0.5555555555555556,
              "#d8576b"
             ],
             [
              0.6666666666666666,
              "#ed7953"
             ],
             [
              0.7777777777777778,
              "#fb9f3a"
             ],
             [
              0.8888888888888888,
              "#fdca26"
             ],
             [
              1,
              "#f0f921"
             ]
            ],
            "type": "surface"
           }
          ],
          "table": [
           {
            "cells": {
             "fill": {
              "color": "#EBF0F8"
             },
             "line": {
              "color": "white"
             }
            },
            "header": {
             "fill": {
              "color": "#C8D4E3"
             },
             "line": {
              "color": "white"
             }
            },
            "type": "table"
           }
          ]
         },
         "layout": {
          "annotationdefaults": {
           "arrowcolor": "#2a3f5f",
           "arrowhead": 0,
           "arrowwidth": 1
          },
          "autotypenumbers": "strict",
          "coloraxis": {
           "colorbar": {
            "outlinewidth": 0,
            "ticks": ""
           }
          },
          "colorscale": {
           "diverging": [
            [
             0,
             "#8e0152"
            ],
            [
             0.1,
             "#c51b7d"
            ],
            [
             0.2,
             "#de77ae"
            ],
            [
             0.3,
             "#f1b6da"
            ],
            [
             0.4,
             "#fde0ef"
            ],
            [
             0.5,
             "#f7f7f7"
            ],
            [
             0.6,
             "#e6f5d0"
            ],
            [
             0.7,
             "#b8e186"
            ],
            [
             0.8,
             "#7fbc41"
            ],
            [
             0.9,
             "#4d9221"
            ],
            [
             1,
             "#276419"
            ]
           ],
           "sequential": [
            [
             0,
             "#0d0887"
            ],
            [
             0.1111111111111111,
             "#46039f"
            ],
            [
             0.2222222222222222,
             "#7201a8"
            ],
            [
             0.3333333333333333,
             "#9c179e"
            ],
            [
             0.4444444444444444,
             "#bd3786"
            ],
            [
             0.5555555555555556,
             "#d8576b"
            ],
            [
             0.6666666666666666,
             "#ed7953"
            ],
            [
             0.7777777777777778,
             "#fb9f3a"
            ],
            [
             0.8888888888888888,
             "#fdca26"
            ],
            [
             1,
             "#f0f921"
            ]
           ],
           "sequentialminus": [
            [
             0,
             "#0d0887"
            ],
            [
             0.1111111111111111,
             "#46039f"
            ],
            [
             0.2222222222222222,
             "#7201a8"
            ],
            [
             0.3333333333333333,
             "#9c179e"
            ],
            [
             0.4444444444444444,
             "#bd3786"
            ],
            [
             0.5555555555555556,
             "#d8576b"
            ],
            [
             0.6666666666666666,
             "#ed7953"
            ],
            [
             0.7777777777777778,
             "#fb9f3a"
            ],
            [
             0.8888888888888888,
             "#fdca26"
            ],
            [
             1,
             "#f0f921"
            ]
           ]
          },
          "colorway": [
           "#636efa",
           "#EF553B",
           "#00cc96",
           "#ab63fa",
           "#FFA15A",
           "#19d3f3",
           "#FF6692",
           "#B6E880",
           "#FF97FF",
           "#FECB52"
          ],
          "font": {
           "color": "#2a3f5f"
          },
          "geo": {
           "bgcolor": "white",
           "lakecolor": "white",
           "landcolor": "#E5ECF6",
           "showlakes": true,
           "showland": true,
           "subunitcolor": "white"
          },
          "hoverlabel": {
           "align": "left"
          },
          "hovermode": "closest",
          "mapbox": {
           "style": "light"
          },
          "paper_bgcolor": "white",
          "plot_bgcolor": "#E5ECF6",
          "polar": {
           "angularaxis": {
            "gridcolor": "white",
            "linecolor": "white",
            "ticks": ""
           },
           "bgcolor": "#E5ECF6",
           "radialaxis": {
            "gridcolor": "white",
            "linecolor": "white",
            "ticks": ""
           }
          },
          "scene": {
           "xaxis": {
            "backgroundcolor": "#E5ECF6",
            "gridcolor": "white",
            "gridwidth": 2,
            "linecolor": "white",
            "showbackground": true,
            "ticks": "",
            "zerolinecolor": "white"
           },
           "yaxis": {
            "backgroundcolor": "#E5ECF6",
            "gridcolor": "white",
            "gridwidth": 2,
            "linecolor": "white",
            "showbackground": true,
            "ticks": "",
            "zerolinecolor": "white"
           },
           "zaxis": {
            "backgroundcolor": "#E5ECF6",
            "gridcolor": "white",
            "gridwidth": 2,
            "linecolor": "white",
            "showbackground": true,
            "ticks": "",
            "zerolinecolor": "white"
           }
          },
          "shapedefaults": {
           "line": {
            "color": "#2a3f5f"
           }
          },
          "ternary": {
           "aaxis": {
            "gridcolor": "white",
            "linecolor": "white",
            "ticks": ""
           },
           "baxis": {
            "gridcolor": "white",
            "linecolor": "white",
            "ticks": ""
           },
           "bgcolor": "#E5ECF6",
           "caxis": {
            "gridcolor": "white",
            "linecolor": "white",
            "ticks": ""
           }
          },
          "title": {
           "x": 0.05
          },
          "xaxis": {
           "automargin": true,
           "gridcolor": "white",
           "linecolor": "white",
           "ticks": "",
           "title": {
            "standoff": 15
           },
           "zerolinecolor": "white",
           "zerolinewidth": 2
          },
          "yaxis": {
           "automargin": true,
           "gridcolor": "white",
           "linecolor": "white",
           "ticks": "",
           "title": {
            "standoff": 15
           },
           "zerolinecolor": "white",
           "zerolinewidth": 2
          }
         }
        },
        "title": {
         "text": "Categories breakdown by number of appearances"
        }
       }
      }
     },
     "metadata": {},
     "output_type": "display_data"
    },
    {
     "data": {
      "text/plain": [
       "<function __main__.update(sliderVal)>"
      ]
     },
     "execution_count": 11,
     "metadata": {},
     "output_type": "execute_result"
    }
   ],
   "source": [
    "import plotly\n",
    "import plotly.express as px\n",
    "import numpy as np\n",
    "import ipywidgets as widgets\n",
    "\n",
    "# Function to update the Treemap\n",
    "def update(sliderVal):\n",
    "   thresh1, thresh2 = sliderVal\n",
    "   res = df_cat[(df_cat['Count'] <= thresh2) & (df_cat['Count'] >= thresh1)]\n",
    "   fig = px.treemap(res, path=[px.Constant(\"Categories\"),'Level_1','Level_2','Level_3'], values='Count',\n",
    "                  color='Count', #hover_data=['Level_3'],\n",
    "                  color_continuous_scale='Blues',\n",
    "                  range_color=[0,max(df_cat['Count'])],\n",
    "                  title=\"Categories breakdown by number of appearances\")\n",
    "   fig.show()\n",
    "\n",
    "# Range Slider\n",
    "rangeSlider = widgets.IntRangeSlider(\n",
    "    value=[0, df_cat['Count'].max()],\n",
    "    min=0,\n",
    "    max=df_cat['Count'].max(),\n",
    "    step=1,\n",
    "    description='Count:',\n",
    "    disabled=False,\n",
    "    continuous_update=True,\n",
    "    orientation='horizontal',\n",
    "    readout=True,\n",
    "    readout_format='d',\n",
    ")\n",
    "widgets.interact(update, sliderVal = rangeSlider )"
   ]
  },
  {
   "attachments": {},
   "cell_type": "markdown",
   "metadata": {},
   "source": [
    "## 4. WordCloud per Sentence Sentiment"
   ]
  },
  {
   "cell_type": "code",
   "execution_count": 12,
   "metadata": {},
   "outputs": [
    {
     "data": {
      "text/html": [
       "<div>\n",
       "<style scoped>\n",
       "    .dataframe tbody tr th:only-of-type {\n",
       "        vertical-align: middle;\n",
       "    }\n",
       "\n",
       "    .dataframe tbody tr th {\n",
       "        vertical-align: top;\n",
       "    }\n",
       "\n",
       "    .dataframe thead th {\n",
       "        text-align: right;\n",
       "    }\n",
       "</style>\n",
       "<table border=\"1\" class=\"dataframe\">\n",
       "  <thead>\n",
       "    <tr style=\"text-align: right;\">\n",
       "      <th></th>\n",
       "      <th>sentence</th>\n",
       "      <th>sentiment</th>\n",
       "    </tr>\n",
       "  </thead>\n",
       "  <tbody>\n",
       "    <tr>\n",
       "      <th>0</th>\n",
       "      <td>Deep learning has yielded some remarkable resu...</td>\n",
       "      <td>0.959867</td>\n",
       "    </tr>\n",
       "    <tr>\n",
       "      <th>1</th>\n",
       "      <td>But one of the shortcomings (arguably) in curr...</td>\n",
       "      <td>0.810648</td>\n",
       "    </tr>\n",
       "    <tr>\n",
       "      <th>2</th>\n",
       "      <td>What is the significance of this current lack ...</td>\n",
       "      <td>0.000000</td>\n",
       "    </tr>\n",
       "    <tr>\n",
       "      <th>3</th>\n",
       "      <td>What are the ethical ramifications of this issue?</td>\n",
       "      <td>0.000000</td>\n",
       "    </tr>\n",
       "    <tr>\n",
       "      <th>4</th>\n",
       "      <td>How might this affect the long-run viability o...</td>\n",
       "      <td>0.000000</td>\n",
       "    </tr>\n",
       "  </tbody>\n",
       "</table>\n",
       "</div>"
      ],
      "text/plain": [
       "                                            sentence  sentiment\n",
       "0  Deep learning has yielded some remarkable resu...   0.959867\n",
       "1  But one of the shortcomings (arguably) in curr...   0.810648\n",
       "2  What is the significance of this current lack ...   0.000000\n",
       "3  What are the ethical ramifications of this issue?   0.000000\n",
       "4  How might this affect the long-run viability o...   0.000000"
      ]
     },
     "execution_count": 12,
     "metadata": {},
     "output_type": "execute_result"
    }
   ],
   "source": [
    "# Read the procesed Sentece Sentiment\n",
    "df_sentences_sentiment = pd.read_csv('sentece_sentiment.csv')\n",
    "df_sentences_sentiment.head()"
   ]
  },
  {
   "cell_type": "code",
   "execution_count": 13,
   "metadata": {},
   "outputs": [
    {
     "data": {
      "application/vnd.jupyter.widget-view+json": {
       "model_id": "4912956e633d4a6b9f46ac5c22b21fa8",
       "version_major": 2,
       "version_minor": 0
      },
      "text/plain": [
       "interactive(children=(SelectMultiple(description='Sentiment', index=(0, 1, 2), options=('Positive', 'Neutral',…"
      ]
     },
     "metadata": {},
     "output_type": "display_data"
    },
    {
     "data": {
      "text/plain": [
       "<function __main__.update_word(values)>"
      ]
     },
     "execution_count": 13,
     "metadata": {},
     "output_type": "execute_result"
    }
   ],
   "source": [
    "from wordcloud import WordCloud, STOPWORDS, ImageColorGenerator\n",
    "import ipywidgets as widgets\n",
    "stopwords = set(STOPWORDS)\n",
    "\n",
    "# Function to update the Word Cloud\n",
    "def update_word(values):\n",
    "   df = df_sentences_sentiment['sentiment']!=df_sentences_sentiment['sentiment']\n",
    "   for v in values:\n",
    "      if v == 'Positive':\n",
    "         df = (df_sentences_sentiment['sentiment'] > 0) | df\n",
    "      elif v == 'Neutral':\n",
    "         df = (df_sentences_sentiment['sentiment'] == 0) | df\n",
    "      elif v == 'Negative':\n",
    "         df = (df_sentences_sentiment['sentiment'] < 0) | df\n",
    "   df = df_sentences_sentiment[df]\n",
    "   text = \" \".join(sentece for sentece in df.sentence)\n",
    "   wordcloud = WordCloud(background_color=\"white\", stopwords=stopwords, width=1600, height=800).generate(text)\n",
    "   plt.figure(figsize=(20,10))\n",
    "   plt.title('WordCloud per Sentence Sentiment',fontsize = 50)\n",
    "   plt.imshow(wordcloud, interpolation=\"bilinear\")\n",
    "   plt.axis(\"off\")\n",
    "   plt.show()   \n",
    "\n",
    "# Multiple Select Box\n",
    "cbox = widgets.SelectMultiple(\n",
    "    options=['Positive', 'Neutral', 'Negative'],\n",
    "    value=['Positive', 'Neutral', 'Negative'],\n",
    "    description='Sentiment',\n",
    "    disabled=False\n",
    ")\n",
    "widgets.interact(update_word, values = cbox )"
   ]
  },
  {
   "attachments": {},
   "cell_type": "markdown",
   "metadata": {},
   "source": [
    "## 5. Keywords Count Bar Chart"
   ]
  },
  {
   "cell_type": "code",
   "execution_count": 14,
   "metadata": {},
   "outputs": [
    {
     "data": {
      "text/html": [
       "<div>\n",
       "<style scoped>\n",
       "    .dataframe tbody tr th:only-of-type {\n",
       "        vertical-align: middle;\n",
       "    }\n",
       "\n",
       "    .dataframe tbody tr th {\n",
       "        vertical-align: top;\n",
       "    }\n",
       "\n",
       "    .dataframe thead th {\n",
       "        text-align: right;\n",
       "    }\n",
       "</style>\n",
       "<table border=\"1\" class=\"dataframe\">\n",
       "  <thead>\n",
       "    <tr style=\"text-align: right;\">\n",
       "      <th></th>\n",
       "      <th>keywords</th>\n",
       "      <th>count</th>\n",
       "    </tr>\n",
       "  </thead>\n",
       "  <tbody>\n",
       "    <tr>\n",
       "      <th>0</th>\n",
       "      <td>adversarial testing</td>\n",
       "      <td>2.0</td>\n",
       "    </tr>\n",
       "    <tr>\n",
       "      <th>1</th>\n",
       "      <td>based systems</td>\n",
       "      <td>2.0</td>\n",
       "    </tr>\n",
       "    <tr>\n",
       "      <th>2</th>\n",
       "      <td>bayesian networks</td>\n",
       "      <td>2.0</td>\n",
       "    </tr>\n",
       "    <tr>\n",
       "      <th>3</th>\n",
       "      <td>better understanding</td>\n",
       "      <td>2.0</td>\n",
       "    </tr>\n",
       "    <tr>\n",
       "      <th>4</th>\n",
       "      <td>decision trees</td>\n",
       "      <td>2.0</td>\n",
       "    </tr>\n",
       "  </tbody>\n",
       "</table>\n",
       "</div>"
      ],
      "text/plain": [
       "               keywords  count\n",
       "0   adversarial testing    2.0\n",
       "1         based systems    2.0\n",
       "2     bayesian networks    2.0\n",
       "3  better understanding    2.0\n",
       "4        decision trees    2.0"
      ]
     },
     "execution_count": 14,
     "metadata": {},
     "output_type": "execute_result"
    }
   ],
   "source": [
    "# Read Procesed Keywords\n",
    "df_keywords = pd.read_csv('keywords.csv')\n",
    "df_keywords.head()"
   ]
  },
  {
   "cell_type": "code",
   "execution_count": 15,
   "metadata": {},
   "outputs": [
    {
     "data": {
      "text/html": [
       "<style>\n",
       "        .bk-notebook-logo {\n",
       "            display: block;\n",
       "            width: 20px;\n",
       "            height: 20px;\n",
       "            background-image: url(data:image/png;base64,iVBORw0KGgoAAAANSUhEUgAAABQAAAAUCAYAAACNiR0NAAAABHNCSVQICAgIfAhkiAAAAAlwSFlzAAALEgAACxIB0t1+/AAAABx0RVh0U29mdHdhcmUAQWRvYmUgRmlyZXdvcmtzIENTNui8sowAAAOkSURBVDiNjZRtaJVlGMd/1/08zzln5zjP1LWcU9N0NkN8m2CYjpgQYQXqSs0I84OLIC0hkEKoPtiH3gmKoiJDU7QpLgoLjLIQCpEsNJ1vqUOdO7ppbuec5+V+rj4ctwzd8IIbbi6u+8f1539dt3A78eXC7QizUF7gyV1fD1Yqg4JWz84yffhm0qkFqBogB9rM8tZdtwVsPUhWhGcFJngGeWrPzHm5oaMmkfEg1usvLFyc8jLRqDOMru7AyC8saQr7GG7f5fvDeH7Ej8CM66nIF+8yngt6HWaKh7k49Soy9nXurCi1o3qUbS3zWfrYeQDTB/Qj6kX6Ybhw4B+bOYoLKCC9H3Nu/leUTZ1JdRWkkn2ldcCamzrcf47KKXdAJllSlxAOkRgyHsGC/zRday5Qld9DyoM4/q/rUoy/CXh3jzOu3bHUVZeU+DEn8FInkPBFlu3+nW3Nw0mk6vCDiWg8CeJaxEwuHS3+z5RgY+YBR6V1Z1nxSOfoaPa4LASWxxdNp+VWTk7+4vzaou8v8PN+xo+KY2xsw6une2frhw05CTYOmQvsEhjhWjn0bmXPjpE1+kplmmkP3suftwTubK9Vq22qKmrBhpY4jvd5afdRA3wGjFAgcnTK2s4hY0/GPNIb0nErGMCRxWOOX64Z8RAC4oCXdklmEvcL8o0BfkNK4lUg9HTl+oPlQxdNo3Mg4Nv175e/1LDGzZen30MEjRUtmXSfiTVu1kK8W4txyV6BMKlbgk3lMwYCiusNy9fVfvvwMxv8Ynl6vxoByANLTWplvuj/nF9m2+PDtt1eiHPBr1oIfhCChQMBw6Aw0UulqTKZdfVvfG7VcfIqLG9bcldL/+pdWTLxLUy8Qq38heUIjh4XlzZxzQm19lLFlr8vdQ97rjZVOLf8nclzckbcD4wxXMidpX30sFd37Fv/GtwwhzhxGVAprjbg0gCAEeIgwCZyTV2Z1REEW8O4py0wsjeloKoMr6iCY6dP92H6Vw/oTyICIthibxjm/DfN9lVz8IqtqKYLUXfoKVMVQVVJOElGjrnnUt9T9wbgp8AyYKaGlqingHZU/uG2NTZSVqwHQTWkx9hxjkpWDaCg6Ckj5qebgBVbT3V3NNXMSiWSDdGV3hrtzla7J+duwPOToIg42ChPQOQjspnSlp1V+Gjdged7+8UN5CRAV7a5EdFNwCjEaBR27b3W890TE7g24NAP/mMDXRWrGoFPQI9ls/MWO2dWFAar/xcOIImbbpA3zgAAAABJRU5ErkJggg==);\n",
       "        }\n",
       "    </style>\n",
       "    <div>\n",
       "        <a href=\"https://bokeh.org\" target=\"_blank\" class=\"bk-notebook-logo\"></a>\n",
       "        <span id=\"p1556\">Loading BokehJS ...</span>\n",
       "    </div>\n"
      ]
     },
     "metadata": {},
     "output_type": "display_data"
    },
    {
     "data": {
      "application/javascript": "(function(root) {\n  function now() {\n    return new Date();\n  }\n\n  const force = true;\n\n  if (typeof root._bokeh_onload_callbacks === \"undefined\" || force === true) {\n    root._bokeh_onload_callbacks = [];\n    root._bokeh_is_loading = undefined;\n  }\n\nconst JS_MIME_TYPE = 'application/javascript';\n  const HTML_MIME_TYPE = 'text/html';\n  const EXEC_MIME_TYPE = 'application/vnd.bokehjs_exec.v0+json';\n  const CLASS_NAME = 'output_bokeh rendered_html';\n\n  /**\n   * Render data to the DOM node\n   */\n  function render(props, node) {\n    const script = document.createElement(\"script\");\n    node.appendChild(script);\n  }\n\n  /**\n   * Handle when an output is cleared or removed\n   */\n  function handleClearOutput(event, handle) {\n    const cell = handle.cell;\n\n    const id = cell.output_area._bokeh_element_id;\n    const server_id = cell.output_area._bokeh_server_id;\n    // Clean up Bokeh references\n    if (id != null && id in Bokeh.index) {\n      Bokeh.index[id].model.document.clear();\n      delete Bokeh.index[id];\n    }\n\n    if (server_id !== undefined) {\n      // Clean up Bokeh references\n      const cmd_clean = \"from bokeh.io.state import curstate; print(curstate().uuid_to_server['\" + server_id + \"'].get_sessions()[0].document.roots[0]._id)\";\n      cell.notebook.kernel.execute(cmd_clean, {\n        iopub: {\n          output: function(msg) {\n            const id = msg.content.text.trim();\n            if (id in Bokeh.index) {\n              Bokeh.index[id].model.document.clear();\n              delete Bokeh.index[id];\n            }\n          }\n        }\n      });\n      // Destroy server and session\n      const cmd_destroy = \"import bokeh.io.notebook as ion; ion.destroy_server('\" + server_id + \"')\";\n      cell.notebook.kernel.execute(cmd_destroy);\n    }\n  }\n\n  /**\n   * Handle when a new output is added\n   */\n  function handleAddOutput(event, handle) {\n    const output_area = handle.output_area;\n    const output = handle.output;\n\n    // limit handleAddOutput to display_data with EXEC_MIME_TYPE content only\n    if ((output.output_type != \"display_data\") || (!Object.prototype.hasOwnProperty.call(output.data, EXEC_MIME_TYPE))) {\n      return\n    }\n\n    const toinsert = output_area.element.find(\".\" + CLASS_NAME.split(' ')[0]);\n\n    if (output.metadata[EXEC_MIME_TYPE][\"id\"] !== undefined) {\n      toinsert[toinsert.length - 1].firstChild.textContent = output.data[JS_MIME_TYPE];\n      // store reference to embed id on output_area\n      output_area._bokeh_element_id = output.metadata[EXEC_MIME_TYPE][\"id\"];\n    }\n    if (output.metadata[EXEC_MIME_TYPE][\"server_id\"] !== undefined) {\n      const bk_div = document.createElement(\"div\");\n      bk_div.innerHTML = output.data[HTML_MIME_TYPE];\n      const script_attrs = bk_div.children[0].attributes;\n      for (let i = 0; i < script_attrs.length; i++) {\n        toinsert[toinsert.length - 1].firstChild.setAttribute(script_attrs[i].name, script_attrs[i].value);\n        toinsert[toinsert.length - 1].firstChild.textContent = bk_div.children[0].textContent\n      }\n      // store reference to server id on output_area\n      output_area._bokeh_server_id = output.metadata[EXEC_MIME_TYPE][\"server_id\"];\n    }\n  }\n\n  function register_renderer(events, OutputArea) {\n\n    function append_mime(data, metadata, element) {\n      // create a DOM node to render to\n      const toinsert = this.create_output_subarea(\n        metadata,\n        CLASS_NAME,\n        EXEC_MIME_TYPE\n      );\n      this.keyboard_manager.register_events(toinsert);\n      // Render to node\n      const props = {data: data, metadata: metadata[EXEC_MIME_TYPE]};\n      render(props, toinsert[toinsert.length - 1]);\n      element.append(toinsert);\n      return toinsert\n    }\n\n    /* Handle when an output is cleared or removed */\n    events.on('clear_output.CodeCell', handleClearOutput);\n    events.on('delete.Cell', handleClearOutput);\n\n    /* Handle when a new output is added */\n    events.on('output_added.OutputArea', handleAddOutput);\n\n    /**\n     * Register the mime type and append_mime function with output_area\n     */\n    OutputArea.prototype.register_mime_type(EXEC_MIME_TYPE, append_mime, {\n      /* Is output safe? */\n      safe: true,\n      /* Index of renderer in `output_area.display_order` */\n      index: 0\n    });\n  }\n\n  // register the mime type if in Jupyter Notebook environment and previously unregistered\n  if (root.Jupyter !== undefined) {\n    const events = require('base/js/events');\n    const OutputArea = require('notebook/js/outputarea').OutputArea;\n\n    if (OutputArea.prototype.mime_types().indexOf(EXEC_MIME_TYPE) == -1) {\n      register_renderer(events, OutputArea);\n    }\n  }\n  if (typeof (root._bokeh_timeout) === \"undefined\" || force === true) {\n    root._bokeh_timeout = Date.now() + 5000;\n    root._bokeh_failed_load = false;\n  }\n\n  const NB_LOAD_WARNING = {'data': {'text/html':\n     \"<div style='background-color: #fdd'>\\n\"+\n     \"<p>\\n\"+\n     \"BokehJS does not appear to have successfully loaded. If loading BokehJS from CDN, this \\n\"+\n     \"may be due to a slow or bad network connection. Possible fixes:\\n\"+\n     \"</p>\\n\"+\n     \"<ul>\\n\"+\n     \"<li>re-rerun `output_notebook()` to attempt to load from CDN again, or</li>\\n\"+\n     \"<li>use INLINE resources instead, as so:</li>\\n\"+\n     \"</ul>\\n\"+\n     \"<code>\\n\"+\n     \"from bokeh.resources import INLINE\\n\"+\n     \"output_notebook(resources=INLINE)\\n\"+\n     \"</code>\\n\"+\n     \"</div>\"}};\n\n  function display_loaded() {\n    const el = document.getElementById(\"p1556\");\n    if (el != null) {\n      el.textContent = \"BokehJS is loading...\";\n    }\n    if (root.Bokeh !== undefined) {\n      if (el != null) {\n        el.textContent = \"BokehJS \" + root.Bokeh.version + \" successfully loaded.\";\n      }\n    } else if (Date.now() < root._bokeh_timeout) {\n      setTimeout(display_loaded, 100)\n    }\n  }\n\n  function run_callbacks() {\n    try {\n      root._bokeh_onload_callbacks.forEach(function(callback) {\n        if (callback != null)\n          callback();\n      });\n    } finally {\n      delete root._bokeh_onload_callbacks\n    }\n    console.debug(\"Bokeh: all callbacks have finished\");\n  }\n\n  function load_libs(css_urls, js_urls, callback) {\n    if (css_urls == null) css_urls = [];\n    if (js_urls == null) js_urls = [];\n\n    root._bokeh_onload_callbacks.push(callback);\n    if (root._bokeh_is_loading > 0) {\n      console.debug(\"Bokeh: BokehJS is being loaded, scheduling callback at\", now());\n      return null;\n    }\n    if (js_urls == null || js_urls.length === 0) {\n      run_callbacks();\n      return null;\n    }\n    console.debug(\"Bokeh: BokehJS not loaded, scheduling load and callback at\", now());\n    root._bokeh_is_loading = css_urls.length + js_urls.length;\n\n    function on_load() {\n      root._bokeh_is_loading--;\n      if (root._bokeh_is_loading === 0) {\n        console.debug(\"Bokeh: all BokehJS libraries/stylesheets loaded\");\n        run_callbacks()\n      }\n    }\n\n    function on_error(url) {\n      console.error(\"failed to load \" + url);\n    }\n\n    for (let i = 0; i < css_urls.length; i++) {\n      const url = css_urls[i];\n      const element = document.createElement(\"link\");\n      element.onload = on_load;\n      element.onerror = on_error.bind(null, url);\n      element.rel = \"stylesheet\";\n      element.type = \"text/css\";\n      element.href = url;\n      console.debug(\"Bokeh: injecting link tag for BokehJS stylesheet: \", url);\n      document.body.appendChild(element);\n    }\n\n    for (let i = 0; i < js_urls.length; i++) {\n      const url = js_urls[i];\n      const element = document.createElement('script');\n      element.onload = on_load;\n      element.onerror = on_error.bind(null, url);\n      element.async = false;\n      element.src = url;\n      console.debug(\"Bokeh: injecting script tag for BokehJS library: \", url);\n      document.head.appendChild(element);\n    }\n  };\n\n  function inject_raw_css(css) {\n    const element = document.createElement(\"style\");\n    element.appendChild(document.createTextNode(css));\n    document.body.appendChild(element);\n  }\n\n  const js_urls = [\"https://cdn.bokeh.org/bokeh/release/bokeh-3.1.0.min.js\", \"https://cdn.bokeh.org/bokeh/release/bokeh-gl-3.1.0.min.js\", \"https://cdn.bokeh.org/bokeh/release/bokeh-widgets-3.1.0.min.js\", \"https://cdn.bokeh.org/bokeh/release/bokeh-tables-3.1.0.min.js\", \"https://cdn.bokeh.org/bokeh/release/bokeh-mathjax-3.1.0.min.js\"];\n  const css_urls = [];\n\n  const inline_js = [    function(Bokeh) {\n      Bokeh.set_log_level(\"info\");\n    },\nfunction(Bokeh) {\n    }\n  ];\n\n  function run_inline_js() {\n    if (root.Bokeh !== undefined || force === true) {\n          for (let i = 0; i < inline_js.length; i++) {\n      inline_js[i].call(root, root.Bokeh);\n    }\nif (force === true) {\n        display_loaded();\n      }} else if (Date.now() < root._bokeh_timeout) {\n      setTimeout(run_inline_js, 100);\n    } else if (!root._bokeh_failed_load) {\n      console.log(\"Bokeh: BokehJS failed to load within specified timeout.\");\n      root._bokeh_failed_load = true;\n    } else if (force !== true) {\n      const cell = $(document.getElementById(\"p1556\")).parents('.cell').data().cell;\n      cell.output_area.append_execute_result(NB_LOAD_WARNING)\n    }\n  }\n\n  if (root._bokeh_is_loading === 0) {\n    console.debug(\"Bokeh: BokehJS loaded, going straight to plotting\");\n    run_inline_js();\n  } else {\n    load_libs(css_urls, js_urls, function() {\n      console.debug(\"Bokeh: BokehJS plotting callback run at\", now());\n      run_inline_js();\n    });\n  }\n}(window));",
      "application/vnd.bokehjs_load.v0+json": ""
     },
     "metadata": {},
     "output_type": "display_data"
    },
    {
     "data": {
      "text/html": [
       "\n",
       "  <div id=\"3b3acea1-a162-41b2-b6d4-7916152f76e3\" data-root-id=\"p1610\" style=\"display: contents;\"></div>\n"
      ]
     },
     "metadata": {},
     "output_type": "display_data"
    },
    {
     "data": {
      "application/javascript": "(function(root) {\n  function embed_document(root) {\n  const docs_json = {\"3664aada-4180-4a39-a5f8-8c84849c35c1\":{\"version\":\"3.1.0\",\"title\":\"Bokeh Application\",\"defs\":[],\"roots\":[{\"type\":\"object\",\"name\":\"Column\",\"id\":\"p1610\",\"attributes\":{\"children\":[{\"type\":\"object\",\"name\":\"Figure\",\"id\":\"p1563\",\"attributes\":{\"width\":900,\"height\":500,\"x_range\":{\"type\":\"object\",\"name\":\"FactorRange\",\"id\":\"p1573\",\"attributes\":{\"factors\":[\"adversarial testing\",\"based systems\",\"bayesian networks\",\"better understanding\",\"decision trees\",\"ensemble methods\",\"explainability tools\",\"fuzzy logic\",\"make decisions\",\"making systems\",\"researchers\",\"run viability\",\"significant challenge\",\"symbolic ai\",\"visualization techniques\",\"feature attribution\",\"help identify\",\"highly interpretable\",\"input data\",\"provide insights\",\"making process\",\"deep learning\"]}},\"y_range\":{\"type\":\"object\",\"name\":\"DataRange1d\",\"id\":\"p1565\",\"attributes\":{\"start\":0}},\"x_scale\":{\"type\":\"object\",\"name\":\"CategoricalScale\",\"id\":\"p1577\"},\"y_scale\":{\"type\":\"object\",\"name\":\"LinearScale\",\"id\":\"p1579\"},\"title\":{\"type\":\"object\",\"name\":\"Title\",\"id\":\"p1566\",\"attributes\":{\"text\":\"Keywords counts\",\"text_font_size\":\"20pt\"}},\"renderers\":[{\"type\":\"object\",\"name\":\"GlyphRenderer\",\"id\":\"p1605\",\"attributes\":{\"data_source\":{\"type\":\"object\",\"name\":\"ColumnDataSource\",\"id\":\"p1557\",\"attributes\":{\"selected\":{\"type\":\"object\",\"name\":\"Selection\",\"id\":\"p1558\",\"attributes\":{\"indices\":[],\"line_indices\":[]}},\"selection_policy\":{\"type\":\"object\",\"name\":\"UnionRenderers\",\"id\":\"p1559\"},\"data\":{\"type\":\"map\",\"entries\":[[\"keywords\",{\"type\":\"ndarray\",\"array\":[\"adversarial testing\",\"based systems\",\"bayesian networks\",\"better understanding\",\"decision trees\",\"ensemble methods\",\"explainability tools\",\"fuzzy logic\",\"make decisions\",\"making systems\",\"researchers\",\"run viability\",\"significant challenge\",\"symbolic ai\",\"visualization techniques\",\"feature attribution\",\"help identify\",\"highly interpretable\",\"input data\",\"provide insights\",\"making process\",\"deep learning\"],\"shape\":[22],\"dtype\":\"object\",\"order\":\"little\"}],[\"counts\",{\"type\":\"ndarray\",\"array\":{\"type\":\"bytes\",\"data\":\"AAAAAAAAAEAAAAAAAAAAQAAAAAAAAABAAAAAAAAAAEAAAAAAAAAAQAAAAAAAAABAAAAAAAAAAEAAAAAAAAAAQAAAAAAAAABAAAAAAAAAAEAAAAAAAAAAQAAAAAAAAABAAAAAAAAAAEAAAAAAAAAAQAAAAAAAAABAAAAAAAAACEAAAAAAAAAIQAAAAAAAAAhAAAAAAAAACEAAAAAAAAAIQAAAAAAAABRAAAAAAAAAMUA=\"},\"shape\":[22],\"dtype\":\"float64\",\"order\":\"little\"}]]}}},\"view\":{\"type\":\"object\",\"name\":\"CDSView\",\"id\":\"p1606\",\"attributes\":{\"filter\":{\"type\":\"object\",\"name\":\"AllIndices\",\"id\":\"p1607\"}}},\"glyph\":{\"type\":\"object\",\"name\":\"VBar\",\"id\":\"p1602\",\"attributes\":{\"x\":{\"type\":\"field\",\"field\":\"keywords\"},\"width\":{\"type\":\"value\",\"value\":0.9},\"top\":{\"type\":\"field\",\"field\":\"counts\"},\"line_color\":{\"type\":\"value\",\"value\":\"#1f77b4\"},\"fill_color\":{\"type\":\"value\",\"value\":\"#1f77b4\"}}},\"nonselection_glyph\":{\"type\":\"object\",\"name\":\"VBar\",\"id\":\"p1603\",\"attributes\":{\"x\":{\"type\":\"field\",\"field\":\"keywords\"},\"width\":{\"type\":\"value\",\"value\":0.9},\"top\":{\"type\":\"field\",\"field\":\"counts\"},\"line_color\":{\"type\":\"value\",\"value\":\"#1f77b4\"},\"line_alpha\":{\"type\":\"value\",\"value\":0.1},\"fill_color\":{\"type\":\"value\",\"value\":\"#1f77b4\"},\"fill_alpha\":{\"type\":\"value\",\"value\":0.1},\"hatch_alpha\":{\"type\":\"value\",\"value\":0.1}}},\"muted_glyph\":{\"type\":\"object\",\"name\":\"VBar\",\"id\":\"p1604\",\"attributes\":{\"x\":{\"type\":\"field\",\"field\":\"keywords\"},\"width\":{\"type\":\"value\",\"value\":0.9},\"top\":{\"type\":\"field\",\"field\":\"counts\"},\"line_color\":{\"type\":\"value\",\"value\":\"#1f77b4\"},\"line_alpha\":{\"type\":\"value\",\"value\":0.2},\"fill_color\":{\"type\":\"value\",\"value\":\"#1f77b4\"},\"fill_alpha\":{\"type\":\"value\",\"value\":0.2},\"hatch_alpha\":{\"type\":\"value\",\"value\":0.2}}}}}],\"toolbar\":{\"type\":\"object\",\"name\":\"Toolbar\",\"id\":\"p1572\",\"attributes\":{\"tools\":[{\"type\":\"object\",\"name\":\"HoverTool\",\"id\":\"p1595\",\"attributes\":{\"renderers\":\"auto\",\"tooltips\":\"Keywords @keywords <br> Count: @counts\"}},{\"type\":\"object\",\"name\":\"TapTool\",\"id\":\"p1596\",\"attributes\":{\"renderers\":\"auto\"}}]}},\"toolbar_location\":null,\"left\":[{\"type\":\"object\",\"name\":\"LinearAxis\",\"id\":\"p1587\",\"attributes\":{\"ticker\":{\"type\":\"object\",\"name\":\"BasicTicker\",\"id\":\"p1588\",\"attributes\":{\"mantissas\":[1,2,5]}},\"formatter\":{\"type\":\"object\",\"name\":\"BasicTickFormatter\",\"id\":\"p1590\"},\"major_label_policy\":{\"type\":\"object\",\"name\":\"AllLabels\",\"id\":\"p1589\"}}}],\"below\":[{\"type\":\"object\",\"name\":\"CategoricalAxis\",\"id\":\"p1581\",\"attributes\":{\"ticker\":{\"type\":\"object\",\"name\":\"CategoricalTicker\",\"id\":\"p1582\"},\"formatter\":{\"type\":\"object\",\"name\":\"CategoricalTickFormatter\",\"id\":\"p1584\"},\"major_label_orientation\":0.7853981633974483,\"major_label_policy\":{\"type\":\"object\",\"name\":\"AllLabels\",\"id\":\"p1583\"}}}],\"center\":[{\"type\":\"object\",\"name\":\"Grid\",\"id\":\"p1586\",\"attributes\":{\"axis\":{\"id\":\"p1581\"},\"grid_line_color\":null}},{\"type\":\"object\",\"name\":\"Grid\",\"id\":\"p1593\",\"attributes\":{\"dimension\":1,\"axis\":{\"id\":\"p1587\"}}}],\"min_border_left\":50,\"min_border_right\":50}},{\"type\":\"object\",\"name\":\"Slider\",\"id\":\"p1608\",\"attributes\":{\"js_property_callbacks\":{\"type\":\"map\",\"entries\":[[\"change:value\",[{\"type\":\"object\",\"name\":\"CustomJS\",\"id\":\"p1609\",\"attributes\":{\"args\":{\"type\":\"map\",\"entries\":[[\"source\",{\"id\":\"p1557\"}],[\"original_source\",{\"type\":\"object\",\"name\":\"ColumnDataSource\",\"id\":\"p1560\",\"attributes\":{\"selected\":{\"type\":\"object\",\"name\":\"Selection\",\"id\":\"p1561\",\"attributes\":{\"indices\":[],\"line_indices\":[]}},\"selection_policy\":{\"type\":\"object\",\"name\":\"UnionRenderers\",\"id\":\"p1562\"},\"data\":{\"type\":\"map\",\"entries\":[[\"keywords\",{\"type\":\"ndarray\",\"array\":[\"adversarial testing\",\"based systems\",\"bayesian networks\",\"better understanding\",\"decision trees\",\"ensemble methods\",\"explainability tools\",\"fuzzy logic\",\"make decisions\",\"making systems\",\"researchers\",\"run viability\",\"significant challenge\",\"symbolic ai\",\"visualization techniques\",\"feature attribution\",\"help identify\",\"highly interpretable\",\"input data\",\"provide insights\",\"making process\",\"deep learning\"],\"shape\":[22],\"dtype\":\"object\",\"order\":\"little\"}],[\"counts\",{\"type\":\"ndarray\",\"array\":{\"type\":\"bytes\",\"data\":\"AAAAAAAAAEAAAAAAAAAAQAAAAAAAAABAAAAAAAAAAEAAAAAAAAAAQAAAAAAAAABAAAAAAAAAAEAAAAAAAAAAQAAAAAAAAABAAAAAAAAAAEAAAAAAAAAAQAAAAAAAAABAAAAAAAAAAEAAAAAAAAAAQAAAAAAAAABAAAAAAAAACEAAAAAAAAAIQAAAAAAAAAhAAAAAAAAACEAAAAAAAAAIQAAAAAAAABRAAAAAAAAAMUA=\"},\"shape\":[22],\"dtype\":\"float64\",\"order\":\"little\"}]]}}}],[\"amp\",{\"id\":\"p1608\"}],[\"target_obj\",{\"id\":\"p1605\"}]]},\"code\":\"\\n    var data = source.data;\\n    var original_data = original_source.data;\\n    const A = amp.value;\\n    const keyw = original_data['keywords']\\n    const counts = original_data['counts']\\n    for (var key in original_data) {\\n        data[key] = [];\\n        for (let i = 0; i < keyw.length; i++) {\\n            if(counts[i] <= A){\\n                data[key].push(original_data[key][i]);\\n            }\\n        }\\n    }\\n    source.change.emit();\\n    target_obj.change.emit();\\n\"}}]]]},\"title\":\"Counts\",\"start\":0,\"end\":17.0,\"value\":17.0}}]}}],\"callbacks\":{\"type\":\"map\"}}};\n  const render_items = [{\"docid\":\"3664aada-4180-4a39-a5f8-8c84849c35c1\",\"roots\":{\"p1610\":\"3b3acea1-a162-41b2-b6d4-7916152f76e3\"},\"root_ids\":[\"p1610\"]}];\n  root.Bokeh.embed.embed_items_notebook(docs_json, render_items);\n  }\n  if (root.Bokeh !== undefined) {\n    embed_document(root);\n  } else {\n    let attempts = 0;\n    const timer = setInterval(function(root) {\n      if (root.Bokeh !== undefined) {\n        clearInterval(timer);\n        embed_document(root);\n      } else {\n        attempts++;\n        if (attempts > 100) {\n          clearInterval(timer);\n          console.log(\"Bokeh: ERROR: Unable to run BokehJS code because BokehJS library is missing\");\n        }\n      }\n    }, 10, root)\n  }\n})(window);",
      "application/vnd.bokehjs_exec.v0+json": ""
     },
     "metadata": {
      "application/vnd.bokehjs_exec.v0+json": {
       "id": "p1610"
      }
     },
     "output_type": "display_data"
    }
   ],
   "source": [
    "from bokeh.io import output_file, show\n",
    "from bokeh.models import CustomJS, Slider\n",
    "from bokeh.plotting import ColumnDataSource, figure, show\n",
    "from bokeh.layouts import column, row\n",
    "\n",
    "output_notebook()\n",
    "\n",
    "source = ColumnDataSource(data=dict(keywords=df_keywords['keywords'], counts=df_keywords['count']))\n",
    "original_source = ColumnDataSource(data=dict(keywords=df_keywords['keywords'], counts=df_keywords['count']))\n",
    "\n",
    "p = figure(width=900, height=500,x_range=df_keywords['keywords'], title=\"Keywords counts\",\n",
    "           min_border_left=50, min_border_right=50, toolbar_location=None, tools=\"\")\n",
    "p.title.text_font_size = '20pt'\n",
    "\n",
    "# Interactive tools\n",
    "p.add_tools(HoverTool(tooltips='Keywords @keywords <br> Count: @counts'), TapTool())\n",
    "\n",
    "# Create the bar chart\n",
    "bar = p.vbar(x='keywords', top='counts', source=source, width=0.9)\n",
    "p.xaxis.major_label_orientation = math.pi/4\n",
    "# Slider\n",
    "c_slider = Slider(start=0, end=max(df_keywords['count']), value=max(df_keywords['count']), step=1, title=\"Counts\")\n",
    "\n",
    "# Javascript to update bar chart\n",
    "callback = CustomJS(args=dict(source=source, \n",
    "                              original_source=original_source, \n",
    "                              amp=c_slider,\n",
    "                              target_obj=bar),\n",
    "                    code=\"\"\"\n",
    "    var data = source.data;\n",
    "    var original_data = original_source.data;\n",
    "    const A = amp.value;\n",
    "    const keyw = original_data['keywords']\n",
    "    const counts = original_data['counts']\n",
    "    for (var key in original_data) {\n",
    "        data[key] = [];\n",
    "        for (let i = 0; i < keyw.length; i++) {\n",
    "            if(counts[i] <= A){\n",
    "                data[key].push(original_data[key][i]);\n",
    "            }\n",
    "        }\n",
    "    }\n",
    "    source.change.emit();\n",
    "    target_obj.change.emit();\n",
    "\"\"\")\n",
    "c_slider.js_on_change('value', callback)\n",
    "\n",
    "p.xgrid.grid_line_color = None\n",
    "p.y_range.start = 0\n",
    "\n",
    "layout = column(\n",
    "    p,\n",
    "    c_slider,\n",
    ")\n",
    "\n",
    "show(layout)"
   ]
  }
 ],
 "metadata": {
  "kernelspec": {
   "display_name": "Python 3",
   "language": "python",
   "name": "python3"
  },
  "language_info": {
   "codemirror_mode": {
    "name": "ipython",
    "version": 3
   },
   "file_extension": ".py",
   "mimetype": "text/x-python",
   "name": "python",
   "nbconvert_exporter": "python",
   "pygments_lexer": "ipython3",
   "version": "3.10.4"
  },
  "orig_nbformat": 4,
  "vscode": {
   "interpreter": {
    "hash": "aee8b7b246df8f9039afb4144a1f6fd8d2ca17a180786b69acc140d282b71a49"
   }
  }
 },
 "nbformat": 4,
 "nbformat_minor": 2
}
