{
 "cells": [
  {
   "cell_type": "code",
   "execution_count": 117,
   "metadata": {},
   "outputs": [],
   "source": [
    "import json\n",
    "import nltk\n",
    "from ibm_watson import NaturalLanguageUnderstandingV1\n",
    "from ibm_watson.natural_language_understanding_v1 import Features, CategoriesOptions, ConceptsOptions, SentimentOptions, EntitiesOptions\n",
    "from ibm_cloud_sdk_core.authenticators import IAMAuthenticator\n",
    "import pandas as pd\n",
    "import networkx as nx\n",
    "import numpy as np\n",
    "import matplotlib.pyplot as plt"
   ]
  },
  {
   "attachments": {},
   "cell_type": "markdown",
   "metadata": {},
   "source": [
    "## Watson NLU Analysis"
   ]
  },
  {
   "attachments": {},
   "cell_type": "markdown",
   "metadata": {},
   "source": [
    "### First Analysis"
   ]
  },
  {
   "cell_type": "code",
   "execution_count": 10,
   "metadata": {},
   "outputs": [],
   "source": [
    "with open('deep_learning.txt') as f:\n",
    "    contents = f.read()\n",
    "\n",
    "# Use NLTK to tokenize the sentences in the text\n",
    "sentences = nltk.sent_tokenize(contents)"
   ]
  },
  {
   "cell_type": "code",
   "execution_count": 22,
   "metadata": {},
   "outputs": [],
   "source": [
    "\n",
    "# Initialize the Watson API credentials\n",
    "authenticator = IAMAuthenticator('<API-KEY>')\n",
    "natural_language_understanding = NaturalLanguageUnderstandingV1(\n",
    "    version='2022-04-07',\n",
    "    authenticator=authenticator\n",
    ")\n",
    "\n",
    "natural_language_understanding.set_service_url('https://api.us-south.natural-language-understanding.watson.cloud.ibm.com/instances/dd18e040-6720-4069-8ba3-71ca77de2a87')\n",
    "\n",
    "results = pd.DataFrame()\n",
    "results['sentence'] = sentences\n",
    "\n",
    "all_sentiments = []\n",
    "all_concepts = []\n",
    "all_categories = []\n",
    "all_entities = []\n",
    "# Loop through each sentence and analyze sentiment, concepts, entites, and categories\n",
    "for sentence in sentences:\n",
    "    response = natural_language_understanding.analyze(\n",
    "        text=sentence,\n",
    "        features=Features(\n",
    "            sentiment=SentimentOptions(),\n",
    "            concepts=ConceptsOptions(limit=3),\n",
    "            categories=CategoriesOptions(),\n",
    "            entities=EntitiesOptions(sentiment=True)\n",
    "        )\n",
    "    ).get_result()\n",
    "\n",
    "    # Extract the entites, sentiment, concepts, and categories from the response\n",
    "    sentiment = json.dumps(response['sentiment']['document']['score'])\n",
    "    concepts = [(c['text'], c['relevance']) for c in response['concepts']]\n",
    "    categories = [(c['label'], c['score']) for c in response['categories']]\n",
    "    entities = [(e['type'], e['text'], e['relevance'], e['sentiment']['score']) for e in response['entities']]\n",
    "\n",
    "    all_sentiments.append(sentiment)\n",
    "    all_concepts.append(concepts)\n",
    "    all_categories.append(categories)\n",
    "    all_entities.append(entities)\n",
    "\n",
    "results['sentiment'] = all_sentiments\n",
    "results['concepts'] = all_concepts\n",
    "results['categories'] = all_categories\n",
    "results['entities'] = all_entities\n",
    "results.head(3)"
   ]
  },
  {
   "cell_type": "code",
   "execution_count": 201,
   "metadata": {},
   "outputs": [
    {
     "data": {
      "image/png": "[encoded data removed]",
      "text/plain": [
       "<Figure size 432x288 with 1 Axes>"
      ]
     },
     "metadata": {
      "needs_background": "light"
     },
     "output_type": "display_data"
    }
   ],
   "source": [
    "# Sentence length histogram\n",
    "sentence_len = results['sentence'].apply(len)\n",
    "size, scale = 1000, 10\n",
    "\n",
    "sentence_len.plot.hist(grid=True, bins=20, rwidth=0.9,\n",
    "                   color='#607c8e')\n",
    "plt.title('Sentence Length')\n",
    "plt.xlabel('Length (characters)')\n",
    "plt.ylabel('Count')\n",
    "plt.grid(axis='y', alpha=0.75)"
   ]
  },
  {
   "cell_type": "code",
   "execution_count": 24,
   "metadata": {},
   "outputs": [],
   "source": [
    "# Save all results\n",
    "results.to_csv('wnlu_results.csv',index=False)"
   ]
  },
  {
   "attachments": {},
   "cell_type": "markdown",
   "metadata": {},
   "source": [
    "### Load Results from CSV"
   ]
  },
  {
   "cell_type": "code",
   "execution_count": 109,
   "metadata": {},
   "outputs": [
    {
     "data": {
      "text/html": [
       "<div>\n",
       "<style scoped>\n",
       "    .dataframe tbody tr th:only-of-type {\n",
       "        vertical-align: middle;\n",
       "    }\n",
       "\n",
       "    .dataframe tbody tr th {\n",
       "        vertical-align: top;\n",
       "    }\n",
       "\n",
       "    .dataframe thead th {\n",
       "        text-align: right;\n",
       "    }\n",
       "</style>\n",
       "<table border=\"1\" class=\"dataframe\">\n",
       "  <thead>\n",
       "    <tr style=\"text-align: right;\">\n",
       "      <th></th>\n",
       "      <th>sentence</th>\n",
       "      <th>sentiment</th>\n",
       "      <th>concepts</th>\n",
       "      <th>categories</th>\n",
       "      <th>entities</th>\n",
       "    </tr>\n",
       "  </thead>\n",
       "  <tbody>\n",
       "    <tr>\n",
       "      <th>0</th>\n",
       "      <td>Deep learning has yielded some remarkable resu...</td>\n",
       "      <td>0.959867</td>\n",
       "      <td>[(Deep learning, 0.98066), (Artificial intelli...</td>\n",
       "      <td>[(/education, 0.910424), (/education/language ...</td>\n",
       "      <td>[]</td>\n",
       "    </tr>\n",
       "    <tr>\n",
       "      <th>1</th>\n",
       "      <td>But one of the shortcomings (arguably) in curr...</td>\n",
       "      <td>0.810648</td>\n",
       "      <td>[(Deep learning, 0.989938), (Machine learning,...</td>\n",
       "      <td>[(/education/language learning, 0.998111), (/t...</td>\n",
       "      <td>[(Number, one, 0.978348, 0.810648)]</td>\n",
       "    </tr>\n",
       "    <tr>\n",
       "      <th>2</th>\n",
       "      <td>What is the significance of this current lack ...</td>\n",
       "      <td>0.000000</td>\n",
       "      <td>[(Fermi level, 0.186441), (Awareness, 0.078391...</td>\n",
       "      <td>[(/science, 0.850526), (/education, 0.708469),...</td>\n",
       "      <td>[]</td>\n",
       "    </tr>\n",
       "  </tbody>\n",
       "</table>\n",
       "</div>"
      ],
      "text/plain": [
       "                                            sentence  sentiment  \\\n",
       "0  Deep learning has yielded some remarkable resu...   0.959867   \n",
       "1  But one of the shortcomings (arguably) in curr...   0.810648   \n",
       "2  What is the significance of this current lack ...   0.000000   \n",
       "\n",
       "                                            concepts  \\\n",
       "0  [(Deep learning, 0.98066), (Artificial intelli...   \n",
       "1  [(Deep learning, 0.989938), (Machine learning,...   \n",
       "2  [(Fermi level, 0.186441), (Awareness, 0.078391...   \n",
       "\n",
       "                                          categories  \\\n",
       "0  [(/education, 0.910424), (/education/language ...   \n",
       "1  [(/education/language learning, 0.998111), (/t...   \n",
       "2  [(/science, 0.850526), (/education, 0.708469),...   \n",
       "\n",
       "                              entities  \n",
       "0                                   []  \n",
       "1  [(Number, one, 0.978348, 0.810648)]  \n",
       "2                                   []  "
      ]
     },
     "execution_count": 109,
     "metadata": {},
     "output_type": "execute_result"
    }
   ],
   "source": [
    "results = pd.read_csv('wnlu_results.csv')\n",
    "\n",
    "results['sentiment'] = results['sentiment'].astype(dtype=float)\n",
    "results['concepts'] = results['concepts'].apply(eval)\n",
    "results['categories'] = results['categories'].apply(eval)\n",
    "results['entities'] = results['entities'].apply(eval)\n",
    "\n",
    "all_sentiments = results['sentiment'].to_list()\n",
    "all_concepts = results['concepts'].to_list()\n",
    "all_categories = results['categories'].to_list() \n",
    "all_entities = results['entities'].to_list()\n",
    "results.head(3)\n"
   ]
  },
  {
   "attachments": {},
   "cell_type": "markdown",
   "metadata": {},
   "source": [
    "## Concepts"
   ]
  },
  {
   "attachments": {},
   "cell_type": "markdown",
   "metadata": {},
   "source": [
    "### Preprocessing"
   ]
  },
  {
   "cell_type": "code",
   "execution_count": 174,
   "metadata": {},
   "outputs": [
    {
     "name": "stdout",
     "output_type": "stream",
     "text": [
      "{'Deep learning': {'Artificial intelligence': 14, 'Machine learning': 15, 'Feature learning': 1, 'Ethics': 1, 'Inference': 1}, 'Artificial intelligence': {'Deep learning': 14, 'Machine learning': 14, 'Inference': 1, 'Decision tree': 1}, 'Machine learning': {'Deep learning': 15, 'Artificial intelligence': 14, 'Feature learning': 1, 'Ethics': 1, 'Decision tree': 1}, 'Ethics': {'Deep learning': 1, 'Machine learning': 1}, 'Dave Barker': {'The Uniques (Jamaican group)': 1, 'Lloyd Parks': 1}, 'The Uniques (Jamaican group)': {'Dave Barker': 1, 'Lloyd Parks': 1}, 'Lloyd Parks': {'Dave Barker': 1, 'The Uniques (Jamaican group)': 1}, 'Feature learning': {'Deep learning': 1, 'Machine learning': 1}, 'Discrimination': {'Racism': 1, 'Systemic bias': 1}, 'Racism': {'Discrimination': 1, 'Systemic bias': 1}, 'Systemic bias': {'Discrimination': 1, 'Racism': 1}, 'Das Model': {'Learning': 1, 'Movement for Democracy in Liberia': 6, 'Scientific modelling': 1, 'Prodrug': 1, 'Conceptual model': 1, 'Adversarial system': 1, 'Weakness': 1, 'Tool': 1}, 'Learning': {'Das Model': 1, 'Movement for Democracy in Liberia': 1}, 'Movement for Democracy in Liberia': {'Das Model': 6, 'Learning': 1, 'Scientific modelling': 1, 'Prodrug': 1, 'Conceptual model': 2, 'Adversarial system': 1, 'Weakness': 1, 'Tool': 1}, 'Scientific modelling': {'Das Model': 1, 'Movement for Democracy in Liberia': 1}, 'Thought': {'Knowledge': 1, 'Aptitude': 1, 'Existentialism': 1, 'Person': 1}, 'Knowledge': {'Thought': 1, 'Aptitude': 1, 'Reason': 1, 'Logic': 1}, 'Aptitude': {'Thought': 1, 'Knowledge': 1}, 'Reason': {'Model': 1, 'Design': 1, 'Knowledge': 1, 'Logic': 1}, 'Model': {'Reason': 1, 'Design': 1, 'Ensemble learning': 1, 'Decision-making': 1, 'Causality': 1}, 'Design': {'Reason': 1, 'Model': 1}, 'Prodrug': {'Das Model': 1, 'Movement for Democracy in Liberia': 1}, 'Conceptual model': {'Das Model': 1, 'Movement for Democracy in Liberia': 2, 'Tool': 1}, 'Page layout': {'Baseline (typography)': 1, 'Sentence spacing': 1}, 'Baseline (typography)': {'Page layout': 1, 'Sentence spacing': 1}, 'Sentence spacing': {'Page layout': 1, 'Baseline (typography)': 1}, 'Adversarial system': {'Das Model': 1, 'Movement for Democracy in Liberia': 1}, 'Weakness': {'Das Model': 1, 'Movement for Democracy in Liberia': 1}, 'Ensemble learning': {'Decision-making': 1, 'Model': 1}, 'Decision-making': {'Ensemble learning': 1, 'Model': 1}, 'Existentialism': {'Person': 1, 'Thought': 1}, 'Person': {'Existentialism': 1, 'Thought': 1}, 'Tool': {'Movement for Democracy in Liberia': 1, 'Conceptual model': 1, 'Das Model': 1}, 'Inference': {'Deep learning': 1, 'Artificial intelligence': 1}, 'Logic': {'Knowledge': 1, 'Reason': 1, 'Fuzzy logic': 1, 'Many-valued logic': 1}, 'Expert system': {'Mycin': 1, 'Knowledge acquisition': 1}, 'Mycin': {'Expert system': 1, 'Knowledge acquisition': 1}, 'Knowledge acquisition': {'Expert system': 1, 'Mycin': 1}, 'System': {'Definition': 1}, 'Definition': {'System': 1}, 'Causality': {'Model': 1}, 'Decision tree': {'Machine learning': 1, 'Artificial intelligence': 1}, 'Fuzzy logic': {'Many-valued logic': 1, 'Logic': 1}, 'Many-valued logic': {'Fuzzy logic': 1, 'Logic': 1}, 'Utility': {}, 'Use case': {'Economics': 1, 'Test case': 1}, 'Economics': {'Use case': 1, 'Test case': 1}, 'Test case': {'Use case': 1, 'Economics': 1}}\n",
      "48\n"
     ]
    }
   ],
   "source": [
    "# Create Concept relations with relevance greater than e\n",
    "\n",
    "e = 0.5\n",
    "concept_nodes = {}\n",
    "concept_keys = []\n",
    "for concept in all_concepts:\n",
    "    for i in range(len(concept)):\n",
    "        c = concept[i][0]\n",
    "        c_relv = concept[i][1]\n",
    "        if c not in concept_nodes.keys() and c_relv > e:\n",
    "            concept_nodes[c] = {}\n",
    "            if c not in concept_keys:\n",
    "                concept_keys.append(c)\n",
    "        for j in range(len(concept)):\n",
    "            if i != j:\n",
    "                c2 = concept[j][0]\n",
    "                c2_relv = concept[j][1]\n",
    "                if c_relv > e and c2_relv > e:\n",
    "                    if c2 not in concept_nodes[c].keys():\n",
    "                        concept_nodes[c][c2] = 1\n",
    "                        if c2 not in concept_keys:\n",
    "                            concept_keys.append(c2)\n",
    "                    else:\n",
    "                        concept_nodes[c][c2] += 1\n",
    "print(concept_nodes)   \n",
    "print(len(concept_keys)) "
   ]
  },
  {
   "cell_type": "code",
   "execution_count": 175,
   "metadata": {},
   "outputs": [
    {
     "name": "stdout",
     "output_type": "stream",
     "text": [
      "48\n"
     ]
    }
   ],
   "source": [
    "# Concept frequency with relevance greater than e\n",
    "concepts = {}\n",
    "for c in all_concepts:\n",
    "    for t in c:\n",
    "        if t[1] >e:\n",
    "            if t[0] not in concepts.keys():\n",
    "                concepts[t[0]] = 1\n",
    "            else:\n",
    "                concepts[t[0]] += 1\n",
    "print(len(concepts))"
   ]
  },
  {
   "cell_type": "code",
   "execution_count": 204,
   "metadata": {},
   "outputs": [],
   "source": [
    "# Save Concept Frequency\n",
    "d = [list(concepts.keys()), list(concepts.values())]\n",
    "df_concepts = pd.DataFrame(np.array(d).T, columns=['Concepts','Count'])\n",
    "df_concepts.to_csv('concepts.csv',index=False)\n",
    "df_concepts.head()"
   ]
  },
  {
   "cell_type": "code",
   "execution_count": 168,
   "metadata": {},
   "outputs": [
    {
     "name": "stdout",
     "output_type": "stream",
     "text": [
      "[(0, 1, 12, 'Deep learning', 'Artificial intelligence'), (0, 2, 12, 'Deep learning', 'Machine learning'), (0, 6, 1, 'Deep learning', 'Feature learning'), (0, 7, 1, 'Deep learning', 'Ethics'), (0, 14, 1, 'Deep learning', 'Inference'), (1, 2, 11, 'Artificial intelligence', 'Machine learning'), (1, 14, 1, 'Artificial intelligence', 'Inference'), (2, 7, 1, 'Machine learning', 'Ethics'), (2, 21, 1, 'Machine learning', 'Decision tree'), (3, 4, 1, 'Dave Barker', 'The Uniques (Jamaican group)'), (3, 5, 1, 'Dave Barker', 'Lloyd Parks'), (4, 5, 1, 'The Uniques (Jamaican group)', 'Lloyd Parks'), (8, 9, 1, 'Discrimination', 'Racism'), (8, 10, 1, 'Discrimination', 'Systemic bias'), (9, 10, 1, 'Racism', 'Systemic bias'), (11, 12, 1, 'Das Model', 'Movement for Democracy in Liberia'), (11, 13, 1, 'Das Model', 'Tool'), (15, 16, 1, 'Knowledge', 'Reason'), (15, 17, 1, 'Knowledge', 'Logic'), (16, 17, 1, 'Reason', 'Logic'), (17, 22, 1, 'Logic', 'Fuzzy logic'), (17, 23, 1, 'Logic', 'Many-valued logic'), (18, 19, 1, 'Expert system', 'Mycin'), (18, 20, 1, 'Expert system', 'Knowledge acquisition'), (19, 20, 1, 'Mycin', 'Knowledge acquisition'), (22, 23, 1, 'Fuzzy logic', 'Many-valued logic'), (24, 24, 0, 'Use case', 'Use case')]\n"
     ]
    }
   ],
   "source": [
    "# Create concept edges with its weight\n",
    "added_nodes = []\n",
    "weighted_edges = []\n",
    "for key in concept_nodes.keys():\n",
    "    if key not in added_nodes:\n",
    "        s = concept_keys.index(key)\n",
    "        added_nodes.append(key)\n",
    "        for another in concept_nodes[key].keys():\n",
    "            t = concept_keys.index(another)\n",
    "            we = (s,t,concept_nodes[key][another], key, another)\n",
    "            ew = (t,s,concept_nodes[key][another], another, key)\n",
    "            if we not in weighted_edges and ew not in weighted_edges:\n",
    "                weighted_edges.append(we)\n",
    "        if len(concept_nodes[key].keys()) == 0:\n",
    "            weighted_edges.append((s,s,0,key,key))\n",
    "print(weighted_edges)"
   ]
  },
  {
   "cell_type": "code",
   "execution_count": 169,
   "metadata": {},
   "outputs": [],
   "source": [
    "# Save the edges\n",
    "df_edges = pd.DataFrame(weighted_edges, columns=['source','target','weight', 'source_name','target_name'])\n",
    "df_edges.to_csv('concepts_edges.csv',index=False)"
   ]
  },
  {
   "attachments": {},
   "cell_type": "markdown",
   "metadata": {},
   "source": [
    "### Visualization Test"
   ]
  },
  {
   "cell_type": "code",
   "execution_count": 171,
   "metadata": {},
   "outputs": [
    {
     "data": {
      "image/png": "[encoded data removed]",
      "text/plain": [
       "<Figure size 1080x1080 with 1 Axes>"
      ]
     },
     "metadata": {},
     "output_type": "display_data"
    }
   ],
   "source": [
    "G=nx.from_pandas_edgelist(df_edges, 'source', 'target', ['weight','source_name','target_name'])\n",
    "pos = nx.circular_layout(G, scale=2)\n",
    "\n",
    "#nx.draw_networkx(G, pos)\n",
    "\n",
    "weights = [G[u][v]['weight'] for u, v in G.edges()]\n",
    "fig, ax = plt.subplots(figsize=(15, 15))\n",
    "\n",
    "nx.draw_networkx_edges(G, pos, ax=ax, width=weights, arrows=True, edge_color='blue', alpha=0.6, connectionstyle='arc3,rad=-0.35')\n",
    "#text = nx.draw_networkx_labels(G, pos, ax=ax, font_size=9, horizontalalignment='left')\n",
    "nx.draw_networkx_nodes(G, pos, node_size=50, node_color='lightblue')\n",
    "\n",
    "#for _, t in text.items():\n",
    "#    t.set_rotation('vertical') \n",
    "plt.show()"
   ]
  },
  {
   "cell_type": "code",
   "execution_count": 172,
   "metadata": {},
   "outputs": [],
   "source": [
    "nodes_order = list(G.nodes())\n",
    "starts = []\n",
    "ends = []\n",
    "for u, v in G.edges():\n",
    "    if u == v:\n",
    "        G.remove_edge(u,v)\n",
    "    else:\n",
    "        starts.append(nodes_order.index(u))\n",
    "        ends.append(nodes_order.index(v))"
   ]
  },
  {
   "cell_type": "code",
   "execution_count": 173,
   "metadata": {},
   "outputs": [],
   "source": [
    "import networkx as nx\n",
    "import math\n",
    "from bokeh.models import (BoxSelectTool, Circle, HoverTool, MultiLine,\n",
    "                          NodesAndLinkedEdges, Plot, Range1d, TapTool, StaticLayoutProvider)\n",
    "from bokeh.palettes import Spectral4, HighContrast\n",
    "from bokeh.plotting import from_networkx, show\n",
    "\n",
    "\n",
    "N = len(G.nodes())\n",
    "node_indices = list(range(N))\n",
    "plot = Plot(width=600, height=600,\n",
    "            x_range=Range1d(-1.1,1.1), y_range=Range1d(-1.1,1.1))\n",
    "plot.title.text = \"Concepts Relations Network\"\n",
    "plot.title.text_font_size = '20pt'\n",
    "\n",
    "plot.add_tools(HoverTool(tooltips='@name'), TapTool(), BoxSelectTool())\n",
    "\n",
    "graph_renderer = from_networkx(G, nx.circular_layout, scale=1, center=(0,0))\n",
    "\n",
    "graph_renderer.node_renderer.data_source.data['name'] = [concept_keys[x] for x in G.nodes()]\n",
    "graph_renderer.node_renderer.glyph = Circle(size=15, fill_color=Spectral4[0])\n",
    "graph_renderer.node_renderer.selection_glyph = Circle(size=15, fill_color=Spectral4[2])\n",
    "graph_renderer.node_renderer.hover_glyph = Circle(size=15, fill_color=Spectral4[1])\n",
    "graph_renderer.edge_renderer.data_source.data['start'] = starts\n",
    "graph_renderer.edge_renderer.data_source.data['end'] = ends\n",
    "\n",
    "# create a static layout\n",
    "circ = [i*2*math.pi/N for i in node_indices]\n",
    "x = [math.cos(i) for i in circ]\n",
    "y = [math.sin(i) for i in circ]\n",
    "graph_layout = dict(zip(node_indices, zip(x, y)))\n",
    "graph_renderer.layout_provider = StaticLayoutProvider(graph_layout=graph_layout)\n",
    "\n",
    "# draw quadratic bezier paths\n",
    "def bezier(start, end, control, steps):\n",
    "    return [(1-s)**2*start + 2*(1-s)*s*control + s**2*end for s in steps]\n",
    "\n",
    "graph_renderer.edge_renderer.data_source.data[\"line_width\"] = [max(2,G.get_edge_data(a,b)['weight']) for a, b in G.edges()]\n",
    "\n",
    "graph_renderer.edge_renderer.glyph = MultiLine(line_color=Spectral4[0], line_alpha=0.6)\n",
    "graph_renderer.edge_renderer.selection_glyph = MultiLine(line_color=Spectral4[2])\n",
    "graph_renderer.edge_renderer.hover_glyph = MultiLine(line_color=Spectral4[1])\n",
    "\n",
    "graph_renderer.edge_renderer.glyph.line_width = {'field': 'line_width'}\n",
    "graph_renderer.edge_renderer.selection_glyph.line_width = {'field': 'line_width'}\n",
    "graph_renderer.edge_renderer.hover_glyph.line_width = {'field': 'line_width'}\n",
    "\n",
    "xs, ys = [], []\n",
    "#sx, sy = graph_layout[0]\n",
    "steps = [i/100. for i in range(100)]\n",
    "for u, v in G.edges():\n",
    "    sx, sy = graph_layout[nodes_order.index(u)]\n",
    "    ex, ey = graph_layout[nodes_order.index(v)]\n",
    "    cx = (sx+ex)/(abs(nodes_order.index(u) - nodes_order.index(v)) +1.5)\n",
    "    cy = (sy+ey)/(abs(nodes_order.index(u) - nodes_order.index(v)) +1.5)\n",
    "    xs.append(bezier(sx, ex, cx, steps))\n",
    "    ys.append(bezier(sy, ey, cy, steps))\n",
    "\n",
    "graph_renderer.edge_renderer.data_source.data['xs'] = xs\n",
    "graph_renderer.edge_renderer.data_source.data['ys'] = ys\n",
    "\n",
    "graph_renderer.selection_policy = NodesAndLinkedEdges()\n",
    "graph_renderer.inspection_policy = NodesAndLinkedEdges()\n",
    "\n",
    "plot.renderers.append(graph_renderer)\n",
    "show(plot)"
   ]
  },
  {
   "attachments": {},
   "cell_type": "markdown",
   "metadata": {},
   "source": [
    "## Categories"
   ]
  },
  {
   "cell_type": "code",
   "execution_count": 228,
   "metadata": {},
   "outputs": [
    {
     "name": "stdout",
     "output_type": "stream",
     "text": [
      "12\n"
     ]
    }
   ],
   "source": [
    "# Categories frequency with confidence greater than e\n",
    "e = 0.9\n",
    "all_categories\n",
    "categories = {}\n",
    "for cat in all_categories:\n",
    "    for t in cat:\n",
    "        if t[1] >e:\n",
    "            if t[0] not in categories.keys():\n",
    "                categories[t[0]] = 1\n",
    "            else:\n",
    "                categories[t[0]] += 1\n",
    "print(len(categories))"
   ]
  },
  {
   "cell_type": "code",
   "execution_count": 240,
   "metadata": {},
   "outputs": [
    {
     "name": "stdout",
     "output_type": "stream",
     "text": [
      "12\n"
     ]
    }
   ],
   "source": [
    "# Expand the hierarchies\n",
    "arr = np.zeros( shape=(len(categories),4), dtype=object)\n",
    "for k, key in enumerate(categories.keys()):\n",
    "    filtered = list(filter(None, key.split('/')))\n",
    "    N = len(filtered)\n",
    "    if N==1:\n",
    "        filtered = filtered*3\n",
    "        filtered.append(categories[key])\n",
    "        arr[k] = filtered\n",
    "    elif N==2:\n",
    "        filtered.append(filtered[-1])\n",
    "        filtered.append(categories[key])\n",
    "        arr[k] = filtered\n",
    "    elif N==3:\n",
    "        filtered.append(categories[key])\n",
    "        arr[k] = filtered\n",
    "    else:\n",
    "        filtered.pop()\n",
    "        filtered.append(categories[key])\n",
    "        arr[k] = filtered\n",
    "print(len(arr))"
   ]
  },
  {
   "cell_type": "code",
   "execution_count": 241,
   "metadata": {},
   "outputs": [
    {
     "data": {
      "text/html": [
       "<div>\n",
       "<style scoped>\n",
       "    .dataframe tbody tr th:only-of-type {\n",
       "        vertical-align: middle;\n",
       "    }\n",
       "\n",
       "    .dataframe tbody tr th {\n",
       "        vertical-align: top;\n",
       "    }\n",
       "\n",
       "    .dataframe thead th {\n",
       "        text-align: right;\n",
       "    }\n",
       "</style>\n",
       "<table border=\"1\" class=\"dataframe\">\n",
       "  <thead>\n",
       "    <tr style=\"text-align: right;\">\n",
       "      <th></th>\n",
       "      <th>Level_1</th>\n",
       "      <th>Level_2</th>\n",
       "      <th>Level_3</th>\n",
       "      <th>Count</th>\n",
       "    </tr>\n",
       "  </thead>\n",
       "  <tbody>\n",
       "    <tr>\n",
       "      <th>0</th>\n",
       "      <td>education</td>\n",
       "      <td>education</td>\n",
       "      <td>education</td>\n",
       "      <td>7</td>\n",
       "    </tr>\n",
       "    <tr>\n",
       "      <th>1</th>\n",
       "      <td>education</td>\n",
       "      <td>language learning</td>\n",
       "      <td>language learning</td>\n",
       "      <td>9</td>\n",
       "    </tr>\n",
       "    <tr>\n",
       "      <th>2</th>\n",
       "      <td>technology &amp; computing</td>\n",
       "      <td>artificial intelligence</td>\n",
       "      <td>artificial intelligence</td>\n",
       "      <td>3</td>\n",
       "    </tr>\n",
       "    <tr>\n",
       "      <th>3</th>\n",
       "      <td>news and politics</td>\n",
       "      <td>politics</td>\n",
       "      <td>political issues</td>\n",
       "      <td>1</td>\n",
       "    </tr>\n",
       "    <tr>\n",
       "      <th>4</th>\n",
       "      <td>family and relationships</td>\n",
       "      <td>parenting</td>\n",
       "      <td>adoption and fostering</td>\n",
       "      <td>1</td>\n",
       "    </tr>\n",
       "  </tbody>\n",
       "</table>\n",
       "</div>"
      ],
      "text/plain": [
       "                    Level_1                  Level_2                  Level_3  \\\n",
       "0                 education                education                education   \n",
       "1                 education        language learning        language learning   \n",
       "2    technology & computing  artificial intelligence  artificial intelligence   \n",
       "3         news and politics                 politics         political issues   \n",
       "4  family and relationships                parenting   adoption and fostering   \n",
       "\n",
       "  Count  \n",
       "0     7  \n",
       "1     9  \n",
       "2     3  \n",
       "3     1  \n",
       "4     1  "
      ]
     },
     "execution_count": 241,
     "metadata": {},
     "output_type": "execute_result"
    }
   ],
   "source": [
    "# Save the categories hierarchies\n",
    "df_cat_her = pd.DataFrame(arr, columns=['Level_1', 'Level_2', 'Level_3', 'Count'])\n",
    "df_cat_her.to_csv('categories_her.csv',index=False)\n",
    "df_cat_her.head()"
   ]
  },
  {
   "cell_type": "code",
   "execution_count": 407,
   "metadata": {},
   "outputs": [],
   "source": [
    "# Save the categories frequencies\n",
    "d = [list(categories.keys()), list(categories.values())]\n",
    "df_categories = pd.DataFrame(np.array(d).T, columns=['Category','Count'])\n",
    "df_categories.to_csv('categories.csv',index=False)"
   ]
  },
  {
   "attachments": {},
   "cell_type": "markdown",
   "metadata": {},
   "source": [
    "## Sentiment"
   ]
  },
  {
   "cell_type": "code",
   "execution_count": 6,
   "metadata": {},
   "outputs": [],
   "source": [
    "# Save the sentiment per sentence\n",
    "df_sentece_sentiment = results[['sentence','sentiment']]\n",
    "df_sentece_sentiment.to_csv('sentece_sentiment.csv',index=False)"
   ]
  },
  {
   "cell_type": "code",
   "execution_count": 200,
   "metadata": {},
   "outputs": [
    {
     "name": "stdout",
     "output_type": "stream",
     "text": [
      "3\n",
      "19\n",
      "24\n"
     ]
    }
   ],
   "source": [
    "print(len(df_sentece_sentiment[df_sentece_sentiment['sentiment']<0]))\n",
    "print(len(df_sentece_sentiment[df_sentece_sentiment['sentiment']==0]))\n",
    "print(len(df_sentece_sentiment[df_sentece_sentiment['sentiment']>0]))"
   ]
  },
  {
   "attachments": {},
   "cell_type": "markdown",
   "metadata": {},
   "source": [
    "## Keywords"
   ]
  },
  {
   "cell_type": "code",
   "execution_count": 93,
   "metadata": {},
   "outputs": [
    {
     "name": "stdout",
     "output_type": "stream",
     "text": [
      "{'several commercially': 1, 'remarkable results': 1, 'recent years': 1, 'deep learning': 6, 'available tools': 1, 'current approaches': 1, 'learning': 3, 'unclear': 1, 'shortcomings': 1, 'current lack': 1, 'understanding': 2, 'significance': 1, 'ethical ramifications': 1, 'issue': 1, 'run viability': 2, 'techniques': 1, 'might': 1, 'long': 1, 'emerging': 1, 'deep learning methods': 2, 'significant challenge': 1, 'several reasons': 1, 'specific contexts': 1, 'methods': 2, 'limits': 1, 'improve': 2, 'first': 1, 'also raises concerns': 1, 'making systems': 2, 'automated decision': 1, 'transparency': 2, 'deep learning methods raises issues': 1, 'ethical perspective': 1, 'lack': 2, 'interpretability': 1, 'deep learning makes': 1, 'making process accountable': 1, 'making system based': 1, 'system arrived': 1, 'negative impact': 1, 'interpretability raises concerns': 1, 'furthermore': 1, 'discrimination': 1, 'bias': 1, 'training data contains biased': 1, 'model may learn': 1, 'certain groups without': 1, 'discriminatory information': 1, 'user': 1, 'interpretability could lead': 1, 'deep learning techniques': 1, 'reduced trust': 1, 'terms': 2, 'users cannot understand': 1, 'deep learning system': 1, 'less likely': 1, 'critical applications': 1, 'use': 1, 'deep learning models': 4, 'developing methods': 1, 'working': 1, 'researchers': 2, 'mitigate': 1, 'includes techniques like visualization': 1, 'making process': 4, 'input data': 3, 'feature attribution': 2, 'understand': 2, 'learning presents significant challenges': 1, 'interpretability shows promise': 1, 'ongoing research': 1, 'better understanding': 2, 'think': 1, 'strategies': 1, 'models': 3, 'several strategies': 1, 'used': 5, 'interpretable models': 1, 'inherently interpretable': 1, 'developing models': 1, 'focus': 1, 'reasoning process used': 1, 'provide insights': 3, 'models could': 1, 'work': 1, 'help researchers better understand': 1, 'visualization techniques': 2, 'inner workings': 1, 'activation maps': 1, 'visualize': 1, 'parts': 1, 'feature attribution techniques': 1, 'input features': 1, 'help identify': 1, 'discriminatory decision': 1, 'making': 3, 'leading': 1, 'information': 1, 'adversarial testing involves deliberately introducing small perturbations': 1, 'adversarial testing': 1, 'test': 1, 'robustness': 1, 'help identify weaknesses': 1, 'technique': 1, 'model': 2, 'ensemble methods involve combining multiple models': 1, 'ensemble methods': 1, 'make': 1, 'decision': 1, 'help identify inconsistencies': 1, 'individual models': 1, 'comprehensive understanding': 1, 'provide': 1, 'provide end': 1, 'model arrived': 1, 'explainability tools': 2, 'users': 1, 'help build trust': 1, 'usability': 1, 'tools': 1, 'developing new techniques': 1, 'learning requires': 1, 'existing models': 1, 'faceted approach': 1, 'methods might': 1, 'deep': 2, 'concerns': 1, 'alternative': 1, 'address': 1, 'concerns around': 1, 'symbolic ai': 2, 'logical inference': 1, 'alternative approach': 1, 'method represents knowledge': 1, 'uses logic': 1, 'transparent': 1, 'symbols': 1, 'reason': 1, 'make decisions': 2, 'expert system': 1, 'based systems': 2, 'uses': 1, 'rules used': 1, 'highly interpretable': 2, 'explicitly defined': 1, 'explainable since': 1, 'probabilistic models': 1, 'graph structure': 1, 'bayesian networks': 2, 'variables': 2, 'highly interpretable since': 1, 'causal relationships': 1, 'machine learning model': 1, 'represent decisions': 1, 'like structure': 1, 'decision trees': 2, 'important features': 1, 'valued logic': 1, 'fuzzy logic': 2, 'uncertainty': 1, 'representation': 1, 'useful': 1, 'uncertain': 1, 'situations': 1, 'method': 1, 'alternative methods offer': 1, 'deep learning excels': 1, 'certain applications': 1, 'well': 1, 'use ultimately depends': 1, 'specific use case': 1, 'desired trade': 1, 'therefore': 1, 'performance': 1}\n",
      "174\n",
      "{'several commercially': 1, 'remarkable results': 1, 'recent years': 1, 'deep learning': 17, 'available tools': 1, 'current approaches': 1, 'unclear': 1, 'current lack': 1, 'significance': 1, 'ethical ramifications': 1, 'run viability': 2, 'might': 1, 'emerging': 1, 'significant challenge': 2, 'several reasons': 1, 'specific contexts': 1, 'limits': 1, 'first': 1, 'also raises concerns': 1, 'making systems': 2, 'automated decision': 1, 'ethical perspective': 1, 'interpretability': 1, 'making system based': 1, 'system arrived': 1, 'negative impact': 1, 'interpretability raises concerns': 1, 'discrimination': 1, 'training data contains biased': 1, 'model may learn': 1, 'certain groups without': 1, 'discriminatory information': 1, 'interpretability could lead': 1, 'reduced trust': 1, 'users cannot understand': 1, 'less likely': 1, 'critical applications': 1, 'developing methods': 1, 'researchers': 2, 'includes techniques like visualization': 1, 'making process': 5, 'input data': 3, 'feature attribution': 3, 'interpretability shows promise': 1, 'ongoing research': 1, 'better understanding': 2, 'strategies': 1, 'several strategies': 1, 'interpretable models': 1, 'inherently interpretable': 1, 'developing models': 1, 'reasoning process used': 1, 'provide insights': 3, 'models could': 1, 'help researchers better understand': 1, 'visualization techniques': 2, 'inner workings': 1, 'activation maps': 1, 'parts': 1, 'input features': 1, 'help identify': 3, 'discriminatory decision': 1, 'leading': 1, 'adversarial testing': 2, 'test': 1, 'technique': 1, 'ensemble methods': 2, 'make': 1, 'individual models': 1, 'comprehensive understanding': 1, 'provide end': 1, 'model arrived': 1, 'explainability tools': 2, 'help build trust': 1, 'tools': 1, 'developing new techniques': 1, 'learning requires': 1, 'existing models': 1, 'faceted approach': 1, 'methods might': 1, 'concerns': 1, 'address': 1, 'concerns around': 1, 'symbolic ai': 2, 'logical inference': 1, 'alternative approach': 1, 'method represents knowledge': 1, 'uses logic': 1, 'symbols': 1, 'make decisions': 2, 'expert system': 1, 'based systems': 2, 'rules used': 1, 'highly interpretable': 3, 'explicitly defined': 1, 'explainable since': 1, 'probabilistic models': 1, 'graph structure': 1, 'bayesian networks': 2, 'causal relationships': 1, 'machine learning model': 1, 'represent decisions': 1, 'like structure': 1, 'decision trees': 2, 'important features': 1, 'valued logic': 1, 'fuzzy logic': 2, 'representation': 1, 'uncertain': 1, 'method': 1, 'alternative methods offer': 1, 'certain applications': 1, 'use ultimately depends': 1, 'specific use case': 1, 'desired trade': 1, 'performance': 1}\n",
      "116\n"
     ]
    }
   ],
   "source": [
    "# Keyword extraction\n",
    "from rake_nltk import Rake\n",
    "rake_nltk_var = Rake()\n",
    "max_k = 5\n",
    "keywords = {}\n",
    "for sentece in sentences:    \n",
    "    rake_nltk_var.extract_keywords_from_text(sentece)\n",
    "    keyword_extracted = rake_nltk_var.get_ranked_phrases()[:max_k]\n",
    "    for kw in keyword_extracted:\n",
    "        if kw not in keywords.keys():\n",
    "            keywords[kw] = 1\n",
    "        else:\n",
    "            keywords[kw] += 1\n",
    "\n",
    "print(keywords)\n",
    "print(len(keywords))\n",
    "\n",
    "# Merge similar keywords\n",
    "kwkeys = list(keywords.keys())\n",
    "for k, key in enumerate(kwkeys):\n",
    "    for o, okey in enumerate(kwkeys):\n",
    "        if key != okey:\n",
    "            if key in okey and len(key.split(' '))>1:\n",
    "                vokey = keywords[okey]\n",
    "                keywords[key] += vokey\n",
    "                keywords.pop(okey)\n",
    "                kwkeys.pop(o)\n",
    "            elif okey in key and len(okey.split(' '))>1:\n",
    "                vkey = keywords[key]\n",
    "                keywords[okey] += vkey\n",
    "                keywords.pop(key)\n",
    "                kwkeys.pop(k)\n",
    "        elif len(key.split(' '))==1:\n",
    "            keywords.pop(key)\n",
    "            kwkeys.pop(k)\n",
    "\n",
    "print(keywords)\n",
    "print(len(keywords))\n"
   ]
  },
  {
   "cell_type": "code",
   "execution_count": 94,
   "metadata": {},
   "outputs": [],
   "source": [
    "# Create Keyword dataframe\n",
    "\n",
    "d = [list(keywords.keys()), list(keywords.values())]\n",
    "df_keywords = pd.DataFrame(np.array(d).T, columns=['keywords','count'])\n",
    "df_keywords['count'] = df_keywords['count'].astype(dtype=float)"
   ]
  },
  {
   "cell_type": "code",
   "execution_count": 95,
   "metadata": {},
   "outputs": [
    {
     "data": {
      "text/html": [
       "<div>\n",
       "<style scoped>\n",
       "    .dataframe tbody tr th:only-of-type {\n",
       "        vertical-align: middle;\n",
       "    }\n",
       "\n",
       "    .dataframe tbody tr th {\n",
       "        vertical-align: top;\n",
       "    }\n",
       "\n",
       "    .dataframe thead th {\n",
       "        text-align: right;\n",
       "    }\n",
       "</style>\n",
       "<table border=\"1\" class=\"dataframe\">\n",
       "  <thead>\n",
       "    <tr style=\"text-align: right;\">\n",
       "      <th></th>\n",
       "      <th>keywords</th>\n",
       "      <th>count</th>\n",
       "    </tr>\n",
       "  </thead>\n",
       "  <tbody>\n",
       "    <tr>\n",
       "      <th>0</th>\n",
       "      <td>adversarial testing</td>\n",
       "      <td>2.0</td>\n",
       "    </tr>\n",
       "    <tr>\n",
       "      <th>1</th>\n",
       "      <td>based systems</td>\n",
       "      <td>2.0</td>\n",
       "    </tr>\n",
       "    <tr>\n",
       "      <th>2</th>\n",
       "      <td>bayesian networks</td>\n",
       "      <td>2.0</td>\n",
       "    </tr>\n",
       "    <tr>\n",
       "      <th>3</th>\n",
       "      <td>better understanding</td>\n",
       "      <td>2.0</td>\n",
       "    </tr>\n",
       "    <tr>\n",
       "      <th>4</th>\n",
       "      <td>decision trees</td>\n",
       "      <td>2.0</td>\n",
       "    </tr>\n",
       "    <tr>\n",
       "      <th>5</th>\n",
       "      <td>ensemble methods</td>\n",
       "      <td>2.0</td>\n",
       "    </tr>\n",
       "    <tr>\n",
       "      <th>6</th>\n",
       "      <td>explainability tools</td>\n",
       "      <td>2.0</td>\n",
       "    </tr>\n",
       "    <tr>\n",
       "      <th>7</th>\n",
       "      <td>fuzzy logic</td>\n",
       "      <td>2.0</td>\n",
       "    </tr>\n",
       "    <tr>\n",
       "      <th>8</th>\n",
       "      <td>make decisions</td>\n",
       "      <td>2.0</td>\n",
       "    </tr>\n",
       "    <tr>\n",
       "      <th>9</th>\n",
       "      <td>making systems</td>\n",
       "      <td>2.0</td>\n",
       "    </tr>\n",
       "    <tr>\n",
       "      <th>10</th>\n",
       "      <td>researchers</td>\n",
       "      <td>2.0</td>\n",
       "    </tr>\n",
       "    <tr>\n",
       "      <th>11</th>\n",
       "      <td>run viability</td>\n",
       "      <td>2.0</td>\n",
       "    </tr>\n",
       "    <tr>\n",
       "      <th>12</th>\n",
       "      <td>significant challenge</td>\n",
       "      <td>2.0</td>\n",
       "    </tr>\n",
       "    <tr>\n",
       "      <th>13</th>\n",
       "      <td>symbolic ai</td>\n",
       "      <td>2.0</td>\n",
       "    </tr>\n",
       "    <tr>\n",
       "      <th>14</th>\n",
       "      <td>visualization techniques</td>\n",
       "      <td>2.0</td>\n",
       "    </tr>\n",
       "    <tr>\n",
       "      <th>15</th>\n",
       "      <td>feature attribution</td>\n",
       "      <td>3.0</td>\n",
       "    </tr>\n",
       "    <tr>\n",
       "      <th>16</th>\n",
       "      <td>help identify</td>\n",
       "      <td>3.0</td>\n",
       "    </tr>\n",
       "    <tr>\n",
       "      <th>17</th>\n",
       "      <td>highly interpretable</td>\n",
       "      <td>3.0</td>\n",
       "    </tr>\n",
       "    <tr>\n",
       "      <th>18</th>\n",
       "      <td>input data</td>\n",
       "      <td>3.0</td>\n",
       "    </tr>\n",
       "    <tr>\n",
       "      <th>19</th>\n",
       "      <td>provide insights</td>\n",
       "      <td>3.0</td>\n",
       "    </tr>\n",
       "    <tr>\n",
       "      <th>20</th>\n",
       "      <td>making process</td>\n",
       "      <td>5.0</td>\n",
       "    </tr>\n",
       "    <tr>\n",
       "      <th>21</th>\n",
       "      <td>deep learning</td>\n",
       "      <td>17.0</td>\n",
       "    </tr>\n",
       "  </tbody>\n",
       "</table>\n",
       "</div>"
      ],
      "text/plain": [
       "                    keywords  count\n",
       "0        adversarial testing    2.0\n",
       "1              based systems    2.0\n",
       "2          bayesian networks    2.0\n",
       "3       better understanding    2.0\n",
       "4             decision trees    2.0\n",
       "5           ensemble methods    2.0\n",
       "6       explainability tools    2.0\n",
       "7                fuzzy logic    2.0\n",
       "8             make decisions    2.0\n",
       "9             making systems    2.0\n",
       "10               researchers    2.0\n",
       "11             run viability    2.0\n",
       "12     significant challenge    2.0\n",
       "13               symbolic ai    2.0\n",
       "14  visualization techniques    2.0\n",
       "15       feature attribution    3.0\n",
       "16             help identify    3.0\n",
       "17      highly interpretable    3.0\n",
       "18                input data    3.0\n",
       "19          provide insights    3.0\n",
       "20            making process    5.0\n",
       "21             deep learning   17.0"
      ]
     },
     "execution_count": 95,
     "metadata": {},
     "output_type": "execute_result"
    }
   ],
   "source": [
    "# Save keywords filtered frequency greater than 1\n",
    "df_keywords = df_keywords[df_keywords['count']>1].sort_values(by=['count','keywords']).reset_index(drop=True)\n",
    "df_keywords.to_csv('keywords.csv',index=False)\n",
    "df_keywords.head(3)"
   ]
  }
 ],
 "metadata": {
  "kernelspec": {
   "display_name": "Python 3",
   "language": "python",
   "name": "python3"
  },
  "language_info": {
   "codemirror_mode": {
    "name": "ipython",
    "version": 3
   },
   "file_extension": ".py",
   "mimetype": "text/x-python",
   "name": "python",
   "nbconvert_exporter": "python",
   "pygments_lexer": "ipython3",
   "version": "3.10.4"
  },
  "orig_nbformat": 4,
  "vscode": {
   "interpreter": {
    "hash": "aee8b7b246df8f9039afb4144a1f6fd8d2ca17a180786b69acc140d282b71a49"
   }
  }
 },
 "nbformat": 4,
 "nbformat_minor": 2
}
